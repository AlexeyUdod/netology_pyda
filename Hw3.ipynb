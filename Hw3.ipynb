{
 "cells": [
  {
   "cell_type": "markdown",
   "metadata": {},
   "source": [
    "## Задание 1"
   ]
  },
  {
   "cell_type": "markdown",
   "metadata": {},
   "source": [
    "Дан список вида:"
   ]
  },
  {
   "cell_type": "code",
   "execution_count": 2,
   "metadata": {},
   "outputs": [],
   "source": [
    "data = [\n",
    "    [13, 25, 23, 34],\n",
    "    [45, 32, 44, 47],\n",
    "    [12, 33, 23, 95],\n",
    "    [13, 53, 34, 35]\n",
    "]"
   ]
  },
  {
   "cell_type": "markdown",
   "metadata": {},
   "source": [
    "Напишите функцию, которая возвращает сумму элементов на диагонали. Т. е. 13+32+23+35.  \n",
    "Список может быть любой длины, но всегда является \"квадратным\" (количество элементов во вложенных списках равно их количеству)."
   ]
  },
  {
   "cell_type": "code",
   "execution_count": 3,
   "metadata": {},
   "outputs": [
    {
     "data": {
      "text/plain": [
       "103"
      ]
     },
     "execution_count": 3,
     "metadata": {},
     "output_type": "execute_result"
    }
   ],
   "source": [
    "#sum слагаемых по диагонали: 13+31+23+35 из списка data.\n",
    "def dia_sum(data):\n",
    "    return sum([y[x] for x, y in enumerate(data)])\n",
    "\n",
    "dia_sum(data)\n"
   ]
  },
  {
   "cell_type": "markdown",
   "metadata": {},
   "source": [
    "## Задание 2"
   ]
  },
  {
   "cell_type": "markdown",
   "metadata": {},
   "source": [
    "Напишите функцию, возвращающую сумму первых n чисел Фибоначчи (для этого вам может понадобится ознакомиться с рекурсией)."
   ]
  },
  {
   "cell_type": "code",
   "execution_count": 8,
   "metadata": {},
   "outputs": [
    {
     "name": "stdout",
     "output_type": "stream",
     "text": [
      "Введите количество первых чисел Фибоначчи 4\n"
     ]
    },
    {
     "data": {
      "text/plain": [
       "7"
      ]
     },
     "execution_count": 8,
     "metadata": {},
     "output_type": "execute_result"
    }
   ],
   "source": [
    "def fib_n(n):\n",
    "    x = 0\n",
    "    y = 1\n",
    "    Fib_list = [] \n",
    "    for i in range(n):\n",
    "        x,y = y, x + y\n",
    "        Fib_list.append(x)\n",
    "    return sum(Fib_list)\n",
    "\n",
    "m = int(input('Введите количество первых чисел Фибоначчи '))\n",
    "fib_n(m)\n"
   ]
  },
  {
   "cell_type": "markdown",
   "metadata": {},
   "source": [
    "## Задание 3\n"
   ]
  },
  {
   "cell_type": "markdown",
   "metadata": {},
   "source": [
    "Напишите функцию, преобразующую произвольный список вида ['2018-01-01', 'yandex', 'cpc', 100] (он может быть любой длины) в словарь {'2018-01-01': {'yandex': {'cpc': 100}}}"
   ]
  },
  {
   "cell_type": "code",
   "execution_count": 8,
   "metadata": {},
   "outputs": [
    {
     "data": {
      "text/plain": [
       "{'2018-01-01': {'yandex': {'cpc': 100}}}"
      ]
     },
     "execution_count": 8,
     "metadata": {},
     "output_type": "execute_result"
    }
   ],
   "source": [
    "random_list = ['2018-01-01', 'yandex', 'cpc', 100] \n",
    "\n",
    "def list2dict(x):\n",
    "    x.reverse()\n",
    "    a = []\n",
    "    b = x[0]\n",
    "    for n in range(1, len(x)):\n",
    "        a = x[n]\n",
    "        b = {a:b}\n",
    "    return b\n",
    "\n",
    "list2dict(random_list)"
   ]
  },
  {
   "cell_type": "markdown",
   "metadata": {},
   "source": [
    "## Задание 4"
   ]
  },
  {
   "cell_type": "markdown",
   "metadata": {},
   "source": [
    "Вы работаете секретарем и вам постоянно приходят различные документы. Вы должны быть очень внимательны, чтобы не потерять ни один документ. Каталог документов хранится в следующем виде:"
   ]
  },
  {
   "cell_type": "code",
   "execution_count": 4,
   "metadata": {},
   "outputs": [],
   "source": [
    "documents = [\n",
    "    {'type': 'passport', 'number': '2207 876234', 'name': 'Василий Гупкин'},\n",
    "    {'type': 'invoice', 'number': '11-2', 'name': 'Геннадий Покемонов'},\n",
    "    {'type': 'insurance', 'number': '10006', 'name': 'Аристарх Павлов'}\n",
    "]"
   ]
  },
  {
   "cell_type": "markdown",
   "metadata": {},
   "source": [
    "Перечень полок, на которых находятся документы хранится в следующем виде:"
   ]
  },
  {
   "cell_type": "code",
   "execution_count": 5,
   "metadata": {},
   "outputs": [],
   "source": [
    "directories = {\n",
    "    '1': ['2207 876234', '11-2', '5455 028765'],\n",
    "    '2': ['10006', '5400 028765', '5455 002299'],\n",
    "    '3': []\n",
    "}"
   ]
  },
  {
   "cell_type": "markdown",
   "metadata": {},
   "source": [
    "Необходимо реализовать пользовательские команды (внимание! это не название функций, которые должны быть выразительными, а команды, которые вводит пользователь, чтобы получить необходимый результат):\n",
    "  \n",
    "- p – people – команда, которая спросит номер документа и выведет имя человека, которому он принадлежит;  \n",
    "- s – shelf – команда, которая спросит номер документа и выведет номер полки, на которой он находится  \n",
    "Правильно обработайте ситуацию, когда пользователь будет вводить несуществующий документ.\n",
    "- l – list – команда, которая выведет список всех документов в формате   \n",
    "**passport \"2207 876234\" \"Василий Гупкин\"**  \n",
    "- as – add shelf – команда, которая спросит номер новой полки и добавит ее в перечень\n",
    "- d – delete – команда, которая спросит номер документа и удалит его из каталога и из перечня полок. Предусмотрите сценарий, когда пользователь вводит несуществующий документ;  \n",
    "- m – move – команда, которая спросит номер документа и целевую полку и переместит его с текущей полки на целевую. Корректно обработайте кейсы, когда пользователь пытается переместить несуществующий документ или переместить документ на несуществующую полку;  \n",
    "- a – add – команда, которая добавит новый документ в каталог и в перечень полок, спросив его номер, тип, имя владельца и номер полки, на котором он будет храниться."
   ]
  },
  {
   "cell_type": "code",
   "execution_count": 47,
   "metadata": {},
   "outputs": [
    {
     "name": "stdout",
     "output_type": "stream",
     "text": [
      "Введите команду o\n",
      "Неверная команда!\n"
     ]
    }
   ],
   "source": [
    "documents = [\n",
    "    {'type': 'passport', 'number': '2207 876234', 'name': 'Василий Гупкин'},\n",
    "    {'type': 'invoice', 'number': '11-2', 'name': 'Геннадий Покемонов'},\n",
    "    {'type': 'insurance', 'number': '10006', 'name': 'Аристарх Павлов'}\n",
    "]\n",
    "\n",
    "directories = {\n",
    "    '1': ['2207 876234', '11-2', '5455 028765'],\n",
    "    '2': ['10006', '5400 028765', '5455 002299'],\n",
    "    '3': []\n",
    "}\n",
    "\n",
    "\n",
    "\n",
    "\n",
    "\n",
    "    \n",
    "def people_():\n",
    "    doc_num = input('Введите номер документа ')\n",
    "    if doc_num not in [y['number'] for y in documents]:\n",
    "        print('Номер документа не существует в базе!')\n",
    "        return\n",
    "    for x in documents:\n",
    "        if doc_num == x['number']:\n",
    "            print(f\"Имя {x['name']}\")\n",
    "    return\n",
    "\n",
    "\n",
    "def shell_():\n",
    "    doc_num = input('Введите номер документа ')\n",
    "    if doc_num not in [y['number'] for y in documents]:\n",
    "        print('Номер документа не существует в базе!')\n",
    "        return\n",
    "    for x in directories:\n",
    "        if doc_num in directories[x]:\n",
    "            print(f'Полка номер {x}')\n",
    "    return \n",
    "\n",
    "\n",
    "def list_():\n",
    "    for x in documents:\n",
    "        x = list(x.values())\n",
    "        print(f'{x[0]} \"{x[1]}\" \"{x[2]}\"')\n",
    "    return\n",
    "                                    \n",
    "def add_shell():\n",
    "    shell_num = input('Введите новый номер полки ')\n",
    "    if shell_num in directories.keys():    \n",
    "        print('Номер полки уже существует в базе!')\n",
    "        return\n",
    "    else:\n",
    "        directories[shell_num]=[]\n",
    "    print(directories)\n",
    "    return\n",
    "\n",
    "                  \n",
    "def delete_():\n",
    "    doc_num = input('Введите номер документа ')\n",
    "    if doc_num not in [y['number'] for y in documents]:\n",
    "        print('Номер документа не существует в базе!')\n",
    "        return\n",
    "    for x in documents:\n",
    "        if doc_num == x['number']:\n",
    "            documents.remove(x)\n",
    "            print(f'Документ {doc_num} удален')\n",
    "    print(documents)\n",
    "    return\n",
    "                  \n",
    "\n",
    "                  \n",
    "def move_():\n",
    "    doc_num = input('Введите номер документа ')\n",
    "    if doc_num not in [y['number'] for y in documents]:\n",
    "        print('Номер документа не существует в базе!')\n",
    "        return\n",
    "    shell_num = input('Введите номер полки ')\n",
    "    if shell_num not in directories.keys():    \n",
    "        print('Номер полки не существует в базе!')\n",
    "        return\n",
    "    else:\n",
    "        for i in directories.keys():\n",
    "            if doc_num in directories[i]:\n",
    "                directories[i].remove(doc_num)\n",
    "                directories[shell_num].append(doc_num)\n",
    "                print(f'Документ {doc_num} перемещен с полки {i} на полку {shell_num}')\n",
    "                break\n",
    "    return\n",
    "                  \n",
    "def add_():\n",
    "    doc_num = input('Введите номер документа ')\n",
    "    if doc_num in [y['number'] for y in documents]:\n",
    "        print('Номер документа уже существует в базе!')\n",
    "        return\n",
    "    doc_type = input('Введите тип документа ') \n",
    "    name = input('Введите имя ')\n",
    "    shell_num = input('Введите номер полки ')\n",
    "    if shell_num not in directories.keys():\n",
    "        directories[shell_num] = []\n",
    "    documents.append({'type': doc_type, 'number': doc_num, 'name': name})\n",
    "    directories[shell_num].append(doc_num)\n",
    "    print(f'Документ {doc_type} номер {doc_num} на имя {name} добавлен на полку {shell_num}')\n",
    "    return\n",
    "                  \n",
    "                  \n",
    "command = input('Введите команду ')\n",
    "                  \n",
    "if command == 'p':\n",
    "    people_()                  \n",
    "elif command == 's':\n",
    "    shell_()                  \n",
    "elif command == 'l':\n",
    "    list_()        \n",
    "elif command == 'as':\n",
    "    add_shell()                  \n",
    "elif command == 'd':\n",
    "    delete_()\n",
    "elif command == 'm':\n",
    "    move_()                \n",
    "elif command == 'a':\n",
    "    add_()\n",
    "else:\n",
    "    print('Неверная команда!')\n",
    "        "
   ]
  },
  {
   "cell_type": "code",
   "execution_count": null,
   "metadata": {},
   "outputs": [],
   "source": []
  }
 ],
 "metadata": {
  "kernelspec": {
   "display_name": "Python 3",
   "language": "python",
   "name": "python3"
  },
  "language_info": {
   "codemirror_mode": {
    "name": "ipython",
    "version": 3
   },
   "file_extension": ".py",
   "mimetype": "text/x-python",
   "name": "python",
   "nbconvert_exporter": "python",
   "pygments_lexer": "ipython3",
   "version": "3.7.4"
  }
 },
 "nbformat": 4,
 "nbformat_minor": 2
}
