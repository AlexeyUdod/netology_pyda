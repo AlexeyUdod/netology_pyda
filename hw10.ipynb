{
 "cells": [
  {
   "cell_type": "markdown",
   "metadata": {},
   "source": [
    "**Задание 1**\n",
    "\n",
    "Скачайте с сайта https://grouplens.org/datasets/movielens/ датасет любого размера. Определите какому фильму было выставлено больше всего оценок 5.0.\n"
   ]
  },
  {
   "cell_type": "code",
   "execution_count": 29,
   "metadata": {},
   "outputs": [],
   "source": [
    "import pandas as pd"
   ]
  },
  {
   "cell_type": "code",
   "execution_count": 36,
   "metadata": {
    "scrolled": true
   },
   "outputs": [],
   "source": [
    "data = pd.read_csv('ratings.csv')\n",
    "data[data['rating'] == 5].movieId.value_counts().head(1)"
   ]
  },
  {
   "cell_type": "markdown",
   "metadata": {},
   "source": [
    "**Задание 2**\n",
    "\n",
    "По данным файла power.csv посчитайте суммарное потребление стран Прибалтики (Латвия, Литва и Эстония) категорий 4, 12 и 21 за период с 2005 по 2010 года. Не учитывайте в расчетах отрицательные значения quantity.\n"
   ]
  },
  {
   "cell_type": "code",
   "execution_count": 96,
   "metadata": {},
   "outputs": [
    {
     "name": "stdout",
     "output_type": "stream",
     "text": [
      "Cуммарное потребление стран Прибалтики (Латвия, Литва и Эстония) категорий 4, 12 и 21 за период с 2005 по 2010 года равно 240580.0\n"
     ]
    }
   ],
   "source": [
    "power = pd.read_csv('power.csv')\n",
    "power1 = power[(power.country.isin(['Latvia','Estonia','Lithuania']))\n",
    "      & (power.category.isin([4, 12, 21]))\n",
    "      & (power.year.isin(range(2005,2011)))\n",
    "      & (power.quantity > 0)].quantity.sum()\n",
    "print(f\"Cуммарное потребление стран Прибалтики (Латвия, Литва и Эстония) категорий 4, 12 и 21 за период с 2005 по 2010 года равно {power1}\")"
   ]
  },
  {
   "cell_type": "markdown",
   "metadata": {},
   "source": [
    "**Задание 3**\n",
    "\n",
    "Выберите страницу любого сайта с табличными данными. Импортируйте таблицы в pandas dataframe.\n",
    "Примеры страниц (необязательно брать именно эти): \n",
    "https://fortrader.org/quotes\n",
    "https://www.finanz.ru/valyuty/v-realnom-vremeni\n"
   ]
  },
  {
   "cell_type": "code",
   "execution_count": 113,
   "metadata": {},
   "outputs": [
    {
     "name": "stdout",
     "output_type": "stream",
     "text": [
      "                               Type    Last  Chg.  Chg.%  Time\n",
      "0  Нефть (BRENT) Курс нефти сегодня  56.720   0.0    0.0   NaN\n",
      "1   Нефть (WTI) Цены на нефть (WTI)  51.640   0.0    0.0   NaN\n",
      "2          Сахар котировки на сахар  12.630   0.0    0.0   NaN\n",
      "3                   Газ Цена на газ   1.835   0.0    0.0   NaN \n",
      "\n",
      "\n",
      "                                    Type          Last      Chg.  Chg.%  Time\n",
      "0                          ВТБ Акции ВТБ       0.04646  0.000000   0.00   NaN\n",
      "1                 Газпром Акции газпрома     226.60000     -0.26  -0.11   NaN\n",
      "2                    Лукойл Акции Лукойл    6561.00000       0.0   0.00   NaN\n",
      "3                Роснефть Акции Роснефти     479.80000      0.00   0.00   NaN\n",
      "4               Сбербанк Акции Сбербанка     252.40000      0.00   0.00   NaN\n",
      "5   Сургутнефтегаз Акции Сургутнефтегаза      46.22500     0.000   0.00   NaN\n",
      "6              Норникель Акции Норникель   20766.00000         0   0.00   NaN\n",
      "7               Аэрофлот Акции Аерофлота     107.44000     +0.04   0.04   NaN\n",
      "8            Северсталь Акции Северсталь     913.80000      0.00   0.00   NaN\n",
      "9            Транснефть Акции транснефти  164950.00000    -1 350  -1.00   NaN\n",
      "10     Ростелеком Курс акций ростелекома      88.05000    +15.22  20.90   NaN\n",
      "11                     RUSAL акции RUSAL       4.23000     +0.07   1.68   NaN \n",
      "\n",
      "\n",
      "                          Type      Last   Chg.  Chg.%  Time\n",
      "0      Серебро Цена на серебро    18.019  0.001  0.006   NaN\n",
      "1    Палладий Цена на Палладий  2210.800  0.000  0.000   NaN\n",
      "2  Золото Цена золота на бирже  1586.210  0.000  0.000   NaN\n",
      "3      Платина Цены на платину   959.200  0.000  0.000   NaN\n",
      "4      Медь Цена меди на бирже     2.515  0.000  0.000   NaN \n",
      "\n",
      "\n",
      "                                Type    Last   Chg.    Chg.%  Time\n",
      "0               Яндекс Акции яндекса   44.92   0.00   0.0000   NaN\n",
      "1          Microsoft Microsoft Corp.  170.29   0.00   0.0000   NaN\n",
      "2                  APPLE Акции APPLE  309.71   0.00   0.0000   NaN\n",
      "3                Toyota Акции Тойоты  120.94   0.00   0.0000   NaN\n",
      "4   Volkswagen Курс акций Volkswagen  165.63   0.00   0.0000   NaN\n",
      "5       Facebook Цена акций Facebook  201.73   0.00   0.0000   NaN\n",
      "6          Tesla Цены на акции Тесла  651.86   0.00   0.0000   NaN\n",
      "7          Twiter Цена акций твитера   32.45   0.00   0.0000   NaN\n",
      "8  Hasbro Цена на акции Hasbro, Inc.  102.39  17.52  20.6433   NaN \n",
      "\n",
      "\n",
      "                                                Type       Last     Chg.  \\\n",
      "0                         EURUSD Курс евро к доллару    1.10903  0.00000   \n",
      "1   AUDUSD Курс австралийского доллара к доллару сша    0.66942  0.00092   \n",
      "2         AUDCAD Australian Dollar / Canadian Dollar    0.88583  0.00163   \n",
      "3                          EURCHF Euro / Swiss Franc    1.06810 -0.00047   \n",
      "4                  EURGBP Euro / Great Britain Pound    0.83991  0.00007   \n",
      "5                         EURJPY Euro / Japanese Yen  120.17900 -0.02300   \n",
      "6          GBPJPY Great Britain Pound / Japanese Yen  143.06600 -0.00800   \n",
      "7                        GBPUSD Курс фунта к доллару    1.32027 -0.00028   \n",
      "8       USDCAD Курс канадского доллара к доллару сша    1.32327  0.00060   \n",
      "9              NZDUSD New Zealand Dollar / US Dollar    0.64640  0.00017   \n",
      "10                    USDCHF US Dollar / Swiss Franc    0.96317 -0.00002   \n",
      "11         USDCNH Курс китайского юаня к доллару США    6.99743 -0.06856   \n",
      "12                        USDJPY Курс йены к доллару  108.36400  0.02000   \n",
      "\n",
      "      Chg.%  Time  \n",
      "0   0.00000   NaN  \n",
      "1   0.13762   NaN  \n",
      "2   0.18435   NaN  \n",
      "3  -0.04398   NaN  \n",
      "4   0.00833   NaN  \n",
      "5  -0.01900   NaN  \n",
      "6  -0.00600   NaN  \n",
      "7  -0.02120   NaN  \n",
      "8   0.04536   NaN  \n",
      "9   0.02631   NaN  \n",
      "10 -0.00208   NaN  \n",
      "11 -0.97028   NaN  \n",
      "12  0.01800   NaN   \n",
      "\n",
      "\n",
      "                                                 Type           Last  \\\n",
      "0                               Bitcoin Курс биткоина    9301.900000   \n",
      "1          Litecoin Курс лайткоин к доллару (LTC/USD)      67.667000   \n",
      "2   BitcoinCash Курс Биткоин кеш к доллару США (BC...     370.220000   \n",
      "3                                           Dash Dash     114.161000   \n",
      "4                                       Ripple Ripple       0.237480   \n",
      "5                                   Ethereum Ethereum     180.230000   \n",
      "6                                   EmerCoin EmerCoin       0.140050   \n",
      "7                                   NameCoin NameCoin       0.274000   \n",
      "8                                   PeerCoin PeerCoin       1.300000   \n",
      "9                             BTCRUB биткоин в рублях  247059.000000   \n",
      "10                              BTCEUR биткоин в евро    8377.810000   \n",
      "11                                        Zcash (ZEC)      67.455000   \n",
      "12                                          NEO (NEO)      11.484000   \n",
      "13                                          EOS (EOS)       4.101000   \n",
      "14                                         TRON (TRX)       0.018559   \n",
      "15                                             Monero      71.999000   \n",
      "16                                            Cardano       0.055137   \n",
      "17                                               IOTA       0.293910   \n",
      "18                       ETC/USD эфириум классик, ETC      11.138000   \n",
      "\n",
      "         Chg.      Chg.%  Time  \n",
      "0     -21.100  -0.226000   NaN  \n",
      "1      -0.435  -0.639000   NaN  \n",
      "2      -2.460  -0.660000   NaN  \n",
      "3      -0.433  -0.378000   NaN  \n",
      "4    -0.00075  -0.314820   NaN  \n",
      "5      -0.130  -0.072000   NaN  \n",
      "6     0.00000   0.000000   NaN  \n",
      "7      -0.051 -15.692000   NaN  \n",
      "8       +0.16  14.040000   NaN  \n",
      "9   -3 097.00  -1.240000   NaN  \n",
      "10    -18.590  -0.221000   NaN  \n",
      "11     +0.955   1.436000   NaN  \n",
      "12     -0.007  -0.061000   NaN  \n",
      "13     -0.057  -1.368000   NaN  \n",
      "14  -0.000144  -0.769930   NaN  \n",
      "15     -0.139  -0.193000   NaN  \n",
      "16  +0.000390   0.712368   NaN  \n",
      "17   +0.00043   0.146520   NaN  \n",
      "18     -0.171  -1.512000   NaN   \n",
      "\n",
      "\n",
      "                                       Type       Last    Chg.  Chg.%  Time\n",
      "0   Фьючерс РТС Курс фьючерса на индекс РТС  118130.00    0.00   0.00   NaN\n",
      "1                      РТС Курс индекса РТС    1644.25  126.95   8.37   NaN\n",
      "2                                     DAX30   12918.50    0.00   0.00   NaN\n",
      "3                       Индекс Dow 30 (DJI)   28211.00  -15.00  -0.00   NaN\n",
      "4                                      FTSE    7137.70  -47.80  -0.70   NaN\n",
      "5                                    CAC 40    5779.70  500.00   9.50   NaN\n",
      "6                                Nasdaq 100    9006.10    0.00   0.00   NaN\n",
      "7                              Russell 2000    1614.70   26.40   1.70   NaN\n",
      "8                                   S&P 500    3226.56  421.06  15.01   NaN\n",
      "9                                   IBEX 35    9341.00    0.00   0.00   NaN\n",
      "10                               Nikkei 225   22694.00  954.00   4.00   NaN\n",
      "11                            Euro Stoxx 50    3628.10    4.10   0.10   NaN\n",
      "12                                  S&P 500    3229.30    3.60   0.10   NaN\n",
      "13                              S&P/ASX 200    6909.60    5.00   0.10   NaN\n",
      "14                                      MIB   23244.00    0.00   0.00   NaN \n",
      "\n",
      "\n",
      "                               Type     Last    Chg.   Chg.%  Time\n",
      "0  EURRUB Курс евро к рублю сегодня  70.5798  0.0000  0.0000   NaN\n",
      "1       USDRUB Курс рубля к доллару  63.7648 -0.1982 -0.3099   NaN \n",
      "\n",
      "\n"
     ]
    }
   ],
   "source": [
    "site = pd.read_html('https://fortrader.org/quotes')\n",
    "\n",
    "for i in site:\n",
    "    print(i, '\\n\\n')"
   ]
  }
 ],
 "metadata": {
  "kernelspec": {
   "display_name": "Python 3",
   "language": "python",
   "name": "python3"
  },
  "language_info": {
   "codemirror_mode": {
    "name": "ipython",
    "version": 3
   },
   "file_extension": ".py",
   "mimetype": "text/x-python",
   "name": "python",
   "nbconvert_exporter": "python",
   "pygments_lexer": "ipython3",
   "version": "3.7.4"
  }
 },
 "nbformat": 4,
 "nbformat_minor": 2
}
