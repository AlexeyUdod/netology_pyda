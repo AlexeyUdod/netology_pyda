{
 "cells": [
  {
   "cell_type": "markdown",
   "metadata": {},
   "source": [
    "Домашнее задание"
   ]
  },
  {
   "cell_type": "markdown",
   "metadata": {},
   "source": [
    "Задание 1.\n",
    "Даны 2 строки long_phrase и short_phrase. Напишите код, который проверяет действительно ли длинная фраза long_phrase длиннее короткой short_phrase. И выводит True или False в зависимости от результата сравнения."
   ]
  },
  {
   "cell_type": "code",
   "execution_count": 4,
   "metadata": {},
   "outputs": [
    {
     "data": {
      "text/plain": [
       "True"
      ]
     },
     "execution_count": 4,
     "metadata": {},
     "output_type": "execute_result"
    }
   ],
   "source": [
    "long_phrase = 'Насколько проще было бы писать программы, если бы не заказчики'\n",
    "short_phrase = '640Кб должно хватить для любых задач. Билл Гейтс (по легенде)'\n",
    "len(long_phrase)>len(short_phrase)"
   ]
  },
  {
   "cell_type": "markdown",
   "metadata": {},
   "source": [
    "Задание 2.\n",
    "Дано значение объема файла в байтах. Напишите перевод этого значения в мегабайты в формате:\n",
    "'Объем файла равен 213.68Mb'\n"
   ]
  },
  {
   "cell_type": "code",
   "execution_count": 10,
   "metadata": {},
   "outputs": [
    {
     "name": "stdout",
     "output_type": "stream",
     "text": [
      "Введите размер файла в байтах 987987\n",
      "Объем файла равен  0.987987 Mb\n"
     ]
    }
   ],
   "source": [
    "value=input('Введите размер файла в байтах ')\n",
    "value=int(value)\n",
    "value=value/1000000\n",
    "print('Объем файла равен ', value, 'Mb')"
   ]
  },
  {
   "cell_type": "markdown",
   "metadata": {},
   "source": [
    "Задание 3.\n",
    "Разработать приложение для определения знака зодиака по дате рождения.\n",
    "\n",
    "Пример:\n",
    "\n",
    "Введите месяц: март\n",
    "Введите число: 6\n",
    "\n",
    "Вывод:\n",
    "Рыбы"
   ]
  },
  {
   "cell_type": "code",
   "execution_count": 21,
   "metadata": {},
   "outputs": [
    {
     "name": "stdout",
     "output_type": "stream",
     "text": [
      "Введите месяц декабрь\n",
      "Ввведите число 8\n",
      "декабрь 8\n",
      "стрелец\n"
     ]
    }
   ],
   "source": [
    "month=input('Введите месяц ')\n",
    "day=input('Ввведите число ')\n",
    "day=int(day)\n",
    "print(month, day)\n",
    "\n",
    "if ((month == 'апрель' and day < 21) or (month == 'март' and day > 20)):\n",
    "    print('овен')\n",
    "elif ((month == 'май' and day < 21) or (month == 'апрель' and day > 20)):\n",
    "    print('телец')\n",
    "elif ((month == 'июнь' and day < 21) or (month == 'май' and day > 20)):\n",
    "    print('близнецы')\n",
    "elif ((month == 'июль' and day < 21) or (month == 'июнь' and day > 20)):    \n",
    "    print('рак')\n",
    "elif ((month == 'август' and day < 21) or (month == 'июль' and day > 20)) :    \n",
    "    print('лев')\n",
    "elif ((month == 'сентябрь' and day < 21) or (month == 'август' and day > 20)):\n",
    "    print('дева')\n",
    "elif ((month == 'октябрь' and day < 21) or (month == 'сентябрь' and day > 20)):\n",
    "    print('весы')\n",
    "elif ((month == 'ноябрь' and day < 21) or (month == 'октябрь' and day > 20)):\n",
    "    print('скорпион')\n",
    "elif ((month == 'декабрь' and day < 21) or (month == 'ноябрь' and day > 20)):\n",
    "    print('стрелец')\n",
    "elif ((month == 'январь' and day < 21) or (month == 'декабрь' and day > 20)):\n",
    "    print('козерог')\n",
    "elif ((month == 'февраль' and day < 21) or (month == 'январь' and day > 20)):\n",
    "    print('водолей')\n",
    "elif ((month == 'март' and day < 21) or (month == 'февраль' and day > 20)):\n",
    "    print('рыбы')"
   ]
  },
  {
   "cell_type": "markdown",
   "metadata": {},
   "source": [
    "\n",
    "Задание 4.\n",
    "Нужно разработать приложение для финансового планирования.\n",
    "Приложение учитывает сколько уходит на ипотеку, “на жизнь” и сколько нужно отложить на пенсию.\n",
    "Пользователь вводит заработанную плату в месяц.\n",
    "Сколько процентов от зп уходит на ипотеку.\n",
    "Сколько процентов от зп уходит “на жизнь”.\n",
    "Сколько раз приходит премия в год.\n",
    "Остальная часть заработанной платы откладывается на пенсию.\n",
    "\n",
    "Также пользователю приходит премия в размере зарплаты, от которой половина уходит на отпуск, а вторая половина откладывается.\n",
    "Программа должна учитывать сколько премий было в год.\n",
    "Нужно вывести сколько денег тратит пользователь на ипотеку и сколько он накопит за год.\n",
    "Пример:\n",
    "\n",
    "Введите заработанную плату в месяц: 100000\n",
    "Введите сколько процентов уходит на ипотеку: 30\n",
    "Введите сколько процентов уходит на жизнь: 50\n",
    "Введите количество премий за год: 2\n",
    "\n",
    "Вывод:\n",
    "На ипотеку было потрачено: 360000 рублей\n",
    "Было накоплено: 340000 рублей"
   ]
  },
  {
   "cell_type": "code",
   "execution_count": null,
   "metadata": {},
   "outputs": [],
   "source": [
    "salary=int(input('Введите заработанную плату в месяц: '))\n",
    "mortgage_per=int(input('Введите сколько процентов уходит на ипотеку: '))\n",
    "life_per=int(input('Введите сколько процентов уходит на жизнь: '))\n",
    "premium_number=int(input('Введите количество премий за год: '))\n",
    "\n",
    "year_salary=salary * 12\n",
    "mortgage_spending=year_salary * mortgage_per / 100\n",
    "life_spending=year_salary * life_per / 100\n",
    "year_premium=salary * premium_number\n",
    "saving=year_salary - mortgage_spending - life_spending + year_premium / 2\n",
    "\n",
    "print('На ипотеку было потрачено: ', mortgage_spending, ' рублей')\n",
    "print('Было накоплено: ', saving, ' рублей ')"
   ]
  },
  {
   "cell_type": "markdown",
   "metadata": {},
   "source": [
    "Задание 1\n",
    "https://ru.wikipedia.org/wiki/Fizz_buzz\n",
    "Начинающий произносит число “1”, и каждый следующий игрок прибавляет к предыдущему значению единицу. Когда число делится на три оно заменяется на fizz, если число делится на пять, то произносится buzz. Числа, делящиеся на три и пять одновременно заменяются на fizz buzz. Сделавший ошибку игрок исключается из игры.\n",
    "\n",
    "Типичная партия в fizz buzz выглядит так:\n",
    "1, 2, Fizz, 4, Buzz, Fizz, 7, 8, Fizz, Buzz, 11, Fizz, 13, 14, Fizz Buzz, 16, 17, Fizz, 19, Buzz, Fizz, 22, 23, Fizz, Buzz, 26, Fizz, 28, 29, Fizz Buzz, 31, 32, Fizz, 34, Buzz, Fizz, …\n",
    "\n",
    "Напишите код, выводящий на экран первые n элементов этой игры (естественно, корректные)."
   ]
  },
  {
   "cell_type": "code",
   "execution_count": null,
   "metadata": {},
   "outputs": [],
   "source": []
  }
 ],
 "metadata": {
  "kernelspec": {
   "display_name": "Python 3",
   "language": "python",
   "name": "python3"
  },
  "language_info": {
   "codemirror_mode": {
    "name": "ipython",
    "version": 3
   },
   "file_extension": ".py",
   "mimetype": "text/x-python",
   "name": "python",
   "nbconvert_exporter": "python",
   "pygments_lexer": "ipython3",
   "version": "3.6.5"
  }
 },
 "nbformat": 4,
 "nbformat_minor": 2
}
