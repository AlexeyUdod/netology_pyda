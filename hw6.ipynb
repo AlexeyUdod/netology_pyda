{
 "cells": [
  {
   "cell_type": "markdown",
   "metadata": {
    "colab_type": "text",
    "id": "WlwtMWb383Xe"
   },
   "source": [
    "# Домашнее задание к лекции \"Регулярные выражения\"\n",
    "Для зачета необходимо выполнить 4 задания.  \n",
    "Для зачета с отличием – все."
   ]
  },
  {
   "cell_type": "markdown",
   "metadata": {
    "colab_type": "text",
    "id": "W3548MHx83Xk"
   },
   "source": [
    "## Задание 1"
   ]
  },
  {
   "cell_type": "markdown",
   "metadata": {
    "colab_type": "text",
    "id": "hVuQfgHB83Xn"
   },
   "source": [
    "Напишите функцию, которая принимает на вход строку и проверяет является ли она валидным транспортным номером. Если да, то функция должна возвращать отдельно номер и регион."
   ]
  },
  {
   "cell_type": "code",
   "execution_count": 0,
   "metadata": {
    "colab": {},
    "colab_type": "code",
    "id": "3f6Z1Os583Xp",
    "outputId": "7870f560-a2d4-4880-a5de-6a3f976efbf9"
   },
   "outputs": [
    {
     "name": "stdout",
     "output_type": "stream",
     "text": [
      "Строка с номерами  с 165 Ёя199 rus,к 058о л155 rus,л888 уц 22 rus, луу548ыу44rus\n"
     ]
    },
    {
     "data": {
      "text/plain": [
       "[('с165Ёя', '199'), ('к058ол', '155'), ('л888уц', '22')]"
      ]
     },
     "execution_count": 86,
     "metadata": {
      "tags": []
     },
     "output_type": "execute_result"
    }
   ],
   "source": [
    "numbers=[' с 165 Ёя199 rus', 'к 058о л155 rus', 'л888 уц 22 rus', ' луу548ыу44rus' ]\n",
    "numbers = ','.join(numbers)\n",
    "print(f'Строка с номерами {numbers}')\n",
    "# test\n",
    "# на вход можно подавать строку с несколькими номерами подряд через запятую\n",
    "\n",
    "def tr_number(x):\n",
    "    import re\n",
    "    tr_regex = r'\\b([Ё-ё]\\d{3}[Ё-ё]{2})(\\d{2,3})'\n",
    "    x = x.strip().replace(' ', '')\n",
    "    output = (re.findall(tr_regex, x))\n",
    "    return output\n",
    "\n",
    "tr_number(numbers)"
   ]
  },
  {
   "cell_type": "markdown",
   "metadata": {
    "colab_type": "text",
    "id": "sBdHnGQ483Xy"
   },
   "source": [
    "## Задание 2"
   ]
  },
  {
   "cell_type": "markdown",
   "metadata": {
    "colab_type": "text",
    "id": "ckh6n7sK83X1"
   },
   "source": [
    "Напишите функцию, которая проверяет e-mail адрес на валидность по стандарту RFC822: http://www.w3.org/Protocols/rfc822/. Для этого постарайтесь написать (в крайнем случае найти) самый полный шаблон для проверки e-mail адресов через регулярное выражение. Разберитесь и напишите примеры, какие ваш шаблон может не охватить."
   ]
  },
  {
   "cell_type": "markdown",
   "metadata": {
    "colab_type": "text",
    "id": "Mfiixwoe83X2"
   },
   "source": [
    "Локальная часть адреса (та строка, что идет перед символом @), может содержать следующие символы:\n",
    "\n",
    "! $ & * - = ^ ` | ~ # % ' + / ? _ { }\n",
    "\n",
    "#$%&'*+-/=?^_`{}|~@example.com   <== Корректный адрес вряд ли достойный поддержки\n",
    "\n",
    "atext           =       ALPHA / DIGIT / ; Any character except controls,\n",
    "                        \"!\" / \"#\" /     ;  SP, and specials.\n",
    "                        \"$\" / \"%\" /     ;  Used for atoms\n",
    "                        \"&\" / \"'\" /\n",
    "                        \"*\" / \"+\" /\n",
    "                        \"-\" / \"/\" /\n",
    "                        \"=\" / \"?\" /\n",
    "                        \"^\" / \"_\" /\n",
    "                        \"`\" / \"{\" /\n",
    "                        \"|\" / \"}\" /\n",
    "                        \"~\"\n",
    "                        \n",
    "                        \n",
    "                        \n",
    "обычно достаточно дозволять буквы, цифры, точки, подчеркивания, дефисы, апострофы и плюсы."
   ]
  },
  {
   "cell_type": "code",
   "execution_count": 1,
   "metadata": {
    "colab": {
     "base_uri": "https://localhost:8080/",
     "height": 54
    },
    "colab_type": "code",
    "executionInfo": {
     "elapsed": 1603,
     "status": "ok",
     "timestamp": 1579008564066,
     "user": {
      "displayName": "Alexey Udod",
      "photoUrl": "",
      "userId": "09887141178389253930"
     },
     "user_tz": -180
    },
    "id": "Jcym5wg483X3",
    "outputId": "76afbfb4-e681-40c9-9b39-59aa2cf6a16a"
   },
   "outputs": [
    {
     "name": "stdout",
     "output_type": "stream",
     "text": [
      "Строка с адресами #$%&'*+-/=?^_`{}|~@example.com mailbox.sub1.sub2@this-domain sub-net.mailbox@sub-domain.domain \"adf asdf@adsf.com\"\n"
     ]
    },
    {
     "data": {
      "text/plain": [
       "\"Корректные адреса: #$%&'*+-/=?^_`{}|~@example.com, mailbox.sub1.sub2@this-domain, sub-net.mailbox@sub-domain.domain, asdf@adsf.com\""
      ]
     },
     "execution_count": 1,
     "metadata": {
      "tags": []
     },
     "output_type": "execute_result"
    }
   ],
   "source": [
    "emails=[\"#$%&'*+-/=?^_`{}|~@example.com\", 'mailbox.sub1.sub2@this-domain', 'sub-net.mailbox@sub-domain.domain', '\"adf asdf@adsf.com\"']\n",
    "emails = ' '.join(emails)\n",
    "print(f'Строка с адресами {emails}')\n",
    "\n",
    "# на вход можно подавать строку из нескольких адресов подряд\n",
    "# не обрабатывает адреса имеющие \"\" в локальной части\n",
    "\n",
    "def email_check(x):\n",
    "    import re\n",
    "    tr_regex = r\"[\\w#$%&'*+-/=?^_`{}|~]+@[\\w\\.-]+\"\n",
    "    output = (re.findall(tr_regex, x))\n",
    "    if output==[]:\n",
    "        return 'Нет корректных адресов'\n",
    "    else:\n",
    "        return f\"Корректные адреса: {', '.join(output)}\"\n",
    "\n",
    "email_check(emails)"
   ]
  },
  {
   "cell_type": "markdown",
   "metadata": {
    "colab_type": "text",
    "id": "c-AhAp3m83X9"
   },
   "source": [
    "## Задание 3\n",
    "Напишите функцию, которая будет удалять все последовательные повторы слов из заданной строки."
   ]
  },
  {
   "cell_type": "code",
   "execution_count": 61,
   "metadata": {
    "colab": {},
    "colab_type": "code",
    "id": "zI9Yzgy383X_",
    "outputId": "33513c2e-df2d-49a4-d8c1-a8222c427099"
   },
   "outputs": [
    {
     "name": "stdout",
     "output_type": "stream",
     "text": [
      "Исходный текст:\n",
      "\n",
      "Напишите функцию функцию функцию, которая которая будет удалять все все все все все последовательные повторы слов из заданной заданной строки.\n",
      "\n",
      "Текст после функции:\n",
      "\n",
      "Напишите функцию, которая будет удалять все последовательные повторы слов из заданной строки.\n"
     ]
    }
   ],
   "source": [
    "def rep_check(text):\n",
    "    import re\n",
    "    pattern = r\"(\\b\\w+)(\\s\\1)+\"\n",
    "    output = (re.sub(pattern, r'\\1', text))\n",
    "    return output\n",
    "\n",
    "\n",
    "rep_text = 'Напишите функцию функцию функцию, которая которая будет удалять все все все все все последовательные повторы слов из заданной заданной строки.'\n",
    "print(f'Исходный текст:\\n\\n{rep_text}')\n",
    "print('\\nТекст после функции:\\n')\n",
    "print(rep_check(rep_text))"
   ]
  },
  {
   "cell_type": "markdown",
   "metadata": {
    "colab_type": "text",
    "id": "sLiszjP883YE"
   },
   "source": [
    "## Задание 4\n",
    "Напишите функцию, которая будет проверять номер сотового телефона на валидность, если он валиден, то переводить его в формат:   \n",
    "+7(xxx)-xxx-xx-xx  \n",
    "Постарайтесь предусмотреть как можно больше адекватных форматов изначального ввода номера.\n",
    "Примеры правильных и неправильных форматов:\n",
    "- +7 955 555-55-55;\n",
    "- 955555555;\n",
    "- 8(955)555-55-55;\n",
    "- +7 955 555 55 55;\n",
    "- 7(955) 555-55-55;\n",
    "- +7 955+555+55+55."
   ]
  },
  {
   "cell_type": "code",
   "execution_count": 8,
   "metadata": {
    "colab": {},
    "colab_type": "code",
    "id": "X0-RNrmF83YH"
   },
   "outputs": [],
   "source": [
    "def check_tel(x):\n",
    "    import re\n",
    "    pattern = r\"(\\+*7*8*)\\W*(\\d{3})\\W*(\\d{3})\\W*(\\d{2})\\W*(\\d{2})\"\n",
    "    out_pattern = r'+7(\\2)-\\3-\\4-\\5'\n",
    "    x = re.sub(r'[\\D]','', x)\n",
    "    output = re.findall(pattern, x)\n",
    "    if output == []:\n",
    "        return f\"{x} - некорректный номер\"\n",
    "    else:\n",
    "        return re.sub(pattern, out_pattern, x)"
   ]
  },
  {
   "cell_type": "code",
   "execution_count": 9,
   "metadata": {},
   "outputs": [
    {
     "name": "stdout",
     "output_type": "stream",
     "text": [
      "+7 955 155=+55-5+5\n",
      "+7(955)-155-55-55\n",
      "\n",
      "955 2 5 5555\n",
      "955255555 - некорректный номер\n",
      "\n",
      "8(9 = 5- 5 )55655-55\n",
      "+7(955)-556-55-55\n",
      "\n",
      "+7 955 755 55 55\n",
      "+7(955)-755-55-55\n",
      "\n",
      "7(93 = фвыа5) 555--59-55\n",
      "+7(935)-555-59-55\n",
      "\n",
      "+7 955+55 0 +55+55.\n",
      "+7(955)-550-55-55\n",
      "\n"
     ]
    }
   ],
   "source": [
    "# +7(xxx)-xxx-xx-xx\n",
    "inputs = '+7 955 155=+55-5+5;955 2 5 5555;8(9 = 5- 5 )55655-55;+7 955 755 55 55;7(93 = фвыа5) 555--59-55;+7 955+55 0 +55+55.'\n",
    "inputs = inputs.split(';')\n",
    "# print(inputs, '\\n')\n",
    "for i in inputs:\n",
    "    print(f'{i}\\n{check_tel(i)}\\n')"
   ]
  }
 ],
 "metadata": {
  "colab": {
   "collapsed_sections": [],
   "name": "hw6.ipynb",
   "provenance": []
  },
  "kernelspec": {
   "display_name": "Python 3",
   "language": "python",
   "name": "python3"
  },
  "language_info": {
   "codemirror_mode": {
    "name": "ipython",
    "version": 3
   },
   "file_extension": ".py",
   "mimetype": "text/x-python",
   "name": "python",
   "nbconvert_exporter": "python",
   "pygments_lexer": "ipython3",
   "version": "3.7.4"
  }
 },
 "nbformat": 4,
 "nbformat_minor": 1
}
