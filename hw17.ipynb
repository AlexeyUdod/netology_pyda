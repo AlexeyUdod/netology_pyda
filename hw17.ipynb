{
 "cells": [
  {
   "cell_type": "markdown",
   "metadata": {
    "colab_type": "text",
    "id": "9wqpiQR2AbtX"
   },
   "source": [
    "# Домашнее задание №3"
   ]
  },
  {
   "cell_type": "code",
   "execution_count": 0,
   "metadata": {
    "colab": {},
    "colab_type": "code",
    "id": "Zo_j9HCKCPgi"
   },
   "outputs": [],
   "source": [
    "import numpy as np\n",
    "from scipy.stats import t\n",
    "from scipy.stats import norm\n",
    "import matplotlib.pyplot as plt\n",
    "from scipy import stats\n",
    "import pandas as pd\n",
    "import io\n",
    "import requests\n",
    "import seaborn as sns\n",
    "\n",
    "%matplotlib inline"
   ]
  },
  {
   "cell_type": "markdown",
   "metadata": {
    "colab_type": "text",
    "id": "LrhPyaIACZsb"
   },
   "source": [
    "Таблица Indian liver pations records."
   ]
  },
  {
   "cell_type": "markdown",
   "metadata": {
    "colab_type": "text",
    "id": "vG-EhJw2v9he"
   },
   "source": [
    "Загрузить датасет https://www.kaggle.com/uciml/indian-liver-patient-records. "
   ]
  },
  {
   "cell_type": "code",
   "execution_count": 0,
   "metadata": {
    "colab": {},
    "colab_type": "code",
    "id": "TvWSDawbv9hg"
   },
   "outputs": [],
   "source": [
    "import ssl\n",
    "ssl._create_default_https_context = ssl._create_unverified_context"
   ]
  },
  {
   "cell_type": "code",
   "execution_count": 3,
   "metadata": {
    "colab": {
     "base_uri": "https://localhost:8080/",
     "height": 226
    },
    "colab_type": "code",
    "executionInfo": {
     "elapsed": 3264,
     "status": "ok",
     "timestamp": 1582607569978,
     "user": {
      "displayName": "Alexey Udod",
      "photoUrl": "",
      "userId": "09887141178389253930"
     },
     "user_tz": -180
    },
    "id": "LQWcltRn-vZc",
    "outputId": "53b4b645-2022-4525-808e-96827663e48d"
   },
   "outputs": [
    {
     "data": {
      "text/html": [
       "<div>\n",
       "<style scoped>\n",
       "    .dataframe tbody tr th:only-of-type {\n",
       "        vertical-align: middle;\n",
       "    }\n",
       "\n",
       "    .dataframe tbody tr th {\n",
       "        vertical-align: top;\n",
       "    }\n",
       "\n",
       "    .dataframe thead th {\n",
       "        text-align: right;\n",
       "    }\n",
       "</style>\n",
       "<table border=\"1\" class=\"dataframe\">\n",
       "  <thead>\n",
       "    <tr style=\"text-align: right;\">\n",
       "      <th></th>\n",
       "      <th>Age</th>\n",
       "      <th>Gender</th>\n",
       "      <th>Total_Bilirubin</th>\n",
       "      <th>Direct_Bilirubin</th>\n",
       "      <th>Alkaline_Phosphotase</th>\n",
       "      <th>Alamine_Aminotransferase</th>\n",
       "      <th>Aspartate_Aminotransferase</th>\n",
       "      <th>Total_Protiens</th>\n",
       "      <th>Albumin</th>\n",
       "      <th>Albumin_and_Globulin_Ratio</th>\n",
       "      <th>Dataset</th>\n",
       "    </tr>\n",
       "  </thead>\n",
       "  <tbody>\n",
       "    <tr>\n",
       "      <th>578</th>\n",
       "      <td>60</td>\n",
       "      <td>Male</td>\n",
       "      <td>0.5</td>\n",
       "      <td>0.1</td>\n",
       "      <td>500</td>\n",
       "      <td>20</td>\n",
       "      <td>34</td>\n",
       "      <td>5.9</td>\n",
       "      <td>1.6</td>\n",
       "      <td>0.37</td>\n",
       "      <td>2</td>\n",
       "    </tr>\n",
       "    <tr>\n",
       "      <th>579</th>\n",
       "      <td>40</td>\n",
       "      <td>Male</td>\n",
       "      <td>0.6</td>\n",
       "      <td>0.1</td>\n",
       "      <td>98</td>\n",
       "      <td>35</td>\n",
       "      <td>31</td>\n",
       "      <td>6.0</td>\n",
       "      <td>3.2</td>\n",
       "      <td>1.10</td>\n",
       "      <td>1</td>\n",
       "    </tr>\n",
       "    <tr>\n",
       "      <th>580</th>\n",
       "      <td>52</td>\n",
       "      <td>Male</td>\n",
       "      <td>0.8</td>\n",
       "      <td>0.2</td>\n",
       "      <td>245</td>\n",
       "      <td>48</td>\n",
       "      <td>49</td>\n",
       "      <td>6.4</td>\n",
       "      <td>3.2</td>\n",
       "      <td>1.00</td>\n",
       "      <td>1</td>\n",
       "    </tr>\n",
       "    <tr>\n",
       "      <th>581</th>\n",
       "      <td>31</td>\n",
       "      <td>Male</td>\n",
       "      <td>1.3</td>\n",
       "      <td>0.5</td>\n",
       "      <td>184</td>\n",
       "      <td>29</td>\n",
       "      <td>32</td>\n",
       "      <td>6.8</td>\n",
       "      <td>3.4</td>\n",
       "      <td>1.00</td>\n",
       "      <td>1</td>\n",
       "    </tr>\n",
       "    <tr>\n",
       "      <th>582</th>\n",
       "      <td>38</td>\n",
       "      <td>Male</td>\n",
       "      <td>1.0</td>\n",
       "      <td>0.3</td>\n",
       "      <td>216</td>\n",
       "      <td>21</td>\n",
       "      <td>24</td>\n",
       "      <td>7.3</td>\n",
       "      <td>4.4</td>\n",
       "      <td>1.50</td>\n",
       "      <td>2</td>\n",
       "    </tr>\n",
       "  </tbody>\n",
       "</table>\n",
       "</div>"
      ],
      "text/plain": [
       "     Age Gender  Total_Bilirubin  ...  Albumin  Albumin_and_Globulin_Ratio  Dataset\n",
       "578   60   Male              0.5  ...      1.6                        0.37        2\n",
       "579   40   Male              0.6  ...      3.2                        1.10        1\n",
       "580   52   Male              0.8  ...      3.2                        1.00        1\n",
       "581   31   Male              1.3  ...      3.4                        1.00        1\n",
       "582   38   Male              1.0  ...      4.4                        1.50        2\n",
       "\n",
       "[5 rows x 11 columns]"
      ]
     },
     "execution_count": 3,
     "metadata": {
      "tags": []
     },
     "output_type": "execute_result"
    }
   ],
   "source": [
    "url=\"http://yustiks.ru/dataset/indian_liver_patient.csv\"\n",
    "data=pd.read_csv(url)\n",
    "data.tail()"
   ]
  },
  {
   "cell_type": "markdown",
   "metadata": {
    "colab_type": "text",
    "id": "XyNNmtvIDDy3"
   },
   "source": [
    "Columns:\n",
    "\n",
    "*  Age of the patient\n",
    "*  Gender of the patient\n",
    "*  Total Bilirubin\n",
    "*  Direct Bilirubin\n",
    "*  Alkaline Phosphotase\n",
    "*  Alamine Aminotransferase\n",
    "*  Aspartate Aminotransferase\n",
    "*  Total Protiens\n",
    "*  Albumin\n",
    "*  Albumin and Globulin Ratio\n",
    "*  Dataset: field used to split the data into two sets (patient with liver disease, or no disease)\n"
   ]
  },
  {
   "cell_type": "markdown",
   "metadata": {
    "colab_type": "text",
    "id": "T7rJ9FXVv9h0"
   },
   "source": [
    "Dataset: пациент с болезнью печени - 1,\n",
    "         пациент не болеет - 2"
   ]
  },
  {
   "cell_type": "markdown",
   "metadata": {
    "colab_type": "text",
    "id": "3v0ZWcBVSOXK"
   },
   "source": [
    "Построить одномерную линейную регрессию Direct_Bilirubin и Total_Bilirubin, предварительно разделив данные на 80% тренировочных и 20% тестовых. Построить график: исходных тренировочных и тестовых данных, а также прямой линейной регрессии."
   ]
  },
  {
   "cell_type": "code",
   "execution_count": 4,
   "metadata": {
    "colab": {
     "base_uri": "https://localhost:8080/",
     "height": 35
    },
    "colab_type": "code",
    "executionInfo": {
     "elapsed": 3261,
     "status": "ok",
     "timestamp": 1582607569984,
     "user": {
      "displayName": "Alexey Udod",
      "photoUrl": "",
      "userId": "09887141178389253930"
     },
     "user_tz": -180
    },
    "id": "RK7adlBCv9h5",
    "outputId": "b1fd1378-b054-49b1-a464-d70aa88bba25"
   },
   "outputs": [
    {
     "data": {
      "text/plain": [
       "0.9185229858613643"
      ]
     },
     "execution_count": 4,
     "metadata": {
      "tags": []
     },
     "output_type": "execute_result"
    }
   ],
   "source": [
    "from sklearn.linear_model import LinearRegression\n",
    "model = LinearRegression()\n",
    "\n",
    "from sklearn.model_selection import train_test_split\n",
    "x_train, x_test, y_train, y_test = train_test_split(\n",
    "    np.array(data.Direct_Bilirubin).reshape(-1,1),\n",
    "    np.array(data.Total_Bilirubin).reshape(-1,1),\n",
    "test_size = 0.2, random_state = 3)\n",
    "\n",
    "model.fit(x_train, y_train)\n",
    "y_predict = model.predict(x_test)\n",
    "model.score(x_test, y_test)\n"
   ]
  },
  {
   "cell_type": "code",
   "execution_count": 5,
   "metadata": {
    "colab": {
     "base_uri": "https://localhost:8080/",
     "height": 296
    },
    "colab_type": "code",
    "executionInfo": {
     "elapsed": 4340,
     "status": "ok",
     "timestamp": 1582607571072,
     "user": {
      "displayName": "Alexey Udod",
      "photoUrl": "",
      "userId": "09887141178389253930"
     },
     "user_tz": -180
    },
    "id": "WIW7BsZ3v9iA",
    "outputId": "3d2db474-8244-4cc6-ef34-c7e8557d2364"
   },
   "outputs": [
    {
     "data": {
      "image/png": "[encoded data removed]",
      "text/plain": [
       "<Figure size 432x288 with 1 Axes>"
      ]
     },
     "metadata": {
      "tags": []
     },
     "output_type": "display_data"
    }
   ],
   "source": [
    "plt.xlabel('Direct_Bilirubin')\n",
    "plt.ylabel('Total_Bilirubin')\n",
    "plt.title('исходные тренировочные и тестовые данные')\n",
    "x = np.linspace(data.Direct_Bilirubin.min(), data.Direct_Bilirubin.max(), 100)\n",
    "y = model.coef_ * x + model.intercept_\n",
    "y = np.transpose(y)\n",
    "plt.plot(x,y, label = 'regression line')\n",
    "plt.plot(x_train, y_train, 'g.', label = 'train data')\n",
    "plt.plot(x_test, y_test, 'y.', label = 'test data')\n",
    "plt.plot(x_test, y_predict, 'r.', label = 'predict data')\n",
    "plt.legend()\n",
    "plt.show()"
   ]
  },
  {
   "cell_type": "markdown",
   "metadata": {
    "colab_type": "text",
    "id": "Lmw-zBiUv9iH"
   },
   "source": [
    "Пример, как считать квантили:"
   ]
  },
  {
   "cell_type": "code",
   "execution_count": 35,
   "metadata": {
    "colab": {
     "base_uri": "https://localhost:8080/",
     "height": 244
    },
    "colab_type": "code",
    "executionInfo": {
     "elapsed": 4336,
     "status": "error",
     "timestamp": 1582607571076,
     "user": {
      "displayName": "Alexey Udod",
      "photoUrl": "",
      "userId": "09887141178389253930"
     },
     "user_tz": -180
    },
    "id": "tTuHkTXRv9iI",
    "outputId": "7d482f85-7ce9-4a11-ab32-16a6f357a323"
   },
   "outputs": [],
   "source": [
    "# print(\"Q2 квантиль ряда : \", np.quantile(data.Age, .50)) \n",
    "# print(\"Q1 квантиль ряда : \", np.quantile(age, .25)) \n",
    "# print(\"Q3 квантиль ряда : \", np.quantile(age, .75)) \n",
    "# print(\"10 квантиль ряда : \", np.quantile(age, .1)) "
   ]
  },
  {
   "cell_type": "markdown",
   "metadata": {
    "colab_type": "text",
    "id": "a5U8-xzxv9iP"
   },
   "source": [
    "Примеры квантилей 10%, 25%, 50%, 75% для всех колонок таблицы data"
   ]
  },
  {
   "cell_type": "code",
   "execution_count": 11,
   "metadata": {
    "colab": {
     "base_uri": "https://localhost:8080/",
     "height": 195
    },
    "colab_type": "code",
    "executionInfo": {
     "elapsed": 690,
     "status": "ok",
     "timestamp": 1582607692522,
     "user": {
      "displayName": "Alexey Udod",
      "photoUrl": "",
      "userId": "09887141178389253930"
     },
     "user_tz": -180
    },
    "id": "ebgdVfNxv9iR",
    "outputId": "b4258b23-7ec2-4743-d090-19215ffa7772",
    "scrolled": false
   },
   "outputs": [
    {
     "data": {
      "text/html": [
       "<div>\n",
       "<style scoped>\n",
       "    .dataframe tbody tr th:only-of-type {\n",
       "        vertical-align: middle;\n",
       "    }\n",
       "\n",
       "    .dataframe tbody tr th {\n",
       "        vertical-align: top;\n",
       "    }\n",
       "\n",
       "    .dataframe thead th {\n",
       "        text-align: right;\n",
       "    }\n",
       "</style>\n",
       "<table border=\"1\" class=\"dataframe\">\n",
       "  <thead>\n",
       "    <tr style=\"text-align: right;\">\n",
       "      <th></th>\n",
       "      <th>Age</th>\n",
       "      <th>Total_Bilirubin</th>\n",
       "      <th>Direct_Bilirubin</th>\n",
       "      <th>Alkaline_Phosphotase</th>\n",
       "      <th>Alamine_Aminotransferase</th>\n",
       "      <th>Aspartate_Aminotransferase</th>\n",
       "      <th>Total_Protiens</th>\n",
       "      <th>Albumin</th>\n",
       "      <th>Albumin_and_Globulin_Ratio</th>\n",
       "      <th>Dataset</th>\n",
       "    </tr>\n",
       "  </thead>\n",
       "  <tbody>\n",
       "    <tr>\n",
       "      <th>0.10</th>\n",
       "      <td>23.0</td>\n",
       "      <td>0.7</td>\n",
       "      <td>0.1</td>\n",
       "      <td>150.0</td>\n",
       "      <td>18.0</td>\n",
       "      <td>19.0</td>\n",
       "      <td>5.1</td>\n",
       "      <td>2.0</td>\n",
       "      <td>0.546</td>\n",
       "      <td>1.0</td>\n",
       "    </tr>\n",
       "    <tr>\n",
       "      <th>0.25</th>\n",
       "      <td>33.0</td>\n",
       "      <td>0.8</td>\n",
       "      <td>0.2</td>\n",
       "      <td>175.5</td>\n",
       "      <td>23.0</td>\n",
       "      <td>25.0</td>\n",
       "      <td>5.8</td>\n",
       "      <td>2.6</td>\n",
       "      <td>0.700</td>\n",
       "      <td>1.0</td>\n",
       "    </tr>\n",
       "    <tr>\n",
       "      <th>0.50</th>\n",
       "      <td>45.0</td>\n",
       "      <td>1.0</td>\n",
       "      <td>0.3</td>\n",
       "      <td>208.0</td>\n",
       "      <td>35.0</td>\n",
       "      <td>42.0</td>\n",
       "      <td>6.6</td>\n",
       "      <td>3.1</td>\n",
       "      <td>0.930</td>\n",
       "      <td>1.0</td>\n",
       "    </tr>\n",
       "    <tr>\n",
       "      <th>0.75</th>\n",
       "      <td>58.0</td>\n",
       "      <td>2.6</td>\n",
       "      <td>1.3</td>\n",
       "      <td>298.0</td>\n",
       "      <td>60.5</td>\n",
       "      <td>87.0</td>\n",
       "      <td>7.2</td>\n",
       "      <td>3.8</td>\n",
       "      <td>1.100</td>\n",
       "      <td>2.0</td>\n",
       "    </tr>\n",
       "  </tbody>\n",
       "</table>\n",
       "</div>"
      ],
      "text/plain": [
       "       Age  Total_Bilirubin  ...  Albumin_and_Globulin_Ratio  Dataset\n",
       "0.10  23.0              0.7  ...                       0.546      1.0\n",
       "0.25  33.0              0.8  ...                       0.700      1.0\n",
       "0.50  45.0              1.0  ...                       0.930      1.0\n",
       "0.75  58.0              2.6  ...                       1.100      2.0\n",
       "\n",
       "[4 rows x 10 columns]"
      ]
     },
     "execution_count": 11,
     "metadata": {
      "tags": []
     },
     "output_type": "execute_result"
    }
   ],
   "source": [
    "data.quantile([.10, .25, .50, .75], axis = 0) "
   ]
  },
  {
   "cell_type": "markdown",
   "metadata": {
    "colab_type": "text",
    "id": "Mf1gL38Bv9iW"
   },
   "source": [
    "Пример квартилей:"
   ]
  },
  {
   "cell_type": "code",
   "execution_count": 10,
   "metadata": {
    "colab": {
     "base_uri": "https://localhost:8080/",
     "height": 320
    },
    "colab_type": "code",
    "executionInfo": {
     "elapsed": 648,
     "status": "ok",
     "timestamp": 1582607673398,
     "user": {
      "displayName": "Alexey Udod",
      "photoUrl": "",
      "userId": "09887141178389253930"
     },
     "user_tz": -180
    },
    "id": "krbUybHTv9iZ",
    "outputId": "bcd4f6c0-b66e-4c03-9672-3a8c02b9ce49"
   },
   "outputs": [
    {
     "data": {
      "text/html": [
       "<div>\n",
       "<style scoped>\n",
       "    .dataframe tbody tr th:only-of-type {\n",
       "        vertical-align: middle;\n",
       "    }\n",
       "\n",
       "    .dataframe tbody tr th {\n",
       "        vertical-align: top;\n",
       "    }\n",
       "\n",
       "    .dataframe thead th {\n",
       "        text-align: right;\n",
       "    }\n",
       "</style>\n",
       "<table border=\"1\" class=\"dataframe\">\n",
       "  <thead>\n",
       "    <tr style=\"text-align: right;\">\n",
       "      <th></th>\n",
       "      <th>Age</th>\n",
       "      <th>Total_Bilirubin</th>\n",
       "      <th>Direct_Bilirubin</th>\n",
       "      <th>Alkaline_Phosphotase</th>\n",
       "      <th>Alamine_Aminotransferase</th>\n",
       "      <th>Aspartate_Aminotransferase</th>\n",
       "      <th>Total_Protiens</th>\n",
       "      <th>Albumin</th>\n",
       "      <th>Albumin_and_Globulin_Ratio</th>\n",
       "      <th>Dataset</th>\n",
       "    </tr>\n",
       "  </thead>\n",
       "  <tbody>\n",
       "    <tr>\n",
       "      <th>count</th>\n",
       "      <td>583.000000</td>\n",
       "      <td>583.000000</td>\n",
       "      <td>583.000000</td>\n",
       "      <td>583.000000</td>\n",
       "      <td>583.000000</td>\n",
       "      <td>583.000000</td>\n",
       "      <td>583.000000</td>\n",
       "      <td>583.000000</td>\n",
       "      <td>579.000000</td>\n",
       "      <td>583.000000</td>\n",
       "    </tr>\n",
       "    <tr>\n",
       "      <th>mean</th>\n",
       "      <td>44.746141</td>\n",
       "      <td>3.298799</td>\n",
       "      <td>1.486106</td>\n",
       "      <td>290.576329</td>\n",
       "      <td>80.713551</td>\n",
       "      <td>109.910806</td>\n",
       "      <td>6.483190</td>\n",
       "      <td>3.141852</td>\n",
       "      <td>0.947064</td>\n",
       "      <td>1.286449</td>\n",
       "    </tr>\n",
       "    <tr>\n",
       "      <th>std</th>\n",
       "      <td>16.189833</td>\n",
       "      <td>6.209522</td>\n",
       "      <td>2.808498</td>\n",
       "      <td>242.937989</td>\n",
       "      <td>182.620356</td>\n",
       "      <td>288.918529</td>\n",
       "      <td>1.085451</td>\n",
       "      <td>0.795519</td>\n",
       "      <td>0.319592</td>\n",
       "      <td>0.452490</td>\n",
       "    </tr>\n",
       "    <tr>\n",
       "      <th>min</th>\n",
       "      <td>4.000000</td>\n",
       "      <td>0.400000</td>\n",
       "      <td>0.100000</td>\n",
       "      <td>63.000000</td>\n",
       "      <td>10.000000</td>\n",
       "      <td>10.000000</td>\n",
       "      <td>2.700000</td>\n",
       "      <td>0.900000</td>\n",
       "      <td>0.300000</td>\n",
       "      <td>1.000000</td>\n",
       "    </tr>\n",
       "    <tr>\n",
       "      <th>25%</th>\n",
       "      <td>33.000000</td>\n",
       "      <td>0.800000</td>\n",
       "      <td>0.200000</td>\n",
       "      <td>175.500000</td>\n",
       "      <td>23.000000</td>\n",
       "      <td>25.000000</td>\n",
       "      <td>5.800000</td>\n",
       "      <td>2.600000</td>\n",
       "      <td>0.700000</td>\n",
       "      <td>1.000000</td>\n",
       "    </tr>\n",
       "    <tr>\n",
       "      <th>50%</th>\n",
       "      <td>45.000000</td>\n",
       "      <td>1.000000</td>\n",
       "      <td>0.300000</td>\n",
       "      <td>208.000000</td>\n",
       "      <td>35.000000</td>\n",
       "      <td>42.000000</td>\n",
       "      <td>6.600000</td>\n",
       "      <td>3.100000</td>\n",
       "      <td>0.930000</td>\n",
       "      <td>1.000000</td>\n",
       "    </tr>\n",
       "    <tr>\n",
       "      <th>75%</th>\n",
       "      <td>58.000000</td>\n",
       "      <td>2.600000</td>\n",
       "      <td>1.300000</td>\n",
       "      <td>298.000000</td>\n",
       "      <td>60.500000</td>\n",
       "      <td>87.000000</td>\n",
       "      <td>7.200000</td>\n",
       "      <td>3.800000</td>\n",
       "      <td>1.100000</td>\n",
       "      <td>2.000000</td>\n",
       "    </tr>\n",
       "    <tr>\n",
       "      <th>max</th>\n",
       "      <td>90.000000</td>\n",
       "      <td>75.000000</td>\n",
       "      <td>19.700000</td>\n",
       "      <td>2110.000000</td>\n",
       "      <td>2000.000000</td>\n",
       "      <td>4929.000000</td>\n",
       "      <td>9.600000</td>\n",
       "      <td>5.500000</td>\n",
       "      <td>2.800000</td>\n",
       "      <td>2.000000</td>\n",
       "    </tr>\n",
       "  </tbody>\n",
       "</table>\n",
       "</div>"
      ],
      "text/plain": [
       "              Age  Total_Bilirubin  ...  Albumin_and_Globulin_Ratio     Dataset\n",
       "count  583.000000       583.000000  ...                  579.000000  583.000000\n",
       "mean    44.746141         3.298799  ...                    0.947064    1.286449\n",
       "std     16.189833         6.209522  ...                    0.319592    0.452490\n",
       "min      4.000000         0.400000  ...                    0.300000    1.000000\n",
       "25%     33.000000         0.800000  ...                    0.700000    1.000000\n",
       "50%     45.000000         1.000000  ...                    0.930000    1.000000\n",
       "75%     58.000000         2.600000  ...                    1.100000    2.000000\n",
       "max     90.000000        75.000000  ...                    2.800000    2.000000\n",
       "\n",
       "[8 rows x 10 columns]"
      ]
     },
     "execution_count": 10,
     "metadata": {
      "tags": []
     },
     "output_type": "execute_result"
    }
   ],
   "source": [
    "data.describe()"
   ]
  },
  {
   "cell_type": "markdown",
   "metadata": {
    "colab_type": "text",
    "id": "ZWc_9uF3PQIo"
   },
   "source": [
    "Посчитать квартили для всех колонок. "
   ]
  },
  {
   "cell_type": "code",
   "execution_count": 13,
   "metadata": {
    "colab": {
     "base_uri": "https://localhost:8080/",
     "height": 1000
    },
    "colab_type": "code",
    "executionInfo": {
     "elapsed": 701,
     "status": "ok",
     "timestamp": 1582610905820,
     "user": {
      "displayName": "Alexey Udod",
      "photoUrl": "",
      "userId": "09887141178389253930"
     },
     "user_tz": -180
    },
    "id": "KqtYkCFTwcGL",
    "outputId": "4fb39d2a-7364-4639-dd95-aa05146fae56"
   },
   "outputs": [
    {
     "name": "stdout",
     "output_type": "stream",
     "text": [
      "\n",
      " Age\n",
      "Q2 квантиль ряда :  45.0\n",
      "Q1 квантиль ряда :  33.0\n",
      "Q3 квантиль ряда :  58.0\n",
      "10 квантиль ряда :  23.0\n",
      "\n",
      " Total_Bilirubin\n",
      "Q2 квантиль ряда :  1.0\n",
      "Q1 квантиль ряда :  0.8\n",
      "Q3 квантиль ряда :  2.6\n",
      "10 квантиль ряда :  0.7\n",
      "\n",
      " Direct_Bilirubin\n",
      "Q2 квантиль ряда :  0.3\n",
      "Q1 квантиль ряда :  0.2\n",
      "Q3 квантиль ряда :  1.3\n",
      "10 квантиль ряда :  0.1\n",
      "\n",
      " Alkaline_Phosphotase\n",
      "Q2 квантиль ряда :  208.0\n",
      "Q1 квантиль ряда :  175.5\n",
      "Q3 квантиль ряда :  298.0\n",
      "10 квантиль ряда :  150.0\n",
      "\n",
      " Alamine_Aminotransferase\n",
      "Q2 квантиль ряда :  35.0\n",
      "Q1 квантиль ряда :  23.0\n",
      "Q3 квантиль ряда :  60.5\n",
      "10 квантиль ряда :  18.0\n",
      "\n",
      " Aspartate_Aminotransferase\n",
      "Q2 квантиль ряда :  42.0\n",
      "Q1 квантиль ряда :  25.0\n",
      "Q3 квантиль ряда :  87.0\n",
      "10 квантиль ряда :  19.0\n",
      "\n",
      " Total_Protiens\n",
      "Q2 квантиль ряда :  6.6\n",
      "Q1 квантиль ряда :  5.8\n",
      "Q3 квантиль ряда :  7.2\n",
      "10 квантиль ряда :  5.1\n",
      "\n",
      " Albumin\n",
      "Q2 квантиль ряда :  3.1\n",
      "Q1 квантиль ряда :  2.6\n",
      "Q3 квантиль ряда :  3.8\n",
      "10 квантиль ряда :  2.0\n",
      "\n",
      " Albumin_and_Globulin_Ratio\n",
      "Q2 квантиль ряда :  nan\n",
      "Q1 квантиль ряда :  nan\n",
      "Q3 квантиль ряда :  nan\n",
      "10 квантиль ряда :  nan\n",
      "\n",
      " Dataset\n",
      "Q2 квантиль ряда :  1.0\n",
      "Q1 квантиль ряда :  1.0\n",
      "Q3 квантиль ряда :  2.0\n",
      "10 квантиль ряда :  1.0\n"
     ]
    }
   ],
   "source": [
    "for i in data: \n",
    "  if i!='Gender':\n",
    "    print('\\n',i)\n",
    "    print(\"Q2 квантиль ряда : \", np.quantile(data[i], .50)) \n",
    "    print(\"Q1 квантиль ряда : \", np.quantile(data[i], .25)) \n",
    "    print(\"Q3 квантиль ряда : \", np.quantile(data[i], .75)) \n",
    "    print(\"10 квантиль ряда : \", np.quantile(data[i], .1)) "
   ]
  },
  {
   "cell_type": "markdown",
   "metadata": {
    "colab_type": "text",
    "id": "7kwq4rqzOoz1"
   },
   "source": [
    "Построить график histogram двух выборок по наличию или отсутствию болезни: люди, возрастом до 50 лет, и люди после 50 лет. Посчитать среднее значение и квартиль 0.5 в данных выборках. Чем они отличаются?"
   ]
  },
  {
   "cell_type": "code",
   "execution_count": 68,
   "metadata": {
    "colab": {
     "base_uri": "https://localhost:8080/",
     "height": 301
    },
    "colab_type": "code",
    "executionInfo": {
     "elapsed": 1071,
     "status": "ok",
     "timestamp": 1582620648312,
     "user": {
      "displayName": "Alexey Udod",
      "photoUrl": "",
      "userId": "09887141178389253930"
     },
     "user_tz": -180
    },
    "id": "2IHs9Eai9xGQ",
    "outputId": "7473a83b-2f4f-485b-acbd-6d125cfafc7e"
   },
   "outputs": [
    {
     "name": "stdout",
     "output_type": "stream",
     "text": [
      "Больные: среднее 46.15384615384615 и квартиль 0.5 - 46.0\n",
      "Здоровые: среднее 41.23952095808383 и квартиль 0.5 - 40.0\n"
     ]
    },
    {
     "data": {
      "image/png": "[encoded data removed]",
      "text/plain": [
       "<Figure size 432x288 with 1 Axes>"
      ]
     },
     "metadata": {
      "needs_background": "light"
     },
     "output_type": "display_data"
    }
   ],
   "source": [
    "bins=50\n",
    "ill = data[data.Dataset==1].Age#[data.Age>50]\n",
    "not_ill = data[data.Dataset==2].Age#[data.Age<=50]\n",
    "plt.hist(ill ,label='ill', bins=z)\n",
    "plt.hist(not_ill,label='not ill', bins=bins)\n",
    "plt.legend()\n",
    "print(f'Больные: среднее {ill.mean()} и квартиль 0.5 - {np.quantile(ill, .50)}')\n",
    "print(f'Здоровые: среднее {not_ill.mean()} и квартиль 0.5 - {np.quantile(not_ill, .50)}')"
   ]
  },
  {
   "cell_type": "code",
   "execution_count": 40,
   "metadata": {},
   "outputs": [
    {
     "name": "stdout",
     "output_type": "stream",
     "text": [
      "После 50: среднее 1.2367149758454106 и квартиль 0.5 - 1.0\n",
      "До 50: среднее 1.3138297872340425 и квартиль 0.5 - 1.0\n"
     ]
    },
    {
     "data": {
      "image/png": "[encoded data removed]",
      "text/plain": [
       "<Figure size 432x288 with 1 Axes>"
      ]
     },
     "metadata": {
      "needs_background": "light"
     },
     "output_type": "display_data"
    }
   ],
   "source": [
    "bins=50\n",
    "over_50 = data.Dataset[data.Age>50]\n",
    "below_50 = data.Dataset[data.Age<=50]\n",
    "plt.hist(over_50, label='age over 50', bins=bins)\n",
    "plt.hist(below_50, label='age below 50', bins=bins)\n",
    "plt.legend()\n",
    "print(f'После 50: среднее {over_50.mean()} и квартиль 0.5 - {np.quantile(over_50, .50)}')\n",
    "print(f'До 50: среднее {below_50.mean()} и квартиль 0.5 - {np.quantile(below_50, .50)}')"
   ]
  },
  {
   "cell_type": "markdown",
   "metadata": {
    "colab_type": "text",
    "id": "QZVd-KyDQq38"
   },
   "source": [
    "\n",
    "Посчитать критерий одновыборочный t-критерий для выборки по критерию Total_Bilirubin у больных людей. Как показатель помогает понять, что выборки не похожа на генеральную совокупность?"
   ]
  },
  {
   "cell_type": "code",
   "execution_count": 48,
   "metadata": {},
   "outputs": [
    {
     "data": {
      "text/plain": [
       "0.013871861207640042"
      ]
     },
     "execution_count": 48,
     "metadata": {},
     "output_type": "execute_result"
    }
   ],
   "source": [
    "stats.ttest_1samp(data.Total_Bilirubin[data.Dataset==1], data.Total_Bilirubin.mean())[1]"
   ]
  },
  {
   "cell_type": "markdown",
   "metadata": {},
   "source": [
    "Мы получили низкое pvalue значит мы можем опровергнуть нулевую гипотезу о том что средние значения Total_Bilirubin у больных идентичны среднем по всей выборке "
   ]
  },
  {
   "cell_type": "markdown",
   "metadata": {
    "colab_type": "text",
    "id": "dI901FRqRC8A"
   },
   "source": [
    "Посчитать критерий t для двух выборок: больные и здоровые (по критерию Total_Bilirubin). Имеют ли данные группы схожесть?"
   ]
  },
  {
   "cell_type": "code",
   "execution_count": 50,
   "metadata": {},
   "outputs": [
    {
     "data": {
      "text/plain": [
       "7.801430929364345e-08"
      ]
     },
     "execution_count": 50,
     "metadata": {},
     "output_type": "execute_result"
    }
   ],
   "source": [
    "stats.ttest_ind(data.Total_Bilirubin[data.Dataset==1], data.Total_Bilirubin[data.Dataset==2])[1]"
   ]
  },
  {
   "cell_type": "markdown",
   "metadata": {},
   "source": [
    "Значение pvalue значительно ниже стандартной альфа ошибки поэтому мы отвергаем нулевую гипотезу и можем утверждать что группы не имеют схожести по этому критерию. "
   ]
  },
  {
   "cell_type": "markdown",
   "metadata": {
    "colab_type": "text",
    "id": "2e0YHsEqAnvv"
   },
   "source": [
    "Посчитать статистическую значимость для трех выборок (по возрасту) - 1ая группа от 1 до 30 лет, 2ая группа от 30 лет до 55, 3я группа более 55 по выборке Dataset. Сравнить с реальностью (они логично что будут отличаться)."
   ]
  },
  {
   "cell_type": "code",
   "execution_count": 80,
   "metadata": {},
   "outputs": [
    {
     "data": {
      "text/plain": [
       "(array([132.,   0.,   0.,   0.,   0.,   0.,   0.,   0.,   0.,  44.]),\n",
       " array([1. , 1.1, 1.2, 1.3, 1.4, 1.5, 1.6, 1.7, 1.8, 1.9, 2. ]),\n",
       " <a list of 10 Patch objects>)"
      ]
     },
     "execution_count": 80,
     "metadata": {},
     "output_type": "execute_result"
    },
    {
     "data": {
      "image/png": "[encoded data removed]",
      "text/plain": [
       "<Figure size 432x288 with 1 Axes>"
      ]
     },
     "metadata": {
      "needs_background": "light"
     },
     "output_type": "display_data"
    }
   ],
   "source": [
    "d1, d2, d3 = data.Dataset[data.Age<30], data.Dataset[(data.Age>=30)&(data.Age<55)], data.Dataset[(data.Age>=55)]\n",
    "\n",
    "stats.f_oneway(d1, d2, d3)[1]\n",
    "\n",
    "plt.hist(d1)\n",
    "plt.hist(d2)\n",
    "plt.hist(d3)\n"
   ]
  },
  {
   "cell_type": "markdown",
   "metadata": {},
   "source": [
    "Статистическая значимость для трех выборок очень низка, выборки отличаются по данным критериям"
   ]
  },
  {
   "cell_type": "markdown",
   "metadata": {
    "colab_type": "text",
    "id": "Jm1ESbSRRPOP"
   },
   "source": [
    "Вопросы задавать на почту yustiks@gmail.com"
   ]
  }
 ],
 "metadata": {
  "colab": {
   "collapsed_sections": [],
   "name": "hw17.ipynb",
   "provenance": []
  },
  "kernelspec": {
   "display_name": "Python 3",
   "language": "python",
   "name": "python3"
  },
  "language_info": {
   "codemirror_mode": {
    "name": "ipython",
    "version": 3
   },
   "file_extension": ".py",
   "mimetype": "text/x-python",
   "name": "python",
   "nbconvert_exporter": "python",
   "pygments_lexer": "ipython3",
   "version": "3.7.4"
  }
 },
 "nbformat": 4,
 "nbformat_minor": 1
}
