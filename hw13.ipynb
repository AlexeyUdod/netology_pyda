{
 "cells": [
  {
   "cell_type": "markdown",
   "metadata": {},
   "source": [
    "**Задание 1**\n",
    "\n",
    "Используйте файл с оценками фильмов ml-latest-small/ratings.csv. Посчитайте среднее время жизни пользователей, которые выставили более 100 оценок. Под временем жизни понимается разница между максимальным и минимальным значением столбца timestamp для данного значения userId.\n"
   ]
  },
  {
   "cell_type": "code",
   "execution_count": null,
   "metadata": {},
   "outputs": [],
   "source": [
    "import pandas as pd\n",
    "import datetime"
   ]
  },
  {
   "cell_type": "code",
   "execution_count": 88,
   "metadata": {},
   "outputs": [],
   "source": [
    "rating = pd.read_csv('ml-latest-small/ratings.csv')"
   ]
  },
  {
   "cell_type": "code",
   "execution_count": 150,
   "metadata": {},
   "outputs": [],
   "source": [
    "rating = pd.read_csv('ratings.csv') #большой 600мб сет для проверки гипотезы ниже"
   ]
  },
  {
   "cell_type": "code",
   "execution_count": 151,
   "metadata": {},
   "outputs": [
    {
     "name": "stdout",
     "output_type": "stream",
     "text": [
      "Среднее время жизни пользователей с более 100 оценками 494 days 04:25:49 \n"
     ]
    }
   ],
   "source": [
    "#вариант 1 (забыл про join-ы)\n",
    "g = rating.groupby('userId')\n",
    "g2 = g.count()\n",
    "g2['dif'] = g.timestamp.max() - g.timestamp.min()\n",
    "print(f\"\"\"Среднее время жизни пользователей с более 100 оценками {pd.Timedelta(str(int(g2[g2.rating > 100].dif.mean()))+'seconds')} \"\"\")"
   ]
  },
  {
   "cell_type": "code",
   "execution_count": 131,
   "metadata": {},
   "outputs": [],
   "source": [
    "#вариант 2 с join-ами\n",
    "\n",
    "rating['date'] = rating.timestamp.apply(lambda x: pd.Timestamp(x, unit='s'))\n",
    "r = rating.groupby('userId')\n",
    "rate_count = r.count().join(r.max().date, rsuffix ='_max').join(r.min().date, rsuffix ='_min')\n",
    "rate_count['dif'] = rate_count.date_max-rate_count.date_min\n",
    "rate_count[r.rating.count() > n].dif.mean()\n",
    "rate_count"
   ]
  },
  {
   "cell_type": "code",
   "execution_count": 164,
   "metadata": {},
   "outputs": [
    {
     "name": "stdout",
     "output_type": "stream",
     "text": [
      "Среднее время жизни пользователей с более 100 оценками 494 days 04:25:49.007733\n"
     ]
    }
   ],
   "source": [
    "print(f'Среднее время жизни пользователей с более 100 оценками {rate_count[r.rating.count() > 100].dif.mean()}')"
   ]
  },
  {
   "cell_type": "code",
   "execution_count": 172,
   "metadata": {},
   "outputs": [],
   "source": [
    "#проверка гипотезы о ботах в базе\n",
    "import numpy as np"
   ]
  },
  {
   "cell_type": "code",
   "execution_count": 200,
   "metadata": {},
   "outputs": [
    {
     "name": "stdout",
     "output_type": "stream",
     "text": [
      "максимальная скорость  оценки фильмов пользователя 142.9 фильмов в секунду при минимуме 1000 оценок\n"
     ]
    }
   ],
   "source": [
    "d = 1000\n",
    "q = rate_count[r.rating.count() > d].dif.min().total_seconds()\n",
    "print(f'максимальная скорость  оценки фильмов пользователя {round(d/q,1)} фильмов в секунду при минимуме {d} оценок')"
   ]
  },
  {
   "cell_type": "code",
   "execution_count": 230,
   "metadata": {},
   "outputs": [
    {
     "data": {
      "text/html": [
       "<div>\n",
       "<style scoped>\n",
       "    .dataframe tbody tr th:only-of-type {\n",
       "        vertical-align: middle;\n",
       "    }\n",
       "\n",
       "    .dataframe tbody tr th {\n",
       "        vertical-align: top;\n",
       "    }\n",
       "\n",
       "    .dataframe thead th {\n",
       "        text-align: right;\n",
       "    }\n",
       "</style>\n",
       "<table border=\"1\" class=\"dataframe\">\n",
       "  <thead>\n",
       "    <tr style=\"text-align: right;\">\n",
       "      <th></th>\n",
       "      <th>min_user_rating_count</th>\n",
       "      <th>min_livetime_sec</th>\n",
       "      <th>Max_films_in_second</th>\n",
       "    </tr>\n",
       "  </thead>\n",
       "  <tbody>\n",
       "    <tr>\n",
       "      <td>0</td>\n",
       "      <td>1000</td>\n",
       "      <td>7.0</td>\n",
       "      <td>142.857143</td>\n",
       "    </tr>\n",
       "    <tr>\n",
       "      <td>1</td>\n",
       "      <td>1100</td>\n",
       "      <td>10.0</td>\n",
       "      <td>110.000000</td>\n",
       "    </tr>\n",
       "    <tr>\n",
       "      <td>2</td>\n",
       "      <td>1200</td>\n",
       "      <td>14.0</td>\n",
       "      <td>85.714286</td>\n",
       "    </tr>\n",
       "    <tr>\n",
       "      <td>3</td>\n",
       "      <td>1300</td>\n",
       "      <td>14.0</td>\n",
       "      <td>92.857143</td>\n",
       "    </tr>\n",
       "    <tr>\n",
       "      <td>4</td>\n",
       "      <td>1400</td>\n",
       "      <td>20.0</td>\n",
       "      <td>70.000000</td>\n",
       "    </tr>\n",
       "    <tr>\n",
       "      <td>...</td>\n",
       "      <td>...</td>\n",
       "      <td>...</td>\n",
       "      <td>...</td>\n",
       "    </tr>\n",
       "    <tr>\n",
       "      <td>85</td>\n",
       "      <td>9500</td>\n",
       "      <td>120366662.0</td>\n",
       "      <td>0.000079</td>\n",
       "    </tr>\n",
       "    <tr>\n",
       "      <td>86</td>\n",
       "      <td>9600</td>\n",
       "      <td>120366662.0</td>\n",
       "      <td>0.000080</td>\n",
       "    </tr>\n",
       "    <tr>\n",
       "      <td>87</td>\n",
       "      <td>9700</td>\n",
       "      <td>120366662.0</td>\n",
       "      <td>0.000081</td>\n",
       "    </tr>\n",
       "    <tr>\n",
       "      <td>88</td>\n",
       "      <td>9800</td>\n",
       "      <td>120366662.0</td>\n",
       "      <td>0.000081</td>\n",
       "    </tr>\n",
       "    <tr>\n",
       "      <td>89</td>\n",
       "      <td>9900</td>\n",
       "      <td>120366662.0</td>\n",
       "      <td>0.000082</td>\n",
       "    </tr>\n",
       "  </tbody>\n",
       "</table>\n",
       "<p>90 rows × 3 columns</p>\n",
       "</div>"
      ],
      "text/plain": [
       "    min_user_rating_count  min_livetime_sec  Max_films_in_second\n",
       "0                    1000               7.0           142.857143\n",
       "1                    1100              10.0           110.000000\n",
       "2                    1200              14.0            85.714286\n",
       "3                    1300              14.0            92.857143\n",
       "4                    1400              20.0            70.000000\n",
       "..                    ...               ...                  ...\n",
       "85                   9500       120366662.0             0.000079\n",
       "86                   9600       120366662.0             0.000080\n",
       "87                   9700       120366662.0             0.000081\n",
       "88                   9800       120366662.0             0.000081\n",
       "89                   9900       120366662.0             0.000082\n",
       "\n",
       "[90 rows x 3 columns]"
      ]
     },
     "execution_count": 230,
     "metadata": {},
     "output_type": "execute_result"
    }
   ],
   "source": [
    "n1 = []\n",
    "q1 = []\n",
    "v1 = []\n",
    "for n in range(1000,10000,100):\n",
    "    q = rate_count[r.rating.count() > n].dif.min().total_seconds()\n",
    "    n1.append(n)\n",
    "    q1.append(q)\n",
    "#     v1.append(n\\q)\n",
    "#     print(f'максимальная скорость оценки фильмов пользователем {round(n/q,6)} фильмов в секунду при минимуме {n} оценок')    \n",
    "\n",
    "min_livetime = pd.DataFrame(\n",
    "    {\n",
    "        'min_user_rating_count': n1,\n",
    "        'min_livetime_sec': q1\n",
    "    }\n",
    ")\n",
    "\n",
    "min_livetime['Max_films_in_second'] = min_livetime['min_user_rating_count'] / min_livetime['min_livetime_sec']\n",
    "min_livetime\n"
   ]
  },
  {
   "cell_type": "code",
   "execution_count": null,
   "metadata": {},
   "outputs": [],
   "source": []
  },
  {
   "cell_type": "code",
   "execution_count": 234,
   "metadata": {},
   "outputs": [
    {
     "data": {
      "text/plain": [
       "<matplotlib.axes._subplots.AxesSubplot at 0x1c3d77cac08>"
      ]
     },
     "execution_count": 234,
     "metadata": {},
     "output_type": "execute_result"
    },
    {
     "data": {
      "image/png": "[encoded data removed]",
      "text/plain": [
       "<Figure size 432x288 with 1 Axes>"
      ]
     },
     "metadata": {
      "needs_background": "light"
     },
     "output_type": "display_data"
    }
   ],
   "source": [
    "%matplotlib inline\n",
    "min_livetime['Max_films_in_second'].hist(bins=30)"
   ]
  },
  {
   "cell_type": "markdown",
   "metadata": {},
   "source": [
    "По графику видно, что основная масса пользователей похожа на реальных людей со средней скоростью оценки ниже одной  в секунду. \n",
    "\n",
    "Но на графике также явно заметны несколько групп пользователей с медианами 15 и 70 оценок в секунду, которые, вследствие высокой скорости, предположительно, не являются реальными людьми. \n",
    "\n",
    "Возможно это алгоритмы, оценочные боты, ошибки базы или неправильная методика расчета."
   ]
  },
  {
   "cell_type": "markdown",
   "metadata": {},
   "source": [
    "**Задание 2**\n",
    "\n",
    "Дана статистика услуг перевозок клиентов компании по типам (см. файл с кодом занятия). Необходимо сформировать две таблицы:\n",
    "таблицу с тремя типами выручки для каждого client_id без указания адреса клиента\n",
    "аналогичную таблицу по типам выручки с указанием адреса клиента\n",
    "Обратите внимание, что в процессе объединения таблиц данные не должны теряться.\n",
    "\n"
   ]
  },
  {
   "cell_type": "code",
   "execution_count": null,
   "metadata": {},
   "outputs": [],
   "source": [
    "Дана статистика услуг перевозок клиентов компании по типам:\n",
    "\n",
    "rzd - железнодорожные перевозки\n",
    "auto - автомобильные перевозки\n",
    "air - воздушные перевозки\n",
    "client_base - адреса клиентов"
   ]
  },
  {
   "cell_type": "code",
   "execution_count": 253,
   "metadata": {},
   "outputs": [
    {
     "name": "stdout",
     "output_type": "stream",
     "text": [
      "   client_id  rzd_revenue  auto_revenue  air_revenue\n",
      "0        111       1093.0           NaN          NaN\n",
      "1        112       2810.0           NaN          NaN\n",
      "2        113      10283.0       57483.0          NaN\n",
      "3        114       5774.0          83.0          NaN\n",
      "4        115        981.0         912.0         81.0\n",
      "5        116          NaN        4834.0          4.0\n",
      "6        117          NaN          98.0         13.0\n",
      "7        118          NaN           NaN        173.0 \n",
      "\n",
      "    client_id  rzd_revenue  auto_revenue  air_revenue          address\n",
      "0        111       1093.0           NaN          NaN  Комсомольская 4\n",
      "1        112       2810.0           NaN          NaN   Энтузиастов 8а\n",
      "2        113      10283.0       57483.0          NaN  Левобережная 1а\n",
      "3        114       5774.0          83.0          NaN          Мира 14\n",
      "4        115        981.0         912.0         81.0        ЗЖБИиДК 1\n",
      "5        116          NaN        4834.0          4.0    Строителей 18\n",
      "6        117          NaN          98.0         13.0  Панфиловская 33\n",
      "7        118          NaN           NaN        173.0     Мастеркова 4\n",
      "\n"
     ]
    }
   ],
   "source": [
    "rzd = pd.DataFrame({'client_id': [111, 112, 113, 114, 115],\n",
    "                    'rzd_revenue': [1093, 2810, 10283, 5774, 981]})\n",
    "\n",
    "auto = pd.DataFrame({'client_id': [113, 114, 115, 116, 117],\n",
    "                     'auto_revenue': [57483, 83, 912, 4834, 98]})\n",
    "\n",
    "air = pd.DataFrame({'client_id': [115, 116, 117, 118],\n",
    "                    'air_revenue': [81, 4, 13, 173]})\n",
    "\n",
    "client_base = pd.DataFrame({'client_id': [111, 112, 113, 114, 115, 116, 117, 118],\n",
    "                            'address': ['Комсомольская 4', 'Энтузиастов 8а', 'Левобережная 1а', 'Мира 14', 'ЗЖБИиДК 1', \n",
    "                                        'Строителей 18', 'Панфиловская 33', 'Мастеркова 4']})\n",
    "\n",
    "tab1 = rzd.merge(auto, how='outer').merge(air, how='outer')\n",
    "tab2=tab1.merge(client_base, how='outer')\n",
    "\n",
    "print(tab1, '\\n\\n', tab2)\n"
   ]
  },
  {
   "cell_type": "markdown",
   "metadata": {},
   "source": [
    "**Задание 3**\n",
    "\n",
    "В задаче сквозной аналитики вам предоставили данные по местоположению пользователей. Т. е. для каждого user_id известна последовательность координат (широта/долгота), когда они требовались приложению для полноценной работы. Как бы вы добавили эти сведения в таблицу визитов и покупок? Для составления ответа можно использовать вопросы:\n",
    "У каждого пользователя известен набор координат. А для связывания с визитом или фактом покупки скорее всего потребуется одно-два числа. Как их получить?\n",
    "Наборы координат одного и того же пользователя могут быть значительно удалены друг от друга. Как это отразится на вопросе расчетах пункта 1?\n",
    "Какие дополнительные признаки можно получить из координат? Ведь это просто числа, которые сами по себе мало что дают."
   ]
  },
  {
   "cell_type": "markdown",
   "metadata": {},
   "source": [
    "Непонятно, есть ли время получения координат. Предположим худший вариант, что нет.\n",
    "\n",
    "Можно сопостовлять координаты пользователя с координатами списка интересующих регионов (города, районы, страны, округа) и использовать номер региона.\n",
    "\n",
    "Можно вычислить различные метрики передвижения пользователя(например мобильность) и добавлять значение каждой значимой метрики.\n",
    "\n",
    "Много можно всего придумать если понимать направление приложения и видеть реальные данные."
   ]
  }
 ],
 "metadata": {
  "kernelspec": {
   "display_name": "Python 3",
   "language": "python",
   "name": "python3"
  },
  "language_info": {
   "codemirror_mode": {
    "name": "ipython",
    "version": 3
   },
   "file_extension": ".py",
   "mimetype": "text/x-python",
   "name": "python",
   "nbconvert_exporter": "python",
   "pygments_lexer": "ipython3",
   "version": "3.7.4"
  }
 },
 "nbformat": 4,
 "nbformat_minor": 2
}
