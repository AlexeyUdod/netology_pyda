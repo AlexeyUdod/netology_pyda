{
  "nbformat": 4,
  "nbformat_minor": 0,
  "metadata": {
    "kernelspec": {
      "display_name": "Python 3",
      "language": "python",
      "name": "python3"
    },
    "language_info": {
      "codemirror_mode": {
        "name": "ipython",
        "version": 3
      },
      "file_extension": ".py",
      "mimetype": "text/x-python",
      "name": "python",
      "nbconvert_exporter": "python",
      "pygments_lexer": "ipython3",
      "version": "3.7.4"
    },
    "colab": {
      "name": "hw13.ipynb",
      "provenance": [],
      "collapsed_sections": []
    }
  },
  "cells": [
    {
      "cell_type": "markdown",
      "metadata": {
        "id": "68PQq23Ncn0h",
        "colab_type": "text"
      },
      "source": [
        "**Задание 1**\n",
        "\n",
        "Используйте файл с оценками фильмов ml-latest-small/ratings.csv. Посчитайте среднее время жизни пользователей, которые выставили более 100 оценок. Под временем жизни понимается разница между максимальным и минимальным значением столбца timestamp для данного значения userId.\n"
      ]
    },
    {
      "cell_type": "code",
      "metadata": {
        "id": "Um9dPbfEfpEF",
        "colab_type": "code",
        "outputId": "4af7e477-5ed5-4938-b790-dcf2842c07ba",
        "colab": {
          "base_uri": "https://localhost:8080/",
          "height": 128
        }
      },
      "source": [
        "import platform #Gdrive \n",
        "if platform.system() == 'Linux':\n",
        "    path = '/content/drive/My Drive/Colab Notebooks/netology_pyda/'\n",
        "    from google.colab import drive\n",
        "    drive.mount('/content/drive')\n",
        "else:\n",
        "    path = ''"
      ],
      "execution_count": 0,
      "outputs": [
        {
          "output_type": "stream",
          "text": [
            "Go to this URL in a browser: https://accounts.google.com/o/oauth2/auth?client_id=947318989803-6bn6qk8qdgf4n4g3pfee6491hc0brc4i.apps.googleusercontent.com&redirect_uri=urn%3aietf%3awg%3aoauth%3a2.0%3aoob&response_type=code&scope=email%20https%3a%2f%2fwww.googleapis.com%2fauth%2fdocs.test%20https%3a%2f%2fwww.googleapis.com%2fauth%2fdrive%20https%3a%2f%2fwww.googleapis.com%2fauth%2fdrive.photos.readonly%20https%3a%2f%2fwww.googleapis.com%2fauth%2fpeopleapi.readonly\n",
            "\n",
            "Enter your authorization code:\n",
            "··········\n",
            "Mounted at /content/drive\n"
          ],
          "name": "stdout"
        }
      ]
    },
    {
      "cell_type": "code",
      "metadata": {
        "id": "0OcZPtYtcn0n",
        "colab_type": "code",
        "colab": {}
      },
      "source": [
        "import pandas as pd\n",
        "import datetime"
      ],
      "execution_count": 0,
      "outputs": []
    },
    {
      "cell_type": "code",
      "metadata": {
        "id": "qi_5jrE4cn1C",
        "colab_type": "code",
        "colab": {}
      },
      "source": [
        "rating = pd.read_csv('ml-latest-small/ratings.csv')"
      ],
      "execution_count": 0,
      "outputs": []
    },
    {
      "cell_type": "code",
      "metadata": {
        "id": "9SDb-Enkcn1S",
        "colab_type": "code",
        "colab": {}
      },
      "source": [
        "rating = pd.read_csv(path+'ratings.csv') #большой 600мб сет для проверки гипотезы ниже"
      ],
      "execution_count": 0,
      "outputs": []
    },
    {
      "cell_type": "code",
      "metadata": {
        "id": "ReCTj00YfizS",
        "colab_type": "code",
        "colab": {}
      },
      "source": [
        ""
      ],
      "execution_count": 0,
      "outputs": []
    },
    {
      "cell_type": "code",
      "metadata": {
        "id": "lSqU6YoAcn1h",
        "colab_type": "code",
        "outputId": "fdb58619-aaa1-4fee-c5df-a8ccaa45250c",
        "colab": {
          "base_uri": "https://localhost:8080/",
          "height": 35
        }
      },
      "source": [
        "#вариант 1 (забыл про join-ы)\n",
        "g = rating.groupby('userId')\n",
        "g2 = g.count()\n",
        "g2['dif'] = g.timestamp.max() - g.timestamp.min()\n",
        "print(f\"\"\"Среднее время жизни пользователей с более 100 оценками {pd.Timedelta(str(int(g2[g2.rating > 100].dif.mean()))+'seconds')} \"\"\")"
      ],
      "execution_count": 0,
      "outputs": [
        {
          "output_type": "stream",
          "text": [
            "Среднее время жизни пользователей с более 100 оценками 494 days 04:25:49 \n"
          ],
          "name": "stdout"
        }
      ]
    },
    {
      "cell_type": "code",
      "metadata": {
        "id": "NOKVfEAZcn1-",
        "colab_type": "code",
        "outputId": "8d6615b1-0a91-44e9-81c9-1c3425a139b2",
        "colab": {
          "base_uri": "https://localhost:8080/",
          "height": 455
        }
      },
      "source": [
        "#вариант 2 с join-ами\n",
        "n\n",
        "rating['date'] = rating.timestamp.apply(lambda x: pd.Timestamp(x, unit='s'))\n",
        "r = rating.groupby('userId')\n",
        "rate_count = r.count().join(r.min().date, rsuffix ='_min').join(r.max().date, rsuffix ='_max')\n",
        "rate_count['dif'] = rate_count.date_max-rate_count.date_min\n",
        "rate_count[r.rating.count() > n].dif.mean()\n",
        "rate_count"
      ],
      "execution_count": 0,
      "outputs": [
        {
          "output_type": "execute_result",
          "data": {
            "text/html": [
              "<div>\n",
              "<style scoped>\n",
              "    .dataframe tbody tr th:only-of-type {\n",
              "        vertical-align: middle;\n",
              "    }\n",
              "\n",
              "    .dataframe tbody tr th {\n",
              "        vertical-align: top;\n",
              "    }\n",
              "\n",
              "    .dataframe thead th {\n",
              "        text-align: right;\n",
              "    }\n",
              "</style>\n",
              "<table border=\"1\" class=\"dataframe\">\n",
              "  <thead>\n",
              "    <tr style=\"text-align: right;\">\n",
              "      <th></th>\n",
              "      <th>movieId</th>\n",
              "      <th>rating</th>\n",
              "      <th>timestamp</th>\n",
              "      <th>date</th>\n",
              "      <th>date_min</th>\n",
              "      <th>date_max</th>\n",
              "      <th>dif</th>\n",
              "    </tr>\n",
              "    <tr>\n",
              "      <th>userId</th>\n",
              "      <th></th>\n",
              "      <th></th>\n",
              "      <th></th>\n",
              "      <th></th>\n",
              "      <th></th>\n",
              "      <th></th>\n",
              "      <th></th>\n",
              "    </tr>\n",
              "  </thead>\n",
              "  <tbody>\n",
              "    <tr>\n",
              "      <th>1</th>\n",
              "      <td>70</td>\n",
              "      <td>70</td>\n",
              "      <td>70</td>\n",
              "      <td>70</td>\n",
              "      <td>2006-05-17 12:14:13</td>\n",
              "      <td>2006-05-17 15:34:15</td>\n",
              "      <td>0 days 03:20:02</td>\n",
              "    </tr>\n",
              "    <tr>\n",
              "      <th>2</th>\n",
              "      <td>184</td>\n",
              "      <td>184</td>\n",
              "      <td>184</td>\n",
              "      <td>184</td>\n",
              "      <td>2006-03-03 19:51:49</td>\n",
              "      <td>2006-03-03 20:33:28</td>\n",
              "      <td>0 days 00:41:39</td>\n",
              "    </tr>\n",
              "    <tr>\n",
              "      <th>3</th>\n",
              "      <td>656</td>\n",
              "      <td>656</td>\n",
              "      <td>656</td>\n",
              "      <td>656</td>\n",
              "      <td>2015-08-13 13:23:19</td>\n",
              "      <td>2019-08-18 01:31:23</td>\n",
              "      <td>1465 days 12:08:04</td>\n",
              "    </tr>\n",
              "    <tr>\n",
              "      <th>4</th>\n",
              "      <td>242</td>\n",
              "      <td>242</td>\n",
              "      <td>242</td>\n",
              "      <td>242</td>\n",
              "      <td>2019-11-16 20:44:51</td>\n",
              "      <td>2019-11-19 20:25:01</td>\n",
              "      <td>2 days 23:40:10</td>\n",
              "    </tr>\n",
              "    <tr>\n",
              "      <th>5</th>\n",
              "      <td>101</td>\n",
              "      <td>101</td>\n",
              "      <td>101</td>\n",
              "      <td>101</td>\n",
              "      <td>1996-04-29 13:55:55</td>\n",
              "      <td>1997-03-17 19:53:41</td>\n",
              "      <td>322 days 05:57:46</td>\n",
              "    </tr>\n",
              "    <tr>\n",
              "      <th>...</th>\n",
              "      <td>...</td>\n",
              "      <td>...</td>\n",
              "      <td>...</td>\n",
              "      <td>...</td>\n",
              "      <td>...</td>\n",
              "      <td>...</td>\n",
              "      <td>...</td>\n",
              "    </tr>\n",
              "    <tr>\n",
              "      <th>162537</th>\n",
              "      <td>101</td>\n",
              "      <td>101</td>\n",
              "      <td>101</td>\n",
              "      <td>101</td>\n",
              "      <td>2003-03-09 00:48:40</td>\n",
              "      <td>2003-03-09 01:06:46</td>\n",
              "      <td>0 days 00:18:06</td>\n",
              "    </tr>\n",
              "    <tr>\n",
              "      <th>162538</th>\n",
              "      <td>154</td>\n",
              "      <td>154</td>\n",
              "      <td>154</td>\n",
              "      <td>154</td>\n",
              "      <td>2015-08-05 13:19:11</td>\n",
              "      <td>2015-08-05 14:40:22</td>\n",
              "      <td>0 days 01:21:11</td>\n",
              "    </tr>\n",
              "    <tr>\n",
              "      <th>162539</th>\n",
              "      <td>47</td>\n",
              "      <td>47</td>\n",
              "      <td>47</td>\n",
              "      <td>47</td>\n",
              "      <td>2001-07-14 22:28:40</td>\n",
              "      <td>2001-07-14 22:46:28</td>\n",
              "      <td>0 days 00:17:48</td>\n",
              "    </tr>\n",
              "    <tr>\n",
              "      <th>162540</th>\n",
              "      <td>88</td>\n",
              "      <td>88</td>\n",
              "      <td>88</td>\n",
              "      <td>88</td>\n",
              "      <td>2009-07-29 08:09:19</td>\n",
              "      <td>2009-07-31 08:42:45</td>\n",
              "      <td>2 days 00:33:26</td>\n",
              "    </tr>\n",
              "    <tr>\n",
              "      <th>162541</th>\n",
              "      <td>182</td>\n",
              "      <td>182</td>\n",
              "      <td>182</td>\n",
              "      <td>182</td>\n",
              "      <td>2009-04-28 19:25:58</td>\n",
              "      <td>2009-04-28 21:23:20</td>\n",
              "      <td>0 days 01:57:22</td>\n",
              "    </tr>\n",
              "  </tbody>\n",
              "</table>\n",
              "<p>162541 rows × 7 columns</p>\n",
              "</div>"
            ],
            "text/plain": [
              "        movieId  rating  ...            date_max                dif\n",
              "userId                   ...                                       \n",
              "1            70      70  ... 2006-05-17 15:34:15    0 days 03:20:02\n",
              "2           184     184  ... 2006-03-03 20:33:28    0 days 00:41:39\n",
              "3           656     656  ... 2019-08-18 01:31:23 1465 days 12:08:04\n",
              "4           242     242  ... 2019-11-19 20:25:01    2 days 23:40:10\n",
              "5           101     101  ... 1997-03-17 19:53:41  322 days 05:57:46\n",
              "...         ...     ...  ...                 ...                ...\n",
              "162537      101     101  ... 2003-03-09 01:06:46    0 days 00:18:06\n",
              "162538      154     154  ... 2015-08-05 14:40:22    0 days 01:21:11\n",
              "162539       47      47  ... 2001-07-14 22:46:28    0 days 00:17:48\n",
              "162540       88      88  ... 2009-07-31 08:42:45    2 days 00:33:26\n",
              "162541      182     182  ... 2009-04-28 21:23:20    0 days 01:57:22\n",
              "\n",
              "[162541 rows x 7 columns]"
            ]
          },
          "metadata": {
            "tags": []
          },
          "execution_count": 44
        }
      ]
    },
    {
      "cell_type": "code",
      "metadata": {
        "id": "PiQx5jDucn2T",
        "colab_type": "code",
        "outputId": "1e8eff5f-c433-414d-df62-b66f5aca893d",
        "colab": {
          "base_uri": "https://localhost:8080/",
          "height": 35
        }
      },
      "source": [
        "print(f'Среднее время жизни пользователей с более 100 оценками {rate_count[r.rating.count() > 100].dif.mean()}')"
      ],
      "execution_count": 0,
      "outputs": [
        {
          "output_type": "stream",
          "text": [
            "Среднее время жизни пользователей с более 100 оценками 494 days 04:25:49.007733\n"
          ],
          "name": "stdout"
        }
      ]
    },
    {
      "cell_type": "code",
      "metadata": {
        "id": "Wutz8pJLcn2a",
        "colab_type": "code",
        "colab": {}
      },
      "source": [
        "#проверка гипотезы о ботах в базе\n",
        "import numpy as np"
      ],
      "execution_count": 0,
      "outputs": []
    },
    {
      "cell_type": "code",
      "metadata": {
        "id": "ZXVPy94scn2o",
        "colab_type": "code",
        "outputId": "0a35ea3c-453c-4a3a-b528-020c869979d4",
        "colab": {
          "base_uri": "https://localhost:8080/",
          "height": 35
        }
      },
      "source": [
        "d = 1000\n",
        "q = rate_count[r.rating.count() > d].dif.min().total_seconds()\n",
        "print(f'максимальная скорость  оценки фильмов пользователя {round(d/q,1)} фильмов в секунду при минимуме {d} оценок')"
      ],
      "execution_count": 0,
      "outputs": [
        {
          "output_type": "stream",
          "text": [
            "максимальная скорость  оценки фильмов пользователя 142.9 фильмов в секунду при минимуме 1000 оценок\n"
          ],
          "name": "stdout"
        }
      ]
    },
    {
      "cell_type": "code",
      "metadata": {
        "id": "_fqWFV3Mcn21",
        "colab_type": "code",
        "outputId": "0e80088f-23b7-4469-b987-2d7a27d5412a",
        "colab": {
          "base_uri": "https://localhost:8080/",
          "height": 424
        }
      },
      "source": [
        "n1 = []\n",
        "q1 = []\n",
        "v1 = []\n",
        "for n in range(1000,10000,100):\n",
        "    q = rate_count[r.rating.count() > n].dif.min().total_seconds()\n",
        "    n1.append(n)\n",
        "    q1.append(q)\n",
        "#     v1.append(n\\q)\n",
        "#     print(f'максимальная скорость оценки фильмов пользователем {round(n/q,6)} фильмов в секунду при минимуме {n} оценок')    \n",
        "\n",
        "min_livetime = pd.DataFrame(\n",
        "    {\n",
        "        'min_user_rating_count': n1,\n",
        "        'min_livetime_sec': q1\n",
        "    }\n",
        ")\n",
        "\n",
        "min_livetime['Max_films_in_second'] = min_livetime['min_user_rating_count'] / min_livetime['min_livetime_sec']\n",
        "min_livetime\n"
      ],
      "execution_count": 0,
      "outputs": [
        {
          "output_type": "execute_result",
          "data": {
            "text/html": [
              "<div>\n",
              "<style scoped>\n",
              "    .dataframe tbody tr th:only-of-type {\n",
              "        vertical-align: middle;\n",
              "    }\n",
              "\n",
              "    .dataframe tbody tr th {\n",
              "        vertical-align: top;\n",
              "    }\n",
              "\n",
              "    .dataframe thead th {\n",
              "        text-align: right;\n",
              "    }\n",
              "</style>\n",
              "<table border=\"1\" class=\"dataframe\">\n",
              "  <thead>\n",
              "    <tr style=\"text-align: right;\">\n",
              "      <th></th>\n",
              "      <th>min_user_rating_count</th>\n",
              "      <th>min_livetime_sec</th>\n",
              "      <th>Max_films_in_second</th>\n",
              "    </tr>\n",
              "  </thead>\n",
              "  <tbody>\n",
              "    <tr>\n",
              "      <th>0</th>\n",
              "      <td>1000</td>\n",
              "      <td>7.0</td>\n",
              "      <td>142.857143</td>\n",
              "    </tr>\n",
              "    <tr>\n",
              "      <th>1</th>\n",
              "      <td>1100</td>\n",
              "      <td>10.0</td>\n",
              "      <td>110.000000</td>\n",
              "    </tr>\n",
              "    <tr>\n",
              "      <th>2</th>\n",
              "      <td>1200</td>\n",
              "      <td>14.0</td>\n",
              "      <td>85.714286</td>\n",
              "    </tr>\n",
              "    <tr>\n",
              "      <th>3</th>\n",
              "      <td>1300</td>\n",
              "      <td>14.0</td>\n",
              "      <td>92.857143</td>\n",
              "    </tr>\n",
              "    <tr>\n",
              "      <th>4</th>\n",
              "      <td>1400</td>\n",
              "      <td>20.0</td>\n",
              "      <td>70.000000</td>\n",
              "    </tr>\n",
              "    <tr>\n",
              "      <th>...</th>\n",
              "      <td>...</td>\n",
              "      <td>...</td>\n",
              "      <td>...</td>\n",
              "    </tr>\n",
              "    <tr>\n",
              "      <th>85</th>\n",
              "      <td>9500</td>\n",
              "      <td>120366662.0</td>\n",
              "      <td>0.000079</td>\n",
              "    </tr>\n",
              "    <tr>\n",
              "      <th>86</th>\n",
              "      <td>9600</td>\n",
              "      <td>120366662.0</td>\n",
              "      <td>0.000080</td>\n",
              "    </tr>\n",
              "    <tr>\n",
              "      <th>87</th>\n",
              "      <td>9700</td>\n",
              "      <td>120366662.0</td>\n",
              "      <td>0.000081</td>\n",
              "    </tr>\n",
              "    <tr>\n",
              "      <th>88</th>\n",
              "      <td>9800</td>\n",
              "      <td>120366662.0</td>\n",
              "      <td>0.000081</td>\n",
              "    </tr>\n",
              "    <tr>\n",
              "      <th>89</th>\n",
              "      <td>9900</td>\n",
              "      <td>120366662.0</td>\n",
              "      <td>0.000082</td>\n",
              "    </tr>\n",
              "  </tbody>\n",
              "</table>\n",
              "<p>90 rows × 3 columns</p>\n",
              "</div>"
            ],
            "text/plain": [
              "    min_user_rating_count  min_livetime_sec  Max_films_in_second\n",
              "0                    1000               7.0           142.857143\n",
              "1                    1100              10.0           110.000000\n",
              "2                    1200              14.0            85.714286\n",
              "3                    1300              14.0            92.857143\n",
              "4                    1400              20.0            70.000000\n",
              "..                    ...               ...                  ...\n",
              "85                   9500       120366662.0             0.000079\n",
              "86                   9600       120366662.0             0.000080\n",
              "87                   9700       120366662.0             0.000081\n",
              "88                   9800       120366662.0             0.000081\n",
              "89                   9900       120366662.0             0.000082\n",
              "\n",
              "[90 rows x 3 columns]"
            ]
          },
          "metadata": {
            "tags": []
          },
          "execution_count": 10
        }
      ]
    },
    {
      "cell_type": "code",
      "metadata": {
        "id": "h_rGeqttgu7f",
        "colab_type": "code",
        "colab": {}
      },
      "source": [
        "\n",
        "rate_count['speed'] = rate_count.rating / rate_count.dif.apply(datetime.timedelta.total_seconds)\n",
        " \n",
        "\n",
        "# min_livetime['Max_films_in_second'] = min_livetime['min_user_rating_count'] / min_livetime['min_livetime_sec']\n",
        "# min_livetime\n"
      ],
      "execution_count": 0,
      "outputs": []
    },
    {
      "cell_type": "code",
      "metadata": {
        "id": "ulTweuoJcn3E",
        "colab_type": "code",
        "outputId": "b9b5d0b3-a138-40c1-bf52-828e5ee269b8",
        "colab": {
          "base_uri": "https://localhost:8080/",
          "height": 455
        }
      },
      "source": [
        "rate_count[rate_count.speed > 10]"
      ],
      "execution_count": 0,
      "outputs": [
        {
          "output_type": "execute_result",
          "data": {
            "text/html": [
              "<div>\n",
              "<style scoped>\n",
              "    .dataframe tbody tr th:only-of-type {\n",
              "        vertical-align: middle;\n",
              "    }\n",
              "\n",
              "    .dataframe tbody tr th {\n",
              "        vertical-align: top;\n",
              "    }\n",
              "\n",
              "    .dataframe thead th {\n",
              "        text-align: right;\n",
              "    }\n",
              "</style>\n",
              "<table border=\"1\" class=\"dataframe\">\n",
              "  <thead>\n",
              "    <tr style=\"text-align: right;\">\n",
              "      <th></th>\n",
              "      <th>movieId</th>\n",
              "      <th>rating</th>\n",
              "      <th>timestamp</th>\n",
              "      <th>date</th>\n",
              "      <th>date_min</th>\n",
              "      <th>date_max</th>\n",
              "      <th>dif</th>\n",
              "      <th>speed</th>\n",
              "    </tr>\n",
              "    <tr>\n",
              "      <th>userId</th>\n",
              "      <th></th>\n",
              "      <th></th>\n",
              "      <th></th>\n",
              "      <th></th>\n",
              "      <th></th>\n",
              "      <th></th>\n",
              "      <th></th>\n",
              "      <th></th>\n",
              "    </tr>\n",
              "  </thead>\n",
              "  <tbody>\n",
              "    <tr>\n",
              "      <th>79</th>\n",
              "      <td>22</td>\n",
              "      <td>22</td>\n",
              "      <td>22</td>\n",
              "      <td>22</td>\n",
              "      <td>1996-04-05 12:48:27</td>\n",
              "      <td>1996-04-05 12:48:28</td>\n",
              "      <td>00:00:01</td>\n",
              "      <td>22.000000</td>\n",
              "    </tr>\n",
              "    <tr>\n",
              "      <th>532</th>\n",
              "      <td>51</td>\n",
              "      <td>51</td>\n",
              "      <td>51</td>\n",
              "      <td>51</td>\n",
              "      <td>1996-04-02 11:20:00</td>\n",
              "      <td>1996-04-02 11:20:01</td>\n",
              "      <td>00:00:01</td>\n",
              "      <td>51.000000</td>\n",
              "    </tr>\n",
              "    <tr>\n",
              "      <th>539</th>\n",
              "      <td>36</td>\n",
              "      <td>36</td>\n",
              "      <td>36</td>\n",
              "      <td>36</td>\n",
              "      <td>1996-04-12 23:42:50</td>\n",
              "      <td>1996-04-12 23:42:52</td>\n",
              "      <td>00:00:02</td>\n",
              "      <td>18.000000</td>\n",
              "    </tr>\n",
              "    <tr>\n",
              "      <th>628</th>\n",
              "      <td>463</td>\n",
              "      <td>463</td>\n",
              "      <td>463</td>\n",
              "      <td>463</td>\n",
              "      <td>2016-12-01 21:09:42</td>\n",
              "      <td>2016-12-01 21:09:50</td>\n",
              "      <td>00:00:08</td>\n",
              "      <td>57.875000</td>\n",
              "    </tr>\n",
              "    <tr>\n",
              "      <th>811</th>\n",
              "      <td>22</td>\n",
              "      <td>22</td>\n",
              "      <td>22</td>\n",
              "      <td>22</td>\n",
              "      <td>1996-04-11 01:33:41</td>\n",
              "      <td>1996-04-11 01:33:42</td>\n",
              "      <td>00:00:01</td>\n",
              "      <td>22.000000</td>\n",
              "    </tr>\n",
              "    <tr>\n",
              "      <th>...</th>\n",
              "      <td>...</td>\n",
              "      <td>...</td>\n",
              "      <td>...</td>\n",
              "      <td>...</td>\n",
              "      <td>...</td>\n",
              "      <td>...</td>\n",
              "      <td>...</td>\n",
              "      <td>...</td>\n",
              "    </tr>\n",
              "    <tr>\n",
              "      <th>160654</th>\n",
              "      <td>61</td>\n",
              "      <td>61</td>\n",
              "      <td>61</td>\n",
              "      <td>61</td>\n",
              "      <td>1996-03-31 11:38:48</td>\n",
              "      <td>1996-03-31 11:38:49</td>\n",
              "      <td>00:00:01</td>\n",
              "      <td>61.000000</td>\n",
              "    </tr>\n",
              "    <tr>\n",
              "      <th>160897</th>\n",
              "      <td>1142</td>\n",
              "      <td>1142</td>\n",
              "      <td>1142</td>\n",
              "      <td>1142</td>\n",
              "      <td>2016-09-16 10:23:39</td>\n",
              "      <td>2016-09-16 10:24:10</td>\n",
              "      <td>00:00:31</td>\n",
              "      <td>36.838710</td>\n",
              "    </tr>\n",
              "    <tr>\n",
              "      <th>161720</th>\n",
              "      <td>262</td>\n",
              "      <td>262</td>\n",
              "      <td>262</td>\n",
              "      <td>262</td>\n",
              "      <td>2018-10-20 07:13:16</td>\n",
              "      <td>2018-10-20 07:13:35</td>\n",
              "      <td>00:00:19</td>\n",
              "      <td>13.789474</td>\n",
              "    </tr>\n",
              "    <tr>\n",
              "      <th>162349</th>\n",
              "      <td>694</td>\n",
              "      <td>694</td>\n",
              "      <td>694</td>\n",
              "      <td>694</td>\n",
              "      <td>2019-03-03 14:34:12</td>\n",
              "      <td>2019-03-03 14:34:22</td>\n",
              "      <td>00:00:10</td>\n",
              "      <td>69.400000</td>\n",
              "    </tr>\n",
              "    <tr>\n",
              "      <th>162468</th>\n",
              "      <td>38</td>\n",
              "      <td>38</td>\n",
              "      <td>38</td>\n",
              "      <td>38</td>\n",
              "      <td>1996-04-11 14:04:59</td>\n",
              "      <td>1996-04-11 14:05:00</td>\n",
              "      <td>00:00:01</td>\n",
              "      <td>38.000000</td>\n",
              "    </tr>\n",
              "  </tbody>\n",
              "</table>\n",
              "<p>343 rows × 8 columns</p>\n",
              "</div>"
            ],
            "text/plain": [
              "        movieId  rating  timestamp  ...            date_max      dif      speed\n",
              "userId                              ...                                        \n",
              "79           22      22         22  ... 1996-04-05 12:48:28 00:00:01  22.000000\n",
              "532          51      51         51  ... 1996-04-02 11:20:01 00:00:01  51.000000\n",
              "539          36      36         36  ... 1996-04-12 23:42:52 00:00:02  18.000000\n",
              "628         463     463        463  ... 2016-12-01 21:09:50 00:00:08  57.875000\n",
              "811          22      22         22  ... 1996-04-11 01:33:42 00:00:01  22.000000\n",
              "...         ...     ...        ...  ...                 ...      ...        ...\n",
              "160654       61      61         61  ... 1996-03-31 11:38:49 00:00:01  61.000000\n",
              "160897     1142    1142       1142  ... 2016-09-16 10:24:10 00:00:31  36.838710\n",
              "161720      262     262        262  ... 2018-10-20 07:13:35 00:00:19  13.789474\n",
              "162349      694     694        694  ... 2019-03-03 14:34:22 00:00:10  69.400000\n",
              "162468       38      38         38  ... 1996-04-11 14:05:00 00:00:01  38.000000\n",
              "\n",
              "[343 rows x 8 columns]"
            ]
          },
          "metadata": {
            "tags": []
          },
          "execution_count": 47
        }
      ]
    },
    {
      "cell_type": "code",
      "metadata": {
        "id": "NJEGZc2Ocn3U",
        "colab_type": "code",
        "outputId": "aaa79d94-3399-4931-98ea-22998810ed1b",
        "colab": {
          "base_uri": "https://localhost:8080/",
          "height": 283
        }
      },
      "source": [
        "%matplotlib inline\n",
        "min_livetime['Max_films_in_second'].hist(bins=30)"
      ],
      "execution_count": 0,
      "outputs": [
        {
          "output_type": "execute_result",
          "data": {
            "text/plain": [
              "<matplotlib.axes._subplots.AxesSubplot at 0x7fd81dee9080>"
            ]
          },
          "metadata": {
            "tags": []
          },
          "execution_count": 23
        },
        {
          "output_type": "display_data",
          "data": {
            "image/png": "[encoded data removed]",
            "text/plain": [
              "<Figure size 432x288 with 1 Axes>"
            ]
          },
          "metadata": {
            "tags": []
          }
        }
      ]
    },
    {
      "cell_type": "code",
      "metadata": {
        "id": "AVz2fqIp5ntG",
        "colab_type": "code",
        "outputId": "a6d47576-07e5-433d-92df-c58b2a00ecb4",
        "colab": {
          "base_uri": "https://localhost:8080/",
          "height": 455
        }
      },
      "source": [
        "rate_count[(rate_count.speed < 1000)&(rate_count.speed >1)].sort_values('dif', ascending=True).head(200)"
      ],
      "execution_count": 0,
      "outputs": [
        {
          "output_type": "execute_result",
          "data": {
            "text/html": [
              "<div>\n",
              "<style scoped>\n",
              "    .dataframe tbody tr th:only-of-type {\n",
              "        vertical-align: middle;\n",
              "    }\n",
              "\n",
              "    .dataframe tbody tr th {\n",
              "        vertical-align: top;\n",
              "    }\n",
              "\n",
              "    .dataframe thead th {\n",
              "        text-align: right;\n",
              "    }\n",
              "</style>\n",
              "<table border=\"1\" class=\"dataframe\">\n",
              "  <thead>\n",
              "    <tr style=\"text-align: right;\">\n",
              "      <th></th>\n",
              "      <th>movieId</th>\n",
              "      <th>rating</th>\n",
              "      <th>timestamp</th>\n",
              "      <th>date</th>\n",
              "      <th>date_min</th>\n",
              "      <th>date_max</th>\n",
              "      <th>dif</th>\n",
              "      <th>speed</th>\n",
              "    </tr>\n",
              "    <tr>\n",
              "      <th>userId</th>\n",
              "      <th></th>\n",
              "      <th></th>\n",
              "      <th></th>\n",
              "      <th></th>\n",
              "      <th></th>\n",
              "      <th></th>\n",
              "      <th></th>\n",
              "      <th></th>\n",
              "    </tr>\n",
              "  </thead>\n",
              "  <tbody>\n",
              "    <tr>\n",
              "      <th>79</th>\n",
              "      <td>22</td>\n",
              "      <td>22</td>\n",
              "      <td>22</td>\n",
              "      <td>22</td>\n",
              "      <td>1996-04-05 12:48:27</td>\n",
              "      <td>1996-04-05 12:48:28</td>\n",
              "      <td>00:00:01</td>\n",
              "      <td>22.000000</td>\n",
              "    </tr>\n",
              "    <tr>\n",
              "      <th>79070</th>\n",
              "      <td>78</td>\n",
              "      <td>78</td>\n",
              "      <td>78</td>\n",
              "      <td>78</td>\n",
              "      <td>2019-08-31 04:02:15</td>\n",
              "      <td>2019-08-31 04:02:16</td>\n",
              "      <td>00:00:01</td>\n",
              "      <td>78.000000</td>\n",
              "    </tr>\n",
              "    <tr>\n",
              "      <th>79249</th>\n",
              "      <td>47</td>\n",
              "      <td>47</td>\n",
              "      <td>47</td>\n",
              "      <td>47</td>\n",
              "      <td>1996-04-08 17:40:18</td>\n",
              "      <td>1996-04-08 17:40:19</td>\n",
              "      <td>00:00:01</td>\n",
              "      <td>47.000000</td>\n",
              "    </tr>\n",
              "    <tr>\n",
              "      <th>79340</th>\n",
              "      <td>27</td>\n",
              "      <td>27</td>\n",
              "      <td>27</td>\n",
              "      <td>27</td>\n",
              "      <td>1996-03-28 19:53:49</td>\n",
              "      <td>1996-03-28 19:53:50</td>\n",
              "      <td>00:00:01</td>\n",
              "      <td>27.000000</td>\n",
              "    </tr>\n",
              "    <tr>\n",
              "      <th>80529</th>\n",
              "      <td>39</td>\n",
              "      <td>39</td>\n",
              "      <td>39</td>\n",
              "      <td>39</td>\n",
              "      <td>1996-04-17 17:22:40</td>\n",
              "      <td>1996-04-17 17:22:41</td>\n",
              "      <td>00:00:01</td>\n",
              "      <td>39.000000</td>\n",
              "    </tr>\n",
              "    <tr>\n",
              "      <th>...</th>\n",
              "      <td>...</td>\n",
              "      <td>...</td>\n",
              "      <td>...</td>\n",
              "      <td>...</td>\n",
              "      <td>...</td>\n",
              "      <td>...</td>\n",
              "      <td>...</td>\n",
              "      <td>...</td>\n",
              "    </tr>\n",
              "    <tr>\n",
              "      <th>102501</th>\n",
              "      <td>54</td>\n",
              "      <td>54</td>\n",
              "      <td>54</td>\n",
              "      <td>54</td>\n",
              "      <td>1996-04-16 14:10:26</td>\n",
              "      <td>1996-04-16 14:10:29</td>\n",
              "      <td>00:00:03</td>\n",
              "      <td>18.000000</td>\n",
              "    </tr>\n",
              "    <tr>\n",
              "      <th>156199</th>\n",
              "      <td>182</td>\n",
              "      <td>182</td>\n",
              "      <td>182</td>\n",
              "      <td>182</td>\n",
              "      <td>2016-09-15 11:56:17</td>\n",
              "      <td>2016-09-15 11:56:20</td>\n",
              "      <td>00:00:03</td>\n",
              "      <td>60.666667</td>\n",
              "    </tr>\n",
              "    <tr>\n",
              "      <th>37884</th>\n",
              "      <td>94</td>\n",
              "      <td>94</td>\n",
              "      <td>94</td>\n",
              "      <td>94</td>\n",
              "      <td>1996-03-31 17:21:52</td>\n",
              "      <td>1996-03-31 17:21:55</td>\n",
              "      <td>00:00:03</td>\n",
              "      <td>31.333333</td>\n",
              "    </tr>\n",
              "    <tr>\n",
              "      <th>113469</th>\n",
              "      <td>37</td>\n",
              "      <td>37</td>\n",
              "      <td>37</td>\n",
              "      <td>37</td>\n",
              "      <td>1996-04-08 13:50:55</td>\n",
              "      <td>1996-04-08 13:50:58</td>\n",
              "      <td>00:00:03</td>\n",
              "      <td>12.333333</td>\n",
              "    </tr>\n",
              "    <tr>\n",
              "      <th>71136</th>\n",
              "      <td>57</td>\n",
              "      <td>57</td>\n",
              "      <td>57</td>\n",
              "      <td>57</td>\n",
              "      <td>1996-04-17 20:55:59</td>\n",
              "      <td>1996-04-17 20:56:02</td>\n",
              "      <td>00:00:03</td>\n",
              "      <td>19.000000</td>\n",
              "    </tr>\n",
              "  </tbody>\n",
              "</table>\n",
              "<p>200 rows × 8 columns</p>\n",
              "</div>"
            ],
            "text/plain": [
              "        movieId  rating  timestamp  ...            date_max      dif      speed\n",
              "userId                              ...                                        \n",
              "79           22      22         22  ... 1996-04-05 12:48:28 00:00:01  22.000000\n",
              "79070        78      78         78  ... 2019-08-31 04:02:16 00:00:01  78.000000\n",
              "79249        47      47         47  ... 1996-04-08 17:40:19 00:00:01  47.000000\n",
              "79340        27      27         27  ... 1996-03-28 19:53:50 00:00:01  27.000000\n",
              "80529        39      39         39  ... 1996-04-17 17:22:41 00:00:01  39.000000\n",
              "...         ...     ...        ...  ...                 ...      ...        ...\n",
              "102501       54      54         54  ... 1996-04-16 14:10:29 00:00:03  18.000000\n",
              "156199      182     182        182  ... 2016-09-15 11:56:20 00:00:03  60.666667\n",
              "37884        94      94         94  ... 1996-03-31 17:21:55 00:00:03  31.333333\n",
              "113469       37      37         37  ... 1996-04-08 13:50:58 00:00:03  12.333333\n",
              "71136        57      57         57  ... 1996-04-17 20:56:02 00:00:03  19.000000\n",
              "\n",
              "[200 rows x 8 columns]"
            ]
          },
          "metadata": {
            "tags": []
          },
          "execution_count": 53
        }
      ]
    },
    {
      "cell_type": "code",
      "metadata": {
        "id": "pHYcgIVui-QH",
        "colab_type": "code",
        "outputId": "c949cb5f-60f7-4641-b7be-c4dcfe7ba260",
        "colab": {
          "base_uri": "https://localhost:8080/",
          "height": 283
        }
      },
      "source": [
        "%matplotlib inline\n",
        "rate_count[(rate_count.speed < 1000)&(rate_count.speed >1)].speed.hist(bins=300)"
      ],
      "execution_count": 0,
      "outputs": [
        {
          "output_type": "execute_result",
          "data": {
            "text/plain": [
              "<matplotlib.axes._subplots.AxesSubplot at 0x7fd81e195240>"
            ]
          },
          "metadata": {
            "tags": []
          },
          "execution_count": 49
        },
        {
          "output_type": "display_data",
          "data": {
            "image/png": "[encoded data removed]",
            "text/plain": [
              "<Figure size 432x288 with 1 Axes>"
            ]
          },
          "metadata": {
            "tags": []
          }
        }
      ]
    },
    {
      "cell_type": "markdown",
      "metadata": {
        "id": "o66zkjZ2cn3l",
        "colab_type": "text"
      },
      "source": [
        "По графикам видно, что основная масса пользователей похожа на реальных людей со средней скоростью оценки ниже одной  в секунду. \n",
        "\n",
        "Но на графике также явно заметно распределение пользователей с модой в 22 оценки в секунду,  отдельными значениями более 100 оценок в секунду и временем жизни менее 10 секунд,  которые, предположительно, не являются реальными людьми. \n",
        "\n",
        "Возможно это алгоритмы, оценочные боты, ошибки базы или неправильная методика расчета."
      ]
    },
    {
      "cell_type": "markdown",
      "metadata": {
        "id": "M_UxYToFcn3q",
        "colab_type": "text"
      },
      "source": [
        "\n",
        "\n",
        "**Задание 2**\n",
        "\n",
        "Дана статистика услуг перевозок клиентов компании по типам (см. файл с кодом занятия). Необходимо сформировать две таблицы:\n",
        "таблицу с тремя типами выручки для каждого client_id без указания адреса клиента\n",
        "аналогичную таблицу по типам выручки с указанием адреса клиента\n",
        "Обратите внимание, что в процессе объединения таблиц данные не должны теряться.\n",
        "\n"
      ]
    },
    {
      "cell_type": "code",
      "metadata": {
        "id": "00mzskVycn3t",
        "colab_type": "code",
        "colab": {}
      },
      "source": [
        "Дана статистика услуг перевозок клиентов компании по типам:\n",
        "\n",
        "rzd - железнодорожные перевозки\n",
        "auto - автомобильные перевозки\n",
        "air - воздушные перевозки\n",
        "client_base - адреса клиентов"
      ],
      "execution_count": 0,
      "outputs": []
    },
    {
      "cell_type": "code",
      "metadata": {
        "id": "Nikv-nZRcn36",
        "colab_type": "code",
        "outputId": "99e322ce-8664-4aae-f4ac-beeab7c5fd39",
        "colab": {}
      },
      "source": [
        "rzd = pd.DataFrame({'client_id': [111, 112, 113, 114, 115],\n",
        "                    'rzd_revenue': [1093, 2810, 10283, 5774, 981]})\n",
        "\n",
        "auto = pd.DataFrame({'client_id': [113, 114, 115, 116, 117],\n",
        "                     'auto_revenue': [57483, 83, 912, 4834, 98]})\n",
        "\n",
        "air = pd.DataFrame({'client_id': [115, 116, 117, 118],\n",
        "                    'air_revenue': [81, 4, 13, 173]})\n",
        "\n",
        "client_base = pd.DataFrame({'client_id': [111, 112, 113, 114, 115, 116, 117, 118],\n",
        "                            'address': ['Комсомольская 4', 'Энтузиастов 8а', 'Левобережная 1а', 'Мира 14', 'ЗЖБИиДК 1', \n",
        "                                        'Строителей 18', 'Панфиловская 33', 'Мастеркова 4']})\n",
        "\n",
        "tab1 = rzd.merge(auto, how='outer').merge(air, how='outer')\n",
        "tab2=tab1.merge(client_base, how='outer')\n",
        "\n",
        "print(tab1, '\\n\\n', tab2)\n"
      ],
      "execution_count": 0,
      "outputs": [
        {
          "output_type": "stream",
          "text": [
            "   client_id  rzd_revenue  auto_revenue  air_revenue\n",
            "0        111       1093.0           NaN          NaN\n",
            "1        112       2810.0           NaN          NaN\n",
            "2        113      10283.0       57483.0          NaN\n",
            "3        114       5774.0          83.0          NaN\n",
            "4        115        981.0         912.0         81.0\n",
            "5        116          NaN        4834.0          4.0\n",
            "6        117          NaN          98.0         13.0\n",
            "7        118          NaN           NaN        173.0 \n",
            "\n",
            "    client_id  rzd_revenue  auto_revenue  air_revenue          address\n",
            "0        111       1093.0           NaN          NaN  Комсомольская 4\n",
            "1        112       2810.0           NaN          NaN   Энтузиастов 8а\n",
            "2        113      10283.0       57483.0          NaN  Левобережная 1а\n",
            "3        114       5774.0          83.0          NaN          Мира 14\n",
            "4        115        981.0         912.0         81.0        ЗЖБИиДК 1\n",
            "5        116          NaN        4834.0          4.0    Строителей 18\n",
            "6        117          NaN          98.0         13.0  Панфиловская 33\n",
            "7        118          NaN           NaN        173.0     Мастеркова 4\n",
            "\n"
          ],
          "name": "stdout"
        }
      ]
    },
    {
      "cell_type": "markdown",
      "metadata": {
        "id": "UyrDdcjqcn4C",
        "colab_type": "text"
      },
      "source": [
        "**Задание 3**\n",
        "\n",
        "В задаче сквозной аналитики вам предоставили данные по местоположению пользователей. Т. е. для каждого user_id известна последовательность координат (широта/долгота), когда они требовались приложению для полноценной работы. Как бы вы добавили эти сведения в таблицу визитов и покупок? Для составления ответа можно использовать вопросы:\n",
        "У каждого пользователя известен набор координат. А для связывания с визитом или фактом покупки скорее всего потребуется одно-два числа. Как их получить?\n",
        "Наборы координат одного и того же пользователя могут быть значительно удалены друг от друга. Как это отразится на вопросе расчетах пункта 1?\n",
        "Какие дополнительные признаки можно получить из координат? Ведь это просто числа, которые сами по себе мало что дают."
      ]
    },
    {
      "cell_type": "markdown",
      "metadata": {
        "id": "Duubsk6xcn4I",
        "colab_type": "text"
      },
      "source": [
        "Непонятно, есть ли время получения координат. Предположим худший вариант, что нет.\n",
        "\n",
        "Можно сопостовлять координаты пользователя с координатами списка интересующих регионов (города, районы, страны, округа) и использовать номер региона.\n",
        "\n",
        "Можно вычислить различные метрики передвижения пользователя(например мобильность) и добавлять значение каждой значимой метрики.\n",
        "\n",
        "Много можно всего придумать если понимать направление приложения и видеть реальные данные."
      ]
    }
  ]
}