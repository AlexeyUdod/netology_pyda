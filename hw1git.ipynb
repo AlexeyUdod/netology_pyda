{
 "cells": [
  {
   "cell_type": "markdown",
   "metadata": {},
   "source": [
    "Домашнее задание"
   ]
  },
  {
   "cell_type": "markdown",
   "metadata": {},
   "source": [
    "Задание 1.\n",
    "Даны 2 строки long_phrase и short_phrase. Напишите код, который проверяет действительно ли длинная фраза long_phrase длиннее короткой short_phrase. И выводит True или False в зависимости от результата сравнения."
   ]
  },
  {
   "cell_type": "code",
   "execution_count": 4,
   "metadata": {},
   "outputs": [
    {
     "data": {
      "text/plain": [
       "True"
      ]
     },
     "execution_count": 4,
     "metadata": {},
     "output_type": "execute_result"
    }
   ],
   "source": [
    "long_phrase = 'Насколько проще было бы писать программы, если бы не заказчики'\n",
    "short_phrase = '640Кб должно хватить для любых задач. Билл Гейтс (по легенде)'\n",
    "len(long_phrase)>len(short_phrase)"
   ]
  },
  {
   "cell_type": "markdown",
   "metadata": {},
   "source": [
    "Задание 2.\n",
    "Дано значение объема файла в байтах. Напишите перевод этого значения в мегабайты в формате:\n",
    "'Объем файла равен 213.68Mb'\n"
   ]
  },
  {
   "cell_type": "code",
   "execution_count": 23,
   "metadata": {},
   "outputs": [
    {
     "name": "stdout",
     "output_type": "stream",
     "text": [
      "Введите размер файла в байтах 545646346346\n",
      "Объем файла равен  545646.346346 Mb\n"
     ]
    }
   ],
   "source": [
    "b=input('Введите размер файла в байтах ')\n",
    "b=int(b)/1000000\n",
    "print('Объем файла равен ', b, 'Mb')"
   ]
  },
  {
   "cell_type": "markdown",
   "metadata": {},
   "source": [
    "Задание 3.\n",
    "Разработать приложение для определения знака зодиака по дате рождения.\n",
    "\n",
    "Пример:\n",
    "\n",
    "Введите месяц: март\n",
    "Введите число: 6\n",
    "\n",
    "Вывод:\n",
    "Рыбы"
   ]
  },
  {
   "cell_type": "code",
   "execution_count": 21,
   "metadata": {},
   "outputs": [
    {
     "name": "stdout",
     "output_type": "stream",
     "text": [
      "Введите месяц март\n",
      "Ввведите число 2\n",
      "март 2\n",
      "рыбы\n"
     ]
    }
   ],
   "source": [
    "month=input('Введите месяц ')\n",
    "day=int(input('Ввведите число '))\n",
    "print(month, day)\n",
    "\n",
    "if (month == 'март' and day > 20) or (month == 'апрель' and day <= 20):\n",
    "    print('овен')\n",
    "elif (month == 'апрель' and day > 20) or (month == 'май' and day <= 20):\n",
    "    print('телец')\n",
    "elif (month == 'май' and day > 20) or (month == 'июнь' and day <= 21):\n",
    "    print('близнецы')\n",
    "elif (month == 'июль' and day <= 22) or (month == 'июнь' and day > 21):    \n",
    "    print('рак')\n",
    "elif (month == 'август' and day <= 23) or (month == 'июль' and day > 22) :    \n",
    "    print('лев')\n",
    "elif (month == 'сентябрь' and day <= 24) or (month == 'август' and day > 23):\n",
    "    print('дева')\n",
    "elif (month == 'октябрь' and day <= 21) or (month == 'сентябрь' and day > 24):\n",
    "    print('весы')\n",
    "elif (month == 'ноябрь' and day <= 22) or (month == 'октябрь' and day > 20):\n",
    "    print('скорпион')\n",
    "elif (month == 'декабрь' and day <= 21) or (month == 'ноябрь' and day > 22):\n",
    "    print('стрелец')\n",
    "elif (month == 'январь' and day <= 20) or (month == 'декабрь' and day > 21):\n",
    "    print('козерог')\n",
    "elif (month == 'февраль' and day <= 20) or (month == 'январь' and day > 20):\n",
    "    print('водолей')\n",
    "elif (month == 'март' and day < 20) or (month == 'февраль' and day > 20):\n",
    "    print('рыбы')\n",
    "else:\n",
    "    print ('Проверьте данные!!')"
   ]
  },
  {
   "cell_type": "markdown",
   "metadata": {},
   "source": [
    "\n",
    "Задание 4.\n",
    "Нужно разработать приложение для финансового планирования.\n",
    "Приложение учитывает сколько уходит на ипотеку, “на жизнь” и сколько нужно отложить на пенсию.\n",
    "Пользователь вводит заработанную плату в месяц.\n",
    "Сколько процентов от зп уходит на ипотеку.\n",
    "Сколько процентов от зп уходит “на жизнь”.\n",
    "Сколько раз приходит премия в год.\n",
    "Остальная часть заработанной платы откладывается на пенсию.\n",
    "\n",
    "Также пользователю приходит премия в размере зарплаты, от которой половина уходит на отпуск, а вторая половина откладывается.\n",
    "Программа должна учитывать сколько премий было в год.\n",
    "Нужно вывести сколько денег тратит пользователь на ипотеку и сколько он накопит за год.\n",
    "Пример:\n",
    "\n",
    "Введите заработанную плату в месяц: 100000\n",
    "Введите сколько процентов уходит на ипотеку: 30\n",
    "Введите сколько процентов уходит на жизнь: 50\n",
    "Введите количество премий за год: 2\n",
    "\n",
    "Вывод:\n",
    "На ипотеку было потрачено: 360000 рублей\n",
    "Было накоплено: 340000 рублей"
   ]
  },
  {
   "cell_type": "code",
   "execution_count": 2,
   "metadata": {},
   "outputs": [
    {
     "name": "stdout",
     "output_type": "stream",
     "text": [
      "Введите заработанную плату в месяц: 33223\n",
      "Введите сколько процентов уходит на ипотеку: 20\n",
      "Введите сколько процентов уходит на жизнь: 30\n",
      "Введите количество премий за год: 2\n",
      "На ипотеку было потрачено:  79735.2  рублей\n",
      "Было накоплено:  232561.0  рублей \n"
     ]
    }
   ],
   "source": [
    "sal=int(input('Введите заработанную плату в месяц: '))\n",
    "morp=int(input('Введите сколько процентов уходит на ипотеку: '))\n",
    "lifep=int(input('Введите сколько процентов уходит на жизнь: '))\n",
    "pren=int(input('Введите количество премий за год: '))\n",
    "ypre=sal * pren\n",
    "ysal=sal * 12\n",
    "mors=ysal * morp / 100\n",
    "lifes=ysal * lifep / 100\n",
    "pens=ysal + ypre/2 - mors - lifes \n",
    "print('На ипотеку было потрачено: ', mors, ' рублей')\n",
    "print('Было накоплено: ', pens, ' рублей ')"
   ]
  },
  {
   "cell_type": "markdown",
   "metadata": {},
   "source": [
    "Задание 1\n",
    "https://ru.wikipedia.org/wiki/Fizz_buzz\n",
    "Начинающий произносит число “1”, и каждый следующий игрок прибавляет к предыдущему значению единицу. Когда число делится на три оно заменяется на fizz, если число делится на пять, то произносится buzz. Числа, делящиеся на три и пять одновременно заменяются на fizz buzz. Сделавший ошибку игрок исключается из игры.\n",
    "\n",
    "Типичная партия в fizz buzz выглядит так:\n",
    "1, 2, Fizz, 4, Buzz, Fizz, 7, 8, Fizz, Buzz, 11, Fizz, 13, 14, Fizz Buzz, 16, 17, Fizz, 19, Buzz, Fizz, 22, 23, Fizz, Buzz, 26, Fizz, 28, 29, Fizz Buzz, 31, 32, Fizz, 34, Buzz, Fizz, …\n",
    "\n",
    "Напишите код, выводящий на экран первые n элементов этой игры (естественно, корректные)."
   ]
  },
  {
   "cell_type": "code",
   "execution_count": 16,
   "metadata": {},
   "outputs": [
    {
     "name": "stdout",
     "output_type": "stream",
     "text": [
      "1\n",
      "2\n",
      "fizz\n",
      "4\n",
      "buzz\n",
      "fizz\n",
      "7\n",
      "8\n",
      "fizz\n",
      "buzz\n",
      "11\n",
      "fizz\n",
      "13\n",
      "14\n",
      "fizz buzz\n",
      "16\n",
      "17\n",
      "fizz\n",
      "19\n",
      "buzz\n",
      "fizz\n",
      "22\n",
      "23\n",
      "fizz\n",
      "buzz\n",
      "26\n",
      "fizz\n",
      "28\n",
      "29\n",
      "fizz buzz\n",
      "31\n",
      "32\n",
      "fizz\n",
      "34\n",
      "buzz\n",
      "fizz\n",
      "37\n",
      "38\n",
      "fizz\n",
      "buzz\n",
      "41\n",
      "fizz\n",
      "43\n",
      "44\n",
      "fizz buzz\n",
      "46\n",
      "47\n",
      "fizz\n",
      "49\n"
     ]
    }
   ],
   "source": [
    "n=int(input('Введите количество первых элементов игры'))\n",
    "for i in range(1,n):\n",
    "    out=i\n",
    "    if i%3==0 and i%5==0:\n",
    "        out='fizz buzz'\n",
    "    if i%3==0 and i%5!=0:\n",
    "        out='fizz'\n",
    "    if i%5==0 and i%3!=0:\n",
    "        out='buzz'\n",
    "    print(out)\n"
   ]
  },
  {
   "cell_type": "markdown",
   "metadata": {},
   "source": [
    "Задание 2\n",
    "Датчик принимает сигнал, состоящий из 0 и 1. Известно, что сигнал имеет периодичность, не превышающей натурального числа n. Напишите код, который вычисляет периодичность сигнала. Считайте, что 3 < n < 1000, а общая длина сигнала значительно превышает n.\n",
    "\n",
    "Пример сигнала с периодичностью 4 (повторяющийся элемент 1011):\n",
    "1011101110111011101110111011101110111011"
   ]
  },
  {
   "cell_type": "code",
   "execution_count": 36,
   "metadata": {},
   "outputs": [
    {
     "name": "stdout",
     "output_type": "stream",
     "text": [
      "frq 3 signal[ 3 : 6 ]\n",
      "signal[i0:i1] not start 110 != 101\n",
      "frq 3 signal[ 6 : 9 ]\n",
      "signal[i0:i1] not start 111 != 101\n",
      "frq 3 signal[ 9 : 12 ]\n",
      "signal[i0:i1] not start 011 != 101\n",
      "frq 3 signal[ 12 : 15 ]\n",
      "signal[i0:i1] = start 101 = 101\n",
      "frq 3 signal[ 15 : 18 ]\n",
      "signal[i0:i1] not start 110 != 101\n",
      "frq 3 signal[ 18 : 21 ]\n",
      "signal[i0:i1] not start 111 != 101\n",
      "frq 3 signal[ 21 : 24 ]\n",
      "signal[i0:i1] not start 011 != 101\n",
      "frq 3 signal[ 24 : 27 ]\n",
      "signal[i0:i1] = start 101 = 101\n",
      "frq 3 signal[ 27 : 30 ]\n",
      "signal[i0:i1] not start 110 != 101\n",
      "frq 3 signal[ 30 : 33 ]\n",
      "signal[i0:i1] not start 111 != 101\n",
      "frq 3 signal[ 33 : 36 ]\n",
      "signal[i0:i1] not start 011 != 101\n",
      "frq 3 signal[ 36 : 39 ]\n",
      "signal[i0:i1] = start 101 = 101\n",
      "3\n",
      "frq 4 signal[ 4 : 8 ]\n",
      "signal[i0:i1] = start 1011 = 1011\n",
      "frq 4 signal[ 8 : 12 ]\n",
      "signal[i0:i1] = start 1011 = 1011\n",
      "frq 4 signal[ 12 : 16 ]\n",
      "signal[i0:i1] = start 1011 = 1011\n",
      "frq 4 signal[ 16 : 20 ]\n",
      "signal[i0:i1] = start 1011 = 1011\n",
      "frq 4 signal[ 20 : 24 ]\n",
      "signal[i0:i1] = start 1011 = 1011\n",
      "frq 4 signal[ 24 : 28 ]\n",
      "signal[i0:i1] = start 1011 = 1011\n",
      "frq 4 signal[ 28 : 32 ]\n",
      "signal[i0:i1] = start 1011 = 1011\n",
      "frq 4 signal[ 32 : 36 ]\n",
      "signal[i0:i1] = start 1011 = 1011\n",
      "4\n",
      "frq 5 signal[ 5 : 10 ]\n",
      "signal[i0:i1] not start 01110 != 10111\n",
      "frq 5 signal[ 10 : 15 ]\n",
      "signal[i0:i1] not start 11101 != 10111\n",
      "frq 5 signal[ 15 : 20 ]\n",
      "signal[i0:i1] not start 11011 != 10111\n",
      "frq 5 signal[ 20 : 25 ]\n",
      "signal[i0:i1] = start 10111 = 10111\n",
      "frq 5 signal[ 25 : 30 ]\n",
      "signal[i0:i1] not start 01110 != 10111\n",
      "frq 5 signal[ 30 : 35 ]\n",
      "signal[i0:i1] not start 11101 != 10111\n",
      "5\n",
      "frq 6 signal[ 6 : 12 ]\n",
      "signal[i0:i1] not start 111011 != 101110\n",
      "frq 6 signal[ 12 : 18 ]\n",
      "signal[i0:i1] = start 101110 = 101110\n",
      "frq 6 signal[ 18 : 24 ]\n",
      "signal[i0:i1] not start 111011 != 101110\n",
      "frq 6 signal[ 24 : 30 ]\n",
      "signal[i0:i1] = start 101110 = 101110\n",
      "frq 6 signal[ 30 : 36 ]\n",
      "signal[i0:i1] not start 111011 != 101110\n",
      "6\n",
      "frq 7 signal[ 7 : 14 ]\n",
      "signal[i0:i1] not start 1101110 != 1011101\n",
      "frq 7 signal[ 14 : 21 ]\n",
      "signal[i0:i1] not start 1110111 != 1011101\n",
      "frq 7 signal[ 21 : 28 ]\n",
      "signal[i0:i1] not start 0111011 != 1011101\n",
      "frq 7 signal[ 28 : 35 ]\n",
      "signal[i0:i1] = start 1011101 = 1011101\n",
      "7\n",
      "frq 8 signal[ 8 : 16 ]\n",
      "signal[i0:i1] = start 10111011 = 10111011\n",
      "frq 8 signal[ 16 : 24 ]\n",
      "signal[i0:i1] = start 10111011 = 10111011\n",
      "frq 8 signal[ 24 : 32 ]\n",
      "signal[i0:i1] = start 10111011 = 10111011\n",
      "8\n",
      "frq 9 signal[ 9 : 18 ]\n",
      "signal[i0:i1] not start 011101110 != 101110111\n",
      "frq 9 signal[ 18 : 27 ]\n",
      "signal[i0:i1] not start 111011101 != 101110111\n",
      "frq 9 signal[ 27 : 36 ]\n",
      "signal[i0:i1] not start 110111011 != 101110111\n",
      "9\n",
      "frq 10 signal[ 10 : 20 ]\n",
      "signal[i0:i1] not start 1110111011 != 1011101110\n",
      "frq 10 signal[ 20 : 30 ]\n",
      "signal[i0:i1] = start 1011101110 = 1011101110\n",
      "10\n",
      "frq 11 signal[ 11 : 22 ]\n",
      "signal[i0:i1] not start 11011101110 != 10111011101\n",
      "frq 11 signal[ 22 : 33 ]\n",
      "signal[i0:i1] not start 11101110111 != 10111011101\n",
      "11\n",
      "frq 12 signal[ 12 : 24 ]\n",
      "signal[i0:i1] = start 101110111011 = 101110111011\n",
      "frq 12 signal[ 24 : 36 ]\n",
      "signal[i0:i1] = start 101110111011 = 101110111011\n",
      "12\n",
      "frq 13 signal[ 13 : 26 ]\n",
      "signal[i0:i1] not start 0111011101110 != 1011101110111\n",
      "frq 13 signal[ 26 : 39 ]\n",
      "signal[i0:i1] not start 1110111011101 != 1011101110111\n",
      "13\n",
      "frq 14 signal[ 14 : 28 ]\n",
      "signal[i0:i1] not start 11101110111011 != 10111011101110\n",
      "14\n",
      "frq 15 signal[ 15 : 30 ]\n",
      "signal[i0:i1] not start 110111011101110 != 101110111011101\n",
      "15\n",
      "frq 16 signal[ 16 : 32 ]\n",
      "signal[i0:i1] = start 1011101110111011 = 1011101110111011\n",
      "16\n",
      "frq 17 signal[ 17 : 34 ]\n",
      "signal[i0:i1] not start 01110111011101110 != 10111011101110111\n",
      "17\n",
      "frq 18 signal[ 18 : 36 ]\n",
      "signal[i0:i1] not start 111011101110111011 != 101110111011101110\n",
      "18\n",
      "frq 19 signal[ 19 : 38 ]\n",
      "signal[i0:i1] not start 1101110111011101110 != 1011101110111011101\n",
      "19\n",
      "20\n",
      "21\n",
      "22\n",
      "23\n",
      "24\n",
      "25\n",
      "26\n",
      "27\n",
      "28\n",
      "29\n",
      "30\n",
      "31\n",
      "32\n",
      "33\n",
      "34\n",
      "35\n",
      "36\n",
      "37\n",
      "38\n",
      "39\n"
     ]
    }
   ],
   "source": []
  },
  {
   "cell_type": "code",
   "execution_count": null,
   "metadata": {},
   "outputs": [],
   "source": []
  }
 ],
 "metadata": {
  "kernelspec": {
   "display_name": "Python 3",
   "language": "python",
   "name": "python3"
  },
  "language_info": {
   "codemirror_mode": {
    "name": "ipython",
    "version": 3
   },
   "file_extension": ".py",
   "mimetype": "text/x-python",
   "name": "python",
   "nbconvert_exporter": "python",
   "pygments_lexer": "ipython3",
   "version": "3.6.5"
  }
 },
 "nbformat": 4,
 "nbformat_minor": 2
}
