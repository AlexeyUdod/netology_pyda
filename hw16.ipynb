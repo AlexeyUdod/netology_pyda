{
 "cells": [
  {
   "cell_type": "markdown",
   "metadata": {
    "colab_type": "text",
    "id": "view-in-github"
   },
   "source": [
    "<a href=\"https://colab.research.google.com/github/yustinaivanova/netology_statistics/blob/master/dz_2.ipynb\" target=\"_parent\"><img src=\"https://colab.research.google.com/assets/colab-badge.svg\" alt=\"Open In Colab\"/></a>"
   ]
  },
  {
   "cell_type": "markdown",
   "metadata": {
    "colab_type": "text",
    "id": "9wqpiQR2AbtX"
   },
   "source": [
    "# Виды распределений"
   ]
  },
  {
   "cell_type": "markdown",
   "metadata": {
    "colab_type": "text",
    "id": "V3N8qycM-xP9"
   },
   "source": [
    "Загрузить таблицу и построить график распределений. Найти нормальное распределение."
   ]
  },
  {
   "cell_type": "code",
   "execution_count": 1,
   "metadata": {
    "colab": {},
    "colab_type": "code",
    "id": "Zo_j9HCKCPgi"
   },
   "outputs": [],
   "source": [
    "import numpy as np\n",
    "from scipy.stats import t\n",
    "from scipy.stats import norm\n",
    "import matplotlib.pyplot as plt\n",
    "from scipy import stats\n",
    "import pandas as pd\n",
    "import io\n",
    "import requests\n",
    "import seaborn as sns\n",
    "\n",
    "%matplotlib inline"
   ]
  },
  {
   "cell_type": "markdown",
   "metadata": {
    "colab_type": "text",
    "id": "LrhPyaIACZsb"
   },
   "source": [
    "Таблица цен на дома в Бостоне"
   ]
  },
  {
   "cell_type": "markdown",
   "metadata": {
    "colab_type": "text",
    "id": "XyNNmtvIDDy3"
   },
   "source": [
    "Основные значения:\n",
    "\n",
    "* CRIM: This is the per capita crime rate by town\n",
    "* ZN: This is the proportion of residential land zoned for lots larger than 25,000 sq.ft.\n",
    "* INDUS: This is the proportion of non-retail business acres per town.\n",
    "* CHAS: This is the Charles River dummy variable (this is equal to 1 if tract bounds river; 0 otherwise)\n",
    "* NOX: This is the nitric oxides concentration (parts per 10 million)\n",
    "* RM: This is the average number of rooms per dwelling\n",
    "* AGE: This is the proportion of owner-occupied units built prior to 1940\n",
    "* DIS: This is the weighted distances to five Boston employment centers\n",
    "* RAD: This is the index of accessibility to radial highways\n",
    "* TAX: This is the full-value property-tax rate per 10,000 dollars\n",
    "* PTRATIO: This is the pupil-teacher ratio by town\n",
    "* B: This is calculated as 1000(Bk — 0.63)², where Bk is the proportion of people of African American descent by town\n",
    "* LSTAT: This is the percentage lower status of the population\n",
    "* MEDV: This is the median value of owner-occupied homes in 1000 dollars"
   ]
  },
  {
   "cell_type": "code",
   "execution_count": 49,
   "metadata": {
    "colab": {
     "base_uri": "https://localhost:8080/",
     "height": 204
    },
    "colab_type": "code",
    "id": "Ona1gs72CZOq",
    "outputId": "455f9f96-3f49-4eb7-c928-fc732141d834"
   },
   "outputs": [
    {
     "data": {
      "text/html": [
       "<div>\n",
       "<style scoped>\n",
       "    .dataframe tbody tr th:only-of-type {\n",
       "        vertical-align: middle;\n",
       "    }\n",
       "\n",
       "    .dataframe tbody tr th {\n",
       "        vertical-align: top;\n",
       "    }\n",
       "\n",
       "    .dataframe thead th {\n",
       "        text-align: right;\n",
       "    }\n",
       "</style>\n",
       "<table border=\"1\" class=\"dataframe\">\n",
       "  <thead>\n",
       "    <tr style=\"text-align: right;\">\n",
       "      <th></th>\n",
       "      <th>CRIM</th>\n",
       "      <th>ZN</th>\n",
       "      <th>INDUS</th>\n",
       "      <th>CHAS</th>\n",
       "      <th>NOX</th>\n",
       "      <th>RM</th>\n",
       "      <th>AGE</th>\n",
       "      <th>DIS</th>\n",
       "      <th>RAD</th>\n",
       "      <th>TAX</th>\n",
       "      <th>PTRATIO</th>\n",
       "      <th>B</th>\n",
       "      <th>LSTAT</th>\n",
       "      <th>MEDV</th>\n",
       "    </tr>\n",
       "  </thead>\n",
       "  <tbody>\n",
       "    <tr>\n",
       "      <td>0</td>\n",
       "      <td>0.00632</td>\n",
       "      <td>18.0</td>\n",
       "      <td>2.31</td>\n",
       "      <td>0</td>\n",
       "      <td>0.538</td>\n",
       "      <td>6.575</td>\n",
       "      <td>65.2</td>\n",
       "      <td>4.0900</td>\n",
       "      <td>1</td>\n",
       "      <td>296.0</td>\n",
       "      <td>15.3</td>\n",
       "      <td>396.90</td>\n",
       "      <td>4.98</td>\n",
       "      <td>24.0</td>\n",
       "    </tr>\n",
       "    <tr>\n",
       "      <td>1</td>\n",
       "      <td>0.02731</td>\n",
       "      <td>0.0</td>\n",
       "      <td>7.07</td>\n",
       "      <td>0</td>\n",
       "      <td>0.469</td>\n",
       "      <td>6.421</td>\n",
       "      <td>78.9</td>\n",
       "      <td>4.9671</td>\n",
       "      <td>2</td>\n",
       "      <td>242.0</td>\n",
       "      <td>17.8</td>\n",
       "      <td>396.90</td>\n",
       "      <td>9.14</td>\n",
       "      <td>21.6</td>\n",
       "    </tr>\n",
       "    <tr>\n",
       "      <td>2</td>\n",
       "      <td>0.02729</td>\n",
       "      <td>0.0</td>\n",
       "      <td>7.07</td>\n",
       "      <td>0</td>\n",
       "      <td>0.469</td>\n",
       "      <td>7.185</td>\n",
       "      <td>61.1</td>\n",
       "      <td>4.9671</td>\n",
       "      <td>2</td>\n",
       "      <td>242.0</td>\n",
       "      <td>17.8</td>\n",
       "      <td>392.83</td>\n",
       "      <td>4.03</td>\n",
       "      <td>34.7</td>\n",
       "    </tr>\n",
       "    <tr>\n",
       "      <td>3</td>\n",
       "      <td>0.03237</td>\n",
       "      <td>0.0</td>\n",
       "      <td>2.18</td>\n",
       "      <td>0</td>\n",
       "      <td>0.458</td>\n",
       "      <td>6.998</td>\n",
       "      <td>45.8</td>\n",
       "      <td>6.0622</td>\n",
       "      <td>3</td>\n",
       "      <td>222.0</td>\n",
       "      <td>18.7</td>\n",
       "      <td>394.63</td>\n",
       "      <td>2.94</td>\n",
       "      <td>33.4</td>\n",
       "    </tr>\n",
       "    <tr>\n",
       "      <td>4</td>\n",
       "      <td>0.06905</td>\n",
       "      <td>0.0</td>\n",
       "      <td>2.18</td>\n",
       "      <td>0</td>\n",
       "      <td>0.458</td>\n",
       "      <td>7.147</td>\n",
       "      <td>54.2</td>\n",
       "      <td>6.0622</td>\n",
       "      <td>3</td>\n",
       "      <td>222.0</td>\n",
       "      <td>18.7</td>\n",
       "      <td>396.90</td>\n",
       "      <td>5.33</td>\n",
       "      <td>36.2</td>\n",
       "    </tr>\n",
       "  </tbody>\n",
       "</table>\n",
       "</div>"
      ],
      "text/plain": [
       "      CRIM    ZN  INDUS  CHAS    NOX     RM   AGE     DIS  RAD    TAX  \\\n",
       "0  0.00632  18.0   2.31     0  0.538  6.575  65.2  4.0900    1  296.0   \n",
       "1  0.02731   0.0   7.07     0  0.469  6.421  78.9  4.9671    2  242.0   \n",
       "2  0.02729   0.0   7.07     0  0.469  7.185  61.1  4.9671    2  242.0   \n",
       "3  0.03237   0.0   2.18     0  0.458  6.998  45.8  6.0622    3  222.0   \n",
       "4  0.06905   0.0   2.18     0  0.458  7.147  54.2  6.0622    3  222.0   \n",
       "\n",
       "   PTRATIO       B  LSTAT  MEDV  \n",
       "0     15.3  396.90   4.98  24.0  \n",
       "1     17.8  396.90   9.14  21.6  \n",
       "2     17.8  392.83   4.03  34.7  \n",
       "3     18.7  394.63   2.94  33.4  \n",
       "4     18.7  396.90   5.33  36.2  "
      ]
     },
     "execution_count": 49,
     "metadata": {},
     "output_type": "execute_result"
    }
   ],
   "source": [
    "import ssl\n",
    "# следующая строчка подключает сертификат для защищенного соединения\n",
    "ssl._create_default_https_context = ssl._create_unverified_context\n",
    "url='http://yustiks.ru/dataset/housing.csv'\n",
    "names = ['CRIM', 'ZN', 'INDUS', 'CHAS', 'NOX', 'RM', 'AGE', 'DIS', 'RAD', 'TAX', 'PTRATIO', 'B', 'LSTAT', 'MEDV']\n",
    "data=pd.read_csv(url,  delim_whitespace=True, names=names)\n",
    "data.head()"
   ]
  },
  {
   "cell_type": "markdown",
   "metadata": {
    "colab_type": "text",
    "id": "KwpYBJZiE1EO"
   },
   "source": [
    "Нарисовать частотные графики для всех значений. Можете ли вы найти следующие распределения в данных графиках?\n",
    "\n",
    "\n",
    "1.   Нормальное\n",
    "2.   Равномерное\n",
    "3.   Биноминальное\n",
    "4.   Бернулли\n",
    "5.   Геометрическое\n",
    "6.   Логнормальное\n",
    "\n"
   ]
  },
  {
   "cell_type": "code",
   "execution_count": 139,
   "metadata": {},
   "outputs": [
    {
     "data": {
      "text/html": [
       "<div>\n",
       "<style scoped>\n",
       "    .dataframe tbody tr th:only-of-type {\n",
       "        vertical-align: middle;\n",
       "    }\n",
       "\n",
       "    .dataframe tbody tr th {\n",
       "        vertical-align: top;\n",
       "    }\n",
       "\n",
       "    .dataframe thead th {\n",
       "        text-align: right;\n",
       "    }\n",
       "</style>\n",
       "<table border=\"1\" class=\"dataframe\">\n",
       "  <thead>\n",
       "    <tr style=\"text-align: right;\">\n",
       "      <th></th>\n",
       "      <th>0</th>\n",
       "      <th>1</th>\n",
       "      <th>2</th>\n",
       "      <th>3</th>\n",
       "      <th>4</th>\n",
       "      <th>5</th>\n",
       "      <th>6</th>\n",
       "      <th>7</th>\n",
       "      <th>8</th>\n",
       "      <th>9</th>\n",
       "      <th>10</th>\n",
       "      <th>11</th>\n",
       "      <th>12</th>\n",
       "      <th>13</th>\n",
       "    </tr>\n",
       "  </thead>\n",
       "  <tbody>\n",
       "    <tr>\n",
       "      <td>0</td>\n",
       "      <td>-1.000000</td>\n",
       "      <td>-0.64</td>\n",
       "      <td>-0.864370</td>\n",
       "      <td>-1.0</td>\n",
       "      <td>-0.370370</td>\n",
       "      <td>0.155011</td>\n",
       "      <td>0.283213</td>\n",
       "      <td>-0.461594</td>\n",
       "      <td>-1.000000</td>\n",
       "      <td>-0.583969</td>\n",
       "      <td>-0.425532</td>\n",
       "      <td>1.000000</td>\n",
       "      <td>-0.820640</td>\n",
       "      <td>-0.155556</td>\n",
       "    </tr>\n",
       "    <tr>\n",
       "      <td>1</td>\n",
       "      <td>-0.999528</td>\n",
       "      <td>-1.00</td>\n",
       "      <td>-0.515396</td>\n",
       "      <td>-1.0</td>\n",
       "      <td>-0.654321</td>\n",
       "      <td>0.095995</td>\n",
       "      <td>0.565396</td>\n",
       "      <td>-0.302076</td>\n",
       "      <td>-0.913043</td>\n",
       "      <td>-0.790076</td>\n",
       "      <td>0.106383</td>\n",
       "      <td>1.000000</td>\n",
       "      <td>-0.591060</td>\n",
       "      <td>-0.262222</td>\n",
       "    </tr>\n",
       "    <tr>\n",
       "      <td>2</td>\n",
       "      <td>-0.999529</td>\n",
       "      <td>-1.00</td>\n",
       "      <td>-0.515396</td>\n",
       "      <td>-1.0</td>\n",
       "      <td>-0.654321</td>\n",
       "      <td>0.388772</td>\n",
       "      <td>0.198764</td>\n",
       "      <td>-0.302076</td>\n",
       "      <td>-0.913043</td>\n",
       "      <td>-0.790076</td>\n",
       "      <td>0.106383</td>\n",
       "      <td>0.979475</td>\n",
       "      <td>-0.873068</td>\n",
       "      <td>0.320000</td>\n",
       "    </tr>\n",
       "    <tr>\n",
       "      <td>3</td>\n",
       "      <td>-0.999414</td>\n",
       "      <td>-1.00</td>\n",
       "      <td>-0.873900</td>\n",
       "      <td>-1.0</td>\n",
       "      <td>-0.699588</td>\n",
       "      <td>0.317111</td>\n",
       "      <td>-0.116375</td>\n",
       "      <td>-0.102911</td>\n",
       "      <td>-0.826087</td>\n",
       "      <td>-0.866412</td>\n",
       "      <td>0.297872</td>\n",
       "      <td>0.988552</td>\n",
       "      <td>-0.933223</td>\n",
       "      <td>0.262222</td>\n",
       "    </tr>\n",
       "    <tr>\n",
       "      <td>4</td>\n",
       "      <td>-0.998590</td>\n",
       "      <td>-1.00</td>\n",
       "      <td>-0.873900</td>\n",
       "      <td>-1.0</td>\n",
       "      <td>-0.699588</td>\n",
       "      <td>0.374210</td>\n",
       "      <td>0.056643</td>\n",
       "      <td>-0.102911</td>\n",
       "      <td>-0.826087</td>\n",
       "      <td>-0.866412</td>\n",
       "      <td>0.297872</td>\n",
       "      <td>1.000000</td>\n",
       "      <td>-0.801325</td>\n",
       "      <td>0.386667</td>\n",
       "    </tr>\n",
       "    <tr>\n",
       "      <td>...</td>\n",
       "      <td>...</td>\n",
       "      <td>...</td>\n",
       "      <td>...</td>\n",
       "      <td>...</td>\n",
       "      <td>...</td>\n",
       "      <td>...</td>\n",
       "      <td>...</td>\n",
       "      <td>...</td>\n",
       "      <td>...</td>\n",
       "      <td>...</td>\n",
       "      <td>...</td>\n",
       "      <td>...</td>\n",
       "      <td>...</td>\n",
       "      <td>...</td>\n",
       "    </tr>\n",
       "    <tr>\n",
       "      <td>501</td>\n",
       "      <td>-0.998734</td>\n",
       "      <td>-1.00</td>\n",
       "      <td>-0.159091</td>\n",
       "      <td>-1.0</td>\n",
       "      <td>-0.226337</td>\n",
       "      <td>0.161908</td>\n",
       "      <td>0.363543</td>\n",
       "      <td>-0.754658</td>\n",
       "      <td>-1.000000</td>\n",
       "      <td>-0.671756</td>\n",
       "      <td>0.787234</td>\n",
       "      <td>0.975238</td>\n",
       "      <td>-0.561810</td>\n",
       "      <td>-0.226667</td>\n",
       "    </tr>\n",
       "    <tr>\n",
       "      <td>502</td>\n",
       "      <td>-0.999124</td>\n",
       "      <td>-1.00</td>\n",
       "      <td>-0.159091</td>\n",
       "      <td>-1.0</td>\n",
       "      <td>-0.226337</td>\n",
       "      <td>-0.019352</td>\n",
       "      <td>0.520082</td>\n",
       "      <td>-0.789413</td>\n",
       "      <td>-1.000000</td>\n",
       "      <td>-0.671756</td>\n",
       "      <td>0.787234</td>\n",
       "      <td>1.000000</td>\n",
       "      <td>-0.594371</td>\n",
       "      <td>-0.306667</td>\n",
       "    </tr>\n",
       "    <tr>\n",
       "      <td>503</td>\n",
       "      <td>-0.998776</td>\n",
       "      <td>-1.00</td>\n",
       "      <td>-0.159091</td>\n",
       "      <td>-1.0</td>\n",
       "      <td>-0.226337</td>\n",
       "      <td>0.308680</td>\n",
       "      <td>0.814624</td>\n",
       "      <td>-0.811238</td>\n",
       "      <td>-1.000000</td>\n",
       "      <td>-0.671756</td>\n",
       "      <td>0.787234</td>\n",
       "      <td>1.000000</td>\n",
       "      <td>-0.784216</td>\n",
       "      <td>-0.160000</td>\n",
       "    </tr>\n",
       "    <tr>\n",
       "      <td>504</td>\n",
       "      <td>-0.997679</td>\n",
       "      <td>-1.00</td>\n",
       "      <td>-0.159091</td>\n",
       "      <td>-1.0</td>\n",
       "      <td>-0.226337</td>\n",
       "      <td>0.238935</td>\n",
       "      <td>0.779609</td>\n",
       "      <td>-0.770972</td>\n",
       "      <td>-1.000000</td>\n",
       "      <td>-0.671756</td>\n",
       "      <td>0.787234</td>\n",
       "      <td>0.982601</td>\n",
       "      <td>-0.737859</td>\n",
       "      <td>-0.244444</td>\n",
       "    </tr>\n",
       "    <tr>\n",
       "      <td>505</td>\n",
       "      <td>-0.999076</td>\n",
       "      <td>-1.00</td>\n",
       "      <td>-0.159091</td>\n",
       "      <td>-1.0</td>\n",
       "      <td>-0.226337</td>\n",
       "      <td>-0.053842</td>\n",
       "      <td>0.604531</td>\n",
       "      <td>-0.749857</td>\n",
       "      <td>-1.000000</td>\n",
       "      <td>-0.671756</td>\n",
       "      <td>0.787234</td>\n",
       "      <td>1.000000</td>\n",
       "      <td>-0.660596</td>\n",
       "      <td>-0.693333</td>\n",
       "    </tr>\n",
       "  </tbody>\n",
       "</table>\n",
       "<p>506 rows × 14 columns</p>\n",
       "</div>"
      ],
      "text/plain": [
       "           0     1         2    3         4         5         6         7   \\\n",
       "0   -1.000000 -0.64 -0.864370 -1.0 -0.370370  0.155011  0.283213 -0.461594   \n",
       "1   -0.999528 -1.00 -0.515396 -1.0 -0.654321  0.095995  0.565396 -0.302076   \n",
       "2   -0.999529 -1.00 -0.515396 -1.0 -0.654321  0.388772  0.198764 -0.302076   \n",
       "3   -0.999414 -1.00 -0.873900 -1.0 -0.699588  0.317111 -0.116375 -0.102911   \n",
       "4   -0.998590 -1.00 -0.873900 -1.0 -0.699588  0.374210  0.056643 -0.102911   \n",
       "..        ...   ...       ...  ...       ...       ...       ...       ...   \n",
       "501 -0.998734 -1.00 -0.159091 -1.0 -0.226337  0.161908  0.363543 -0.754658   \n",
       "502 -0.999124 -1.00 -0.159091 -1.0 -0.226337 -0.019352  0.520082 -0.789413   \n",
       "503 -0.998776 -1.00 -0.159091 -1.0 -0.226337  0.308680  0.814624 -0.811238   \n",
       "504 -0.997679 -1.00 -0.159091 -1.0 -0.226337  0.238935  0.779609 -0.770972   \n",
       "505 -0.999076 -1.00 -0.159091 -1.0 -0.226337 -0.053842  0.604531 -0.749857   \n",
       "\n",
       "           8         9         10        11        12        13  \n",
       "0   -1.000000 -0.583969 -0.425532  1.000000 -0.820640 -0.155556  \n",
       "1   -0.913043 -0.790076  0.106383  1.000000 -0.591060 -0.262222  \n",
       "2   -0.913043 -0.790076  0.106383  0.979475 -0.873068  0.320000  \n",
       "3   -0.826087 -0.866412  0.297872  0.988552 -0.933223  0.262222  \n",
       "4   -0.826087 -0.866412  0.297872  1.000000 -0.801325  0.386667  \n",
       "..        ...       ...       ...       ...       ...       ...  \n",
       "501 -1.000000 -0.671756  0.787234  0.975238 -0.561810 -0.226667  \n",
       "502 -1.000000 -0.671756  0.787234  1.000000 -0.594371 -0.306667  \n",
       "503 -1.000000 -0.671756  0.787234  1.000000 -0.784216 -0.160000  \n",
       "504 -1.000000 -0.671756  0.787234  0.982601 -0.737859 -0.244444  \n",
       "505 -1.000000 -0.671756  0.787234  1.000000 -0.660596 -0.693333  \n",
       "\n",
       "[506 rows x 14 columns]"
      ]
     },
     "execution_count": 139,
     "metadata": {},
     "output_type": "execute_result"
    }
   ],
   "source": []
  },
  {
   "cell_type": "code",
   "execution_count": 4,
   "metadata": {},
   "outputs": [
    {
     "data": {
      "text/html": [
       "<div>\n",
       "<style scoped>\n",
       "    .dataframe tbody tr th:only-of-type {\n",
       "        vertical-align: middle;\n",
       "    }\n",
       "\n",
       "    .dataframe tbody tr th {\n",
       "        vertical-align: top;\n",
       "    }\n",
       "\n",
       "    .dataframe thead th {\n",
       "        text-align: right;\n",
       "    }\n",
       "</style>\n",
       "<table border=\"1\" class=\"dataframe\">\n",
       "  <thead>\n",
       "    <tr style=\"text-align: right;\">\n",
       "      <th></th>\n",
       "      <th>CRIM</th>\n",
       "      <th>ZN</th>\n",
       "      <th>INDUS</th>\n",
       "      <th>CHAS</th>\n",
       "      <th>NOX</th>\n",
       "      <th>RM</th>\n",
       "      <th>AGE</th>\n",
       "      <th>DIS</th>\n",
       "      <th>RAD</th>\n",
       "      <th>TAX</th>\n",
       "      <th>PTRATIO</th>\n",
       "      <th>B</th>\n",
       "      <th>LSTAT</th>\n",
       "      <th>MEDV</th>\n",
       "    </tr>\n",
       "  </thead>\n",
       "  <tbody>\n",
       "    <tr>\n",
       "      <td>0</td>\n",
       "      <td>-1.000000</td>\n",
       "      <td>-0.64</td>\n",
       "      <td>-0.864370</td>\n",
       "      <td>-1.0</td>\n",
       "      <td>-0.370370</td>\n",
       "      <td>0.155011</td>\n",
       "      <td>0.283213</td>\n",
       "      <td>-0.461594</td>\n",
       "      <td>-1.000000</td>\n",
       "      <td>-0.583969</td>\n",
       "      <td>-0.425532</td>\n",
       "      <td>1.000000</td>\n",
       "      <td>-0.820640</td>\n",
       "      <td>-0.155556</td>\n",
       "    </tr>\n",
       "    <tr>\n",
       "      <td>1</td>\n",
       "      <td>-0.999528</td>\n",
       "      <td>-1.00</td>\n",
       "      <td>-0.515396</td>\n",
       "      <td>-1.0</td>\n",
       "      <td>-0.654321</td>\n",
       "      <td>0.095995</td>\n",
       "      <td>0.565396</td>\n",
       "      <td>-0.302076</td>\n",
       "      <td>-0.913043</td>\n",
       "      <td>-0.790076</td>\n",
       "      <td>0.106383</td>\n",
       "      <td>1.000000</td>\n",
       "      <td>-0.591060</td>\n",
       "      <td>-0.262222</td>\n",
       "    </tr>\n",
       "    <tr>\n",
       "      <td>2</td>\n",
       "      <td>-0.999529</td>\n",
       "      <td>-1.00</td>\n",
       "      <td>-0.515396</td>\n",
       "      <td>-1.0</td>\n",
       "      <td>-0.654321</td>\n",
       "      <td>0.388772</td>\n",
       "      <td>0.198764</td>\n",
       "      <td>-0.302076</td>\n",
       "      <td>-0.913043</td>\n",
       "      <td>-0.790076</td>\n",
       "      <td>0.106383</td>\n",
       "      <td>0.979475</td>\n",
       "      <td>-0.873068</td>\n",
       "      <td>0.320000</td>\n",
       "    </tr>\n",
       "    <tr>\n",
       "      <td>3</td>\n",
       "      <td>-0.999414</td>\n",
       "      <td>-1.00</td>\n",
       "      <td>-0.873900</td>\n",
       "      <td>-1.0</td>\n",
       "      <td>-0.699588</td>\n",
       "      <td>0.317111</td>\n",
       "      <td>-0.116375</td>\n",
       "      <td>-0.102911</td>\n",
       "      <td>-0.826087</td>\n",
       "      <td>-0.866412</td>\n",
       "      <td>0.297872</td>\n",
       "      <td>0.988552</td>\n",
       "      <td>-0.933223</td>\n",
       "      <td>0.262222</td>\n",
       "    </tr>\n",
       "    <tr>\n",
       "      <td>4</td>\n",
       "      <td>-0.998590</td>\n",
       "      <td>-1.00</td>\n",
       "      <td>-0.873900</td>\n",
       "      <td>-1.0</td>\n",
       "      <td>-0.699588</td>\n",
       "      <td>0.374210</td>\n",
       "      <td>0.056643</td>\n",
       "      <td>-0.102911</td>\n",
       "      <td>-0.826087</td>\n",
       "      <td>-0.866412</td>\n",
       "      <td>0.297872</td>\n",
       "      <td>1.000000</td>\n",
       "      <td>-0.801325</td>\n",
       "      <td>0.386667</td>\n",
       "    </tr>\n",
       "    <tr>\n",
       "      <td>...</td>\n",
       "      <td>...</td>\n",
       "      <td>...</td>\n",
       "      <td>...</td>\n",
       "      <td>...</td>\n",
       "      <td>...</td>\n",
       "      <td>...</td>\n",
       "      <td>...</td>\n",
       "      <td>...</td>\n",
       "      <td>...</td>\n",
       "      <td>...</td>\n",
       "      <td>...</td>\n",
       "      <td>...</td>\n",
       "      <td>...</td>\n",
       "      <td>...</td>\n",
       "    </tr>\n",
       "    <tr>\n",
       "      <td>501</td>\n",
       "      <td>-0.998734</td>\n",
       "      <td>-1.00</td>\n",
       "      <td>-0.159091</td>\n",
       "      <td>-1.0</td>\n",
       "      <td>-0.226337</td>\n",
       "      <td>0.161908</td>\n",
       "      <td>0.363543</td>\n",
       "      <td>-0.754658</td>\n",
       "      <td>-1.000000</td>\n",
       "      <td>-0.671756</td>\n",
       "      <td>0.787234</td>\n",
       "      <td>0.975238</td>\n",
       "      <td>-0.561810</td>\n",
       "      <td>-0.226667</td>\n",
       "    </tr>\n",
       "    <tr>\n",
       "      <td>502</td>\n",
       "      <td>-0.999124</td>\n",
       "      <td>-1.00</td>\n",
       "      <td>-0.159091</td>\n",
       "      <td>-1.0</td>\n",
       "      <td>-0.226337</td>\n",
       "      <td>-0.019352</td>\n",
       "      <td>0.520082</td>\n",
       "      <td>-0.789413</td>\n",
       "      <td>-1.000000</td>\n",
       "      <td>-0.671756</td>\n",
       "      <td>0.787234</td>\n",
       "      <td>1.000000</td>\n",
       "      <td>-0.594371</td>\n",
       "      <td>-0.306667</td>\n",
       "    </tr>\n",
       "    <tr>\n",
       "      <td>503</td>\n",
       "      <td>-0.998776</td>\n",
       "      <td>-1.00</td>\n",
       "      <td>-0.159091</td>\n",
       "      <td>-1.0</td>\n",
       "      <td>-0.226337</td>\n",
       "      <td>0.308680</td>\n",
       "      <td>0.814624</td>\n",
       "      <td>-0.811238</td>\n",
       "      <td>-1.000000</td>\n",
       "      <td>-0.671756</td>\n",
       "      <td>0.787234</td>\n",
       "      <td>1.000000</td>\n",
       "      <td>-0.784216</td>\n",
       "      <td>-0.160000</td>\n",
       "    </tr>\n",
       "    <tr>\n",
       "      <td>504</td>\n",
       "      <td>-0.997679</td>\n",
       "      <td>-1.00</td>\n",
       "      <td>-0.159091</td>\n",
       "      <td>-1.0</td>\n",
       "      <td>-0.226337</td>\n",
       "      <td>0.238935</td>\n",
       "      <td>0.779609</td>\n",
       "      <td>-0.770972</td>\n",
       "      <td>-1.000000</td>\n",
       "      <td>-0.671756</td>\n",
       "      <td>0.787234</td>\n",
       "      <td>0.982601</td>\n",
       "      <td>-0.737859</td>\n",
       "      <td>-0.244444</td>\n",
       "    </tr>\n",
       "    <tr>\n",
       "      <td>505</td>\n",
       "      <td>-0.999076</td>\n",
       "      <td>-1.00</td>\n",
       "      <td>-0.159091</td>\n",
       "      <td>-1.0</td>\n",
       "      <td>-0.226337</td>\n",
       "      <td>-0.053842</td>\n",
       "      <td>0.604531</td>\n",
       "      <td>-0.749857</td>\n",
       "      <td>-1.000000</td>\n",
       "      <td>-0.671756</td>\n",
       "      <td>0.787234</td>\n",
       "      <td>1.000000</td>\n",
       "      <td>-0.660596</td>\n",
       "      <td>-0.693333</td>\n",
       "    </tr>\n",
       "  </tbody>\n",
       "</table>\n",
       "<p>506 rows × 14 columns</p>\n",
       "</div>"
      ],
      "text/plain": [
       "         CRIM    ZN     INDUS  CHAS       NOX        RM       AGE       DIS  \\\n",
       "0   -1.000000 -0.64 -0.864370  -1.0 -0.370370  0.155011  0.283213 -0.461594   \n",
       "1   -0.999528 -1.00 -0.515396  -1.0 -0.654321  0.095995  0.565396 -0.302076   \n",
       "2   -0.999529 -1.00 -0.515396  -1.0 -0.654321  0.388772  0.198764 -0.302076   \n",
       "3   -0.999414 -1.00 -0.873900  -1.0 -0.699588  0.317111 -0.116375 -0.102911   \n",
       "4   -0.998590 -1.00 -0.873900  -1.0 -0.699588  0.374210  0.056643 -0.102911   \n",
       "..        ...   ...       ...   ...       ...       ...       ...       ...   \n",
       "501 -0.998734 -1.00 -0.159091  -1.0 -0.226337  0.161908  0.363543 -0.754658   \n",
       "502 -0.999124 -1.00 -0.159091  -1.0 -0.226337 -0.019352  0.520082 -0.789413   \n",
       "503 -0.998776 -1.00 -0.159091  -1.0 -0.226337  0.308680  0.814624 -0.811238   \n",
       "504 -0.997679 -1.00 -0.159091  -1.0 -0.226337  0.238935  0.779609 -0.770972   \n",
       "505 -0.999076 -1.00 -0.159091  -1.0 -0.226337 -0.053842  0.604531 -0.749857   \n",
       "\n",
       "          RAD       TAX   PTRATIO         B     LSTAT      MEDV  \n",
       "0   -1.000000 -0.583969 -0.425532  1.000000 -0.820640 -0.155556  \n",
       "1   -0.913043 -0.790076  0.106383  1.000000 -0.591060 -0.262222  \n",
       "2   -0.913043 -0.790076  0.106383  0.979475 -0.873068  0.320000  \n",
       "3   -0.826087 -0.866412  0.297872  0.988552 -0.933223  0.262222  \n",
       "4   -0.826087 -0.866412  0.297872  1.000000 -0.801325  0.386667  \n",
       "..        ...       ...       ...       ...       ...       ...  \n",
       "501 -1.000000 -0.671756  0.787234  0.975238 -0.561810 -0.226667  \n",
       "502 -1.000000 -0.671756  0.787234  1.000000 -0.594371 -0.306667  \n",
       "503 -1.000000 -0.671756  0.787234  1.000000 -0.784216 -0.160000  \n",
       "504 -1.000000 -0.671756  0.787234  0.982601 -0.737859 -0.244444  \n",
       "505 -1.000000 -0.671756  0.787234  1.000000 -0.660596 -0.693333  \n",
       "\n",
       "[506 rows x 14 columns]"
      ]
     },
     "execution_count": 4,
     "metadata": {},
     "output_type": "execute_result"
    }
   ],
   "source": [
    "# from sklearn import preprocessing\n",
    "# headers = [x for x in data]\n",
    "# data = pd.DataFrame(preprocessing.MinMaxScaler(feature_range=(-1,1)).fit_transform(data))\n",
    "# data.columns = names\n",
    "# data"
   ]
  },
  {
   "cell_type": "code",
   "execution_count": 58,
   "metadata": {},
   "outputs": [
    {
     "name": "stdout",
     "output_type": "stream",
     "text": [
      "       name   norm lognorm   exp  gamma\n",
      "0      CRIM  False   False  True  False\n",
      "1        ZN  False   False  True  False\n",
      "2     INDUS  False   False  True  False\n",
      "3      CHAS  False   False  True  False\n",
      "4       NOX  False   False  True   True\n",
      "5        RM  False   False  True   True\n",
      "6       AGE  False   False  True  False\n",
      "7       DIS  False   False  True   True\n",
      "8       RAD  False   False  True  False\n",
      "9       TAX  False   False  True  False\n",
      "10  PTRATIO  False   False  True  False\n",
      "11        B  False   False  True  False\n",
      "12    LSTAT  False    True  True   True\n",
      "13     MEDV  False    True  True   True\n"
     ]
    },
    {
     "data": {
      "image/png": "[encoded data removed]",
      "text/plain": [
       "<Figure size 432x288 with 1 Axes>"
      ]
     },
     "metadata": {
      "needs_background": "light"
     },
     "output_type": "display_data"
    }
   ],
   "source": [
    "from statsmodels.stats.diagnostic import lilliefors\n",
    "\n",
    "\n",
    "\n",
    "\n",
    "al = 0.00001\n",
    "dist = stats.gamma\n",
    "\n",
    "test_results = pd.DataFrame(columns = ['name','norm', 'lognorm','exp','gamma'])\n",
    "# data2=pd.DataFrame()\n",
    "for i in data:\n",
    "    args = dist.fit(data[i])\n",
    "    data[i] = data[i].dropna()  \n",
    "#     data[i] = data[i] - data[i].mean()\n",
    "#     data[i] = data[i] / data[i].min()\n",
    "    test_results = test_results.append(\n",
    "        {'name':i,\n",
    "         'norm':stats.normaltest(data[i])[1] > al,\n",
    "         'lognorm':stats.normaltest(np.log(data[i]))[1] > al,\n",
    "         'exp':lilliefors(data[i], dist='exp')[1] > al,\n",
    "         'gamma':stats.kstest(data[i], dist.cdf, args)[1] > al},\n",
    "          ignore_index=True)\n",
    "    \n",
    "    data[i].hist(bins=20)\n",
    "print(test_results)"
   ]
  },
  {
   "cell_type": "markdown",
   "metadata": {},
   "source": [
    "\n",
    "CHAS - Бернулли,\n",
    "RM - Нормальное,\n",
    "AGE - Равномерное,\n",
    "DIS - Логнормальное,\n",
    "LSTAT - Биноминальное.\n",
    "\n",
    "(тесты на распределение работают не оч..)"
   ]
  },
  {
   "cell_type": "code",
   "execution_count": 37,
   "metadata": {},
   "outputs": [
    {
     "name": "stdout",
     "output_type": "stream",
     "text": [
      "TAX\n"
     ]
    },
    {
     "data": {
      "text/plain": [
       "<matplotlib.axes._subplots.AxesSubplot at 0x238191ac208>"
      ]
     },
     "execution_count": 37,
     "metadata": {},
     "output_type": "execute_result"
    },
    {
     "data": {
      "image/png": "[encoded data removed]",
      "text/plain": [
       "<Figure size 432x288 with 1 Axes>"
      ]
     },
     "metadata": {
      "needs_background": "light"
     },
     "output_type": "display_data"
    }
   ],
   "source": [
    "o = names[9]\n",
    "print(o)\n",
    "data[o].hist(bins=500)"
   ]
  },
  {
   "cell_type": "markdown",
   "metadata": {},
   "source": []
  },
  {
   "cell_type": "markdown",
   "metadata": {
    "colab_type": "text",
    "id": "111lURJGVrbU"
   },
   "source": [
    "Написать **линейную регрессию** на два атрибута. Допустим, мы хотим предсказать цену дома (MEDV) в Бостоне, зная что цена на дом имеет линейную зависимость с атрибутом LSTAT. "
   ]
  },
  {
   "cell_type": "markdown",
   "metadata": {
    "colab_type": "text",
    "id": "Naz_Byg1WKhm"
   },
   "source": [
    "\n",
    "\n",
    "1.   Разделить данные на 80% тренировочных, 20% тестовых\n",
    "2.   Составить модель линейной регрессии\n",
    "3.   Посчитать ошибку модели на тестовых данных\n",
    "4.   Сделать точечный график данных и полученной прямой линейной регрессии\n",
    "\n"
   ]
  },
  {
   "cell_type": "code",
   "execution_count": 50,
   "metadata": {},
   "outputs": [],
   "source": [
    "data['MEDV'].fillna(0, inplace = True)\n",
    "data['LSTAT'].fillna(0, inplace = True)\n",
    "# freedom = df['Freedom']\n",
    "# positive = df['Positive affect']\n",
    "\n",
    "MEDV = np.array(data['MEDV']).reshape(-1,1)\n",
    "LSTAT = np.array(data['LSTAT']).reshape(-1,1)"
   ]
  },
  {
   "cell_type": "code",
   "execution_count": 51,
   "metadata": {},
   "outputs": [
    {
     "data": {
      "text/plain": [
       "0.5663680841829949"
      ]
     },
     "execution_count": 51,
     "metadata": {},
     "output_type": "execute_result"
    }
   ],
   "source": [
    "from sklearn.linear_model import LinearRegression\n",
    "model = LinearRegression()\n",
    "\n",
    "from sklearn.model_selection import train_test_split\n",
    "X_train, X_test, y_train, y_test = train_test_split(\n",
    "    MEDV,\n",
    "    LSTAT,\n",
    "    test_size = 0.2,\n",
    "    random_state = 3\n",
    ")\n",
    "\n",
    "model.fit(X_train, y_train)\n",
    "\n",
    "predicted_y = model.predict(X_test)\n",
    "\n",
    "model.score(X_test, y_test)"
   ]
  },
  {
   "cell_type": "code",
   "execution_count": 54,
   "metadata": {},
   "outputs": [
    {
     "data": {
      "image/png": "[encoded data removed]",
      "text/plain": [
       "<Figure size 432x288 with 1 Axes>"
      ]
     },
     "metadata": {
      "needs_background": "light"
     },
     "output_type": "display_data"
    }
   ],
   "source": [
    "plt.xlabel('MEDV')\n",
    "plt.ylabel('LSTAT')\n",
    "plt.title('Линейная регрессия от одной переменной')\n",
    "x = np.linspace(0, 60, 100)\n",
    "y = model.coef_*x + model.intercept_\n",
    "y = np.transpose(y)\n",
    "plt.plot(x,y)\n",
    "plt.plot(MEDV, LSTAT, 'r.')\n",
    "plt.xlim(0,60)\n",
    "plt.ylim(0,60)\n",
    "plt.show()"
   ]
  },
  {
   "cell_type": "markdown",
   "metadata": {
    "colab_type": "text",
    "id": "zqiJHPz7FUT2"
   },
   "source": [
    "Загрузить таблицу Happiness report. Посчитать матрицу ковариаций попарно. "
   ]
  },
  {
   "cell_type": "code",
   "execution_count": 59,
   "metadata": {
    "colab": {
     "base_uri": "https://localhost:8080/",
     "height": 238
    },
    "colab_type": "code",
    "id": "4FVMs-hUiv4i",
    "outputId": "4f8bb858-e745-4832-e05a-a40c48f8fa8a"
   },
   "outputs": [
    {
     "data": {
      "text/html": [
       "<div>\n",
       "<style scoped>\n",
       "    .dataframe tbody tr th:only-of-type {\n",
       "        vertical-align: middle;\n",
       "    }\n",
       "\n",
       "    .dataframe tbody tr th {\n",
       "        vertical-align: top;\n",
       "    }\n",
       "\n",
       "    .dataframe thead th {\n",
       "        text-align: right;\n",
       "    }\n",
       "</style>\n",
       "<table border=\"1\" class=\"dataframe\">\n",
       "  <thead>\n",
       "    <tr style=\"text-align: right;\">\n",
       "      <th></th>\n",
       "      <th>Country (region)</th>\n",
       "      <th>Ladder</th>\n",
       "      <th>SD of Ladder</th>\n",
       "      <th>Positive affect</th>\n",
       "      <th>Negative affect</th>\n",
       "      <th>Social support</th>\n",
       "      <th>Freedom</th>\n",
       "      <th>Corruption</th>\n",
       "      <th>Generosity</th>\n",
       "      <th>Log of GDP\\nper capita</th>\n",
       "      <th>Healthy life\\nexpectancy</th>\n",
       "    </tr>\n",
       "  </thead>\n",
       "  <tbody>\n",
       "    <tr>\n",
       "      <td>0</td>\n",
       "      <td>Finland</td>\n",
       "      <td>1</td>\n",
       "      <td>4</td>\n",
       "      <td>41.0</td>\n",
       "      <td>10.0</td>\n",
       "      <td>2.0</td>\n",
       "      <td>5.0</td>\n",
       "      <td>4.0</td>\n",
       "      <td>47.0</td>\n",
       "      <td>22.0</td>\n",
       "      <td>27.0</td>\n",
       "    </tr>\n",
       "    <tr>\n",
       "      <td>1</td>\n",
       "      <td>Denmark</td>\n",
       "      <td>2</td>\n",
       "      <td>13</td>\n",
       "      <td>24.0</td>\n",
       "      <td>26.0</td>\n",
       "      <td>4.0</td>\n",
       "      <td>6.0</td>\n",
       "      <td>3.0</td>\n",
       "      <td>22.0</td>\n",
       "      <td>14.0</td>\n",
       "      <td>23.0</td>\n",
       "    </tr>\n",
       "    <tr>\n",
       "      <td>2</td>\n",
       "      <td>Norway</td>\n",
       "      <td>3</td>\n",
       "      <td>8</td>\n",
       "      <td>16.0</td>\n",
       "      <td>29.0</td>\n",
       "      <td>3.0</td>\n",
       "      <td>3.0</td>\n",
       "      <td>8.0</td>\n",
       "      <td>11.0</td>\n",
       "      <td>7.0</td>\n",
       "      <td>12.0</td>\n",
       "    </tr>\n",
       "    <tr>\n",
       "      <td>3</td>\n",
       "      <td>Iceland</td>\n",
       "      <td>4</td>\n",
       "      <td>9</td>\n",
       "      <td>3.0</td>\n",
       "      <td>3.0</td>\n",
       "      <td>1.0</td>\n",
       "      <td>7.0</td>\n",
       "      <td>45.0</td>\n",
       "      <td>3.0</td>\n",
       "      <td>15.0</td>\n",
       "      <td>13.0</td>\n",
       "    </tr>\n",
       "    <tr>\n",
       "      <td>4</td>\n",
       "      <td>Netherlands</td>\n",
       "      <td>5</td>\n",
       "      <td>1</td>\n",
       "      <td>12.0</td>\n",
       "      <td>25.0</td>\n",
       "      <td>15.0</td>\n",
       "      <td>19.0</td>\n",
       "      <td>12.0</td>\n",
       "      <td>7.0</td>\n",
       "      <td>12.0</td>\n",
       "      <td>18.0</td>\n",
       "    </tr>\n",
       "  </tbody>\n",
       "</table>\n",
       "</div>"
      ],
      "text/plain": [
       "  Country (region)  Ladder  SD of Ladder  Positive affect  Negative affect  \\\n",
       "0          Finland       1             4             41.0             10.0   \n",
       "1          Denmark       2            13             24.0             26.0   \n",
       "2           Norway       3             8             16.0             29.0   \n",
       "3          Iceland       4             9              3.0              3.0   \n",
       "4      Netherlands       5             1             12.0             25.0   \n",
       "\n",
       "   Social support  Freedom  Corruption  Generosity  Log of GDP\\nper capita  \\\n",
       "0             2.0      5.0         4.0        47.0                    22.0   \n",
       "1             4.0      6.0         3.0        22.0                    14.0   \n",
       "2             3.0      3.0         8.0        11.0                     7.0   \n",
       "3             1.0      7.0        45.0         3.0                    15.0   \n",
       "4            15.0     19.0        12.0         7.0                    12.0   \n",
       "\n",
       "   Healthy life\\nexpectancy  \n",
       "0                      27.0  \n",
       "1                      23.0  \n",
       "2                      12.0  \n",
       "3                      13.0  \n",
       "4                      18.0  "
      ]
     },
     "execution_count": 59,
     "metadata": {},
     "output_type": "execute_result"
    }
   ],
   "source": [
    "url=\"http://yustiks.ru/dataset/world-happiness-report-2019.csv\"\n",
    "data=pd.read_csv(url)\n",
    "data.head()"
   ]
  },
  {
   "cell_type": "code",
   "execution_count": 70,
   "metadata": {},
   "outputs": [
    {
     "data": {
      "text/html": [
       "<div>\n",
       "<style scoped>\n",
       "    .dataframe tbody tr th:only-of-type {\n",
       "        vertical-align: middle;\n",
       "    }\n",
       "\n",
       "    .dataframe tbody tr th {\n",
       "        vertical-align: top;\n",
       "    }\n",
       "\n",
       "    .dataframe thead th {\n",
       "        text-align: right;\n",
       "    }\n",
       "</style>\n",
       "<table border=\"1\" class=\"dataframe\">\n",
       "  <thead>\n",
       "    <tr style=\"text-align: right;\">\n",
       "      <th></th>\n",
       "      <th>Ladder</th>\n",
       "      <th>SD of Ladder</th>\n",
       "      <th>Positive affect</th>\n",
       "      <th>Negative affect</th>\n",
       "      <th>Social support</th>\n",
       "      <th>Freedom</th>\n",
       "      <th>Corruption</th>\n",
       "      <th>Generosity</th>\n",
       "      <th>Log of GDP\\nper capita</th>\n",
       "      <th>Healthy life\\nexpectancy</th>\n",
       "    </tr>\n",
       "  </thead>\n",
       "  <tbody>\n",
       "    <tr>\n",
       "      <td>0</td>\n",
       "      <td>1</td>\n",
       "      <td>4</td>\n",
       "      <td>41.0</td>\n",
       "      <td>10.0</td>\n",
       "      <td>2.0</td>\n",
       "      <td>5.0</td>\n",
       "      <td>4.0</td>\n",
       "      <td>47.0</td>\n",
       "      <td>22.0</td>\n",
       "      <td>27.0</td>\n",
       "    </tr>\n",
       "    <tr>\n",
       "      <td>1</td>\n",
       "      <td>2</td>\n",
       "      <td>13</td>\n",
       "      <td>24.0</td>\n",
       "      <td>26.0</td>\n",
       "      <td>4.0</td>\n",
       "      <td>6.0</td>\n",
       "      <td>3.0</td>\n",
       "      <td>22.0</td>\n",
       "      <td>14.0</td>\n",
       "      <td>23.0</td>\n",
       "    </tr>\n",
       "    <tr>\n",
       "      <td>2</td>\n",
       "      <td>3</td>\n",
       "      <td>8</td>\n",
       "      <td>16.0</td>\n",
       "      <td>29.0</td>\n",
       "      <td>3.0</td>\n",
       "      <td>3.0</td>\n",
       "      <td>8.0</td>\n",
       "      <td>11.0</td>\n",
       "      <td>7.0</td>\n",
       "      <td>12.0</td>\n",
       "    </tr>\n",
       "    <tr>\n",
       "      <td>3</td>\n",
       "      <td>4</td>\n",
       "      <td>9</td>\n",
       "      <td>3.0</td>\n",
       "      <td>3.0</td>\n",
       "      <td>1.0</td>\n",
       "      <td>7.0</td>\n",
       "      <td>45.0</td>\n",
       "      <td>3.0</td>\n",
       "      <td>15.0</td>\n",
       "      <td>13.0</td>\n",
       "    </tr>\n",
       "    <tr>\n",
       "      <td>4</td>\n",
       "      <td>5</td>\n",
       "      <td>1</td>\n",
       "      <td>12.0</td>\n",
       "      <td>25.0</td>\n",
       "      <td>15.0</td>\n",
       "      <td>19.0</td>\n",
       "      <td>12.0</td>\n",
       "      <td>7.0</td>\n",
       "      <td>12.0</td>\n",
       "      <td>18.0</td>\n",
       "    </tr>\n",
       "    <tr>\n",
       "      <td>...</td>\n",
       "      <td>...</td>\n",
       "      <td>...</td>\n",
       "      <td>...</td>\n",
       "      <td>...</td>\n",
       "      <td>...</td>\n",
       "      <td>...</td>\n",
       "      <td>...</td>\n",
       "      <td>...</td>\n",
       "      <td>...</td>\n",
       "      <td>...</td>\n",
       "    </tr>\n",
       "    <tr>\n",
       "      <td>151</td>\n",
       "      <td>152</td>\n",
       "      <td>63</td>\n",
       "      <td>54.0</td>\n",
       "      <td>102.0</td>\n",
       "      <td>144.0</td>\n",
       "      <td>21.0</td>\n",
       "      <td>2.0</td>\n",
       "      <td>90.0</td>\n",
       "      <td>132.0</td>\n",
       "      <td>103.0</td>\n",
       "    </tr>\n",
       "    <tr>\n",
       "      <td>152</td>\n",
       "      <td>153</td>\n",
       "      <td>122</td>\n",
       "      <td>78.0</td>\n",
       "      <td>50.0</td>\n",
       "      <td>131.0</td>\n",
       "      <td>78.0</td>\n",
       "      <td>34.0</td>\n",
       "      <td>49.0</td>\n",
       "      <td>125.0</td>\n",
       "      <td>118.0</td>\n",
       "    </tr>\n",
       "    <tr>\n",
       "      <td>153</td>\n",
       "      <td>154</td>\n",
       "      <td>25</td>\n",
       "      <td>152.0</td>\n",
       "      <td>133.0</td>\n",
       "      <td>151.0</td>\n",
       "      <td>155.0</td>\n",
       "      <td>136.0</td>\n",
       "      <td>137.0</td>\n",
       "      <td>134.0</td>\n",
       "      <td>139.0</td>\n",
       "    </tr>\n",
       "    <tr>\n",
       "      <td>154</td>\n",
       "      <td>155</td>\n",
       "      <td>117</td>\n",
       "      <td>132.0</td>\n",
       "      <td>153.0</td>\n",
       "      <td>155.0</td>\n",
       "      <td>133.0</td>\n",
       "      <td>122.0</td>\n",
       "      <td>113.0</td>\n",
       "      <td>152.0</td>\n",
       "      <td>150.0</td>\n",
       "    </tr>\n",
       "    <tr>\n",
       "      <td>155</td>\n",
       "      <td>156</td>\n",
       "      <td>140</td>\n",
       "      <td>127.0</td>\n",
       "      <td>152.0</td>\n",
       "      <td>148.0</td>\n",
       "      <td>154.0</td>\n",
       "      <td>61.0</td>\n",
       "      <td>85.0</td>\n",
       "      <td>140.0</td>\n",
       "      <td>143.0</td>\n",
       "    </tr>\n",
       "  </tbody>\n",
       "</table>\n",
       "<p>156 rows × 10 columns</p>\n",
       "</div>"
      ],
      "text/plain": [
       "     Ladder  SD of Ladder  Positive affect  Negative affect  Social support  \\\n",
       "0         1             4             41.0             10.0             2.0   \n",
       "1         2            13             24.0             26.0             4.0   \n",
       "2         3             8             16.0             29.0             3.0   \n",
       "3         4             9              3.0              3.0             1.0   \n",
       "4         5             1             12.0             25.0            15.0   \n",
       "..      ...           ...              ...              ...             ...   \n",
       "151     152            63             54.0            102.0           144.0   \n",
       "152     153           122             78.0             50.0           131.0   \n",
       "153     154            25            152.0            133.0           151.0   \n",
       "154     155           117            132.0            153.0           155.0   \n",
       "155     156           140            127.0            152.0           148.0   \n",
       "\n",
       "     Freedom  Corruption  Generosity  Log of GDP\\nper capita  \\\n",
       "0        5.0         4.0        47.0                    22.0   \n",
       "1        6.0         3.0        22.0                    14.0   \n",
       "2        3.0         8.0        11.0                     7.0   \n",
       "3        7.0        45.0         3.0                    15.0   \n",
       "4       19.0        12.0         7.0                    12.0   \n",
       "..       ...         ...         ...                     ...   \n",
       "151     21.0         2.0        90.0                   132.0   \n",
       "152     78.0        34.0        49.0                   125.0   \n",
       "153    155.0       136.0       137.0                   134.0   \n",
       "154    133.0       122.0       113.0                   152.0   \n",
       "155    154.0        61.0        85.0                   140.0   \n",
       "\n",
       "     Healthy life\\nexpectancy  \n",
       "0                        27.0  \n",
       "1                        23.0  \n",
       "2                        12.0  \n",
       "3                        13.0  \n",
       "4                        18.0  \n",
       "..                        ...  \n",
       "151                     103.0  \n",
       "152                     118.0  \n",
       "153                     139.0  \n",
       "154                     150.0  \n",
       "155                     143.0  \n",
       "\n",
       "[156 rows x 10 columns]"
      ]
     },
     "execution_count": 70,
     "metadata": {},
     "output_type": "execute_result"
    }
   ],
   "source": [
    "X = data.iloc[:,1:]\n",
    "X"
   ]
  },
  {
   "cell_type": "code",
   "execution_count": 75,
   "metadata": {},
   "outputs": [
    {
     "data": {
      "text/plain": [
       "array([[ 2.900e+02,  1.200e+02,  4.400e+01, ...,  1.250e+02, -8.800e+01,\n",
       "        -1.780e+02],\n",
       "       [ 1.200e+02,  9.100e+01,  6.100e+01, ..., -2.900e+01, -1.200e+01,\n",
       "         6.000e+00],\n",
       "       [ 4.400e+01,  6.100e+01,  6.300e+01, ..., -1.000e+01,  9.000e+00,\n",
       "        -1.000e+00],\n",
       "       ...,\n",
       "       [ 1.250e+02, -2.900e+01, -1.000e+01, ...,  1.480e+03,  2.940e+02,\n",
       "        -3.000e+00],\n",
       "       [-8.800e+01, -1.200e+01,  9.000e+00, ...,  2.940e+02,  2.810e+02,\n",
       "         3.660e+02],\n",
       "       [-1.780e+02,  6.000e+00, -1.000e+00, ..., -3.000e+00,  3.660e+02,\n",
       "         1.024e+03]])"
      ]
     },
     "execution_count": 75,
     "metadata": {},
     "output_type": "execute_result"
    }
   ],
   "source": [
    "np.round(np.cov(X), decimals=0)"
   ]
  },
  {
   "cell_type": "markdown",
   "metadata": {
    "colab_type": "text",
    "id": "AEV-w8iDrzwl"
   },
   "source": [
    "Сколько в данной таблице отсутствующих значений? Написать ответ. Если есть отсутствующие значения в выборке country, убрать (drop)."
   ]
  },
  {
   "cell_type": "code",
   "execution_count": 91,
   "metadata": {},
   "outputs": [
    {
     "data": {
      "text/plain": [
       "Country (region)            0\n",
       "Ladder                      0\n",
       "SD of Ladder                0\n",
       "Positive affect             1\n",
       "Negative affect             1\n",
       "Social support              1\n",
       "Freedom                     1\n",
       "Corruption                  8\n",
       "Generosity                  1\n",
       "Log of GDP\\nper capita      4\n",
       "Healthy life\\nexpectancy    6\n",
       "dtype: int64"
      ]
     },
     "execution_count": 91,
     "metadata": {},
     "output_type": "execute_result"
    }
   ],
   "source": [
    "pd.isnull(data).sum()"
   ]
  },
  {
   "cell_type": "markdown",
   "metadata": {
    "colab_type": "text",
    "id": "Sa3-2X8RputT"
   },
   "source": [
    "Сколько стран в выборке? Написать ответ. "
   ]
  },
  {
   "cell_type": "code",
   "execution_count": 96,
   "metadata": {},
   "outputs": [
    {
     "data": {
      "text/plain": [
       "156"
      ]
     },
     "execution_count": 96,
     "metadata": {},
     "output_type": "execute_result"
    }
   ],
   "source": [
    "data['Country (region)'].count()"
   ]
  },
  {
   "cell_type": "markdown",
   "metadata": {
    "colab_type": "text",
    "id": "Xo3Q738TsMBV"
   },
   "source": [
    "Построить матрицу корреляций для таблицы. Какие можно сделать выводы?"
   ]
  },
  {
   "cell_type": "code",
   "execution_count": 134,
   "metadata": {},
   "outputs": [
    {
     "data": {
      "image/png": "[encoded data removed]",
      "text/plain": [
       "<Figure size 864x720 with 2 Axes>"
      ]
     },
     "metadata": {
      "needs_background": "light"
     },
     "output_type": "display_data"
    }
   ],
   "source": [
    "d = data.corr()\n",
    "sns.heatmap(d,annot=True,cmap='RdYlGn',linewidths=0.2)\n",
    "fig=plt.gcf()\n",
    "fig.set_size_inches(12,10)"
   ]
  },
  {
   "cell_type": "code",
   "execution_count": 190,
   "metadata": {},
   "outputs": [
    {
     "name": "stdout",
     "output_type": "stream",
     "text": [
      "Порог коэфициента корреляции 0.75 \n",
      "\n",
      "Вероятно Ladder прямо зависимо с Social support \n",
      "\n",
      "Вероятно Ladder прямо зависимо с Log of GDP\n",
      "per capita \n",
      "\n",
      "Вероятно Ladder прямо зависимо с Healthy life\n",
      "expectancy \n",
      "\n",
      "Вероятно Social support прямо зависимо с Log of GDP\n",
      "per capita \n",
      "\n",
      "Вероятно Log of GDP\n",
      "per capita прямо зависимо с Healthy life\n",
      "expectancy \n",
      "\n"
     ]
    }
   ],
   "source": [
    "d = data.corr()\n",
    "names = set([x for x in d])\n",
    "lim = 0.75\n",
    "print(f'Порог коэфициента корреляции {lim} \\n')\n",
    "check = []\n",
    "for x in d:\n",
    "    for y in d.index:\n",
    "        z = d.loc[y,x]\n",
    "        if z > lim and y!=x and str(x)+str(y) not in check:\n",
    "            print(f'Вероятно {x} прямо зависимо с {y} \\n')\n",
    "            check.append(str(x)+str(y))\n",
    "            check.append(str(y)+str(x))\n",
    "# print(check)"
   ]
  },
  {
   "cell_type": "code",
   "execution_count": null,
   "metadata": {},
   "outputs": [],
   "source": []
  },
  {
   "cell_type": "markdown",
   "metadata": {
    "colab_type": "text",
    "id": "bwPmjFqesXOC"
   },
   "source": [
    "# Дискретное распределение случайной величины"
   ]
  },
  {
   "cell_type": "markdown",
   "metadata": {
    "colab_type": "text",
    "id": "5xwVwFr_s11_"
   },
   "source": [
    "Напишите код для моделирования 10 подбрасываний игрального кубика. Начертите диаграму histogram. Какое это распределение?"
   ]
  },
  {
   "cell_type": "code",
   "execution_count": 175,
   "metadata": {},
   "outputs": [],
   "source": [
    "rs = np.random.RandomState(332)\n",
    "c = rs.randint(1, 7, size=10)"
   ]
  },
  {
   "cell_type": "code",
   "execution_count": 176,
   "metadata": {},
   "outputs": [
    {
     "data": {
      "image/png": "[encoded data removed]",
      "text/plain": [
       "<Figure size 432x288 with 1 Axes>"
      ]
     },
     "metadata": {
      "needs_background": "light"
     },
     "output_type": "display_data"
    }
   ],
   "source": [
    "ax= plt.hist(c)\n",
    "plt.title('Плотность рапределения подбрасывания кубика')\n",
    "plt.show()"
   ]
  },
  {
   "cell_type": "markdown",
   "metadata": {
    "colab": {},
    "colab_type": "code",
    "id": "3EEu6ofKs0x7"
   },
   "source": [
    "Это равномерное распределение\n",
    "\n"
   ]
  },
  {
   "cell_type": "markdown",
   "metadata": {
    "colab_type": "text",
    "id": "irGnJ9bxtAor"
   },
   "source": [
    "моделируйте 1000 раз сумму по 100 подбрасываний. Начертите диаграму histogram. Почему график изменился? Почему можно применить центральную предельную теорему?"
   ]
  },
  {
   "cell_type": "code",
   "execution_count": 188,
   "metadata": {
    "colab": {},
    "colab_type": "code",
    "id": "v0It8sBStGcI"
   },
   "outputs": [
    {
     "data": {
      "image/png": "[encoded data removed]",
      "text/plain": [
       "<Figure size 432x288 with 1 Axes>"
      ]
     },
     "metadata": {
      "needs_background": "light"
     },
     "output_type": "display_data"
    }
   ],
   "source": [
    "rs = np.random.RandomState(123)\n",
    "c_sum = np.array([])\n",
    "for k in range(1000):\n",
    "    c1 = rs.randint(1, 7, size=100)\n",
    "    c_sum = np.append(c_sum, c1.sum())\n",
    "c_sum\n",
    "\n",
    "ax= plt.hist(c_sum, bins=100)\n",
    "plt.title('Плотность рапределения подбрасывания кубика')\n",
    "plt.show()"
   ]
  },
  {
   "cell_type": "markdown",
   "metadata": {},
   "source": [
    "Мы подбрасываем \"честный\" кубик поэтому величины независимы и при суммировании они будут образовывать нормальное распределение согласно ЦПТ, которую можно применять как раз по причине независимости и одинакового вклада величин."
   ]
  }
 ],
 "metadata": {
  "colab": {
   "include_colab_link": true,
   "name": "dz_2.ipynb",
   "provenance": []
  },
  "kernelspec": {
   "display_name": "Python 3",
   "language": "python",
   "name": "python3"
  },
  "language_info": {
   "codemirror_mode": {
    "name": "ipython",
    "version": 3
   },
   "file_extension": ".py",
   "mimetype": "text/x-python",
   "name": "python",
   "nbconvert_exporter": "python",
   "pygments_lexer": "ipython3",
   "version": "3.7.4"
  }
 },
 "nbformat": 4,
 "nbformat_minor": 1
}
