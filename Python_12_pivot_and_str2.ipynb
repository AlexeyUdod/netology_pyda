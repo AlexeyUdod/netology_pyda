{
  "nbformat": 4,
  "nbformat_minor": 0,
  "metadata": {
    "kernelspec": {
      "display_name": "Python 3",
      "language": "python",
      "name": "python3"
    },
    "language_info": {
      "codemirror_mode": {
        "name": "ipython",
        "version": 3
      },
      "file_extension": ".py",
      "mimetype": "text/x-python",
      "name": "python",
      "nbconvert_exporter": "python",
      "pygments_lexer": "ipython3",
      "version": "3.7.4"
    },
    "colab": {
      "name": "Python_12_pivot_and_str2.ipynb",
      "provenance": [],
      "include_colab_link": true
    }
  },
  "cells": [
    {
      "cell_type": "markdown",
      "metadata": {
        "id": "view-in-github",
        "colab_type": "text"
      },
      "source": [
        "<a href=\"https://colab.research.google.com/github/AlexeyUdod/netology_pyda/blob/master/Python_12_pivot_and_str2.ipynb\" target=\"_parent\"><img src=\"https://colab.research.google.com/assets/colab-badge.svg\" alt=\"Open In Colab\"/></a>"
      ]
    },
    {
      "cell_type": "markdown",
      "metadata": {
        "id": "Cl_BRbBvZw6m",
        "colab_type": "text"
      },
      "source": [
        "# Что будет\n",
        "- сводные таблицы\n",
        "- фильтры и вычисления с помощью метода loc\n",
        "- фильтрация пустых значений через isnull\n",
        "- время в pandas\n",
        "- строковые методы\n",
        "- немного про учет форм слов"
      ]
    },
    {
      "cell_type": "markdown",
      "metadata": {
        "id": "qye_iihjZw6x",
        "colab_type": "text"
      },
      "source": [
        "# Сводные таблицы\n",
        "Прям как в экселе"
      ]
    },
    {
      "cell_type": "code",
      "metadata": {
        "id": "CKwl426kZw63",
        "colab_type": "code",
        "colab": {}
      },
      "source": [
        "import pandas as pd"
      ],
      "execution_count": 0,
      "outputs": []
    },
    {
      "cell_type": "code",
      "metadata": {
        "scrolled": true,
        "id": "80fyPko_Zw7P",
        "colab_type": "code",
        "colab": {},
        "outputId": "84556314-7459-4bb0-ffd8-89ab6982fea1"
      },
      "source": [
        "ratings = pd.read_csv('ml-latest-small/ratings.csv')\n",
        "ratings.head()"
      ],
      "execution_count": 0,
      "outputs": [
        {
          "output_type": "execute_result",
          "data": {
            "text/html": [
              "<div>\n",
              "<style scoped>\n",
              "    .dataframe tbody tr th:only-of-type {\n",
              "        vertical-align: middle;\n",
              "    }\n",
              "\n",
              "    .dataframe tbody tr th {\n",
              "        vertical-align: top;\n",
              "    }\n",
              "\n",
              "    .dataframe thead th {\n",
              "        text-align: right;\n",
              "    }\n",
              "</style>\n",
              "<table border=\"1\" class=\"dataframe\">\n",
              "  <thead>\n",
              "    <tr style=\"text-align: right;\">\n",
              "      <th></th>\n",
              "      <th>userId</th>\n",
              "      <th>movieId</th>\n",
              "      <th>rating</th>\n",
              "      <th>timestamp</th>\n",
              "    </tr>\n",
              "  </thead>\n",
              "  <tbody>\n",
              "    <tr>\n",
              "      <th>0</th>\n",
              "      <td>1</td>\n",
              "      <td>31</td>\n",
              "      <td>2.5</td>\n",
              "      <td>1260759144</td>\n",
              "    </tr>\n",
              "    <tr>\n",
              "      <th>1</th>\n",
              "      <td>1</td>\n",
              "      <td>1029</td>\n",
              "      <td>3.0</td>\n",
              "      <td>1260759179</td>\n",
              "    </tr>\n",
              "    <tr>\n",
              "      <th>2</th>\n",
              "      <td>1</td>\n",
              "      <td>1061</td>\n",
              "      <td>3.0</td>\n",
              "      <td>1260759182</td>\n",
              "    </tr>\n",
              "    <tr>\n",
              "      <th>3</th>\n",
              "      <td>1</td>\n",
              "      <td>1129</td>\n",
              "      <td>2.0</td>\n",
              "      <td>1260759185</td>\n",
              "    </tr>\n",
              "    <tr>\n",
              "      <th>4</th>\n",
              "      <td>1</td>\n",
              "      <td>1172</td>\n",
              "      <td>4.0</td>\n",
              "      <td>1260759205</td>\n",
              "    </tr>\n",
              "  </tbody>\n",
              "</table>\n",
              "</div>"
            ],
            "text/plain": [
              "   userId  movieId  rating   timestamp\n",
              "0       1       31     2.5  1260759144\n",
              "1       1     1029     3.0  1260759179\n",
              "2       1     1061     3.0  1260759182\n",
              "3       1     1129     2.0  1260759185\n",
              "4       1     1172     4.0  1260759205"
            ]
          },
          "metadata": {
            "tags": []
          },
          "execution_count": 2
        }
      ]
    },
    {
      "cell_type": "markdown",
      "metadata": {
        "id": "MTpUU1OPZw7d",
        "colab_type": "text"
      },
      "source": [
        "### Упражнение\n",
        "Какие оценки поставил пользователь №1 и в каком количестве?\n",
        "\n",
        "Что делаем:\n",
        "1. Фильтруем датафрейм ratings для userId = 1\n",
        "2. Считаем для этого пользователя сколько он выставил единиц, двоек итд"
      ]
    },
    {
      "cell_type": "code",
      "metadata": {
        "id": "fjxQGcwsZw7j",
        "colab_type": "code",
        "colab": {},
        "outputId": "d342144a-6dda-41ba-fc35-0e2009d1781f"
      },
      "source": [
        "filtered = ratings[ (ratings['userId']== 1)]\n",
        "filtered['rating'].value_counts().head()"
      ],
      "execution_count": 0,
      "outputs": [
        {
          "output_type": "execute_result",
          "data": {
            "text/plain": [
              "2.0    7\n",
              "3.0    4\n",
              "4.0    3\n",
              "2.5    3\n",
              "1.0    2\n",
              "Name: rating, dtype: int64"
            ]
          },
          "metadata": {
            "tags": []
          },
          "execution_count": 3
        }
      ]
    },
    {
      "cell_type": "code",
      "metadata": {
        "id": "ZGsBMYnWZw7x",
        "colab_type": "code",
        "colab": {},
        "outputId": "635ffdf5-6fe8-4285-f0d8-4c20efccf4da"
      },
      "source": [
        "ratings[ ratings.userId == 1 ].rating.value_counts()"
      ],
      "execution_count": 0,
      "outputs": [
        {
          "output_type": "execute_result",
          "data": {
            "text/plain": [
              "2.0    7\n",
              "3.0    4\n",
              "4.0    3\n",
              "2.5    3\n",
              "1.0    2\n",
              "3.5    1\n",
              "Name: rating, dtype: int64"
            ]
          },
          "metadata": {
            "tags": []
          },
          "execution_count": 7
        }
      ]
    },
    {
      "cell_type": "code",
      "metadata": {
        "id": "YRsTSfxHZw8B",
        "colab_type": "code",
        "colab": {},
        "outputId": "82648b50-aa09-4b1b-990d-ef625aaecbe7"
      },
      "source": [
        "ratings[ratings.userId == 1].groupby('rating').count()[['userId']]"
      ],
      "execution_count": 0,
      "outputs": [
        {
          "output_type": "execute_result",
          "data": {
            "text/html": [
              "<div>\n",
              "<style scoped>\n",
              "    .dataframe tbody tr th:only-of-type {\n",
              "        vertical-align: middle;\n",
              "    }\n",
              "\n",
              "    .dataframe tbody tr th {\n",
              "        vertical-align: top;\n",
              "    }\n",
              "\n",
              "    .dataframe thead th {\n",
              "        text-align: right;\n",
              "    }\n",
              "</style>\n",
              "<table border=\"1\" class=\"dataframe\">\n",
              "  <thead>\n",
              "    <tr style=\"text-align: right;\">\n",
              "      <th></th>\n",
              "      <th>userId</th>\n",
              "    </tr>\n",
              "    <tr>\n",
              "      <th>rating</th>\n",
              "      <th></th>\n",
              "    </tr>\n",
              "  </thead>\n",
              "  <tbody>\n",
              "    <tr>\n",
              "      <th>1.0</th>\n",
              "      <td>2</td>\n",
              "    </tr>\n",
              "    <tr>\n",
              "      <th>2.0</th>\n",
              "      <td>7</td>\n",
              "    </tr>\n",
              "    <tr>\n",
              "      <th>2.5</th>\n",
              "      <td>3</td>\n",
              "    </tr>\n",
              "    <tr>\n",
              "      <th>3.0</th>\n",
              "      <td>4</td>\n",
              "    </tr>\n",
              "    <tr>\n",
              "      <th>3.5</th>\n",
              "      <td>1</td>\n",
              "    </tr>\n",
              "    <tr>\n",
              "      <th>4.0</th>\n",
              "      <td>3</td>\n",
              "    </tr>\n",
              "  </tbody>\n",
              "</table>\n",
              "</div>"
            ],
            "text/plain": [
              "        userId\n",
              "rating        \n",
              "1.0          2\n",
              "2.0          7\n",
              "2.5          3\n",
              "3.0          4\n",
              "3.5          1\n",
              "4.0          3"
            ]
          },
          "metadata": {
            "tags": []
          },
          "execution_count": 10
        }
      ]
    },
    {
      "cell_type": "code",
      "metadata": {
        "id": "McZViL87Zw8L",
        "colab_type": "code",
        "colab": {},
        "outputId": "8907f044-3936-4977-e03f-0c0b001613e6"
      },
      "source": [
        "len(ratings.userId.unique())"
      ],
      "execution_count": 0,
      "outputs": [
        {
          "output_type": "execute_result",
          "data": {
            "text/plain": [
              "671"
            ]
          },
          "metadata": {
            "tags": []
          },
          "execution_count": 12
        }
      ]
    },
    {
      "cell_type": "markdown",
      "metadata": {
        "id": "n23x8E1pZw8c",
        "colab_type": "text"
      },
      "source": [
        "Как это сделать для всех пользователей сразу:"
      ]
    },
    {
      "cell_type": "code",
      "metadata": {
        "id": "fzq8CCXbZw8j",
        "colab_type": "code",
        "colab": {}
      },
      "source": [
        "?ratings.pivot_table"
      ],
      "execution_count": 0,
      "outputs": []
    },
    {
      "cell_type": "code",
      "metadata": {
        "id": "nNcYRIFDZw84",
        "colab_type": "code",
        "colab": {},
        "outputId": "593e098c-9e08-444d-94d7-b23495ab4d86"
      },
      "source": [
        "type(ratings.pivot_table(index = 'userId', columns = 'rating', values = 'timestamp', \n",
        "                    aggfunc = 'count', fill_value=''))"
      ],
      "execution_count": 0,
      "outputs": [
        {
          "output_type": "execute_result",
          "data": {
            "text/plain": [
              "pandas.core.frame.DataFrame"
            ]
          },
          "metadata": {
            "tags": []
          },
          "execution_count": 21
        }
      ]
    },
    {
      "cell_type": "code",
      "metadata": {
        "id": "snakhxCDZw9G",
        "colab_type": "code",
        "colab": {},
        "outputId": "511a8ea4-3ea9-45e0-ee7c-07b9741d4ef6"
      },
      "source": [
        "ratings.pivot_table(index = 'userId', columns = 'rating', values = 'timestamp', \n",
        "                    aggfunc = 'count', fill_value='').head()\n"
      ],
      "execution_count": 0,
      "outputs": [
        {
          "output_type": "execute_result",
          "data": {
            "text/html": [
              "<div>\n",
              "<style scoped>\n",
              "    .dataframe tbody tr th:only-of-type {\n",
              "        vertical-align: middle;\n",
              "    }\n",
              "\n",
              "    .dataframe tbody tr th {\n",
              "        vertical-align: top;\n",
              "    }\n",
              "\n",
              "    .dataframe thead th {\n",
              "        text-align: right;\n",
              "    }\n",
              "</style>\n",
              "<table border=\"1\" class=\"dataframe\">\n",
              "  <thead>\n",
              "    <tr style=\"text-align: right;\">\n",
              "      <th>rating</th>\n",
              "      <th>0.5</th>\n",
              "      <th>1.0</th>\n",
              "      <th>1.5</th>\n",
              "      <th>2.0</th>\n",
              "      <th>2.5</th>\n",
              "      <th>3.0</th>\n",
              "      <th>3.5</th>\n",
              "      <th>4.0</th>\n",
              "      <th>4.5</th>\n",
              "      <th>5.0</th>\n",
              "    </tr>\n",
              "    <tr>\n",
              "      <th>userId</th>\n",
              "      <th></th>\n",
              "      <th></th>\n",
              "      <th></th>\n",
              "      <th></th>\n",
              "      <th></th>\n",
              "      <th></th>\n",
              "      <th></th>\n",
              "      <th></th>\n",
              "      <th></th>\n",
              "      <th></th>\n",
              "    </tr>\n",
              "  </thead>\n",
              "  <tbody>\n",
              "    <tr>\n",
              "      <th>1</th>\n",
              "      <td></td>\n",
              "      <td>2</td>\n",
              "      <td></td>\n",
              "      <td>7</td>\n",
              "      <td>3</td>\n",
              "      <td>4</td>\n",
              "      <td>1</td>\n",
              "      <td>3</td>\n",
              "      <td></td>\n",
              "      <td></td>\n",
              "    </tr>\n",
              "    <tr>\n",
              "      <th>2</th>\n",
              "      <td></td>\n",
              "      <td>2</td>\n",
              "      <td></td>\n",
              "      <td>4</td>\n",
              "      <td></td>\n",
              "      <td>36</td>\n",
              "      <td></td>\n",
              "      <td>23</td>\n",
              "      <td></td>\n",
              "      <td>11</td>\n",
              "    </tr>\n",
              "    <tr>\n",
              "      <th>3</th>\n",
              "      <td></td>\n",
              "      <td></td>\n",
              "      <td></td>\n",
              "      <td>1</td>\n",
              "      <td>3</td>\n",
              "      <td>18</td>\n",
              "      <td>9</td>\n",
              "      <td>11</td>\n",
              "      <td>4</td>\n",
              "      <td>5</td>\n",
              "    </tr>\n",
              "    <tr>\n",
              "      <th>4</th>\n",
              "      <td></td>\n",
              "      <td>5</td>\n",
              "      <td></td>\n",
              "      <td>5</td>\n",
              "      <td></td>\n",
              "      <td>23</td>\n",
              "      <td></td>\n",
              "      <td>52</td>\n",
              "      <td></td>\n",
              "      <td>119</td>\n",
              "    </tr>\n",
              "    <tr>\n",
              "      <th>5</th>\n",
              "      <td></td>\n",
              "      <td></td>\n",
              "      <td>1</td>\n",
              "      <td></td>\n",
              "      <td>3</td>\n",
              "      <td>3</td>\n",
              "      <td>27</td>\n",
              "      <td>42</td>\n",
              "      <td>19</td>\n",
              "      <td>5</td>\n",
              "    </tr>\n",
              "  </tbody>\n",
              "</table>\n",
              "</div>"
            ],
            "text/plain": [
              "rating 0.5 1.0 1.5 2.0 2.5 3.0 3.5 4.0 4.5  5.0\n",
              "userId                                         \n",
              "1            2       7   3   4   1   3         \n",
              "2            2       4      36      23       11\n",
              "3                    1   3  18   9  11   4    5\n",
              "4            5       5      23      52      119\n",
              "5                1       3   3  27  42  19    5"
            ]
          },
          "metadata": {
            "tags": []
          },
          "execution_count": 16
        }
      ]
    },
    {
      "cell_type": "code",
      "metadata": {
        "scrolled": true,
        "id": "V_8QnL66Zw9W",
        "colab_type": "code",
        "colab": {},
        "outputId": "c6485597-567b-4720-a600-d3d377bfa56e"
      },
      "source": [
        "# можно итоги добавить\n",
        "ratings.pivot_table(index = 'userId', columns = 'rating', values = 'timestamp', aggfunc = 'count', fill_value = 0, \n",
        "                    margins = True).head()"
      ],
      "execution_count": 0,
      "outputs": [
        {
          "output_type": "execute_result",
          "data": {
            "text/html": [
              "<div>\n",
              "<style scoped>\n",
              "    .dataframe tbody tr th:only-of-type {\n",
              "        vertical-align: middle;\n",
              "    }\n",
              "\n",
              "    .dataframe tbody tr th {\n",
              "        vertical-align: top;\n",
              "    }\n",
              "\n",
              "    .dataframe thead th {\n",
              "        text-align: right;\n",
              "    }\n",
              "</style>\n",
              "<table border=\"1\" class=\"dataframe\">\n",
              "  <thead>\n",
              "    <tr style=\"text-align: right;\">\n",
              "      <th>rating</th>\n",
              "      <th>0.5</th>\n",
              "      <th>1.0</th>\n",
              "      <th>1.5</th>\n",
              "      <th>2.0</th>\n",
              "      <th>2.5</th>\n",
              "      <th>3.0</th>\n",
              "      <th>3.5</th>\n",
              "      <th>4.0</th>\n",
              "      <th>4.5</th>\n",
              "      <th>5.0</th>\n",
              "      <th>All</th>\n",
              "    </tr>\n",
              "    <tr>\n",
              "      <th>userId</th>\n",
              "      <th></th>\n",
              "      <th></th>\n",
              "      <th></th>\n",
              "      <th></th>\n",
              "      <th></th>\n",
              "      <th></th>\n",
              "      <th></th>\n",
              "      <th></th>\n",
              "      <th></th>\n",
              "      <th></th>\n",
              "      <th></th>\n",
              "    </tr>\n",
              "  </thead>\n",
              "  <tbody>\n",
              "    <tr>\n",
              "      <th>1</th>\n",
              "      <td>0</td>\n",
              "      <td>2</td>\n",
              "      <td>0</td>\n",
              "      <td>7</td>\n",
              "      <td>3</td>\n",
              "      <td>4</td>\n",
              "      <td>1</td>\n",
              "      <td>3</td>\n",
              "      <td>0</td>\n",
              "      <td>0</td>\n",
              "      <td>20</td>\n",
              "    </tr>\n",
              "    <tr>\n",
              "      <th>2</th>\n",
              "      <td>0</td>\n",
              "      <td>2</td>\n",
              "      <td>0</td>\n",
              "      <td>4</td>\n",
              "      <td>0</td>\n",
              "      <td>36</td>\n",
              "      <td>0</td>\n",
              "      <td>23</td>\n",
              "      <td>0</td>\n",
              "      <td>11</td>\n",
              "      <td>76</td>\n",
              "    </tr>\n",
              "    <tr>\n",
              "      <th>3</th>\n",
              "      <td>0</td>\n",
              "      <td>0</td>\n",
              "      <td>0</td>\n",
              "      <td>1</td>\n",
              "      <td>3</td>\n",
              "      <td>18</td>\n",
              "      <td>9</td>\n",
              "      <td>11</td>\n",
              "      <td>4</td>\n",
              "      <td>5</td>\n",
              "      <td>51</td>\n",
              "    </tr>\n",
              "    <tr>\n",
              "      <th>4</th>\n",
              "      <td>0</td>\n",
              "      <td>5</td>\n",
              "      <td>0</td>\n",
              "      <td>5</td>\n",
              "      <td>0</td>\n",
              "      <td>23</td>\n",
              "      <td>0</td>\n",
              "      <td>52</td>\n",
              "      <td>0</td>\n",
              "      <td>119</td>\n",
              "      <td>204</td>\n",
              "    </tr>\n",
              "    <tr>\n",
              "      <th>5</th>\n",
              "      <td>0</td>\n",
              "      <td>0</td>\n",
              "      <td>1</td>\n",
              "      <td>0</td>\n",
              "      <td>3</td>\n",
              "      <td>3</td>\n",
              "      <td>27</td>\n",
              "      <td>42</td>\n",
              "      <td>19</td>\n",
              "      <td>5</td>\n",
              "      <td>100</td>\n",
              "    </tr>\n",
              "  </tbody>\n",
              "</table>\n",
              "</div>"
            ],
            "text/plain": [
              "rating  0.5  1.0  1.5  2.0  2.5  3.0  3.5  4.0  4.5  5.0  All\n",
              "userId                                                       \n",
              "1         0    2    0    7    3    4    1    3    0    0   20\n",
              "2         0    2    0    4    0   36    0   23    0   11   76\n",
              "3         0    0    0    1    3   18    9   11    4    5   51\n",
              "4         0    5    0    5    0   23    0   52    0  119  204\n",
              "5         0    0    1    0    3    3   27   42   19    5  100"
            ]
          },
          "metadata": {
            "tags": []
          },
          "execution_count": 18
        }
      ]
    },
    {
      "cell_type": "code",
      "metadata": {
        "scrolled": true,
        "id": "PNdbqjP8Zw9r",
        "colab_type": "code",
        "colab": {},
        "outputId": "094078a5-5700-439b-d525-01ff8b7fb55f"
      },
      "source": [
        "# можно считать несколько функций сразу\n",
        "ratings.pivot_table(index = 'userId', columns = 'rating', values = 'timestamp', \n",
        "                    aggfunc = ['count', 'sum']).tail()"
      ],
      "execution_count": 0,
      "outputs": [
        {
          "output_type": "execute_result",
          "data": {
            "text/html": [
              "<div>\n",
              "<style scoped>\n",
              "    .dataframe tbody tr th:only-of-type {\n",
              "        vertical-align: middle;\n",
              "    }\n",
              "\n",
              "    .dataframe tbody tr th {\n",
              "        vertical-align: top;\n",
              "    }\n",
              "\n",
              "    .dataframe thead tr th {\n",
              "        text-align: left;\n",
              "    }\n",
              "\n",
              "    .dataframe thead tr:last-of-type th {\n",
              "        text-align: right;\n",
              "    }\n",
              "</style>\n",
              "<table border=\"1\" class=\"dataframe\">\n",
              "  <thead>\n",
              "    <tr>\n",
              "      <th></th>\n",
              "      <th colspan=\"10\" halign=\"left\">count</th>\n",
              "      <th colspan=\"10\" halign=\"left\">sum</th>\n",
              "    </tr>\n",
              "    <tr>\n",
              "      <th>rating</th>\n",
              "      <th>0.5</th>\n",
              "      <th>1.0</th>\n",
              "      <th>1.5</th>\n",
              "      <th>2.0</th>\n",
              "      <th>2.5</th>\n",
              "      <th>3.0</th>\n",
              "      <th>3.5</th>\n",
              "      <th>4.0</th>\n",
              "      <th>4.5</th>\n",
              "      <th>5.0</th>\n",
              "      <th>0.5</th>\n",
              "      <th>1.0</th>\n",
              "      <th>1.5</th>\n",
              "      <th>2.0</th>\n",
              "      <th>2.5</th>\n",
              "      <th>3.0</th>\n",
              "      <th>3.5</th>\n",
              "      <th>4.0</th>\n",
              "      <th>4.5</th>\n",
              "      <th>5.0</th>\n",
              "    </tr>\n",
              "    <tr>\n",
              "      <th>userId</th>\n",
              "      <th></th>\n",
              "      <th></th>\n",
              "      <th></th>\n",
              "      <th></th>\n",
              "      <th></th>\n",
              "      <th></th>\n",
              "      <th></th>\n",
              "      <th></th>\n",
              "      <th></th>\n",
              "      <th></th>\n",
              "      <th></th>\n",
              "      <th></th>\n",
              "      <th></th>\n",
              "      <th></th>\n",
              "      <th></th>\n",
              "      <th></th>\n",
              "      <th></th>\n",
              "      <th></th>\n",
              "      <th></th>\n",
              "      <th></th>\n",
              "    </tr>\n",
              "  </thead>\n",
              "  <tbody>\n",
              "    <tr>\n",
              "      <th>667</th>\n",
              "      <td>NaN</td>\n",
              "      <td>NaN</td>\n",
              "      <td>NaN</td>\n",
              "      <td>4.0</td>\n",
              "      <td>NaN</td>\n",
              "      <td>28.0</td>\n",
              "      <td>NaN</td>\n",
              "      <td>24.0</td>\n",
              "      <td>NaN</td>\n",
              "      <td>12.0</td>\n",
              "      <td>NaN</td>\n",
              "      <td>NaN</td>\n",
              "      <td>NaN</td>\n",
              "      <td>3.389087e+09</td>\n",
              "      <td>NaN</td>\n",
              "      <td>2.372360e+10</td>\n",
              "      <td>NaN</td>\n",
              "      <td>2.033452e+10</td>\n",
              "      <td>NaN</td>\n",
              "      <td>1.016726e+10</td>\n",
              "    </tr>\n",
              "    <tr>\n",
              "      <th>668</th>\n",
              "      <td>NaN</td>\n",
              "      <td>2.0</td>\n",
              "      <td>NaN</td>\n",
              "      <td>NaN</td>\n",
              "      <td>NaN</td>\n",
              "      <td>7.0</td>\n",
              "      <td>NaN</td>\n",
              "      <td>3.0</td>\n",
              "      <td>NaN</td>\n",
              "      <td>8.0</td>\n",
              "      <td>NaN</td>\n",
              "      <td>1.987227e+09</td>\n",
              "      <td>NaN</td>\n",
              "      <td>NaN</td>\n",
              "      <td>NaN</td>\n",
              "      <td>6.955293e+09</td>\n",
              "      <td>NaN</td>\n",
              "      <td>2.980840e+09</td>\n",
              "      <td>NaN</td>\n",
              "      <td>7.948907e+09</td>\n",
              "    </tr>\n",
              "    <tr>\n",
              "      <th>669</th>\n",
              "      <td>NaN</td>\n",
              "      <td>NaN</td>\n",
              "      <td>NaN</td>\n",
              "      <td>7.0</td>\n",
              "      <td>NaN</td>\n",
              "      <td>14.0</td>\n",
              "      <td>NaN</td>\n",
              "      <td>12.0</td>\n",
              "      <td>NaN</td>\n",
              "      <td>4.0</td>\n",
              "      <td>NaN</td>\n",
              "      <td>NaN</td>\n",
              "      <td>NaN</td>\n",
              "      <td>7.110805e+09</td>\n",
              "      <td>NaN</td>\n",
              "      <td>1.422161e+10</td>\n",
              "      <td>NaN</td>\n",
              "      <td>1.218995e+10</td>\n",
              "      <td>NaN</td>\n",
              "      <td>4.063317e+09</td>\n",
              "    </tr>\n",
              "    <tr>\n",
              "      <th>670</th>\n",
              "      <td>NaN</td>\n",
              "      <td>2.0</td>\n",
              "      <td>NaN</td>\n",
              "      <td>3.0</td>\n",
              "      <td>NaN</td>\n",
              "      <td>5.0</td>\n",
              "      <td>NaN</td>\n",
              "      <td>10.0</td>\n",
              "      <td>NaN</td>\n",
              "      <td>11.0</td>\n",
              "      <td>NaN</td>\n",
              "      <td>1.877564e+09</td>\n",
              "      <td>NaN</td>\n",
              "      <td>2.818508e+09</td>\n",
              "      <td>NaN</td>\n",
              "      <td>4.696072e+09</td>\n",
              "      <td>NaN</td>\n",
              "      <td>9.387821e+09</td>\n",
              "      <td>NaN</td>\n",
              "      <td>1.033093e+10</td>\n",
              "    </tr>\n",
              "    <tr>\n",
              "      <th>671</th>\n",
              "      <td>NaN</td>\n",
              "      <td>1.0</td>\n",
              "      <td>NaN</td>\n",
              "      <td>4.0</td>\n",
              "      <td>4.0</td>\n",
              "      <td>9.0</td>\n",
              "      <td>13.0</td>\n",
              "      <td>57.0</td>\n",
              "      <td>8.0</td>\n",
              "      <td>19.0</td>\n",
              "      <td>NaN</td>\n",
              "      <td>1.063504e+09</td>\n",
              "      <td>NaN</td>\n",
              "      <td>4.259654e+09</td>\n",
              "      <td>4.265212e+09</td>\n",
              "      <td>9.579165e+09</td>\n",
              "      <td>1.384568e+10</td>\n",
              "      <td>6.070199e+10</td>\n",
              "      <td>8.516026e+09</td>\n",
              "      <td>2.022592e+10</td>\n",
              "    </tr>\n",
              "  </tbody>\n",
              "</table>\n",
              "</div>"
            ],
            "text/plain": [
              "       count                                                 sum  \\\n",
              "rating   0.5  1.0 1.5  2.0  2.5   3.0   3.5   4.0  4.5   5.0 0.5   \n",
              "userId                                                             \n",
              "667      NaN  NaN NaN  4.0  NaN  28.0   NaN  24.0  NaN  12.0 NaN   \n",
              "668      NaN  2.0 NaN  NaN  NaN   7.0   NaN   3.0  NaN   8.0 NaN   \n",
              "669      NaN  NaN NaN  7.0  NaN  14.0   NaN  12.0  NaN   4.0 NaN   \n",
              "670      NaN  2.0 NaN  3.0  NaN   5.0   NaN  10.0  NaN  11.0 NaN   \n",
              "671      NaN  1.0 NaN  4.0  4.0   9.0  13.0  57.0  8.0  19.0 NaN   \n",
              "\n",
              "                                                                    \\\n",
              "rating           1.0 1.5           2.0           2.5           3.0   \n",
              "userId                                                               \n",
              "667              NaN NaN  3.389087e+09           NaN  2.372360e+10   \n",
              "668     1.987227e+09 NaN           NaN           NaN  6.955293e+09   \n",
              "669              NaN NaN  7.110805e+09           NaN  1.422161e+10   \n",
              "670     1.877564e+09 NaN  2.818508e+09           NaN  4.696072e+09   \n",
              "671     1.063504e+09 NaN  4.259654e+09  4.265212e+09  9.579165e+09   \n",
              "\n",
              "                                                                \n",
              "rating           3.5           4.0           4.5           5.0  \n",
              "userId                                                          \n",
              "667              NaN  2.033452e+10           NaN  1.016726e+10  \n",
              "668              NaN  2.980840e+09           NaN  7.948907e+09  \n",
              "669              NaN  1.218995e+10           NaN  4.063317e+09  \n",
              "670              NaN  9.387821e+09           NaN  1.033093e+10  \n",
              "671     1.384568e+10  6.070199e+10  8.516026e+09  2.022592e+10  "
            ]
          },
          "metadata": {
            "tags": []
          },
          "execution_count": 19
        }
      ]
    },
    {
      "cell_type": "markdown",
      "metadata": {
        "id": "tu4XqSFYZw96",
        "colab_type": "text"
      },
      "source": [
        "### Упражнение\n",
        "Какой пользователь выставил больше всех пятерок?"
      ]
    },
    {
      "cell_type": "code",
      "metadata": {
        "id": "APhYcTlxZw9-",
        "colab_type": "code",
        "colab": {},
        "outputId": "9ab07663-e112-4353-defe-0e89ab296a43"
      },
      "source": [
        "ratings.head()"
      ],
      "execution_count": 0,
      "outputs": [
        {
          "output_type": "execute_result",
          "data": {
            "text/html": [
              "<div>\n",
              "<style scoped>\n",
              "    .dataframe tbody tr th:only-of-type {\n",
              "        vertical-align: middle;\n",
              "    }\n",
              "\n",
              "    .dataframe tbody tr th {\n",
              "        vertical-align: top;\n",
              "    }\n",
              "\n",
              "    .dataframe thead th {\n",
              "        text-align: right;\n",
              "    }\n",
              "</style>\n",
              "<table border=\"1\" class=\"dataframe\">\n",
              "  <thead>\n",
              "    <tr style=\"text-align: right;\">\n",
              "      <th></th>\n",
              "      <th>userId</th>\n",
              "      <th>movieId</th>\n",
              "      <th>rating</th>\n",
              "      <th>timestamp</th>\n",
              "    </tr>\n",
              "  </thead>\n",
              "  <tbody>\n",
              "    <tr>\n",
              "      <th>0</th>\n",
              "      <td>1</td>\n",
              "      <td>31</td>\n",
              "      <td>2.5</td>\n",
              "      <td>1260759144</td>\n",
              "    </tr>\n",
              "    <tr>\n",
              "      <th>1</th>\n",
              "      <td>1</td>\n",
              "      <td>1029</td>\n",
              "      <td>3.0</td>\n",
              "      <td>1260759179</td>\n",
              "    </tr>\n",
              "    <tr>\n",
              "      <th>2</th>\n",
              "      <td>1</td>\n",
              "      <td>1061</td>\n",
              "      <td>3.0</td>\n",
              "      <td>1260759182</td>\n",
              "    </tr>\n",
              "    <tr>\n",
              "      <th>3</th>\n",
              "      <td>1</td>\n",
              "      <td>1129</td>\n",
              "      <td>2.0</td>\n",
              "      <td>1260759185</td>\n",
              "    </tr>\n",
              "    <tr>\n",
              "      <th>4</th>\n",
              "      <td>1</td>\n",
              "      <td>1172</td>\n",
              "      <td>4.0</td>\n",
              "      <td>1260759205</td>\n",
              "    </tr>\n",
              "  </tbody>\n",
              "</table>\n",
              "</div>"
            ],
            "text/plain": [
              "   userId  movieId  rating   timestamp\n",
              "0       1       31     2.5  1260759144\n",
              "1       1     1029     3.0  1260759179\n",
              "2       1     1061     3.0  1260759182\n",
              "3       1     1129     2.0  1260759185\n",
              "4       1     1172     4.0  1260759205"
            ]
          },
          "metadata": {
            "tags": []
          },
          "execution_count": 22
        }
      ]
    },
    {
      "cell_type": "code",
      "metadata": {
        "id": "g6BikwIqZw-L",
        "colab_type": "code",
        "colab": {},
        "outputId": "f258b258-4a51-4045-c3da-568ad1362d2d"
      },
      "source": [
        "ratings.pivot_table(index = ['userId', 'movieId'], columns = 'rating', values = 'timestamp', \n",
        "                    aggfunc = 'count', fill_value='').head()"
      ],
      "execution_count": 0,
      "outputs": [
        {
          "output_type": "execute_result",
          "data": {
            "text/html": [
              "<div>\n",
              "<style scoped>\n",
              "    .dataframe tbody tr th:only-of-type {\n",
              "        vertical-align: middle;\n",
              "    }\n",
              "\n",
              "    .dataframe tbody tr th {\n",
              "        vertical-align: top;\n",
              "    }\n",
              "\n",
              "    .dataframe thead th {\n",
              "        text-align: right;\n",
              "    }\n",
              "</style>\n",
              "<table border=\"1\" class=\"dataframe\">\n",
              "  <thead>\n",
              "    <tr style=\"text-align: right;\">\n",
              "      <th></th>\n",
              "      <th>rating</th>\n",
              "      <th>0.5</th>\n",
              "      <th>1.0</th>\n",
              "      <th>1.5</th>\n",
              "      <th>2.0</th>\n",
              "      <th>2.5</th>\n",
              "      <th>3.0</th>\n",
              "      <th>3.5</th>\n",
              "      <th>4.0</th>\n",
              "      <th>4.5</th>\n",
              "      <th>5.0</th>\n",
              "    </tr>\n",
              "    <tr>\n",
              "      <th>userId</th>\n",
              "      <th>movieId</th>\n",
              "      <th></th>\n",
              "      <th></th>\n",
              "      <th></th>\n",
              "      <th></th>\n",
              "      <th></th>\n",
              "      <th></th>\n",
              "      <th></th>\n",
              "      <th></th>\n",
              "      <th></th>\n",
              "      <th></th>\n",
              "    </tr>\n",
              "  </thead>\n",
              "  <tbody>\n",
              "    <tr>\n",
              "      <th rowspan=\"5\" valign=\"top\">1</th>\n",
              "      <th>31</th>\n",
              "      <td></td>\n",
              "      <td></td>\n",
              "      <td></td>\n",
              "      <td></td>\n",
              "      <td>1</td>\n",
              "      <td></td>\n",
              "      <td></td>\n",
              "      <td></td>\n",
              "      <td></td>\n",
              "      <td></td>\n",
              "    </tr>\n",
              "    <tr>\n",
              "      <th>1029</th>\n",
              "      <td></td>\n",
              "      <td></td>\n",
              "      <td></td>\n",
              "      <td></td>\n",
              "      <td></td>\n",
              "      <td>1</td>\n",
              "      <td></td>\n",
              "      <td></td>\n",
              "      <td></td>\n",
              "      <td></td>\n",
              "    </tr>\n",
              "    <tr>\n",
              "      <th>1061</th>\n",
              "      <td></td>\n",
              "      <td></td>\n",
              "      <td></td>\n",
              "      <td></td>\n",
              "      <td></td>\n",
              "      <td>1</td>\n",
              "      <td></td>\n",
              "      <td></td>\n",
              "      <td></td>\n",
              "      <td></td>\n",
              "    </tr>\n",
              "    <tr>\n",
              "      <th>1129</th>\n",
              "      <td></td>\n",
              "      <td></td>\n",
              "      <td></td>\n",
              "      <td>1</td>\n",
              "      <td></td>\n",
              "      <td></td>\n",
              "      <td></td>\n",
              "      <td></td>\n",
              "      <td></td>\n",
              "      <td></td>\n",
              "    </tr>\n",
              "    <tr>\n",
              "      <th>1172</th>\n",
              "      <td></td>\n",
              "      <td></td>\n",
              "      <td></td>\n",
              "      <td></td>\n",
              "      <td></td>\n",
              "      <td></td>\n",
              "      <td></td>\n",
              "      <td>1</td>\n",
              "      <td></td>\n",
              "      <td></td>\n",
              "    </tr>\n",
              "  </tbody>\n",
              "</table>\n",
              "</div>"
            ],
            "text/plain": [
              "rating         0.5 1.0 1.5 2.0 2.5 3.0 3.5 4.0 4.5 5.0\n",
              "userId movieId                                        \n",
              "1      31                        1                    \n",
              "       1029                          1                \n",
              "       1061                          1                \n",
              "       1129                  1                        \n",
              "       1172                                  1        "
            ]
          },
          "metadata": {
            "tags": []
          },
          "execution_count": 24
        }
      ]
    },
    {
      "cell_type": "code",
      "metadata": {
        "id": "CGJXXzGGZw-a",
        "colab_type": "code",
        "colab": {},
        "outputId": "f83fbc13-4216-4ab1-9917-2cb32bc9a500"
      },
      "source": [
        "sorted_tab = ratings.pivot_table(index = 'userId', columns = 'rating', values = 'timestamp', aggfunc = 'count', fill_value = 0)\n",
        "sorted_tab.sort_values(by = 5, ascending=False).head()\n"
      ],
      "execution_count": 0,
      "outputs": [
        {
          "output_type": "execute_result",
          "data": {
            "text/html": [
              "<div>\n",
              "<style scoped>\n",
              "    .dataframe tbody tr th:only-of-type {\n",
              "        vertical-align: middle;\n",
              "    }\n",
              "\n",
              "    .dataframe tbody tr th {\n",
              "        vertical-align: top;\n",
              "    }\n",
              "\n",
              "    .dataframe thead th {\n",
              "        text-align: right;\n",
              "    }\n",
              "</style>\n",
              "<table border=\"1\" class=\"dataframe\">\n",
              "  <thead>\n",
              "    <tr style=\"text-align: right;\">\n",
              "      <th>rating</th>\n",
              "      <th>0.5</th>\n",
              "      <th>1.0</th>\n",
              "      <th>1.5</th>\n",
              "      <th>2.0</th>\n",
              "      <th>2.5</th>\n",
              "      <th>3.0</th>\n",
              "      <th>3.5</th>\n",
              "      <th>4.0</th>\n",
              "      <th>4.5</th>\n",
              "      <th>5.0</th>\n",
              "    </tr>\n",
              "    <tr>\n",
              "      <th>userId</th>\n",
              "      <th></th>\n",
              "      <th></th>\n",
              "      <th></th>\n",
              "      <th></th>\n",
              "      <th></th>\n",
              "      <th></th>\n",
              "      <th></th>\n",
              "      <th></th>\n",
              "      <th></th>\n",
              "      <th></th>\n",
              "    </tr>\n",
              "  </thead>\n",
              "  <tbody>\n",
              "    <tr>\n",
              "      <th>564</th>\n",
              "      <td>0</td>\n",
              "      <td>152</td>\n",
              "      <td>0</td>\n",
              "      <td>187</td>\n",
              "      <td>0</td>\n",
              "      <td>414</td>\n",
              "      <td>0</td>\n",
              "      <td>707</td>\n",
              "      <td>0</td>\n",
              "      <td>408</td>\n",
              "    </tr>\n",
              "    <tr>\n",
              "      <th>232</th>\n",
              "      <td>0</td>\n",
              "      <td>35</td>\n",
              "      <td>0</td>\n",
              "      <td>32</td>\n",
              "      <td>0</td>\n",
              "      <td>96</td>\n",
              "      <td>0</td>\n",
              "      <td>276</td>\n",
              "      <td>0</td>\n",
              "      <td>243</td>\n",
              "    </tr>\n",
              "    <tr>\n",
              "      <th>242</th>\n",
              "      <td>0</td>\n",
              "      <td>0</td>\n",
              "      <td>0</td>\n",
              "      <td>4</td>\n",
              "      <td>0</td>\n",
              "      <td>25</td>\n",
              "      <td>0</td>\n",
              "      <td>151</td>\n",
              "      <td>0</td>\n",
              "      <td>219</td>\n",
              "    </tr>\n",
              "    <tr>\n",
              "      <th>547</th>\n",
              "      <td>53</td>\n",
              "      <td>79</td>\n",
              "      <td>58</td>\n",
              "      <td>204</td>\n",
              "      <td>177</td>\n",
              "      <td>411</td>\n",
              "      <td>378</td>\n",
              "      <td>591</td>\n",
              "      <td>226</td>\n",
              "      <td>214</td>\n",
              "    </tr>\n",
              "    <tr>\n",
              "      <th>30</th>\n",
              "      <td>0</td>\n",
              "      <td>20</td>\n",
              "      <td>0</td>\n",
              "      <td>86</td>\n",
              "      <td>0</td>\n",
              "      <td>201</td>\n",
              "      <td>2</td>\n",
              "      <td>505</td>\n",
              "      <td>1</td>\n",
              "      <td>196</td>\n",
              "    </tr>\n",
              "  </tbody>\n",
              "</table>\n",
              "</div>"
            ],
            "text/plain": [
              "rating  0.5  1.0  1.5  2.0  2.5  3.0  3.5  4.0  4.5  5.0\n",
              "userId                                                  \n",
              "564       0  152    0  187    0  414    0  707    0  408\n",
              "232       0   35    0   32    0   96    0  276    0  243\n",
              "242       0    0    0    4    0   25    0  151    0  219\n",
              "547      53   79   58  204  177  411  378  591  226  214\n",
              "30        0   20    0   86    0  201    2  505    1  196"
            ]
          },
          "metadata": {
            "tags": []
          },
          "execution_count": 29
        }
      ]
    },
    {
      "cell_type": "code",
      "metadata": {
        "id": "HrU9vf_7Zw-h",
        "colab_type": "code",
        "colab": {},
        "outputId": "0ec5772f-1c13-4295-ea49-9fac237d2cce"
      },
      "source": [
        "ratings.pivot_table(index = 'userId', columns = 'rating', values = 'timestamp', aggfunc = 'count', fill_value = 0).sort_values(by=5.0, ascending = False).head(1)"
      ],
      "execution_count": 0,
      "outputs": [
        {
          "output_type": "execute_result",
          "data": {
            "text/html": [
              "<div>\n",
              "<style scoped>\n",
              "    .dataframe tbody tr th:only-of-type {\n",
              "        vertical-align: middle;\n",
              "    }\n",
              "\n",
              "    .dataframe tbody tr th {\n",
              "        vertical-align: top;\n",
              "    }\n",
              "\n",
              "    .dataframe thead th {\n",
              "        text-align: right;\n",
              "    }\n",
              "</style>\n",
              "<table border=\"1\" class=\"dataframe\">\n",
              "  <thead>\n",
              "    <tr style=\"text-align: right;\">\n",
              "      <th>rating</th>\n",
              "      <th>0.5</th>\n",
              "      <th>1.0</th>\n",
              "      <th>1.5</th>\n",
              "      <th>2.0</th>\n",
              "      <th>2.5</th>\n",
              "      <th>3.0</th>\n",
              "      <th>3.5</th>\n",
              "      <th>4.0</th>\n",
              "      <th>4.5</th>\n",
              "      <th>5.0</th>\n",
              "    </tr>\n",
              "    <tr>\n",
              "      <th>userId</th>\n",
              "      <th></th>\n",
              "      <th></th>\n",
              "      <th></th>\n",
              "      <th></th>\n",
              "      <th></th>\n",
              "      <th></th>\n",
              "      <th></th>\n",
              "      <th></th>\n",
              "      <th></th>\n",
              "      <th></th>\n",
              "    </tr>\n",
              "  </thead>\n",
              "  <tbody>\n",
              "    <tr>\n",
              "      <th>564</th>\n",
              "      <td>0</td>\n",
              "      <td>152</td>\n",
              "      <td>0</td>\n",
              "      <td>187</td>\n",
              "      <td>0</td>\n",
              "      <td>414</td>\n",
              "      <td>0</td>\n",
              "      <td>707</td>\n",
              "      <td>0</td>\n",
              "      <td>408</td>\n",
              "    </tr>\n",
              "  </tbody>\n",
              "</table>\n",
              "</div>"
            ],
            "text/plain": [
              "rating  0.5  1.0  1.5  2.0  2.5  3.0  3.5  4.0  4.5  5.0\n",
              "userId                                                  \n",
              "564       0  152    0  187    0  414    0  707    0  408"
            ]
          },
          "metadata": {
            "tags": []
          },
          "execution_count": 30
        }
      ]
    },
    {
      "cell_type": "markdown",
      "metadata": {
        "id": "JgtpoAE5Zw-w",
        "colab_type": "text"
      },
      "source": [
        "### Фильтры и вычисления с помощью loc и iloc"
      ]
    },
    {
      "cell_type": "code",
      "metadata": {
        "id": "3fwVStewZw-z",
        "colab_type": "code",
        "colab": {},
        "outputId": "2a1c2c07-3548-41d5-a799-7655602d091f"
      },
      "source": [
        "log = pd.read_csv('visit_log.csv', sep=';')\n",
        "log.head()"
      ],
      "execution_count": 0,
      "outputs": [
        {
          "output_type": "execute_result",
          "data": {
            "text/html": [
              "<div>\n",
              "<style scoped>\n",
              "    .dataframe tbody tr th:only-of-type {\n",
              "        vertical-align: middle;\n",
              "    }\n",
              "\n",
              "    .dataframe tbody tr th {\n",
              "        vertical-align: top;\n",
              "    }\n",
              "\n",
              "    .dataframe thead th {\n",
              "        text-align: right;\n",
              "    }\n",
              "</style>\n",
              "<table border=\"1\" class=\"dataframe\">\n",
              "  <thead>\n",
              "    <tr style=\"text-align: right;\">\n",
              "      <th></th>\n",
              "      <th>timestamp</th>\n",
              "      <th>visit_id</th>\n",
              "      <th>url</th>\n",
              "      <th>region</th>\n",
              "      <th>user_id</th>\n",
              "      <th>traffic_source</th>\n",
              "    </tr>\n",
              "  </thead>\n",
              "  <tbody>\n",
              "    <tr>\n",
              "      <th>0</th>\n",
              "      <td>1549980692</td>\n",
              "      <td>e3b0c44298</td>\n",
              "      <td>https://host.ru/3c19b4ef7371864fa3</td>\n",
              "      <td>Russia</td>\n",
              "      <td>b1613cc09f</td>\n",
              "      <td>yandex</td>\n",
              "    </tr>\n",
              "    <tr>\n",
              "      <th>1</th>\n",
              "      <td>1549980704</td>\n",
              "      <td>6e340b9cff</td>\n",
              "      <td>https://host.ru/c8d9213a31839f9a3a</td>\n",
              "      <td>Russia</td>\n",
              "      <td>4c3ec14bee</td>\n",
              "      <td>direct</td>\n",
              "    </tr>\n",
              "    <tr>\n",
              "      <th>2</th>\n",
              "      <td>1549980715</td>\n",
              "      <td>96a296d224</td>\n",
              "      <td>https://host.ru/b8b58337d272ee7b15</td>\n",
              "      <td>Russia</td>\n",
              "      <td>a8c40697fb</td>\n",
              "      <td>yandex</td>\n",
              "    </tr>\n",
              "    <tr>\n",
              "      <th>3</th>\n",
              "      <td>1549980725</td>\n",
              "      <td>709e80c884</td>\n",
              "      <td>https://host.ru/b8b58337d272ee7b15</td>\n",
              "      <td>Russia</td>\n",
              "      <td>521ac1d6a0</td>\n",
              "      <td>yandex</td>\n",
              "    </tr>\n",
              "    <tr>\n",
              "      <th>4</th>\n",
              "      <td>1549980736</td>\n",
              "      <td>df3f619804</td>\n",
              "      <td>https://host.ru/b8b58337d272ee7b15</td>\n",
              "      <td>Russia</td>\n",
              "      <td>d7323c571c</td>\n",
              "      <td>yandex</td>\n",
              "    </tr>\n",
              "  </tbody>\n",
              "</table>\n",
              "</div>"
            ],
            "text/plain": [
              "    timestamp    visit_id                                 url  region  \\\n",
              "0  1549980692  e3b0c44298  https://host.ru/3c19b4ef7371864fa3  Russia   \n",
              "1  1549980704  6e340b9cff  https://host.ru/c8d9213a31839f9a3a  Russia   \n",
              "2  1549980715  96a296d224  https://host.ru/b8b58337d272ee7b15  Russia   \n",
              "3  1549980725  709e80c884  https://host.ru/b8b58337d272ee7b15  Russia   \n",
              "4  1549980736  df3f619804  https://host.ru/b8b58337d272ee7b15  Russia   \n",
              "\n",
              "      user_id traffic_source  \n",
              "0  b1613cc09f         yandex  \n",
              "1  4c3ec14bee         direct  \n",
              "2  a8c40697fb         yandex  \n",
              "3  521ac1d6a0         yandex  \n",
              "4  d7323c571c         yandex  "
            ]
          },
          "metadata": {
            "tags": []
          },
          "execution_count": 74
        }
      ]
    },
    {
      "cell_type": "markdown",
      "metadata": {
        "id": "vbUzCDSQZw-9",
        "colab_type": "text"
      },
      "source": [
        "### Но сначала упражнение\n",
        "Сколько различных страниц есть в столбце url? Постройте топ-5 страниц по посещаемости.\n",
        "\n",
        "Бонусный вариант: выведите топ-5 страниц без указания хоста https://host.ru"
      ]
    },
    {
      "cell_type": "code",
      "metadata": {
        "id": "_67dwRXcZw--",
        "colab_type": "code",
        "colab": {},
        "outputId": "c40d5330-466e-4843-b69a-07f302d43965"
      },
      "source": [
        "len(log.url.unique())"
      ],
      "execution_count": 0,
      "outputs": [
        {
          "output_type": "execute_result",
          "data": {
            "text/plain": [
              "38"
            ]
          },
          "metadata": {
            "tags": []
          },
          "execution_count": 33
        }
      ]
    },
    {
      "cell_type": "code",
      "metadata": {
        "id": "TXgwKnm_Zw_E",
        "colab_type": "code",
        "colab": {},
        "outputId": "8d9048b5-539c-430a-baab-e13b02f42778"
      },
      "source": [
        "'https://host.ru/3c19b4ef7371864fa3'.split('/')[-1]"
      ],
      "execution_count": 0,
      "outputs": [
        {
          "output_type": "execute_result",
          "data": {
            "text/plain": [
              "'3c19b4ef7371864fa3'"
            ]
          },
          "metadata": {
            "tags": []
          },
          "execution_count": 36
        }
      ]
    },
    {
      "cell_type": "code",
      "metadata": {
        "scrolled": true,
        "id": "A3Vwp629Zw_S",
        "colab_type": "code",
        "colab": {},
        "outputId": "8ce01c6d-0ea2-4557-b219-7fca4925e5cd"
      },
      "source": [
        "log.url.apply(lambda x: x.split('/')[-1]).head()"
      ],
      "execution_count": 0,
      "outputs": [
        {
          "output_type": "execute_result",
          "data": {
            "text/plain": [
              "0    3c19b4ef7371864fa3\n",
              "1    c8d9213a31839f9a3a\n",
              "2    b8b58337d272ee7b15\n",
              "3    b8b58337d272ee7b15\n",
              "4    b8b58337d272ee7b15\n",
              "Name: url, dtype: object"
            ]
          },
          "metadata": {
            "tags": []
          },
          "execution_count": 38
        }
      ]
    },
    {
      "cell_type": "code",
      "metadata": {
        "id": "FxIY1gGFZw_Y",
        "colab_type": "code",
        "colab": {}
      },
      "source": [
        ""
      ],
      "execution_count": 0,
      "outputs": []
    },
    {
      "cell_type": "code",
      "metadata": {
        "id": "7_ykjPuSZw_f",
        "colab_type": "code",
        "colab": {},
        "outputId": "cf004e84-71cb-4d2b-e138-b53531b94917"
      },
      "source": [
        "# метод loc позволяет выбрать строки и столбцы в соответствии с условиями\n",
        "# двоеточие означает выбор всех значений\n",
        "\n",
        "log.loc[:, ['user_id', 'region']].head()"
      ],
      "execution_count": 0,
      "outputs": [
        {
          "output_type": "execute_result",
          "data": {
            "text/html": [
              "<div>\n",
              "<style scoped>\n",
              "    .dataframe tbody tr th:only-of-type {\n",
              "        vertical-align: middle;\n",
              "    }\n",
              "\n",
              "    .dataframe tbody tr th {\n",
              "        vertical-align: top;\n",
              "    }\n",
              "\n",
              "    .dataframe thead th {\n",
              "        text-align: right;\n",
              "    }\n",
              "</style>\n",
              "<table border=\"1\" class=\"dataframe\">\n",
              "  <thead>\n",
              "    <tr style=\"text-align: right;\">\n",
              "      <th></th>\n",
              "      <th>user_id</th>\n",
              "      <th>region</th>\n",
              "    </tr>\n",
              "  </thead>\n",
              "  <tbody>\n",
              "    <tr>\n",
              "      <th>0</th>\n",
              "      <td>b1613cc09f</td>\n",
              "      <td>Russia</td>\n",
              "    </tr>\n",
              "    <tr>\n",
              "      <th>1</th>\n",
              "      <td>4c3ec14bee</td>\n",
              "      <td>Russia</td>\n",
              "    </tr>\n",
              "    <tr>\n",
              "      <th>2</th>\n",
              "      <td>a8c40697fb</td>\n",
              "      <td>Russia</td>\n",
              "    </tr>\n",
              "    <tr>\n",
              "      <th>3</th>\n",
              "      <td>521ac1d6a0</td>\n",
              "      <td>Russia</td>\n",
              "    </tr>\n",
              "    <tr>\n",
              "      <th>4</th>\n",
              "      <td>d7323c571c</td>\n",
              "      <td>Russia</td>\n",
              "    </tr>\n",
              "  </tbody>\n",
              "</table>\n",
              "</div>"
            ],
            "text/plain": [
              "      user_id  region\n",
              "0  b1613cc09f  Russia\n",
              "1  4c3ec14bee  Russia\n",
              "2  a8c40697fb  Russia\n",
              "3  521ac1d6a0  Russia\n",
              "4  d7323c571c  Russia"
            ]
          },
          "metadata": {
            "tags": []
          },
          "execution_count": 39
        }
      ]
    },
    {
      "cell_type": "code",
      "metadata": {
        "id": "1ju8YvQPZw_o",
        "colab_type": "code",
        "colab": {},
        "outputId": "aa504409-9ac1-4423-e64f-dd22b9729c4b"
      },
      "source": [
        "# iloc работает аналогично, но с указанием номера строки / столбца\n",
        "\n",
        "log.iloc[:, [1, -3]].head()"
      ],
      "execution_count": 0,
      "outputs": [
        {
          "output_type": "execute_result",
          "data": {
            "text/html": [
              "<div>\n",
              "<style scoped>\n",
              "    .dataframe tbody tr th:only-of-type {\n",
              "        vertical-align: middle;\n",
              "    }\n",
              "\n",
              "    .dataframe tbody tr th {\n",
              "        vertical-align: top;\n",
              "    }\n",
              "\n",
              "    .dataframe thead th {\n",
              "        text-align: right;\n",
              "    }\n",
              "</style>\n",
              "<table border=\"1\" class=\"dataframe\">\n",
              "  <thead>\n",
              "    <tr style=\"text-align: right;\">\n",
              "      <th></th>\n",
              "      <th>visit_id</th>\n",
              "      <th>region</th>\n",
              "    </tr>\n",
              "  </thead>\n",
              "  <tbody>\n",
              "    <tr>\n",
              "      <th>0</th>\n",
              "      <td>e3b0c44298</td>\n",
              "      <td>Russia</td>\n",
              "    </tr>\n",
              "    <tr>\n",
              "      <th>1</th>\n",
              "      <td>6e340b9cff</td>\n",
              "      <td>Russia</td>\n",
              "    </tr>\n",
              "    <tr>\n",
              "      <th>2</th>\n",
              "      <td>96a296d224</td>\n",
              "      <td>Russia</td>\n",
              "    </tr>\n",
              "    <tr>\n",
              "      <th>3</th>\n",
              "      <td>709e80c884</td>\n",
              "      <td>Russia</td>\n",
              "    </tr>\n",
              "    <tr>\n",
              "      <th>4</th>\n",
              "      <td>df3f619804</td>\n",
              "      <td>Russia</td>\n",
              "    </tr>\n",
              "  </tbody>\n",
              "</table>\n",
              "</div>"
            ],
            "text/plain": [
              "     visit_id  region\n",
              "0  e3b0c44298  Russia\n",
              "1  6e340b9cff  Russia\n",
              "2  96a296d224  Russia\n",
              "3  709e80c884  Russia\n",
              "4  df3f619804  Russia"
            ]
          },
          "metadata": {
            "tags": []
          },
          "execution_count": 40
        }
      ]
    },
    {
      "cell_type": "code",
      "metadata": {
        "scrolled": true,
        "id": "J_StFVrQZw_y",
        "colab_type": "code",
        "colab": {},
        "outputId": "4aa815dc-1eb4-483a-d09e-33d3bbc048d9"
      },
      "source": [
        "# пример фильтра на страну\n",
        "# если столбцы не надо фильтровать, то второй параметр можно не указывать\n",
        "\n",
        "log.loc[log.region == 'Russia'].head()"
      ],
      "execution_count": 0,
      "outputs": [
        {
          "output_type": "execute_result",
          "data": {
            "text/html": [
              "<div>\n",
              "<style scoped>\n",
              "    .dataframe tbody tr th:only-of-type {\n",
              "        vertical-align: middle;\n",
              "    }\n",
              "\n",
              "    .dataframe tbody tr th {\n",
              "        vertical-align: top;\n",
              "    }\n",
              "\n",
              "    .dataframe thead th {\n",
              "        text-align: right;\n",
              "    }\n",
              "</style>\n",
              "<table border=\"1\" class=\"dataframe\">\n",
              "  <thead>\n",
              "    <tr style=\"text-align: right;\">\n",
              "      <th></th>\n",
              "      <th>timestamp</th>\n",
              "      <th>visit_id</th>\n",
              "      <th>url</th>\n",
              "      <th>region</th>\n",
              "      <th>user_id</th>\n",
              "      <th>traffic_source</th>\n",
              "    </tr>\n",
              "  </thead>\n",
              "  <tbody>\n",
              "    <tr>\n",
              "      <th>0</th>\n",
              "      <td>1549980692</td>\n",
              "      <td>e3b0c44298</td>\n",
              "      <td>https://host.ru/3c19b4ef7371864fa3</td>\n",
              "      <td>Russia</td>\n",
              "      <td>b1613cc09f</td>\n",
              "      <td>yandex</td>\n",
              "    </tr>\n",
              "    <tr>\n",
              "      <th>1</th>\n",
              "      <td>1549980704</td>\n",
              "      <td>6e340b9cff</td>\n",
              "      <td>https://host.ru/c8d9213a31839f9a3a</td>\n",
              "      <td>Russia</td>\n",
              "      <td>4c3ec14bee</td>\n",
              "      <td>direct</td>\n",
              "    </tr>\n",
              "    <tr>\n",
              "      <th>2</th>\n",
              "      <td>1549980715</td>\n",
              "      <td>96a296d224</td>\n",
              "      <td>https://host.ru/b8b58337d272ee7b15</td>\n",
              "      <td>Russia</td>\n",
              "      <td>a8c40697fb</td>\n",
              "      <td>yandex</td>\n",
              "    </tr>\n",
              "    <tr>\n",
              "      <th>3</th>\n",
              "      <td>1549980725</td>\n",
              "      <td>709e80c884</td>\n",
              "      <td>https://host.ru/b8b58337d272ee7b15</td>\n",
              "      <td>Russia</td>\n",
              "      <td>521ac1d6a0</td>\n",
              "      <td>yandex</td>\n",
              "    </tr>\n",
              "    <tr>\n",
              "      <th>4</th>\n",
              "      <td>1549980736</td>\n",
              "      <td>df3f619804</td>\n",
              "      <td>https://host.ru/b8b58337d272ee7b15</td>\n",
              "      <td>Russia</td>\n",
              "      <td>d7323c571c</td>\n",
              "      <td>yandex</td>\n",
              "    </tr>\n",
              "  </tbody>\n",
              "</table>\n",
              "</div>"
            ],
            "text/plain": [
              "    timestamp    visit_id                                 url  region  \\\n",
              "0  1549980692  e3b0c44298  https://host.ru/3c19b4ef7371864fa3  Russia   \n",
              "1  1549980704  6e340b9cff  https://host.ru/c8d9213a31839f9a3a  Russia   \n",
              "2  1549980715  96a296d224  https://host.ru/b8b58337d272ee7b15  Russia   \n",
              "3  1549980725  709e80c884  https://host.ru/b8b58337d272ee7b15  Russia   \n",
              "4  1549980736  df3f619804  https://host.ru/b8b58337d272ee7b15  Russia   \n",
              "\n",
              "      user_id traffic_source  \n",
              "0  b1613cc09f         yandex  \n",
              "1  4c3ec14bee         direct  \n",
              "2  a8c40697fb         yandex  \n",
              "3  521ac1d6a0         yandex  \n",
              "4  d7323c571c         yandex  "
            ]
          },
          "metadata": {
            "tags": []
          },
          "execution_count": 41
        }
      ]
    },
    {
      "cell_type": "code",
      "metadata": {
        "scrolled": true,
        "id": "z32Lu9QBZw_1",
        "colab_type": "code",
        "colab": {},
        "outputId": "5383002c-e0f2-4a6c-e460-c0f7202a001a"
      },
      "source": [
        "# пример вычисления нового столбца с НДС для страны\n",
        "\n",
        "log.loc[log.region == 'Russia', 'VAT'] = 0.20\n",
        "log.head(10)"
      ],
      "execution_count": 0,
      "outputs": [
        {
          "output_type": "execute_result",
          "data": {
            "text/html": [
              "<div>\n",
              "<style scoped>\n",
              "    .dataframe tbody tr th:only-of-type {\n",
              "        vertical-align: middle;\n",
              "    }\n",
              "\n",
              "    .dataframe tbody tr th {\n",
              "        vertical-align: top;\n",
              "    }\n",
              "\n",
              "    .dataframe thead th {\n",
              "        text-align: right;\n",
              "    }\n",
              "</style>\n",
              "<table border=\"1\" class=\"dataframe\">\n",
              "  <thead>\n",
              "    <tr style=\"text-align: right;\">\n",
              "      <th></th>\n",
              "      <th>timestamp</th>\n",
              "      <th>visit_id</th>\n",
              "      <th>url</th>\n",
              "      <th>region</th>\n",
              "      <th>user_id</th>\n",
              "      <th>traffic_source</th>\n",
              "      <th>VAT</th>\n",
              "    </tr>\n",
              "  </thead>\n",
              "  <tbody>\n",
              "    <tr>\n",
              "      <th>0</th>\n",
              "      <td>1549980692</td>\n",
              "      <td>e3b0c44298</td>\n",
              "      <td>https://host.ru/3c19b4ef7371864fa3</td>\n",
              "      <td>Russia</td>\n",
              "      <td>b1613cc09f</td>\n",
              "      <td>yandex</td>\n",
              "      <td>0.2</td>\n",
              "    </tr>\n",
              "    <tr>\n",
              "      <th>1</th>\n",
              "      <td>1549980704</td>\n",
              "      <td>6e340b9cff</td>\n",
              "      <td>https://host.ru/c8d9213a31839f9a3a</td>\n",
              "      <td>Russia</td>\n",
              "      <td>4c3ec14bee</td>\n",
              "      <td>direct</td>\n",
              "      <td>0.2</td>\n",
              "    </tr>\n",
              "    <tr>\n",
              "      <th>2</th>\n",
              "      <td>1549980715</td>\n",
              "      <td>96a296d224</td>\n",
              "      <td>https://host.ru/b8b58337d272ee7b15</td>\n",
              "      <td>Russia</td>\n",
              "      <td>a8c40697fb</td>\n",
              "      <td>yandex</td>\n",
              "      <td>0.2</td>\n",
              "    </tr>\n",
              "    <tr>\n",
              "      <th>3</th>\n",
              "      <td>1549980725</td>\n",
              "      <td>709e80c884</td>\n",
              "      <td>https://host.ru/b8b58337d272ee7b15</td>\n",
              "      <td>Russia</td>\n",
              "      <td>521ac1d6a0</td>\n",
              "      <td>yandex</td>\n",
              "      <td>0.2</td>\n",
              "    </tr>\n",
              "    <tr>\n",
              "      <th>4</th>\n",
              "      <td>1549980736</td>\n",
              "      <td>df3f619804</td>\n",
              "      <td>https://host.ru/b8b58337d272ee7b15</td>\n",
              "      <td>Russia</td>\n",
              "      <td>d7323c571c</td>\n",
              "      <td>yandex</td>\n",
              "      <td>0.2</td>\n",
              "    </tr>\n",
              "    <tr>\n",
              "      <th>5</th>\n",
              "      <td>1549980742</td>\n",
              "      <td>8855508aad</td>\n",
              "      <td>https://host.ru/df646c3676cc259fa0</td>\n",
              "      <td>Russia</td>\n",
              "      <td>fc43898e47</td>\n",
              "      <td>yandex</td>\n",
              "      <td>0.2</td>\n",
              "    </tr>\n",
              "    <tr>\n",
              "      <th>6</th>\n",
              "      <td>1549980742</td>\n",
              "      <td>b0f66adc83</td>\n",
              "      <td>https://host.ru/b8b58337d272ee7b15</td>\n",
              "      <td>Russia</td>\n",
              "      <td>13fc55e781</td>\n",
              "      <td>paid</td>\n",
              "      <td>0.2</td>\n",
              "    </tr>\n",
              "    <tr>\n",
              "      <th>7</th>\n",
              "      <td>1549980754</td>\n",
              "      <td>837885c8f8</td>\n",
              "      <td>https://host.ru/108ce4b365afb7b88e</td>\n",
              "      <td>Russia</td>\n",
              "      <td>cb5082b6f6</td>\n",
              "      <td>direct</td>\n",
              "      <td>0.2</td>\n",
              "    </tr>\n",
              "    <tr>\n",
              "      <th>8</th>\n",
              "      <td>1549980760</td>\n",
              "      <td>af5570f5a1</td>\n",
              "      <td>https://host.ru/3004a8273caeef2867</td>\n",
              "      <td>China</td>\n",
              "      <td>45664f7af2</td>\n",
              "      <td>direct</td>\n",
              "      <td>NaN</td>\n",
              "    </tr>\n",
              "    <tr>\n",
              "      <th>9</th>\n",
              "      <td>1549980765</td>\n",
              "      <td>3e7077fd2f</td>\n",
              "      <td>https://host.ru/df646c3676cc259fa0</td>\n",
              "      <td>Russia</td>\n",
              "      <td>6f9de8c8b6</td>\n",
              "      <td>email</td>\n",
              "      <td>0.2</td>\n",
              "    </tr>\n",
              "  </tbody>\n",
              "</table>\n",
              "</div>"
            ],
            "text/plain": [
              "    timestamp    visit_id                                 url  region  \\\n",
              "0  1549980692  e3b0c44298  https://host.ru/3c19b4ef7371864fa3  Russia   \n",
              "1  1549980704  6e340b9cff  https://host.ru/c8d9213a31839f9a3a  Russia   \n",
              "2  1549980715  96a296d224  https://host.ru/b8b58337d272ee7b15  Russia   \n",
              "3  1549980725  709e80c884  https://host.ru/b8b58337d272ee7b15  Russia   \n",
              "4  1549980736  df3f619804  https://host.ru/b8b58337d272ee7b15  Russia   \n",
              "5  1549980742  8855508aad  https://host.ru/df646c3676cc259fa0  Russia   \n",
              "6  1549980742  b0f66adc83  https://host.ru/b8b58337d272ee7b15  Russia   \n",
              "7  1549980754  837885c8f8  https://host.ru/108ce4b365afb7b88e  Russia   \n",
              "8  1549980760  af5570f5a1  https://host.ru/3004a8273caeef2867   China   \n",
              "9  1549980765  3e7077fd2f  https://host.ru/df646c3676cc259fa0  Russia   \n",
              "\n",
              "      user_id traffic_source  VAT  \n",
              "0  b1613cc09f         yandex  0.2  \n",
              "1  4c3ec14bee         direct  0.2  \n",
              "2  a8c40697fb         yandex  0.2  \n",
              "3  521ac1d6a0         yandex  0.2  \n",
              "4  d7323c571c         yandex  0.2  \n",
              "5  fc43898e47         yandex  0.2  \n",
              "6  13fc55e781           paid  0.2  \n",
              "7  cb5082b6f6         direct  0.2  \n",
              "8  45664f7af2         direct  NaN  \n",
              "9  6f9de8c8b6          email  0.2  "
            ]
          },
          "metadata": {
            "tags": []
          },
          "execution_count": 42
        }
      ]
    },
    {
      "cell_type": "code",
      "metadata": {
        "id": "DNLIk_IUZw_-",
        "colab_type": "code",
        "colab": {}
      },
      "source": [
        "# вариант с вычисляемым фильтром\n",
        "\n",
        "log.loc[lambda row: row.region == 'Russia'].head(10)"
      ],
      "execution_count": 0,
      "outputs": []
    },
    {
      "cell_type": "markdown",
      "metadata": {
        "id": "sMJLMKCdZxAB",
        "colab_type": "text"
      },
      "source": [
        "### Упражнение\n",
        "Какие варианты источников трафика есть в столбце traffic_source?\n",
        "\n",
        "Создайте столбец traffic_type, в котором для источников 'yandex' и 'google' будет стоять значение 'organic'. А для остальных вариантов - NaN."
      ]
    },
    {
      "cell_type": "code",
      "metadata": {
        "id": "-grcIw2AZxAC",
        "colab_type": "code",
        "colab": {}
      },
      "source": [
        "import pandas as pd\n"
      ],
      "execution_count": 0,
      "outputs": []
    },
    {
      "cell_type": "code",
      "metadata": {
        "id": "9ebF_Z2mZxAG",
        "colab_type": "code",
        "colab": {},
        "outputId": "de269473-e41f-4b3e-ed33-2d32ce1ffffa"
      },
      "source": [
        "log = pd.read_csv('visit_log.csv', sep=';')\n",
        "log.loc[(\n",
        "            (log.traffic_source == 'yandex') | (log.traffic_source == 'google')\n",
        "        ), 'source_type'] = 'organic'\n",
        "\n",
        "log.loc[(\n",
        "            ((log.traffic_source == 'paid')|(log.traffic_source == 'email'))\n",
        "            & (log.region == 'Russia')\n",
        "        ), 'source_type'] = 'ad'\n",
        "\n",
        "log.loc[(\n",
        "            ((log.traffic_source == 'paid')|(log.traffic_source == 'email'))\n",
        "            & (log.region != 'Russia')\n",
        "        ), 'source_type'] = 'other'\n",
        "\n",
        "log.head(50)"
      ],
      "execution_count": 0,
      "outputs": [
        {
          "output_type": "execute_result",
          "data": {
            "text/html": [
              "<div>\n",
              "<style scoped>\n",
              "    .dataframe tbody tr th:only-of-type {\n",
              "        vertical-align: middle;\n",
              "    }\n",
              "\n",
              "    .dataframe tbody tr th {\n",
              "        vertical-align: top;\n",
              "    }\n",
              "\n",
              "    .dataframe thead th {\n",
              "        text-align: right;\n",
              "    }\n",
              "</style>\n",
              "<table border=\"1\" class=\"dataframe\">\n",
              "  <thead>\n",
              "    <tr style=\"text-align: right;\">\n",
              "      <th></th>\n",
              "      <th>timestamp</th>\n",
              "      <th>visit_id</th>\n",
              "      <th>url</th>\n",
              "      <th>region</th>\n",
              "      <th>user_id</th>\n",
              "      <th>traffic_source</th>\n",
              "      <th>source_type</th>\n",
              "    </tr>\n",
              "  </thead>\n",
              "  <tbody>\n",
              "    <tr>\n",
              "      <td>0</td>\n",
              "      <td>1549980692</td>\n",
              "      <td>e3b0c44298</td>\n",
              "      <td>https://host.ru/3c19b4ef7371864fa3</td>\n",
              "      <td>Russia</td>\n",
              "      <td>b1613cc09f</td>\n",
              "      <td>yandex</td>\n",
              "      <td>organic</td>\n",
              "    </tr>\n",
              "    <tr>\n",
              "      <td>1</td>\n",
              "      <td>1549980704</td>\n",
              "      <td>6e340b9cff</td>\n",
              "      <td>https://host.ru/c8d9213a31839f9a3a</td>\n",
              "      <td>Russia</td>\n",
              "      <td>4c3ec14bee</td>\n",
              "      <td>direct</td>\n",
              "      <td>NaN</td>\n",
              "    </tr>\n",
              "    <tr>\n",
              "      <td>2</td>\n",
              "      <td>1549980715</td>\n",
              "      <td>96a296d224</td>\n",
              "      <td>https://host.ru/b8b58337d272ee7b15</td>\n",
              "      <td>Russia</td>\n",
              "      <td>a8c40697fb</td>\n",
              "      <td>yandex</td>\n",
              "      <td>organic</td>\n",
              "    </tr>\n",
              "    <tr>\n",
              "      <td>3</td>\n",
              "      <td>1549980725</td>\n",
              "      <td>709e80c884</td>\n",
              "      <td>https://host.ru/b8b58337d272ee7b15</td>\n",
              "      <td>Russia</td>\n",
              "      <td>521ac1d6a0</td>\n",
              "      <td>yandex</td>\n",
              "      <td>organic</td>\n",
              "    </tr>\n",
              "    <tr>\n",
              "      <td>4</td>\n",
              "      <td>1549980736</td>\n",
              "      <td>df3f619804</td>\n",
              "      <td>https://host.ru/b8b58337d272ee7b15</td>\n",
              "      <td>Russia</td>\n",
              "      <td>d7323c571c</td>\n",
              "      <td>yandex</td>\n",
              "      <td>organic</td>\n",
              "    </tr>\n",
              "    <tr>\n",
              "      <td>5</td>\n",
              "      <td>1549980742</td>\n",
              "      <td>8855508aad</td>\n",
              "      <td>https://host.ru/df646c3676cc259fa0</td>\n",
              "      <td>Russia</td>\n",
              "      <td>fc43898e47</td>\n",
              "      <td>yandex</td>\n",
              "      <td>organic</td>\n",
              "    </tr>\n",
              "    <tr>\n",
              "      <td>6</td>\n",
              "      <td>1549980742</td>\n",
              "      <td>b0f66adc83</td>\n",
              "      <td>https://host.ru/b8b58337d272ee7b15</td>\n",
              "      <td>Russia</td>\n",
              "      <td>13fc55e781</td>\n",
              "      <td>paid</td>\n",
              "      <td>ad</td>\n",
              "    </tr>\n",
              "    <tr>\n",
              "      <td>7</td>\n",
              "      <td>1549980754</td>\n",
              "      <td>837885c8f8</td>\n",
              "      <td>https://host.ru/108ce4b365afb7b88e</td>\n",
              "      <td>Russia</td>\n",
              "      <td>cb5082b6f6</td>\n",
              "      <td>direct</td>\n",
              "      <td>NaN</td>\n",
              "    </tr>\n",
              "    <tr>\n",
              "      <td>8</td>\n",
              "      <td>1549980760</td>\n",
              "      <td>af5570f5a1</td>\n",
              "      <td>https://host.ru/3004a8273caeef2867</td>\n",
              "      <td>China</td>\n",
              "      <td>45664f7af2</td>\n",
              "      <td>direct</td>\n",
              "      <td>NaN</td>\n",
              "    </tr>\n",
              "    <tr>\n",
              "      <td>9</td>\n",
              "      <td>1549980765</td>\n",
              "      <td>3e7077fd2f</td>\n",
              "      <td>https://host.ru/df646c3676cc259fa0</td>\n",
              "      <td>Russia</td>\n",
              "      <td>6f9de8c8b6</td>\n",
              "      <td>email</td>\n",
              "      <td>ad</td>\n",
              "    </tr>\n",
              "    <tr>\n",
              "      <td>10</td>\n",
              "      <td>1549980777</td>\n",
              "      <td>01d448afd9</td>\n",
              "      <td>https://host.ru/a5dda93e70318570c0</td>\n",
              "      <td>India</td>\n",
              "      <td>27e76a4a80</td>\n",
              "      <td>direct</td>\n",
              "      <td>NaN</td>\n",
              "    </tr>\n",
              "    <tr>\n",
              "      <td>11</td>\n",
              "      <td>1549980785</td>\n",
              "      <td>71b6c1d538</td>\n",
              "      <td>https://host.ru/c8d9213a31839f9a3a</td>\n",
              "      <td>Ukraine</td>\n",
              "      <td>3b13701488</td>\n",
              "      <td>google</td>\n",
              "      <td>organic</td>\n",
              "    </tr>\n",
              "    <tr>\n",
              "      <td>12</td>\n",
              "      <td>1549980789</td>\n",
              "      <td>15ec7bf0b5</td>\n",
              "      <td>https://host.ru/8e88d4703848cc0ec4</td>\n",
              "      <td>Russia</td>\n",
              "      <td>6d1d81f7f8</td>\n",
              "      <td>paid</td>\n",
              "      <td>ad</td>\n",
              "    </tr>\n",
              "    <tr>\n",
              "      <td>13</td>\n",
              "      <td>1549980792</td>\n",
              "      <td>dd46c3eebb</td>\n",
              "      <td>https://host.ru/3004a8273caeef2867</td>\n",
              "      <td>China</td>\n",
              "      <td>7e301c8c41</td>\n",
              "      <td>direct</td>\n",
              "      <td>NaN</td>\n",
              "    </tr>\n",
              "    <tr>\n",
              "      <td>14</td>\n",
              "      <td>1549980793</td>\n",
              "      <td>e7ecebbc59</td>\n",
              "      <td>https://host.ru/05e41944dd85a900a6</td>\n",
              "      <td>Belarus</td>\n",
              "      <td>ac52dedc3b</td>\n",
              "      <td>direct</td>\n",
              "      <td>NaN</td>\n",
              "    </tr>\n",
              "    <tr>\n",
              "      <td>15</td>\n",
              "      <td>1549980797</td>\n",
              "      <td>5322fecfc9</td>\n",
              "      <td>https://host.ru/4adc8a29b212051b04</td>\n",
              "      <td>Belarus</td>\n",
              "      <td>9a45d98867</td>\n",
              "      <td>paid</td>\n",
              "      <td>other</td>\n",
              "    </tr>\n",
              "    <tr>\n",
              "      <td>16</td>\n",
              "      <td>1549980801</td>\n",
              "      <td>374708fff7</td>\n",
              "      <td>https://host.ru/39fa884393666d45fc</td>\n",
              "      <td>Russia</td>\n",
              "      <td>e9bd59e22d</td>\n",
              "      <td>google</td>\n",
              "      <td>organic</td>\n",
              "    </tr>\n",
              "    <tr>\n",
              "      <td>17</td>\n",
              "      <td>1549980807</td>\n",
              "      <td>0a88111852</td>\n",
              "      <td>https://host.ru/2fcb223266880ccf57</td>\n",
              "      <td>Ukraine</td>\n",
              "      <td>a2ba8fa3db</td>\n",
              "      <td>paid</td>\n",
              "      <td>other</td>\n",
              "    </tr>\n",
              "    <tr>\n",
              "      <td>18</td>\n",
              "      <td>1549980814</td>\n",
              "      <td>60daa3a5f7</td>\n",
              "      <td>https://host.ru/ef57543002ce2a0f2a</td>\n",
              "      <td>Belarus</td>\n",
              "      <td>72cb10fb5c</td>\n",
              "      <td>direct</td>\n",
              "      <td>NaN</td>\n",
              "    </tr>\n",
              "    <tr>\n",
              "      <td>19</td>\n",
              "      <td>1549980816</td>\n",
              "      <td>d6fd62f5ce</td>\n",
              "      <td>https://host.ru/f1eb4601740d627ab0</td>\n",
              "      <td>Belarus</td>\n",
              "      <td>7269dcd869</td>\n",
              "      <td>direct</td>\n",
              "      <td>NaN</td>\n",
              "    </tr>\n",
              "    <tr>\n",
              "      <td>20</td>\n",
              "      <td>1549980816</td>\n",
              "      <td>de47c9b27e</td>\n",
              "      <td>https://host.ru/8fe7c39e5c598bbc54</td>\n",
              "      <td>Ukraine</td>\n",
              "      <td>2f25b6e26a</td>\n",
              "      <td>email</td>\n",
              "      <td>other</td>\n",
              "    </tr>\n",
              "    <tr>\n",
              "      <td>21</td>\n",
              "      <td>1549980823</td>\n",
              "      <td>c90232586b</td>\n",
              "      <td>https://host.ru/da83c74e35e7806fe0</td>\n",
              "      <td>Ukraine</td>\n",
              "      <td>a00405d70c</td>\n",
              "      <td>google</td>\n",
              "      <td>organic</td>\n",
              "    </tr>\n",
              "    <tr>\n",
              "      <td>22</td>\n",
              "      <td>1549980827</td>\n",
              "      <td>6a4875ddac</td>\n",
              "      <td>https://host.ru/f2297425e1328e9e35</td>\n",
              "      <td>Ukraine</td>\n",
              "      <td>ea1bf97284</td>\n",
              "      <td>yandex</td>\n",
              "      <td>organic</td>\n",
              "    </tr>\n",
              "    <tr>\n",
              "      <td>23</td>\n",
              "      <td>1549980839</td>\n",
              "      <td>015275e61f</td>\n",
              "      <td>https://host.ru/c8d9213a31839f9a3a</td>\n",
              "      <td>Russia</td>\n",
              "      <td>21bdc57777</td>\n",
              "      <td>email</td>\n",
              "      <td>ad</td>\n",
              "    </tr>\n",
              "    <tr>\n",
              "      <td>24</td>\n",
              "      <td>1549980842</td>\n",
              "      <td>9d908ecfb6</td>\n",
              "      <td>https://host.ru/ae8a036d7f44d0bcd9</td>\n",
              "      <td>China</td>\n",
              "      <td>583b1a1636</td>\n",
              "      <td>direct</td>\n",
              "      <td>NaN</td>\n",
              "    </tr>\n",
              "    <tr>\n",
              "      <td>25</td>\n",
              "      <td>1549980844</td>\n",
              "      <td>61126de1b7</td>\n",
              "      <td>https://host.ru/060d9bdbcba66b8bb3</td>\n",
              "      <td>Russia</td>\n",
              "      <td>9de3f97d4f</td>\n",
              "      <td>direct</td>\n",
              "      <td>NaN</td>\n",
              "    </tr>\n",
              "    <tr>\n",
              "      <td>26</td>\n",
              "      <td>1549980852</td>\n",
              "      <td>659d36ca56</td>\n",
              "      <td>https://host.ru/4adc8a29b212051b04</td>\n",
              "      <td>Russia</td>\n",
              "      <td>c4bd1ae3af</td>\n",
              "      <td>paid</td>\n",
              "      <td>ad</td>\n",
              "    </tr>\n",
              "    <tr>\n",
              "      <td>27</td>\n",
              "      <td>1549980853</td>\n",
              "      <td>ea49aa9f6f</td>\n",
              "      <td>https://host.ru/1afc5618562365020a</td>\n",
              "      <td>Russia</td>\n",
              "      <td>20e8e91ecf</td>\n",
              "      <td>email</td>\n",
              "      <td>ad</td>\n",
              "    </tr>\n",
              "    <tr>\n",
              "      <td>28</td>\n",
              "      <td>1549980862</td>\n",
              "      <td>3addfb141c</td>\n",
              "      <td>https://host.ru/186c4d6b47dbde0e74</td>\n",
              "      <td>Russia</td>\n",
              "      <td>3f64fc1a87</td>\n",
              "      <td>yandex</td>\n",
              "      <td>organic</td>\n",
              "    </tr>\n",
              "    <tr>\n",
              "      <td>29</td>\n",
              "      <td>1549980874</td>\n",
              "      <td>11e431c215</td>\n",
              "      <td>https://host.ru/05e41944dd85a900a6</td>\n",
              "      <td>Russia</td>\n",
              "      <td>a15f66b89b</td>\n",
              "      <td>paid</td>\n",
              "      <td>ad</td>\n",
              "    </tr>\n",
              "    <tr>\n",
              "      <td>30</td>\n",
              "      <td>1549980877</td>\n",
              "      <td>0679246d6c</td>\n",
              "      <td>https://host.ru/da83c74e35e7806fe0</td>\n",
              "      <td>Ukraine</td>\n",
              "      <td>f8043c57c9</td>\n",
              "      <td>direct</td>\n",
              "      <td>NaN</td>\n",
              "    </tr>\n",
              "    <tr>\n",
              "      <td>31</td>\n",
              "      <td>1549980881</td>\n",
              "      <td>fd08be957b</td>\n",
              "      <td>https://host.ru/8fe7c39e5c598bbc54</td>\n",
              "      <td>Ukraine</td>\n",
              "      <td>8779289616</td>\n",
              "      <td>direct</td>\n",
              "      <td>NaN</td>\n",
              "    </tr>\n",
              "    <tr>\n",
              "      <td>32</td>\n",
              "      <td>1549980886</td>\n",
              "      <td>66687aadf8</td>\n",
              "      <td>https://host.ru/1afc5618562365020a</td>\n",
              "      <td>Ukraine</td>\n",
              "      <td>45c62a0196</td>\n",
              "      <td>direct</td>\n",
              "      <td>NaN</td>\n",
              "    </tr>\n",
              "    <tr>\n",
              "      <td>33</td>\n",
              "      <td>1549980897</td>\n",
              "      <td>7f9c9e31ac</td>\n",
              "      <td>https://host.ru/ac2d98a5a63e7c6e28</td>\n",
              "      <td>Belarus</td>\n",
              "      <td>38f45e7f9b</td>\n",
              "      <td>email</td>\n",
              "      <td>other</td>\n",
              "    </tr>\n",
              "    <tr>\n",
              "      <td>34</td>\n",
              "      <td>1549980903</td>\n",
              "      <td>eb142b0cae</td>\n",
              "      <td>https://host.ru/6fda01ec57f23abc9e</td>\n",
              "      <td>Russia</td>\n",
              "      <td>ffbb3278c4</td>\n",
              "      <td>yandex</td>\n",
              "      <td>organic</td>\n",
              "    </tr>\n",
              "    <tr>\n",
              "      <td>35</td>\n",
              "      <td>1549980908</td>\n",
              "      <td>0d5535e13c</td>\n",
              "      <td>https://host.ru/8880fd00cf23066541</td>\n",
              "      <td>Russia</td>\n",
              "      <td>51baf057bb</td>\n",
              "      <td>email</td>\n",
              "      <td>ad</td>\n",
              "    </tr>\n",
              "    <tr>\n",
              "      <td>36</td>\n",
              "      <td>1549980918</td>\n",
              "      <td>6db65fd59f</td>\n",
              "      <td>https://host.ru/39fa884393666d45fc</td>\n",
              "      <td>Belarus</td>\n",
              "      <td>3739124008</td>\n",
              "      <td>direct</td>\n",
              "      <td>NaN</td>\n",
              "    </tr>\n",
              "    <tr>\n",
              "      <td>37</td>\n",
              "      <td>1549980930</td>\n",
              "      <td>ab24a95f44</td>\n",
              "      <td>https://host.ru/1be58f19f26458f2fe</td>\n",
              "      <td>Russia</td>\n",
              "      <td>f880b1e734</td>\n",
              "      <td>direct</td>\n",
              "      <td>NaN</td>\n",
              "    </tr>\n",
              "    <tr>\n",
              "      <td>38</td>\n",
              "      <td>1549980931</td>\n",
              "      <td>762b023699</td>\n",
              "      <td>https://host.ru/8880fd00cf23066541</td>\n",
              "      <td>Belarus</td>\n",
              "      <td>00fad95415</td>\n",
              "      <td>yandex</td>\n",
              "      <td>organic</td>\n",
              "    </tr>\n",
              "    <tr>\n",
              "      <td>39</td>\n",
              "      <td>1549980932</td>\n",
              "      <td>94c11ed3c3</td>\n",
              "      <td>https://host.ru/da83c74e35e7806fe0</td>\n",
              "      <td>Russia</td>\n",
              "      <td>1875754379</td>\n",
              "      <td>yandex</td>\n",
              "      <td>organic</td>\n",
              "    </tr>\n",
              "    <tr>\n",
              "      <td>40</td>\n",
              "      <td>1549980934</td>\n",
              "      <td>2c34ce1df2</td>\n",
              "      <td>https://host.ru/53b1649b8344e663e9</td>\n",
              "      <td>Russia</td>\n",
              "      <td>eb865af0aa</td>\n",
              "      <td>email</td>\n",
              "      <td>ad</td>\n",
              "    </tr>\n",
              "    <tr>\n",
              "      <td>41</td>\n",
              "      <td>1549980942</td>\n",
              "      <td>9e1736c43d</td>\n",
              "      <td>https://host.ru/3004a8273caeef2867</td>\n",
              "      <td>Russia</td>\n",
              "      <td>569ec05b11</td>\n",
              "      <td>email</td>\n",
              "      <td>ad</td>\n",
              "    </tr>\n",
              "    <tr>\n",
              "      <td>42</td>\n",
              "      <td>1549980946</td>\n",
              "      <td>094c4931fd</td>\n",
              "      <td>https://host.ru/9010367b0b48d2f1b9</td>\n",
              "      <td>Russia</td>\n",
              "      <td>2c7e893a3f</td>\n",
              "      <td>email</td>\n",
              "      <td>ad</td>\n",
              "    </tr>\n",
              "    <tr>\n",
              "      <td>43</td>\n",
              "      <td>1549980949</td>\n",
              "      <td>859732b973</td>\n",
              "      <td>https://host.ru/4adc8a29b212051b04</td>\n",
              "      <td>Ukraine</td>\n",
              "      <td>80f2fd30f8</td>\n",
              "      <td>email</td>\n",
              "      <td>other</td>\n",
              "    </tr>\n",
              "    <tr>\n",
              "      <td>44</td>\n",
              "      <td>1549980959</td>\n",
              "      <td>85759b3811</td>\n",
              "      <td>https://host.ru/ae8a036d7f44d0bcd9</td>\n",
              "      <td>Belarus</td>\n",
              "      <td>27792fbdad</td>\n",
              "      <td>direct</td>\n",
              "      <td>NaN</td>\n",
              "    </tr>\n",
              "    <tr>\n",
              "      <td>45</td>\n",
              "      <td>1549980963</td>\n",
              "      <td>8a10206341</td>\n",
              "      <td>https://host.ru/a8ce0b447c10a1deaa</td>\n",
              "      <td>Russia</td>\n",
              "      <td>fb26c7ed59</td>\n",
              "      <td>direct</td>\n",
              "      <td>NaN</td>\n",
              "    </tr>\n",
              "    <tr>\n",
              "      <td>46</td>\n",
              "      <td>1549980969</td>\n",
              "      <td>878f32f76b</td>\n",
              "      <td>https://host.ru/186c4d6b47dbde0e74</td>\n",
              "      <td>Russia</td>\n",
              "      <td>ee82681887</td>\n",
              "      <td>google</td>\n",
              "      <td>organic</td>\n",
              "    </tr>\n",
              "    <tr>\n",
              "      <td>47</td>\n",
              "      <td>1549980972</td>\n",
              "      <td>140eda45fe</td>\n",
              "      <td>https://host.ru/39fa884393666d45fc</td>\n",
              "      <td>Russia</td>\n",
              "      <td>b655c61436</td>\n",
              "      <td>yandex</td>\n",
              "      <td>organic</td>\n",
              "    </tr>\n",
              "    <tr>\n",
              "      <td>48</td>\n",
              "      <td>1549980984</td>\n",
              "      <td>17b0761f87</td>\n",
              "      <td>https://host.ru/b8b58337d272ee7b15</td>\n",
              "      <td>Russia</td>\n",
              "      <td>da7ff4a3a0</td>\n",
              "      <td>direct</td>\n",
              "      <td>NaN</td>\n",
              "    </tr>\n",
              "    <tr>\n",
              "      <td>49</td>\n",
              "      <td>1549980990</td>\n",
              "      <td>78877fa898</td>\n",
              "      <td>https://host.ru/53b1649b8344e663e9</td>\n",
              "      <td>India</td>\n",
              "      <td>bedc22cdfb</td>\n",
              "      <td>email</td>\n",
              "      <td>other</td>\n",
              "    </tr>\n",
              "  </tbody>\n",
              "</table>\n",
              "</div>"
            ],
            "text/plain": [
              "     timestamp    visit_id                                 url   region  \\\n",
              "0   1549980692  e3b0c44298  https://host.ru/3c19b4ef7371864fa3   Russia   \n",
              "1   1549980704  6e340b9cff  https://host.ru/c8d9213a31839f9a3a   Russia   \n",
              "2   1549980715  96a296d224  https://host.ru/b8b58337d272ee7b15   Russia   \n",
              "3   1549980725  709e80c884  https://host.ru/b8b58337d272ee7b15   Russia   \n",
              "4   1549980736  df3f619804  https://host.ru/b8b58337d272ee7b15   Russia   \n",
              "5   1549980742  8855508aad  https://host.ru/df646c3676cc259fa0   Russia   \n",
              "6   1549980742  b0f66adc83  https://host.ru/b8b58337d272ee7b15   Russia   \n",
              "7   1549980754  837885c8f8  https://host.ru/108ce4b365afb7b88e   Russia   \n",
              "8   1549980760  af5570f5a1  https://host.ru/3004a8273caeef2867    China   \n",
              "9   1549980765  3e7077fd2f  https://host.ru/df646c3676cc259fa0   Russia   \n",
              "10  1549980777  01d448afd9  https://host.ru/a5dda93e70318570c0    India   \n",
              "11  1549980785  71b6c1d538  https://host.ru/c8d9213a31839f9a3a  Ukraine   \n",
              "12  1549980789  15ec7bf0b5  https://host.ru/8e88d4703848cc0ec4   Russia   \n",
              "13  1549980792  dd46c3eebb  https://host.ru/3004a8273caeef2867    China   \n",
              "14  1549980793  e7ecebbc59  https://host.ru/05e41944dd85a900a6  Belarus   \n",
              "15  1549980797  5322fecfc9  https://host.ru/4adc8a29b212051b04  Belarus   \n",
              "16  1549980801  374708fff7  https://host.ru/39fa884393666d45fc   Russia   \n",
              "17  1549980807  0a88111852  https://host.ru/2fcb223266880ccf57  Ukraine   \n",
              "18  1549980814  60daa3a5f7  https://host.ru/ef57543002ce2a0f2a  Belarus   \n",
              "19  1549980816  d6fd62f5ce  https://host.ru/f1eb4601740d627ab0  Belarus   \n",
              "20  1549980816  de47c9b27e  https://host.ru/8fe7c39e5c598bbc54  Ukraine   \n",
              "21  1549980823  c90232586b  https://host.ru/da83c74e35e7806fe0  Ukraine   \n",
              "22  1549980827  6a4875ddac  https://host.ru/f2297425e1328e9e35  Ukraine   \n",
              "23  1549980839  015275e61f  https://host.ru/c8d9213a31839f9a3a   Russia   \n",
              "24  1549980842  9d908ecfb6  https://host.ru/ae8a036d7f44d0bcd9    China   \n",
              "25  1549980844  61126de1b7  https://host.ru/060d9bdbcba66b8bb3   Russia   \n",
              "26  1549980852  659d36ca56  https://host.ru/4adc8a29b212051b04   Russia   \n",
              "27  1549980853  ea49aa9f6f  https://host.ru/1afc5618562365020a   Russia   \n",
              "28  1549980862  3addfb141c  https://host.ru/186c4d6b47dbde0e74   Russia   \n",
              "29  1549980874  11e431c215  https://host.ru/05e41944dd85a900a6   Russia   \n",
              "30  1549980877  0679246d6c  https://host.ru/da83c74e35e7806fe0  Ukraine   \n",
              "31  1549980881  fd08be957b  https://host.ru/8fe7c39e5c598bbc54  Ukraine   \n",
              "32  1549980886  66687aadf8  https://host.ru/1afc5618562365020a  Ukraine   \n",
              "33  1549980897  7f9c9e31ac  https://host.ru/ac2d98a5a63e7c6e28  Belarus   \n",
              "34  1549980903  eb142b0cae  https://host.ru/6fda01ec57f23abc9e   Russia   \n",
              "35  1549980908  0d5535e13c  https://host.ru/8880fd00cf23066541   Russia   \n",
              "36  1549980918  6db65fd59f  https://host.ru/39fa884393666d45fc  Belarus   \n",
              "37  1549980930  ab24a95f44  https://host.ru/1be58f19f26458f2fe   Russia   \n",
              "38  1549980931  762b023699  https://host.ru/8880fd00cf23066541  Belarus   \n",
              "39  1549980932  94c11ed3c3  https://host.ru/da83c74e35e7806fe0   Russia   \n",
              "40  1549980934  2c34ce1df2  https://host.ru/53b1649b8344e663e9   Russia   \n",
              "41  1549980942  9e1736c43d  https://host.ru/3004a8273caeef2867   Russia   \n",
              "42  1549980946  094c4931fd  https://host.ru/9010367b0b48d2f1b9   Russia   \n",
              "43  1549980949  859732b973  https://host.ru/4adc8a29b212051b04  Ukraine   \n",
              "44  1549980959  85759b3811  https://host.ru/ae8a036d7f44d0bcd9  Belarus   \n",
              "45  1549980963  8a10206341  https://host.ru/a8ce0b447c10a1deaa   Russia   \n",
              "46  1549980969  878f32f76b  https://host.ru/186c4d6b47dbde0e74   Russia   \n",
              "47  1549980972  140eda45fe  https://host.ru/39fa884393666d45fc   Russia   \n",
              "48  1549980984  17b0761f87  https://host.ru/b8b58337d272ee7b15   Russia   \n",
              "49  1549980990  78877fa898  https://host.ru/53b1649b8344e663e9    India   \n",
              "\n",
              "       user_id traffic_source source_type  \n",
              "0   b1613cc09f         yandex     organic  \n",
              "1   4c3ec14bee         direct         NaN  \n",
              "2   a8c40697fb         yandex     organic  \n",
              "3   521ac1d6a0         yandex     organic  \n",
              "4   d7323c571c         yandex     organic  \n",
              "5   fc43898e47         yandex     organic  \n",
              "6   13fc55e781           paid          ad  \n",
              "7   cb5082b6f6         direct         NaN  \n",
              "8   45664f7af2         direct         NaN  \n",
              "9   6f9de8c8b6          email          ad  \n",
              "10  27e76a4a80         direct         NaN  \n",
              "11  3b13701488         google     organic  \n",
              "12  6d1d81f7f8           paid          ad  \n",
              "13  7e301c8c41         direct         NaN  \n",
              "14  ac52dedc3b         direct         NaN  \n",
              "15  9a45d98867           paid       other  \n",
              "16  e9bd59e22d         google     organic  \n",
              "17  a2ba8fa3db           paid       other  \n",
              "18  72cb10fb5c         direct         NaN  \n",
              "19  7269dcd869         direct         NaN  \n",
              "20  2f25b6e26a          email       other  \n",
              "21  a00405d70c         google     organic  \n",
              "22  ea1bf97284         yandex     organic  \n",
              "23  21bdc57777          email          ad  \n",
              "24  583b1a1636         direct         NaN  \n",
              "25  9de3f97d4f         direct         NaN  \n",
              "26  c4bd1ae3af           paid          ad  \n",
              "27  20e8e91ecf          email          ad  \n",
              "28  3f64fc1a87         yandex     organic  \n",
              "29  a15f66b89b           paid          ad  \n",
              "30  f8043c57c9         direct         NaN  \n",
              "31  8779289616         direct         NaN  \n",
              "32  45c62a0196         direct         NaN  \n",
              "33  38f45e7f9b          email       other  \n",
              "34  ffbb3278c4         yandex     organic  \n",
              "35  51baf057bb          email          ad  \n",
              "36  3739124008         direct         NaN  \n",
              "37  f880b1e734         direct         NaN  \n",
              "38  00fad95415         yandex     organic  \n",
              "39  1875754379         yandex     organic  \n",
              "40  eb865af0aa          email          ad  \n",
              "41  569ec05b11          email          ad  \n",
              "42  2c7e893a3f          email          ad  \n",
              "43  80f2fd30f8          email       other  \n",
              "44  27792fbdad         direct         NaN  \n",
              "45  fb26c7ed59         direct         NaN  \n",
              "46  ee82681887         google     organic  \n",
              "47  b655c61436         yandex     organic  \n",
              "48  da7ff4a3a0         direct         NaN  \n",
              "49  bedc22cdfb          email       other  "
            ]
          },
          "metadata": {
            "tags": []
          },
          "execution_count": 23
        }
      ]
    },
    {
      "cell_type": "code",
      "metadata": {
        "id": "tkoTER1mZxAP",
        "colab_type": "code",
        "colab": {},
        "outputId": "086b7665-1300-4ac3-ff62-8eebc809ffd3"
      },
      "source": [
        "log = pd.read_csv('visit_log.csv', sep=';')\n",
        "log.loc[(log.traffic_source == ('yandex' | 'google'), 'source_type')] = 'organic'\n",
        "# log.loc[(\n",
        "#     (log.traffic_source == 'paid')\n",
        "\n",
        "# )]\n",
        "log.head(50)"
      ],
      "execution_count": 0,
      "outputs": [
        {
          "output_type": "error",
          "ename": "TypeError",
          "evalue": "unsupported operand type(s) for |: 'str' and 'str'",
          "traceback": [
            "\u001b[1;31m---------------------------------------------------------------------------\u001b[0m",
            "\u001b[1;31mTypeError\u001b[0m                                 Traceback (most recent call last)",
            "\u001b[1;32m<ipython-input-17-3c2a26c9f6cd>\u001b[0m in \u001b[0;36m<module>\u001b[1;34m\u001b[0m\n\u001b[0;32m      1\u001b[0m \u001b[0mlog\u001b[0m \u001b[1;33m=\u001b[0m \u001b[0mpd\u001b[0m\u001b[1;33m.\u001b[0m\u001b[0mread_csv\u001b[0m\u001b[1;33m(\u001b[0m\u001b[1;34m'visit_log.csv'\u001b[0m\u001b[1;33m,\u001b[0m \u001b[0msep\u001b[0m\u001b[1;33m=\u001b[0m\u001b[1;34m';'\u001b[0m\u001b[1;33m)\u001b[0m\u001b[1;33m\u001b[0m\u001b[1;33m\u001b[0m\u001b[0m\n\u001b[1;32m----> 2\u001b[1;33m \u001b[0mlog\u001b[0m\u001b[1;33m.\u001b[0m\u001b[0mloc\u001b[0m\u001b[1;33m[\u001b[0m\u001b[1;33m(\u001b[0m\u001b[0mlog\u001b[0m\u001b[1;33m.\u001b[0m\u001b[0mtraffic_source\u001b[0m \u001b[1;33m==\u001b[0m \u001b[1;33m(\u001b[0m\u001b[1;34m'yandex'\u001b[0m \u001b[1;33m|\u001b[0m \u001b[1;34m'google'\u001b[0m\u001b[1;33m)\u001b[0m\u001b[1;33m,\u001b[0m \u001b[1;34m'source_type'\u001b[0m\u001b[1;33m)\u001b[0m\u001b[1;33m]\u001b[0m \u001b[1;33m=\u001b[0m \u001b[1;34m'organic'\u001b[0m\u001b[1;33m\u001b[0m\u001b[1;33m\u001b[0m\u001b[0m\n\u001b[0m\u001b[0;32m      3\u001b[0m \u001b[1;31m# log.loc[(\u001b[0m\u001b[1;33m\u001b[0m\u001b[1;33m\u001b[0m\u001b[1;33m\u001b[0m\u001b[0m\n\u001b[0;32m      4\u001b[0m \u001b[1;31m#     (log.traffic_source == 'paid')\u001b[0m\u001b[1;33m\u001b[0m\u001b[1;33m\u001b[0m\u001b[1;33m\u001b[0m\u001b[0m\n\u001b[0;32m      5\u001b[0m \u001b[1;33m\u001b[0m\u001b[0m\n",
            "\u001b[1;31mTypeError\u001b[0m: unsupported operand type(s) for |: 'str' and 'str'"
          ]
        }
      ]
    },
    {
      "cell_type": "code",
      "metadata": {
        "id": "Vym0mG90ZxAS",
        "colab_type": "code",
        "colab": {},
        "outputId": "cdf6fc27-3e45-434e-e71e-b51616524db7"
      },
      "source": [
        "\n",
        "log.head(5)"
      ],
      "execution_count": 0,
      "outputs": [
        {
          "output_type": "execute_result",
          "data": {
            "text/html": [
              "<div>\n",
              "<style scoped>\n",
              "    .dataframe tbody tr th:only-of-type {\n",
              "        vertical-align: middle;\n",
              "    }\n",
              "\n",
              "    .dataframe tbody tr th {\n",
              "        vertical-align: top;\n",
              "    }\n",
              "\n",
              "    .dataframe thead th {\n",
              "        text-align: right;\n",
              "    }\n",
              "</style>\n",
              "<table border=\"1\" class=\"dataframe\">\n",
              "  <thead>\n",
              "    <tr style=\"text-align: right;\">\n",
              "      <th></th>\n",
              "      <th>timestamp</th>\n",
              "      <th>visit_id</th>\n",
              "      <th>url</th>\n",
              "      <th>region</th>\n",
              "      <th>user_id</th>\n",
              "      <th>traffic_source</th>\n",
              "      <th>traffic_type</th>\n",
              "    </tr>\n",
              "  </thead>\n",
              "  <tbody>\n",
              "    <tr>\n",
              "      <td>0</td>\n",
              "      <td>1549980692</td>\n",
              "      <td>e3b0c44298</td>\n",
              "      <td>https://host.ru/3c19b4ef7371864fa3</td>\n",
              "      <td>Russia</td>\n",
              "      <td>b1613cc09f</td>\n",
              "      <td>yandex</td>\n",
              "      <td>organic</td>\n",
              "    </tr>\n",
              "    <tr>\n",
              "      <td>1</td>\n",
              "      <td>1549980704</td>\n",
              "      <td>6e340b9cff</td>\n",
              "      <td>https://host.ru/c8d9213a31839f9a3a</td>\n",
              "      <td>Russia</td>\n",
              "      <td>4c3ec14bee</td>\n",
              "      <td>direct</td>\n",
              "      <td>NaN</td>\n",
              "    </tr>\n",
              "    <tr>\n",
              "      <td>2</td>\n",
              "      <td>1549980715</td>\n",
              "      <td>96a296d224</td>\n",
              "      <td>https://host.ru/b8b58337d272ee7b15</td>\n",
              "      <td>Russia</td>\n",
              "      <td>a8c40697fb</td>\n",
              "      <td>yandex</td>\n",
              "      <td>organic</td>\n",
              "    </tr>\n",
              "    <tr>\n",
              "      <td>3</td>\n",
              "      <td>1549980725</td>\n",
              "      <td>709e80c884</td>\n",
              "      <td>https://host.ru/b8b58337d272ee7b15</td>\n",
              "      <td>Russia</td>\n",
              "      <td>521ac1d6a0</td>\n",
              "      <td>yandex</td>\n",
              "      <td>organic</td>\n",
              "    </tr>\n",
              "    <tr>\n",
              "      <td>4</td>\n",
              "      <td>1549980736</td>\n",
              "      <td>df3f619804</td>\n",
              "      <td>https://host.ru/b8b58337d272ee7b15</td>\n",
              "      <td>Russia</td>\n",
              "      <td>d7323c571c</td>\n",
              "      <td>yandex</td>\n",
              "      <td>organic</td>\n",
              "    </tr>\n",
              "  </tbody>\n",
              "</table>\n",
              "</div>"
            ],
            "text/plain": [
              "    timestamp    visit_id                                 url  region  \\\n",
              "0  1549980692  e3b0c44298  https://host.ru/3c19b4ef7371864fa3  Russia   \n",
              "1  1549980704  6e340b9cff  https://host.ru/c8d9213a31839f9a3a  Russia   \n",
              "2  1549980715  96a296d224  https://host.ru/b8b58337d272ee7b15  Russia   \n",
              "3  1549980725  709e80c884  https://host.ru/b8b58337d272ee7b15  Russia   \n",
              "4  1549980736  df3f619804  https://host.ru/b8b58337d272ee7b15  Russia   \n",
              "\n",
              "      user_id traffic_source traffic_type  \n",
              "0  b1613cc09f         yandex      organic  \n",
              "1  4c3ec14bee         direct          NaN  \n",
              "2  a8c40697fb         yandex      organic  \n",
              "3  521ac1d6a0         yandex      organic  \n",
              "4  d7323c571c         yandex      organic  "
            ]
          },
          "metadata": {
            "tags": []
          },
          "execution_count": 8
        }
      ]
    },
    {
      "cell_type": "code",
      "metadata": {
        "id": "Kgtj1yybZxAX",
        "colab_type": "code",
        "colab": {},
        "outputId": "27cb50cd-09f6-45df-b215-070d1744945e"
      },
      "source": [
        "log.loc[log['traffic_source'].str.contains('yandex|google'), 'traffic_type'] = 'organic'\n",
        "log.head()"
      ],
      "execution_count": 0,
      "outputs": [
        {
          "output_type": "execute_result",
          "data": {
            "text/html": [
              "<div>\n",
              "<style scoped>\n",
              "    .dataframe tbody tr th:only-of-type {\n",
              "        vertical-align: middle;\n",
              "    }\n",
              "\n",
              "    .dataframe tbody tr th {\n",
              "        vertical-align: top;\n",
              "    }\n",
              "\n",
              "    .dataframe thead th {\n",
              "        text-align: right;\n",
              "    }\n",
              "</style>\n",
              "<table border=\"1\" class=\"dataframe\">\n",
              "  <thead>\n",
              "    <tr style=\"text-align: right;\">\n",
              "      <th></th>\n",
              "      <th>timestamp</th>\n",
              "      <th>visit_id</th>\n",
              "      <th>url</th>\n",
              "      <th>region</th>\n",
              "      <th>user_id</th>\n",
              "      <th>traffic_source</th>\n",
              "      <th>traffic_type</th>\n",
              "    </tr>\n",
              "  </thead>\n",
              "  <tbody>\n",
              "    <tr>\n",
              "      <th>0</th>\n",
              "      <td>1549980692</td>\n",
              "      <td>e3b0c44298</td>\n",
              "      <td>https://host.ru/3c19b4ef7371864fa3</td>\n",
              "      <td>Russia</td>\n",
              "      <td>b1613cc09f</td>\n",
              "      <td>yandex</td>\n",
              "      <td>organic</td>\n",
              "    </tr>\n",
              "    <tr>\n",
              "      <th>1</th>\n",
              "      <td>1549980704</td>\n",
              "      <td>6e340b9cff</td>\n",
              "      <td>https://host.ru/c8d9213a31839f9a3a</td>\n",
              "      <td>Russia</td>\n",
              "      <td>4c3ec14bee</td>\n",
              "      <td>direct</td>\n",
              "      <td>NaN</td>\n",
              "    </tr>\n",
              "    <tr>\n",
              "      <th>2</th>\n",
              "      <td>1549980715</td>\n",
              "      <td>96a296d224</td>\n",
              "      <td>https://host.ru/b8b58337d272ee7b15</td>\n",
              "      <td>Russia</td>\n",
              "      <td>a8c40697fb</td>\n",
              "      <td>yandex</td>\n",
              "      <td>organic</td>\n",
              "    </tr>\n",
              "    <tr>\n",
              "      <th>3</th>\n",
              "      <td>1549980725</td>\n",
              "      <td>709e80c884</td>\n",
              "      <td>https://host.ru/b8b58337d272ee7b15</td>\n",
              "      <td>Russia</td>\n",
              "      <td>521ac1d6a0</td>\n",
              "      <td>yandex</td>\n",
              "      <td>organic</td>\n",
              "    </tr>\n",
              "    <tr>\n",
              "      <th>4</th>\n",
              "      <td>1549980736</td>\n",
              "      <td>df3f619804</td>\n",
              "      <td>https://host.ru/b8b58337d272ee7b15</td>\n",
              "      <td>Russia</td>\n",
              "      <td>d7323c571c</td>\n",
              "      <td>yandex</td>\n",
              "      <td>organic</td>\n",
              "    </tr>\n",
              "  </tbody>\n",
              "</table>\n",
              "</div>"
            ],
            "text/plain": [
              "    timestamp    visit_id                                 url  region  \\\n",
              "0  1549980692  e3b0c44298  https://host.ru/3c19b4ef7371864fa3  Russia   \n",
              "1  1549980704  6e340b9cff  https://host.ru/c8d9213a31839f9a3a  Russia   \n",
              "2  1549980715  96a296d224  https://host.ru/b8b58337d272ee7b15  Russia   \n",
              "3  1549980725  709e80c884  https://host.ru/b8b58337d272ee7b15  Russia   \n",
              "4  1549980736  df3f619804  https://host.ru/b8b58337d272ee7b15  Russia   \n",
              "\n",
              "      user_id traffic_source traffic_type  \n",
              "0  b1613cc09f         yandex      organic  \n",
              "1  4c3ec14bee         direct          NaN  \n",
              "2  a8c40697fb         yandex      organic  \n",
              "3  521ac1d6a0         yandex      organic  \n",
              "4  d7323c571c         yandex      organic  "
            ]
          },
          "metadata": {
            "tags": []
          },
          "execution_count": 47
        }
      ]
    },
    {
      "cell_type": "code",
      "metadata": {
        "id": "Rl2iII4ZZxAZ",
        "colab_type": "code",
        "colab": {},
        "outputId": "7c850f6f-2f08-4313-a652-2e90a90a9fd5"
      },
      "source": [
        "log.loc[log['traffic_source'].isin(['yandex', 'google']), 'traffic_type'] = 'organic'\n",
        "log.head()"
      ],
      "execution_count": 0,
      "outputs": [
        {
          "output_type": "execute_result",
          "data": {
            "text/html": [
              "<div>\n",
              "<style scoped>\n",
              "    .dataframe tbody tr th:only-of-type {\n",
              "        vertical-align: middle;\n",
              "    }\n",
              "\n",
              "    .dataframe tbody tr th {\n",
              "        vertical-align: top;\n",
              "    }\n",
              "\n",
              "    .dataframe thead th {\n",
              "        text-align: right;\n",
              "    }\n",
              "</style>\n",
              "<table border=\"1\" class=\"dataframe\">\n",
              "  <thead>\n",
              "    <tr style=\"text-align: right;\">\n",
              "      <th></th>\n",
              "      <th>timestamp</th>\n",
              "      <th>visit_id</th>\n",
              "      <th>url</th>\n",
              "      <th>region</th>\n",
              "      <th>user_id</th>\n",
              "      <th>traffic_source</th>\n",
              "      <th>traffic_type</th>\n",
              "    </tr>\n",
              "  </thead>\n",
              "  <tbody>\n",
              "    <tr>\n",
              "      <th>0</th>\n",
              "      <td>1549980692</td>\n",
              "      <td>e3b0c44298</td>\n",
              "      <td>https://host.ru/3c19b4ef7371864fa3</td>\n",
              "      <td>Russia</td>\n",
              "      <td>b1613cc09f</td>\n",
              "      <td>yandex</td>\n",
              "      <td>organic</td>\n",
              "    </tr>\n",
              "    <tr>\n",
              "      <th>1</th>\n",
              "      <td>1549980704</td>\n",
              "      <td>6e340b9cff</td>\n",
              "      <td>https://host.ru/c8d9213a31839f9a3a</td>\n",
              "      <td>Russia</td>\n",
              "      <td>4c3ec14bee</td>\n",
              "      <td>direct</td>\n",
              "      <td>NaN</td>\n",
              "    </tr>\n",
              "    <tr>\n",
              "      <th>2</th>\n",
              "      <td>1549980715</td>\n",
              "      <td>96a296d224</td>\n",
              "      <td>https://host.ru/b8b58337d272ee7b15</td>\n",
              "      <td>Russia</td>\n",
              "      <td>a8c40697fb</td>\n",
              "      <td>yandex</td>\n",
              "      <td>organic</td>\n",
              "    </tr>\n",
              "    <tr>\n",
              "      <th>3</th>\n",
              "      <td>1549980725</td>\n",
              "      <td>709e80c884</td>\n",
              "      <td>https://host.ru/b8b58337d272ee7b15</td>\n",
              "      <td>Russia</td>\n",
              "      <td>521ac1d6a0</td>\n",
              "      <td>yandex</td>\n",
              "      <td>organic</td>\n",
              "    </tr>\n",
              "    <tr>\n",
              "      <th>4</th>\n",
              "      <td>1549980736</td>\n",
              "      <td>df3f619804</td>\n",
              "      <td>https://host.ru/b8b58337d272ee7b15</td>\n",
              "      <td>Russia</td>\n",
              "      <td>d7323c571c</td>\n",
              "      <td>yandex</td>\n",
              "      <td>organic</td>\n",
              "    </tr>\n",
              "  </tbody>\n",
              "</table>\n",
              "</div>"
            ],
            "text/plain": [
              "    timestamp    visit_id                                 url  region  \\\n",
              "0  1549980692  e3b0c44298  https://host.ru/3c19b4ef7371864fa3  Russia   \n",
              "1  1549980704  6e340b9cff  https://host.ru/c8d9213a31839f9a3a  Russia   \n",
              "2  1549980715  96a296d224  https://host.ru/b8b58337d272ee7b15  Russia   \n",
              "3  1549980725  709e80c884  https://host.ru/b8b58337d272ee7b15  Russia   \n",
              "4  1549980736  df3f619804  https://host.ru/b8b58337d272ee7b15  Russia   \n",
              "\n",
              "      user_id traffic_source traffic_type  \n",
              "0  b1613cc09f         yandex      organic  \n",
              "1  4c3ec14bee         direct          NaN  \n",
              "2  a8c40697fb         yandex      organic  \n",
              "3  521ac1d6a0         yandex      organic  \n",
              "4  d7323c571c         yandex      organic  "
            ]
          },
          "metadata": {
            "tags": []
          },
          "execution_count": 49
        }
      ]
    },
    {
      "cell_type": "markdown",
      "metadata": {
        "id": "D5nVk1NaZxAi",
        "colab_type": "text"
      },
      "source": [
        "### Методы isnull, isna\n",
        "Определение пустых или None значений. По сути одинаковые методы"
      ]
    },
    {
      "cell_type": "code",
      "metadata": {
        "id": "836v2-SCZxAi",
        "colab_type": "code",
        "colab": {}
      },
      "source": [
        "dict_ = {'a': 1}"
      ],
      "execution_count": 0,
      "outputs": []
    },
    {
      "cell_type": "code",
      "metadata": {
        "id": "WzrXyAHiZxAm",
        "colab_type": "code",
        "colab": {},
        "outputId": "206475be-a6fd-47f0-a11a-bab175af5748"
      },
      "source": [
        "print(dict_.get('b'))"
      ],
      "execution_count": 0,
      "outputs": [
        {
          "output_type": "stream",
          "text": [
            "None\n"
          ],
          "name": "stdout"
        }
      ]
    },
    {
      "cell_type": "code",
      "metadata": {
        "id": "mXFOj5rzZxAo",
        "colab_type": "code",
        "colab": {}
      },
      "source": [
        "import numpy as np"
      ],
      "execution_count": 0,
      "outputs": []
    },
    {
      "cell_type": "code",
      "metadata": {
        "id": "G7YUcieNZxAs",
        "colab_type": "code",
        "colab": {},
        "outputId": "f8aac689-7ab0-4c75-a11a-69cdb59b5c7e"
      },
      "source": [
        "df = pd.DataFrame({'value': [123, None, np.nan, np.NaN, np.NAN, 456]})\n",
        "df"
      ],
      "execution_count": 0,
      "outputs": [
        {
          "output_type": "execute_result",
          "data": {
            "text/html": [
              "<div>\n",
              "<style scoped>\n",
              "    .dataframe tbody tr th:only-of-type {\n",
              "        vertical-align: middle;\n",
              "    }\n",
              "\n",
              "    .dataframe tbody tr th {\n",
              "        vertical-align: top;\n",
              "    }\n",
              "\n",
              "    .dataframe thead th {\n",
              "        text-align: right;\n",
              "    }\n",
              "</style>\n",
              "<table border=\"1\" class=\"dataframe\">\n",
              "  <thead>\n",
              "    <tr style=\"text-align: right;\">\n",
              "      <th></th>\n",
              "      <th>value</th>\n",
              "    </tr>\n",
              "  </thead>\n",
              "  <tbody>\n",
              "    <tr>\n",
              "      <th>0</th>\n",
              "      <td>123.0</td>\n",
              "    </tr>\n",
              "    <tr>\n",
              "      <th>1</th>\n",
              "      <td>NaN</td>\n",
              "    </tr>\n",
              "    <tr>\n",
              "      <th>2</th>\n",
              "      <td>NaN</td>\n",
              "    </tr>\n",
              "    <tr>\n",
              "      <th>3</th>\n",
              "      <td>NaN</td>\n",
              "    </tr>\n",
              "    <tr>\n",
              "      <th>4</th>\n",
              "      <td>NaN</td>\n",
              "    </tr>\n",
              "    <tr>\n",
              "      <th>5</th>\n",
              "      <td>456.0</td>\n",
              "    </tr>\n",
              "  </tbody>\n",
              "</table>\n",
              "</div>"
            ],
            "text/plain": [
              "   value\n",
              "0  123.0\n",
              "1    NaN\n",
              "2    NaN\n",
              "3    NaN\n",
              "4    NaN\n",
              "5  456.0"
            ]
          },
          "metadata": {
            "tags": []
          },
          "execution_count": 58
        }
      ]
    },
    {
      "cell_type": "code",
      "metadata": {
        "id": "wCURT2m7ZxBG",
        "colab_type": "code",
        "colab": {},
        "outputId": "ab8a623e-9077-4d57-e00c-3405fda5eb06"
      },
      "source": [
        "(123 + 456) / 2"
      ],
      "execution_count": 0,
      "outputs": [
        {
          "output_type": "execute_result",
          "data": {
            "text/plain": [
              "289.5"
            ]
          },
          "metadata": {
            "tags": []
          },
          "execution_count": 59
        }
      ]
    },
    {
      "cell_type": "code",
      "metadata": {
        "id": "CT_Y1qVBZxBK",
        "colab_type": "code",
        "colab": {},
        "outputId": "549f943f-e41b-48fd-bc0d-36b31a71316f"
      },
      "source": [
        "df.value.mean()"
      ],
      "execution_count": 0,
      "outputs": [
        {
          "output_type": "execute_result",
          "data": {
            "text/plain": [
              "289.5"
            ]
          },
          "metadata": {
            "tags": []
          },
          "execution_count": 60
        }
      ]
    },
    {
      "cell_type": "code",
      "metadata": {
        "id": "KhSxFoBDZxBS",
        "colab_type": "code",
        "colab": {},
        "outputId": "1829c6a0-2291-4132-f34b-4ce504abeb23"
      },
      "source": [
        "pd.DataFrame({'value': [123, 0, 0, 0, 0, 456]}).mean()"
      ],
      "execution_count": 0,
      "outputs": [
        {
          "output_type": "execute_result",
          "data": {
            "text/plain": [
              "value    96.5\n",
              "dtype: float64"
            ]
          },
          "metadata": {
            "tags": []
          },
          "execution_count": 62
        }
      ]
    },
    {
      "cell_type": "code",
      "metadata": {
        "id": "YRIIbIXCZxBZ",
        "colab_type": "code",
        "colab": {},
        "outputId": "fcd363c3-ee48-4f96-a224-8fcf44e686df"
      },
      "source": [
        "df[~pd.isnull(df.value)]"
      ],
      "execution_count": 0,
      "outputs": [
        {
          "output_type": "execute_result",
          "data": {
            "text/html": [
              "<div>\n",
              "<style scoped>\n",
              "    .dataframe tbody tr th:only-of-type {\n",
              "        vertical-align: middle;\n",
              "    }\n",
              "\n",
              "    .dataframe tbody tr th {\n",
              "        vertical-align: top;\n",
              "    }\n",
              "\n",
              "    .dataframe thead th {\n",
              "        text-align: right;\n",
              "    }\n",
              "</style>\n",
              "<table border=\"1\" class=\"dataframe\">\n",
              "  <thead>\n",
              "    <tr style=\"text-align: right;\">\n",
              "      <th></th>\n",
              "      <th>value</th>\n",
              "    </tr>\n",
              "  </thead>\n",
              "  <tbody>\n",
              "    <tr>\n",
              "      <th>0</th>\n",
              "      <td>123.0</td>\n",
              "    </tr>\n",
              "    <tr>\n",
              "      <th>5</th>\n",
              "      <td>456.0</td>\n",
              "    </tr>\n",
              "  </tbody>\n",
              "</table>\n",
              "</div>"
            ],
            "text/plain": [
              "   value\n",
              "0  123.0\n",
              "5  456.0"
            ]
          },
          "metadata": {
            "tags": []
          },
          "execution_count": 64
        }
      ]
    },
    {
      "cell_type": "code",
      "metadata": {
        "id": "lTsVdgGaZxBi",
        "colab_type": "code",
        "colab": {},
        "outputId": "80f574bb-6656-4363-b4a6-a5c2ea0ec950"
      },
      "source": [
        "# фильтр на пустые значения в столбце value\n",
        "\n",
        "df.loc[pd.isnull(df.value), :]"
      ],
      "execution_count": 0,
      "outputs": [
        {
          "output_type": "execute_result",
          "data": {
            "text/html": [
              "<div>\n",
              "<style scoped>\n",
              "    .dataframe tbody tr th:only-of-type {\n",
              "        vertical-align: middle;\n",
              "    }\n",
              "\n",
              "    .dataframe tbody tr th {\n",
              "        vertical-align: top;\n",
              "    }\n",
              "\n",
              "    .dataframe thead th {\n",
              "        text-align: right;\n",
              "    }\n",
              "</style>\n",
              "<table border=\"1\" class=\"dataframe\">\n",
              "  <thead>\n",
              "    <tr style=\"text-align: right;\">\n",
              "      <th></th>\n",
              "      <th>value</th>\n",
              "    </tr>\n",
              "  </thead>\n",
              "  <tbody>\n",
              "    <tr>\n",
              "      <th>1</th>\n",
              "      <td>NaN</td>\n",
              "    </tr>\n",
              "    <tr>\n",
              "      <th>2</th>\n",
              "      <td>NaN</td>\n",
              "    </tr>\n",
              "    <tr>\n",
              "      <th>3</th>\n",
              "      <td>NaN</td>\n",
              "    </tr>\n",
              "    <tr>\n",
              "      <th>4</th>\n",
              "      <td>NaN</td>\n",
              "    </tr>\n",
              "  </tbody>\n",
              "</table>\n",
              "</div>"
            ],
            "text/plain": [
              "   value\n",
              "1    NaN\n",
              "2    NaN\n",
              "3    NaN\n",
              "4    NaN"
            ]
          },
          "metadata": {
            "tags": []
          },
          "execution_count": 65
        }
      ]
    },
    {
      "cell_type": "markdown",
      "metadata": {
        "id": "ZNX4jSeYZxBl",
        "colab_type": "text"
      },
      "source": [
        "### Упражнение\n",
        "Для пустых значений в столбце traffic_type выставьте значение 'other'"
      ]
    },
    {
      "cell_type": "code",
      "metadata": {
        "id": "bpae10q_ZxBm",
        "colab_type": "code",
        "colab": {},
        "outputId": "af7e9665-f6dd-4f26-86bc-3c87a3725753"
      },
      "source": [
        "log.loc[pd.isnull(log.traffic_type), 'traffic_type'] = 'other'\n",
        "log.head()"
      ],
      "execution_count": 0,
      "outputs": [
        {
          "output_type": "execute_result",
          "data": {
            "text/html": [
              "<div>\n",
              "<style scoped>\n",
              "    .dataframe tbody tr th:only-of-type {\n",
              "        vertical-align: middle;\n",
              "    }\n",
              "\n",
              "    .dataframe tbody tr th {\n",
              "        vertical-align: top;\n",
              "    }\n",
              "\n",
              "    .dataframe thead th {\n",
              "        text-align: right;\n",
              "    }\n",
              "</style>\n",
              "<table border=\"1\" class=\"dataframe\">\n",
              "  <thead>\n",
              "    <tr style=\"text-align: right;\">\n",
              "      <th></th>\n",
              "      <th>timestamp</th>\n",
              "      <th>visit_id</th>\n",
              "      <th>url</th>\n",
              "      <th>region</th>\n",
              "      <th>user_id</th>\n",
              "      <th>traffic_source</th>\n",
              "      <th>traffic_type</th>\n",
              "    </tr>\n",
              "  </thead>\n",
              "  <tbody>\n",
              "    <tr>\n",
              "      <th>0</th>\n",
              "      <td>1549980692</td>\n",
              "      <td>e3b0c44298</td>\n",
              "      <td>https://host.ru/3c19b4ef7371864fa3</td>\n",
              "      <td>Russia</td>\n",
              "      <td>b1613cc09f</td>\n",
              "      <td>yandex</td>\n",
              "      <td>organic</td>\n",
              "    </tr>\n",
              "    <tr>\n",
              "      <th>1</th>\n",
              "      <td>1549980704</td>\n",
              "      <td>6e340b9cff</td>\n",
              "      <td>https://host.ru/c8d9213a31839f9a3a</td>\n",
              "      <td>Russia</td>\n",
              "      <td>4c3ec14bee</td>\n",
              "      <td>direct</td>\n",
              "      <td>other</td>\n",
              "    </tr>\n",
              "    <tr>\n",
              "      <th>2</th>\n",
              "      <td>1549980715</td>\n",
              "      <td>96a296d224</td>\n",
              "      <td>https://host.ru/b8b58337d272ee7b15</td>\n",
              "      <td>Russia</td>\n",
              "      <td>a8c40697fb</td>\n",
              "      <td>yandex</td>\n",
              "      <td>organic</td>\n",
              "    </tr>\n",
              "    <tr>\n",
              "      <th>3</th>\n",
              "      <td>1549980725</td>\n",
              "      <td>709e80c884</td>\n",
              "      <td>https://host.ru/b8b58337d272ee7b15</td>\n",
              "      <td>Russia</td>\n",
              "      <td>521ac1d6a0</td>\n",
              "      <td>yandex</td>\n",
              "      <td>organic</td>\n",
              "    </tr>\n",
              "    <tr>\n",
              "      <th>4</th>\n",
              "      <td>1549980736</td>\n",
              "      <td>df3f619804</td>\n",
              "      <td>https://host.ru/b8b58337d272ee7b15</td>\n",
              "      <td>Russia</td>\n",
              "      <td>d7323c571c</td>\n",
              "      <td>yandex</td>\n",
              "      <td>organic</td>\n",
              "    </tr>\n",
              "  </tbody>\n",
              "</table>\n",
              "</div>"
            ],
            "text/plain": [
              "    timestamp    visit_id                                 url  region  \\\n",
              "0  1549980692  e3b0c44298  https://host.ru/3c19b4ef7371864fa3  Russia   \n",
              "1  1549980704  6e340b9cff  https://host.ru/c8d9213a31839f9a3a  Russia   \n",
              "2  1549980715  96a296d224  https://host.ru/b8b58337d272ee7b15  Russia   \n",
              "3  1549980725  709e80c884  https://host.ru/b8b58337d272ee7b15  Russia   \n",
              "4  1549980736  df3f619804  https://host.ru/b8b58337d272ee7b15  Russia   \n",
              "\n",
              "      user_id traffic_source traffic_type  \n",
              "0  b1613cc09f         yandex      organic  \n",
              "1  4c3ec14bee         direct        other  \n",
              "2  a8c40697fb         yandex      organic  \n",
              "3  521ac1d6a0         yandex      organic  \n",
              "4  d7323c571c         yandex      organic  "
            ]
          },
          "metadata": {
            "tags": []
          },
          "execution_count": 76
        }
      ]
    },
    {
      "cell_type": "code",
      "metadata": {
        "id": "EHVGmOZDZxBt",
        "colab_type": "code",
        "colab": {},
        "outputId": "36ae0b53-fd49-48f3-ff15-c71611afdeb7"
      },
      "source": [
        "log.loc[pd.isnull(log.traffic_type), 'traffic_type'] = 'other'\n",
        "log.head()"
      ],
      "execution_count": 0,
      "outputs": [
        {
          "output_type": "execute_result",
          "data": {
            "text/html": [
              "<div>\n",
              "<style scoped>\n",
              "    .dataframe tbody tr th:only-of-type {\n",
              "        vertical-align: middle;\n",
              "    }\n",
              "\n",
              "    .dataframe tbody tr th {\n",
              "        vertical-align: top;\n",
              "    }\n",
              "\n",
              "    .dataframe thead th {\n",
              "        text-align: right;\n",
              "    }\n",
              "</style>\n",
              "<table border=\"1\" class=\"dataframe\">\n",
              "  <thead>\n",
              "    <tr style=\"text-align: right;\">\n",
              "      <th></th>\n",
              "      <th>timestamp</th>\n",
              "      <th>visit_id</th>\n",
              "      <th>url</th>\n",
              "      <th>region</th>\n",
              "      <th>user_id</th>\n",
              "      <th>traffic_source</th>\n",
              "      <th>traffic_type</th>\n",
              "    </tr>\n",
              "  </thead>\n",
              "  <tbody>\n",
              "    <tr>\n",
              "      <th>0</th>\n",
              "      <td>1549980692</td>\n",
              "      <td>e3b0c44298</td>\n",
              "      <td>https://host.ru/3c19b4ef7371864fa3</td>\n",
              "      <td>Russia</td>\n",
              "      <td>b1613cc09f</td>\n",
              "      <td>yandex</td>\n",
              "      <td>organic</td>\n",
              "    </tr>\n",
              "    <tr>\n",
              "      <th>1</th>\n",
              "      <td>other</td>\n",
              "      <td>other</td>\n",
              "      <td>other</td>\n",
              "      <td>other</td>\n",
              "      <td>other</td>\n",
              "      <td>other</td>\n",
              "      <td>other</td>\n",
              "    </tr>\n",
              "    <tr>\n",
              "      <th>2</th>\n",
              "      <td>1549980715</td>\n",
              "      <td>96a296d224</td>\n",
              "      <td>https://host.ru/b8b58337d272ee7b15</td>\n",
              "      <td>Russia</td>\n",
              "      <td>a8c40697fb</td>\n",
              "      <td>yandex</td>\n",
              "      <td>organic</td>\n",
              "    </tr>\n",
              "    <tr>\n",
              "      <th>3</th>\n",
              "      <td>1549980725</td>\n",
              "      <td>709e80c884</td>\n",
              "      <td>https://host.ru/b8b58337d272ee7b15</td>\n",
              "      <td>Russia</td>\n",
              "      <td>521ac1d6a0</td>\n",
              "      <td>yandex</td>\n",
              "      <td>organic</td>\n",
              "    </tr>\n",
              "    <tr>\n",
              "      <th>4</th>\n",
              "      <td>1549980736</td>\n",
              "      <td>df3f619804</td>\n",
              "      <td>https://host.ru/b8b58337d272ee7b15</td>\n",
              "      <td>Russia</td>\n",
              "      <td>d7323c571c</td>\n",
              "      <td>yandex</td>\n",
              "      <td>organic</td>\n",
              "    </tr>\n",
              "  </tbody>\n",
              "</table>\n",
              "</div>"
            ],
            "text/plain": [
              "    timestamp    visit_id                                 url  region  \\\n",
              "0  1549980692  e3b0c44298  https://host.ru/3c19b4ef7371864fa3  Russia   \n",
              "1       other       other                               other   other   \n",
              "2  1549980715  96a296d224  https://host.ru/b8b58337d272ee7b15  Russia   \n",
              "3  1549980725  709e80c884  https://host.ru/b8b58337d272ee7b15  Russia   \n",
              "4  1549980736  df3f619804  https://host.ru/b8b58337d272ee7b15  Russia   \n",
              "\n",
              "      user_id traffic_source traffic_type  \n",
              "0  b1613cc09f         yandex      organic  \n",
              "1       other          other        other  \n",
              "2  a8c40697fb         yandex      organic  \n",
              "3  521ac1d6a0         yandex      organic  \n",
              "4  d7323c571c         yandex      organic  "
            ]
          },
          "metadata": {
            "tags": []
          },
          "execution_count": 73
        }
      ]
    },
    {
      "cell_type": "code",
      "metadata": {
        "id": "GJ9KMoi2ZxB1",
        "colab_type": "code",
        "colab": {}
      },
      "source": [
        ""
      ],
      "execution_count": 0,
      "outputs": []
    },
    {
      "cell_type": "markdown",
      "metadata": {
        "id": "YEL5yFaIZxB4",
        "colab_type": "text"
      },
      "source": [
        "### Дата и время в pandas"
      ]
    },
    {
      "cell_type": "code",
      "metadata": {
        "id": "EqQo5GjyZxB4",
        "colab_type": "code",
        "colab": {},
        "outputId": "28c8646d-70f3-49c7-f8e4-6f86f2515353"
      },
      "source": [
        "log.head()"
      ],
      "execution_count": 0,
      "outputs": [
        {
          "output_type": "execute_result",
          "data": {
            "text/html": [
              "<div>\n",
              "<style scoped>\n",
              "    .dataframe tbody tr th:only-of-type {\n",
              "        vertical-align: middle;\n",
              "    }\n",
              "\n",
              "    .dataframe tbody tr th {\n",
              "        vertical-align: top;\n",
              "    }\n",
              "\n",
              "    .dataframe thead th {\n",
              "        text-align: right;\n",
              "    }\n",
              "</style>\n",
              "<table border=\"1\" class=\"dataframe\">\n",
              "  <thead>\n",
              "    <tr style=\"text-align: right;\">\n",
              "      <th></th>\n",
              "      <th>timestamp</th>\n",
              "      <th>visit_id</th>\n",
              "      <th>url</th>\n",
              "      <th>region</th>\n",
              "      <th>user_id</th>\n",
              "      <th>traffic_source</th>\n",
              "      <th>traffic_type</th>\n",
              "    </tr>\n",
              "  </thead>\n",
              "  <tbody>\n",
              "    <tr>\n",
              "      <th>0</th>\n",
              "      <td>1549980692</td>\n",
              "      <td>e3b0c44298</td>\n",
              "      <td>https://host.ru/3c19b4ef7371864fa3</td>\n",
              "      <td>Russia</td>\n",
              "      <td>b1613cc09f</td>\n",
              "      <td>yandex</td>\n",
              "      <td>organic</td>\n",
              "    </tr>\n",
              "    <tr>\n",
              "      <th>1</th>\n",
              "      <td>1549980704</td>\n",
              "      <td>6e340b9cff</td>\n",
              "      <td>https://host.ru/c8d9213a31839f9a3a</td>\n",
              "      <td>Russia</td>\n",
              "      <td>4c3ec14bee</td>\n",
              "      <td>direct</td>\n",
              "      <td>other</td>\n",
              "    </tr>\n",
              "    <tr>\n",
              "      <th>2</th>\n",
              "      <td>1549980715</td>\n",
              "      <td>96a296d224</td>\n",
              "      <td>https://host.ru/b8b58337d272ee7b15</td>\n",
              "      <td>Russia</td>\n",
              "      <td>a8c40697fb</td>\n",
              "      <td>yandex</td>\n",
              "      <td>organic</td>\n",
              "    </tr>\n",
              "    <tr>\n",
              "      <th>3</th>\n",
              "      <td>1549980725</td>\n",
              "      <td>709e80c884</td>\n",
              "      <td>https://host.ru/b8b58337d272ee7b15</td>\n",
              "      <td>Russia</td>\n",
              "      <td>521ac1d6a0</td>\n",
              "      <td>yandex</td>\n",
              "      <td>organic</td>\n",
              "    </tr>\n",
              "    <tr>\n",
              "      <th>4</th>\n",
              "      <td>1549980736</td>\n",
              "      <td>df3f619804</td>\n",
              "      <td>https://host.ru/b8b58337d272ee7b15</td>\n",
              "      <td>Russia</td>\n",
              "      <td>d7323c571c</td>\n",
              "      <td>yandex</td>\n",
              "      <td>organic</td>\n",
              "    </tr>\n",
              "  </tbody>\n",
              "</table>\n",
              "</div>"
            ],
            "text/plain": [
              "    timestamp    visit_id                                 url  region  \\\n",
              "0  1549980692  e3b0c44298  https://host.ru/3c19b4ef7371864fa3  Russia   \n",
              "1  1549980704  6e340b9cff  https://host.ru/c8d9213a31839f9a3a  Russia   \n",
              "2  1549980715  96a296d224  https://host.ru/b8b58337d272ee7b15  Russia   \n",
              "3  1549980725  709e80c884  https://host.ru/b8b58337d272ee7b15  Russia   \n",
              "4  1549980736  df3f619804  https://host.ru/b8b58337d272ee7b15  Russia   \n",
              "\n",
              "      user_id traffic_source traffic_type  \n",
              "0  b1613cc09f         yandex      organic  \n",
              "1  4c3ec14bee         direct        other  \n",
              "2  a8c40697fb         yandex      organic  \n",
              "3  521ac1d6a0         yandex      organic  \n",
              "4  d7323c571c         yandex      organic  "
            ]
          },
          "metadata": {
            "tags": []
          },
          "execution_count": 77
        }
      ]
    },
    {
      "cell_type": "code",
      "metadata": {
        "id": "tHfApc6CZxB9",
        "colab_type": "code",
        "colab": {},
        "outputId": "ecce0056-32fd-41a0-b63a-ec1de2cf923a"
      },
      "source": [
        "log.info()"
      ],
      "execution_count": 0,
      "outputs": [
        {
          "output_type": "stream",
          "text": [
            "<class 'pandas.core.frame.DataFrame'>\n",
            "RangeIndex: 18938 entries, 0 to 18937\n",
            "Data columns (total 7 columns):\n",
            "timestamp         18938 non-null int64\n",
            "visit_id          18938 non-null object\n",
            "url               18938 non-null object\n",
            "region            18938 non-null object\n",
            "user_id           18938 non-null object\n",
            "traffic_source    18938 non-null object\n",
            "traffic_type      18938 non-null object\n",
            "dtypes: int64(1), object(6)\n",
            "memory usage: 1.0+ MB\n"
          ],
          "name": "stdout"
        }
      ]
    },
    {
      "cell_type": "code",
      "metadata": {
        "id": "5ogeNL1XZxCG",
        "colab_type": "code",
        "colab": {},
        "outputId": "50edf433-3c63-47e3-e11f-06f7b8fec674"
      },
      "source": [
        "log['date'] = pd.to_datetime(log['timestamp'], unit='s')\n",
        "log.head()"
      ],
      "execution_count": 0,
      "outputs": [
        {
          "output_type": "execute_result",
          "data": {
            "text/html": [
              "<div>\n",
              "<style scoped>\n",
              "    .dataframe tbody tr th:only-of-type {\n",
              "        vertical-align: middle;\n",
              "    }\n",
              "\n",
              "    .dataframe tbody tr th {\n",
              "        vertical-align: top;\n",
              "    }\n",
              "\n",
              "    .dataframe thead th {\n",
              "        text-align: right;\n",
              "    }\n",
              "</style>\n",
              "<table border=\"1\" class=\"dataframe\">\n",
              "  <thead>\n",
              "    <tr style=\"text-align: right;\">\n",
              "      <th></th>\n",
              "      <th>timestamp</th>\n",
              "      <th>visit_id</th>\n",
              "      <th>url</th>\n",
              "      <th>region</th>\n",
              "      <th>user_id</th>\n",
              "      <th>traffic_source</th>\n",
              "      <th>traffic_type</th>\n",
              "      <th>date</th>\n",
              "    </tr>\n",
              "  </thead>\n",
              "  <tbody>\n",
              "    <tr>\n",
              "      <th>0</th>\n",
              "      <td>1549980692</td>\n",
              "      <td>e3b0c44298</td>\n",
              "      <td>https://host.ru/3c19b4ef7371864fa3</td>\n",
              "      <td>Russia</td>\n",
              "      <td>b1613cc09f</td>\n",
              "      <td>yandex</td>\n",
              "      <td>organic</td>\n",
              "      <td>2019-02-12 14:11:32</td>\n",
              "    </tr>\n",
              "    <tr>\n",
              "      <th>1</th>\n",
              "      <td>1549980704</td>\n",
              "      <td>6e340b9cff</td>\n",
              "      <td>https://host.ru/c8d9213a31839f9a3a</td>\n",
              "      <td>Russia</td>\n",
              "      <td>4c3ec14bee</td>\n",
              "      <td>direct</td>\n",
              "      <td>other</td>\n",
              "      <td>2019-02-12 14:11:44</td>\n",
              "    </tr>\n",
              "    <tr>\n",
              "      <th>2</th>\n",
              "      <td>1549980715</td>\n",
              "      <td>96a296d224</td>\n",
              "      <td>https://host.ru/b8b58337d272ee7b15</td>\n",
              "      <td>Russia</td>\n",
              "      <td>a8c40697fb</td>\n",
              "      <td>yandex</td>\n",
              "      <td>organic</td>\n",
              "      <td>2019-02-12 14:11:55</td>\n",
              "    </tr>\n",
              "    <tr>\n",
              "      <th>3</th>\n",
              "      <td>1549980725</td>\n",
              "      <td>709e80c884</td>\n",
              "      <td>https://host.ru/b8b58337d272ee7b15</td>\n",
              "      <td>Russia</td>\n",
              "      <td>521ac1d6a0</td>\n",
              "      <td>yandex</td>\n",
              "      <td>organic</td>\n",
              "      <td>2019-02-12 14:12:05</td>\n",
              "    </tr>\n",
              "    <tr>\n",
              "      <th>4</th>\n",
              "      <td>1549980736</td>\n",
              "      <td>df3f619804</td>\n",
              "      <td>https://host.ru/b8b58337d272ee7b15</td>\n",
              "      <td>Russia</td>\n",
              "      <td>d7323c571c</td>\n",
              "      <td>yandex</td>\n",
              "      <td>organic</td>\n",
              "      <td>2019-02-12 14:12:16</td>\n",
              "    </tr>\n",
              "  </tbody>\n",
              "</table>\n",
              "</div>"
            ],
            "text/plain": [
              "    timestamp    visit_id                                 url  region  \\\n",
              "0  1549980692  e3b0c44298  https://host.ru/3c19b4ef7371864fa3  Russia   \n",
              "1  1549980704  6e340b9cff  https://host.ru/c8d9213a31839f9a3a  Russia   \n",
              "2  1549980715  96a296d224  https://host.ru/b8b58337d272ee7b15  Russia   \n",
              "3  1549980725  709e80c884  https://host.ru/b8b58337d272ee7b15  Russia   \n",
              "4  1549980736  df3f619804  https://host.ru/b8b58337d272ee7b15  Russia   \n",
              "\n",
              "      user_id traffic_source traffic_type                date  \n",
              "0  b1613cc09f         yandex      organic 2019-02-12 14:11:32  \n",
              "1  4c3ec14bee         direct        other 2019-02-12 14:11:44  \n",
              "2  a8c40697fb         yandex      organic 2019-02-12 14:11:55  \n",
              "3  521ac1d6a0         yandex      organic 2019-02-12 14:12:05  \n",
              "4  d7323c571c         yandex      organic 2019-02-12 14:12:16  "
            ]
          },
          "metadata": {
            "tags": []
          },
          "execution_count": 79
        }
      ]
    },
    {
      "cell_type": "code",
      "metadata": {
        "id": "Zh8cxfNMZxCK",
        "colab_type": "code",
        "colab": {},
        "outputId": "0b5b0960-74bb-4b96-b243-6b8a2748ac13"
      },
      "source": [
        "# столбец datetime64[ns] теперь имеет тип даты\n",
        "log.info()"
      ],
      "execution_count": 0,
      "outputs": [
        {
          "output_type": "stream",
          "text": [
            "<class 'pandas.core.frame.DataFrame'>\n",
            "RangeIndex: 18938 entries, 0 to 18937\n",
            "Data columns (total 8 columns):\n",
            "timestamp         18938 non-null int64\n",
            "visit_id          18938 non-null object\n",
            "url               18938 non-null object\n",
            "region            18938 non-null object\n",
            "user_id           18938 non-null object\n",
            "traffic_source    18938 non-null object\n",
            "traffic_type      18938 non-null object\n",
            "date              18938 non-null datetime64[ns]\n",
            "dtypes: datetime64[ns](1), int64(1), object(6)\n",
            "memory usage: 1.2+ MB\n"
          ],
          "name": "stdout"
        }
      ]
    },
    {
      "cell_type": "code",
      "metadata": {
        "id": "TQXU4__iZxCN",
        "colab_type": "code",
        "colab": {},
        "outputId": "3db7feff-a30d-4a69-bb71-6dd240045f3d"
      },
      "source": [
        "# получим час визита\n",
        "\n",
        "log['hour'] = log.date.dt.hour\n",
        "log.head()"
      ],
      "execution_count": 0,
      "outputs": [
        {
          "output_type": "execute_result",
          "data": {
            "text/html": [
              "<div>\n",
              "<style scoped>\n",
              "    .dataframe tbody tr th:only-of-type {\n",
              "        vertical-align: middle;\n",
              "    }\n",
              "\n",
              "    .dataframe tbody tr th {\n",
              "        vertical-align: top;\n",
              "    }\n",
              "\n",
              "    .dataframe thead th {\n",
              "        text-align: right;\n",
              "    }\n",
              "</style>\n",
              "<table border=\"1\" class=\"dataframe\">\n",
              "  <thead>\n",
              "    <tr style=\"text-align: right;\">\n",
              "      <th></th>\n",
              "      <th>timestamp</th>\n",
              "      <th>visit_id</th>\n",
              "      <th>url</th>\n",
              "      <th>region</th>\n",
              "      <th>user_id</th>\n",
              "      <th>traffic_source</th>\n",
              "      <th>traffic_type</th>\n",
              "      <th>date</th>\n",
              "      <th>hour</th>\n",
              "    </tr>\n",
              "  </thead>\n",
              "  <tbody>\n",
              "    <tr>\n",
              "      <th>0</th>\n",
              "      <td>1549980692</td>\n",
              "      <td>e3b0c44298</td>\n",
              "      <td>https://host.ru/3c19b4ef7371864fa3</td>\n",
              "      <td>Russia</td>\n",
              "      <td>b1613cc09f</td>\n",
              "      <td>yandex</td>\n",
              "      <td>organic</td>\n",
              "      <td>2019-02-12 14:11:32</td>\n",
              "      <td>14</td>\n",
              "    </tr>\n",
              "    <tr>\n",
              "      <th>1</th>\n",
              "      <td>1549980704</td>\n",
              "      <td>6e340b9cff</td>\n",
              "      <td>https://host.ru/c8d9213a31839f9a3a</td>\n",
              "      <td>Russia</td>\n",
              "      <td>4c3ec14bee</td>\n",
              "      <td>direct</td>\n",
              "      <td>other</td>\n",
              "      <td>2019-02-12 14:11:44</td>\n",
              "      <td>14</td>\n",
              "    </tr>\n",
              "    <tr>\n",
              "      <th>2</th>\n",
              "      <td>1549980715</td>\n",
              "      <td>96a296d224</td>\n",
              "      <td>https://host.ru/b8b58337d272ee7b15</td>\n",
              "      <td>Russia</td>\n",
              "      <td>a8c40697fb</td>\n",
              "      <td>yandex</td>\n",
              "      <td>organic</td>\n",
              "      <td>2019-02-12 14:11:55</td>\n",
              "      <td>14</td>\n",
              "    </tr>\n",
              "    <tr>\n",
              "      <th>3</th>\n",
              "      <td>1549980725</td>\n",
              "      <td>709e80c884</td>\n",
              "      <td>https://host.ru/b8b58337d272ee7b15</td>\n",
              "      <td>Russia</td>\n",
              "      <td>521ac1d6a0</td>\n",
              "      <td>yandex</td>\n",
              "      <td>organic</td>\n",
              "      <td>2019-02-12 14:12:05</td>\n",
              "      <td>14</td>\n",
              "    </tr>\n",
              "    <tr>\n",
              "      <th>4</th>\n",
              "      <td>1549980736</td>\n",
              "      <td>df3f619804</td>\n",
              "      <td>https://host.ru/b8b58337d272ee7b15</td>\n",
              "      <td>Russia</td>\n",
              "      <td>d7323c571c</td>\n",
              "      <td>yandex</td>\n",
              "      <td>organic</td>\n",
              "      <td>2019-02-12 14:12:16</td>\n",
              "      <td>14</td>\n",
              "    </tr>\n",
              "  </tbody>\n",
              "</table>\n",
              "</div>"
            ],
            "text/plain": [
              "    timestamp    visit_id                                 url  region  \\\n",
              "0  1549980692  e3b0c44298  https://host.ru/3c19b4ef7371864fa3  Russia   \n",
              "1  1549980704  6e340b9cff  https://host.ru/c8d9213a31839f9a3a  Russia   \n",
              "2  1549980715  96a296d224  https://host.ru/b8b58337d272ee7b15  Russia   \n",
              "3  1549980725  709e80c884  https://host.ru/b8b58337d272ee7b15  Russia   \n",
              "4  1549980736  df3f619804  https://host.ru/b8b58337d272ee7b15  Russia   \n",
              "\n",
              "      user_id traffic_source traffic_type                date  hour  \n",
              "0  b1613cc09f         yandex      organic 2019-02-12 14:11:32    14  \n",
              "1  4c3ec14bee         direct        other 2019-02-12 14:11:44    14  \n",
              "2  a8c40697fb         yandex      organic 2019-02-12 14:11:55    14  \n",
              "3  521ac1d6a0         yandex      organic 2019-02-12 14:12:05    14  \n",
              "4  d7323c571c         yandex      organic 2019-02-12 14:12:16    14  "
            ]
          },
          "metadata": {
            "tags": []
          },
          "execution_count": 81
        }
      ]
    },
    {
      "cell_type": "markdown",
      "metadata": {
        "id": "TuxY8WWHZxCV",
        "colab_type": "text"
      },
      "source": [
        "### Упражнение\n",
        "Дан датафрейм df с временем визита и соответствующей покупки. Сделайте следующее:\n",
        "1. Создайте столбцы visit_dt и purchase_dt типа datetime из столбцов visit_datetime и purchase_datetime\n",
        "2. Посчитайте разницу между временем визита и покупки (простым вычитанием)\n",
        "3. Переведите полученный столбец с длительностью покупки в минуты:\n",
        "```python\n",
        "(df.purchase_dt - df.visit_dt).astype('timedelta64[m]')\n",
        "```\n",
        "4. Посчитайте среднее время покупки в минутах"
      ]
    },
    {
      "cell_type": "code",
      "metadata": {
        "id": "PS_aR9Y7ZxCW",
        "colab_type": "code",
        "colab": {},
        "outputId": "db400621-4e42-4f8c-f6f1-8132b9345ca8"
      },
      "source": [
        "df = pd.DataFrame({'visit_datetime': ['2019-11-04T00:05:13', '2019-11-04T00:06:19', '2019-11-04T01:35:14'], \n",
        "                   'purchase_datetime': ['2019-11-04T00:15:53', '2019-11-04T00:07:59', '2019-11-04T03:15:30']})\n",
        "df"
      ],
      "execution_count": 0,
      "outputs": [
        {
          "output_type": "execute_result",
          "data": {
            "text/html": [
              "<div>\n",
              "<style scoped>\n",
              "    .dataframe tbody tr th:only-of-type {\n",
              "        vertical-align: middle;\n",
              "    }\n",
              "\n",
              "    .dataframe tbody tr th {\n",
              "        vertical-align: top;\n",
              "    }\n",
              "\n",
              "    .dataframe thead th {\n",
              "        text-align: right;\n",
              "    }\n",
              "</style>\n",
              "<table border=\"1\" class=\"dataframe\">\n",
              "  <thead>\n",
              "    <tr style=\"text-align: right;\">\n",
              "      <th></th>\n",
              "      <th>visit_datetime</th>\n",
              "      <th>purchase_datetime</th>\n",
              "    </tr>\n",
              "  </thead>\n",
              "  <tbody>\n",
              "    <tr>\n",
              "      <th>0</th>\n",
              "      <td>2019-11-04T00:05:13</td>\n",
              "      <td>2019-11-04T00:15:53</td>\n",
              "    </tr>\n",
              "    <tr>\n",
              "      <th>1</th>\n",
              "      <td>2019-11-04T00:06:19</td>\n",
              "      <td>2019-11-04T00:07:59</td>\n",
              "    </tr>\n",
              "    <tr>\n",
              "      <th>2</th>\n",
              "      <td>2019-11-04T01:35:14</td>\n",
              "      <td>2019-11-04T03:15:30</td>\n",
              "    </tr>\n",
              "  </tbody>\n",
              "</table>\n",
              "</div>"
            ],
            "text/plain": [
              "        visit_datetime    purchase_datetime\n",
              "0  2019-11-04T00:05:13  2019-11-04T00:15:53\n",
              "1  2019-11-04T00:06:19  2019-11-04T00:07:59\n",
              "2  2019-11-04T01:35:14  2019-11-04T03:15:30"
            ]
          },
          "metadata": {
            "tags": []
          },
          "execution_count": 82
        }
      ]
    },
    {
      "cell_type": "code",
      "metadata": {
        "id": "nn5ZfOvcZxCZ",
        "colab_type": "code",
        "colab": {},
        "outputId": "10f98486-d468-41db-8fbb-eb4bea655f33"
      },
      "source": [
        "df.info()"
      ],
      "execution_count": 0,
      "outputs": [
        {
          "output_type": "stream",
          "text": [
            "<class 'pandas.core.frame.DataFrame'>\n",
            "RangeIndex: 3 entries, 0 to 2\n",
            "Data columns (total 2 columns):\n",
            "visit_datetime       3 non-null object\n",
            "purchase_datetime    3 non-null object\n",
            "dtypes: object(2)\n",
            "memory usage: 176.0+ bytes\n"
          ],
          "name": "stdout"
        }
      ]
    },
    {
      "cell_type": "code",
      "metadata": {
        "id": "G4SuYgg9ZxCd",
        "colab_type": "code",
        "colab": {}
      },
      "source": [
        "df['visit_dt'] = pd.to_datetime()"
      ],
      "execution_count": 0,
      "outputs": []
    },
    {
      "cell_type": "code",
      "metadata": {
        "id": "vW0PYVLxZxCm",
        "colab_type": "code",
        "colab": {},
        "outputId": "e291f7b2-4e59-408b-b531-d762a0cdf6b7"
      },
      "source": [
        "df['visit_dt'] = pd.to_datetime(df['visit_datetime'])\n",
        "df['purchase_dit'] = pd.to_datetime(df['purchase_datetime'])\n",
        "df['Delay'] = (df['purchase_dit'] - df['visit_dt']).astype('timedelta64[m]')\n",
        "df['Delay'].mean()"
      ],
      "execution_count": 0,
      "outputs": [
        {
          "output_type": "execute_result",
          "data": {
            "text/plain": [
              "37.0"
            ]
          },
          "metadata": {
            "tags": []
          },
          "execution_count": 85
        }
      ]
    },
    {
      "cell_type": "code",
      "metadata": {
        "id": "Jw6ET1fGZxCp",
        "colab_type": "code",
        "colab": {},
        "outputId": "fc0d5624-33fc-46e6-8a1f-2abb7f01722d"
      },
      "source": [
        "df['visit_dt']=pd.to_datetime(df['visit_datetime'], format='%Y-%m-%dT')\n",
        "df['purchase_dt']=pd.to_datetime(df['purchase_datetime'])\n",
        "df['delta_dt'] = (df.purchase_dt - df.visit_dt).astype('timedelta64[m]')\n",
        "df.delta_dt.mean()"
      ],
      "execution_count": 0,
      "outputs": [
        {
          "output_type": "execute_result",
          "data": {
            "text/plain": [
              "37.0"
            ]
          },
          "metadata": {
            "tags": []
          },
          "execution_count": 84
        }
      ]
    },
    {
      "cell_type": "code",
      "metadata": {
        "id": "4s1Rg--DZxCr",
        "colab_type": "code",
        "colab": {},
        "outputId": "8b9835ae-f378-441a-f935-30aeb911683a"
      },
      "source": [
        "df.head()"
      ],
      "execution_count": 0,
      "outputs": [
        {
          "output_type": "execute_result",
          "data": {
            "text/html": [
              "<div>\n",
              "<style scoped>\n",
              "    .dataframe tbody tr th:only-of-type {\n",
              "        vertical-align: middle;\n",
              "    }\n",
              "\n",
              "    .dataframe tbody tr th {\n",
              "        vertical-align: top;\n",
              "    }\n",
              "\n",
              "    .dataframe thead th {\n",
              "        text-align: right;\n",
              "    }\n",
              "</style>\n",
              "<table border=\"1\" class=\"dataframe\">\n",
              "  <thead>\n",
              "    <tr style=\"text-align: right;\">\n",
              "      <th></th>\n",
              "      <th>visit_datetime</th>\n",
              "      <th>purchase_datetime</th>\n",
              "      <th>visit_dt</th>\n",
              "      <th>purchase_dt</th>\n",
              "      <th>delta_dt</th>\n",
              "      <th>purchase_dit</th>\n",
              "      <th>Delay</th>\n",
              "    </tr>\n",
              "  </thead>\n",
              "  <tbody>\n",
              "    <tr>\n",
              "      <th>0</th>\n",
              "      <td>2019-11-04T00:05:13</td>\n",
              "      <td>2019-11-04T00:15:53</td>\n",
              "      <td>2019-11-04 00:05:13</td>\n",
              "      <td>2019-11-04 00:15:53</td>\n",
              "      <td>10.0</td>\n",
              "      <td>2019-11-04 00:15:53</td>\n",
              "      <td>10.0</td>\n",
              "    </tr>\n",
              "    <tr>\n",
              "      <th>1</th>\n",
              "      <td>2019-11-04T00:06:19</td>\n",
              "      <td>2019-11-04T00:07:59</td>\n",
              "      <td>2019-11-04 00:06:19</td>\n",
              "      <td>2019-11-04 00:07:59</td>\n",
              "      <td>1.0</td>\n",
              "      <td>2019-11-04 00:07:59</td>\n",
              "      <td>1.0</td>\n",
              "    </tr>\n",
              "    <tr>\n",
              "      <th>2</th>\n",
              "      <td>2019-11-04T01:35:14</td>\n",
              "      <td>2019-11-04T03:15:30</td>\n",
              "      <td>2019-11-04 01:35:14</td>\n",
              "      <td>2019-11-04 03:15:30</td>\n",
              "      <td>100.0</td>\n",
              "      <td>2019-11-04 03:15:30</td>\n",
              "      <td>100.0</td>\n",
              "    </tr>\n",
              "  </tbody>\n",
              "</table>\n",
              "</div>"
            ],
            "text/plain": [
              "        visit_datetime    purchase_datetime            visit_dt  \\\n",
              "0  2019-11-04T00:05:13  2019-11-04T00:15:53 2019-11-04 00:05:13   \n",
              "1  2019-11-04T00:06:19  2019-11-04T00:07:59 2019-11-04 00:06:19   \n",
              "2  2019-11-04T01:35:14  2019-11-04T03:15:30 2019-11-04 01:35:14   \n",
              "\n",
              "          purchase_dt  delta_dt        purchase_dit  Delay  \n",
              "0 2019-11-04 00:15:53      10.0 2019-11-04 00:15:53   10.0  \n",
              "1 2019-11-04 00:07:59       1.0 2019-11-04 00:07:59    1.0  \n",
              "2 2019-11-04 03:15:30     100.0 2019-11-04 03:15:30  100.0  "
            ]
          },
          "metadata": {
            "tags": []
          },
          "execution_count": 86
        }
      ]
    },
    {
      "cell_type": "code",
      "metadata": {
        "id": "1_Zezy2QZxC6",
        "colab_type": "code",
        "colab": {},
        "outputId": "2152240a-d81e-4ea8-87bf-c67126e06d25"
      },
      "source": [
        "df.info()"
      ],
      "execution_count": 0,
      "outputs": [
        {
          "output_type": "stream",
          "text": [
            "<class 'pandas.core.frame.DataFrame'>\n",
            "RangeIndex: 3 entries, 0 to 2\n",
            "Data columns (total 7 columns):\n",
            "visit_datetime       3 non-null object\n",
            "purchase_datetime    3 non-null object\n",
            "visit_dt             3 non-null datetime64[ns]\n",
            "purchase_dt          3 non-null datetime64[ns]\n",
            "delta_dt             3 non-null float64\n",
            "purchase_dit         3 non-null datetime64[ns]\n",
            "Delay                3 non-null float64\n",
            "dtypes: datetime64[ns](3), float64(2), object(2)\n",
            "memory usage: 296.0+ bytes\n"
          ],
          "name": "stdout"
        }
      ]
    },
    {
      "cell_type": "markdown",
      "metadata": {
        "id": "G6BcpogGZxC-",
        "colab_type": "text"
      },
      "source": [
        "### Методы работы со строками"
      ]
    },
    {
      "cell_type": "code",
      "metadata": {
        "id": "kz_X50oHZxC_",
        "colab_type": "code",
        "colab": {},
        "outputId": "bd41d375-ed1b-4ddb-a698-88f2547666dd"
      },
      "source": [
        "stats = pd.read_csv('keywords.csv')\n",
        "stats.head()"
      ],
      "execution_count": 0,
      "outputs": [
        {
          "output_type": "execute_result",
          "data": {
            "text/html": [
              "<div>\n",
              "<style scoped>\n",
              "    .dataframe tbody tr th:only-of-type {\n",
              "        vertical-align: middle;\n",
              "    }\n",
              "\n",
              "    .dataframe tbody tr th {\n",
              "        vertical-align: top;\n",
              "    }\n",
              "\n",
              "    .dataframe thead th {\n",
              "        text-align: right;\n",
              "    }\n",
              "</style>\n",
              "<table border=\"1\" class=\"dataframe\">\n",
              "  <thead>\n",
              "    <tr style=\"text-align: right;\">\n",
              "      <th></th>\n",
              "      <th>keyword</th>\n",
              "      <th>shows</th>\n",
              "    </tr>\n",
              "  </thead>\n",
              "  <tbody>\n",
              "    <tr>\n",
              "      <th>0</th>\n",
              "      <td>вк</td>\n",
              "      <td>64292779</td>\n",
              "    </tr>\n",
              "    <tr>\n",
              "      <th>1</th>\n",
              "      <td>одноклассники</td>\n",
              "      <td>63810309</td>\n",
              "    </tr>\n",
              "    <tr>\n",
              "      <th>2</th>\n",
              "      <td>порно</td>\n",
              "      <td>41747114</td>\n",
              "    </tr>\n",
              "    <tr>\n",
              "      <th>3</th>\n",
              "      <td>ютуб</td>\n",
              "      <td>39995567</td>\n",
              "    </tr>\n",
              "    <tr>\n",
              "      <th>4</th>\n",
              "      <td>вконтакте</td>\n",
              "      <td>21014195</td>\n",
              "    </tr>\n",
              "  </tbody>\n",
              "</table>\n",
              "</div>"
            ],
            "text/plain": [
              "         keyword     shows\n",
              "0             вк  64292779\n",
              "1  одноклассники  63810309\n",
              "2          порно  41747114\n",
              "3           ютуб  39995567\n",
              "4      вконтакте  21014195"
            ]
          },
          "metadata": {
            "tags": []
          },
          "execution_count": 88
        }
      ]
    },
    {
      "cell_type": "code",
      "metadata": {
        "id": "fEF0E1-EZxDF",
        "colab_type": "code",
        "colab": {},
        "outputId": "acde5a21-14ba-4e95-b9e2-45287eb1e596"
      },
      "source": [
        "stats[stats.keyword.str.contains('москва')].head()"
      ],
      "execution_count": 0,
      "outputs": [
        {
          "output_type": "execute_result",
          "data": {
            "text/html": [
              "<div>\n",
              "<style scoped>\n",
              "    .dataframe tbody tr th:only-of-type {\n",
              "        vertical-align: middle;\n",
              "    }\n",
              "\n",
              "    .dataframe tbody tr th {\n",
              "        vertical-align: top;\n",
              "    }\n",
              "\n",
              "    .dataframe thead th {\n",
              "        text-align: right;\n",
              "    }\n",
              "</style>\n",
              "<table border=\"1\" class=\"dataframe\">\n",
              "  <thead>\n",
              "    <tr style=\"text-align: right;\">\n",
              "      <th></th>\n",
              "      <th>keyword</th>\n",
              "      <th>shows</th>\n",
              "    </tr>\n",
              "  </thead>\n",
              "  <tbody>\n",
              "    <tr>\n",
              "      <th>127</th>\n",
              "      <td>авито москва</td>\n",
              "      <td>979292</td>\n",
              "    </tr>\n",
              "    <tr>\n",
              "      <th>1259</th>\n",
              "      <td>москва</td>\n",
              "      <td>153050</td>\n",
              "    </tr>\n",
              "    <tr>\n",
              "      <th>1396</th>\n",
              "      <td>гисметео москва</td>\n",
              "      <td>140279</td>\n",
              "    </tr>\n",
              "    <tr>\n",
              "      <th>1482</th>\n",
              "      <td>госуслуги москва</td>\n",
              "      <td>133061</td>\n",
              "    </tr>\n",
              "    <tr>\n",
              "      <th>1682</th>\n",
              "      <td>погода москва</td>\n",
              "      <td>151701</td>\n",
              "    </tr>\n",
              "  </tbody>\n",
              "</table>\n",
              "</div>"
            ],
            "text/plain": [
              "               keyword   shows\n",
              "127       авито москва  979292\n",
              "1259            москва  153050\n",
              "1396   гисметео москва  140279\n",
              "1482  госуслуги москва  133061\n",
              "1682     погода москва  151701"
            ]
          },
          "metadata": {
            "tags": []
          },
          "execution_count": 90
        }
      ]
    },
    {
      "cell_type": "markdown",
      "metadata": {
        "id": "XqJH8ZNAZxDI",
        "colab_type": "text"
      },
      "source": [
        "Проверка наличия подстроки в строке в питоне:"
      ]
    },
    {
      "cell_type": "code",
      "metadata": {
        "id": "sHyWnTfwZxDI",
        "colab_type": "code",
        "colab": {},
        "outputId": "f23addd2-81be-4c32-92c4-dfffad8c2ce1"
      },
      "source": [
        "'охотник' in 'каждый охотник желает знать...'"
      ],
      "execution_count": 0,
      "outputs": [
        {
          "output_type": "execute_result",
          "data": {
            "text/plain": [
              "True"
            ]
          },
          "metadata": {
            "tags": []
          },
          "execution_count": 91
        }
      ]
    },
    {
      "cell_type": "markdown",
      "metadata": {
        "id": "yM52JB0HZxDK",
        "colab_type": "text"
      },
      "source": [
        "Аналог в pandas:"
      ]
    },
    {
      "cell_type": "code",
      "metadata": {
        "id": "XSPR714ZZxDL",
        "colab_type": "code",
        "colab": {},
        "outputId": "60d2d8c1-4395-42fb-9ecf-a69bf30d13ba"
      },
      "source": [
        "stats[stats.keyword.str.contains('охотник')].head()"
      ],
      "execution_count": 0,
      "outputs": [
        {
          "output_type": "execute_result",
          "data": {
            "text/html": [
              "<div>\n",
              "<style scoped>\n",
              "    .dataframe tbody tr th:only-of-type {\n",
              "        vertical-align: middle;\n",
              "    }\n",
              "\n",
              "    .dataframe tbody tr th {\n",
              "        vertical-align: top;\n",
              "    }\n",
              "\n",
              "    .dataframe thead th {\n",
              "        text-align: right;\n",
              "    }\n",
              "</style>\n",
              "<table border=\"1\" class=\"dataframe\">\n",
              "  <thead>\n",
              "    <tr style=\"text-align: right;\">\n",
              "      <th></th>\n",
              "      <th>keyword</th>\n",
              "      <th>shows</th>\n",
              "    </tr>\n",
              "  </thead>\n",
              "  <tbody>\n",
              "    <tr>\n",
              "      <th>3072</th>\n",
              "      <td>сумеречные охотники 2 сезон</td>\n",
              "      <td>71965</td>\n",
              "    </tr>\n",
              "    <tr>\n",
              "      <th>3474</th>\n",
              "      <td>сумеречные охотники</td>\n",
              "      <td>66083</td>\n",
              "    </tr>\n",
              "    <tr>\n",
              "      <th>3654</th>\n",
              "      <td>белоснежка и охотник 2 фильм 2016</td>\n",
              "      <td>63154</td>\n",
              "    </tr>\n",
              "    <tr>\n",
              "      <th>4178</th>\n",
              "      <td>последний охотник на ведьм</td>\n",
              "      <td>57560</td>\n",
              "    </tr>\n",
              "    <tr>\n",
              "      <th>6127</th>\n",
              "      <td>последний охотник на ведьм фильм 2015</td>\n",
              "      <td>42213</td>\n",
              "    </tr>\n",
              "  </tbody>\n",
              "</table>\n",
              "</div>"
            ],
            "text/plain": [
              "                                    keyword  shows\n",
              "3072            сумеречные охотники 2 сезон  71965\n",
              "3474                    сумеречные охотники  66083\n",
              "3654      белоснежка и охотник 2 фильм 2016  63154\n",
              "4178             последний охотник на ведьм  57560\n",
              "6127  последний охотник на ведьм фильм 2015  42213"
            ]
          },
          "metadata": {
            "tags": []
          },
          "execution_count": 92
        }
      ]
    },
    {
      "cell_type": "markdown",
      "metadata": {
        "id": "yO9Fy6jlZxDO",
        "colab_type": "text"
      },
      "source": [
        "[Документация](https://www.geeksforgeeks.org/python-pandas-series-str-contains/)\n",
        "\n",
        "Syntax: Series.str.contains(pat, case=True, flags=0, na=nan, regex=True)\n",
        "\n",
        "Parameter :\n",
        "- pat : Character sequence or regular expression.\n",
        "- case : If True, case sensitive.\n",
        "- flags : Flags to pass through to the re module, e.g. re.IGNORECASE.\n",
        "- na : Fill value for missing values.\n",
        "- regex : If True, assumes the pat is a regular expression."
      ]
    },
    {
      "cell_type": "code",
      "metadata": {
        "id": "ssQfhOskZxDP",
        "colab_type": "code",
        "colab": {},
        "outputId": "03c2cd26-5eb3-4b8f-f5b3-4d3b45320334"
      },
      "source": [
        "# поиск одного из нескольких слов\n",
        "\n",
        "stats[stats.keyword.str.contains('охотник|фильм|2016')].head()"
      ],
      "execution_count": 0,
      "outputs": [
        {
          "output_type": "execute_result",
          "data": {
            "text/html": [
              "<div>\n",
              "<style scoped>\n",
              "    .dataframe tbody tr th:only-of-type {\n",
              "        vertical-align: middle;\n",
              "    }\n",
              "\n",
              "    .dataframe tbody tr th {\n",
              "        vertical-align: top;\n",
              "    }\n",
              "\n",
              "    .dataframe thead th {\n",
              "        text-align: right;\n",
              "    }\n",
              "</style>\n",
              "<table border=\"1\" class=\"dataframe\">\n",
              "  <thead>\n",
              "    <tr style=\"text-align: right;\">\n",
              "      <th></th>\n",
              "      <th>keyword</th>\n",
              "      <th>shows</th>\n",
              "    </tr>\n",
              "  </thead>\n",
              "  <tbody>\n",
              "    <tr>\n",
              "      <th>20</th>\n",
              "      <td>фильмы 2016</td>\n",
              "      <td>4486635</td>\n",
              "    </tr>\n",
              "    <tr>\n",
              "      <th>51</th>\n",
              "      <td>фильмы</td>\n",
              "      <td>2156641</td>\n",
              "    </tr>\n",
              "    <tr>\n",
              "      <th>54</th>\n",
              "      <td>фильмы онлайн</td>\n",
              "      <td>2305540</td>\n",
              "    </tr>\n",
              "    <tr>\n",
              "      <th>68</th>\n",
              "      <td>смотреть фильмы онлайн</td>\n",
              "      <td>1928484</td>\n",
              "    </tr>\n",
              "    <tr>\n",
              "      <th>86</th>\n",
              "      <td>порно фильмы</td>\n",
              "      <td>1458031</td>\n",
              "    </tr>\n",
              "  </tbody>\n",
              "</table>\n",
              "</div>"
            ],
            "text/plain": [
              "                   keyword    shows\n",
              "20             фильмы 2016  4486635\n",
              "51                  фильмы  2156641\n",
              "54           фильмы онлайн  2305540\n",
              "68  смотреть фильмы онлайн  1928484\n",
              "86            порно фильмы  1458031"
            ]
          },
          "metadata": {
            "tags": []
          },
          "execution_count": 93
        }
      ]
    },
    {
      "cell_type": "markdown",
      "metadata": {
        "id": "kU86x3UaZxDS",
        "colab_type": "text"
      },
      "source": [
        "### Упражнение\n",
        "Отфильтруйте датафрейм stats по поисковым запросам, которые содержат строку \"погода в\" и упоминают один из городов: Москва, Новосибирск, Краснодар."
      ]
    },
    {
      "cell_type": "code",
      "metadata": {
        "id": "G4bUg8oiZxDW",
        "colab_type": "code",
        "colab": {},
        "outputId": "3430568b-eef1-4001-865f-a7073ac968b5"
      },
      "source": [
        "stats[stats.keyword.str.contains('погода в|Москва|Новосибирск|Краснодар')].head()"
      ],
      "execution_count": 0,
      "outputs": [
        {
          "output_type": "execute_result",
          "data": {
            "text/html": [
              "<div>\n",
              "<style scoped>\n",
              "    .dataframe tbody tr th:only-of-type {\n",
              "        vertical-align: middle;\n",
              "    }\n",
              "\n",
              "    .dataframe tbody tr th {\n",
              "        vertical-align: top;\n",
              "    }\n",
              "\n",
              "    .dataframe thead th {\n",
              "        text-align: right;\n",
              "    }\n",
              "</style>\n",
              "<table border=\"1\" class=\"dataframe\">\n",
              "  <thead>\n",
              "    <tr style=\"text-align: right;\">\n",
              "      <th></th>\n",
              "      <th>keyword</th>\n",
              "      <th>shows</th>\n",
              "    </tr>\n",
              "  </thead>\n",
              "  <tbody>\n",
              "    <tr>\n",
              "      <th>197</th>\n",
              "      <td>погода в москве</td>\n",
              "      <td>745745</td>\n",
              "    </tr>\n",
              "    <tr>\n",
              "      <th>414</th>\n",
              "      <td>погода в москве на 14 дней</td>\n",
              "      <td>400914</td>\n",
              "    </tr>\n",
              "    <tr>\n",
              "      <th>564</th>\n",
              "      <td>погода в санкт петербурге</td>\n",
              "      <td>292489</td>\n",
              "    </tr>\n",
              "    <tr>\n",
              "      <th>651</th>\n",
              "      <td>погода в краснодаре</td>\n",
              "      <td>261285</td>\n",
              "    </tr>\n",
              "    <tr>\n",
              "      <th>733</th>\n",
              "      <td>погода в самаре</td>\n",
              "      <td>234646</td>\n",
              "    </tr>\n",
              "  </tbody>\n",
              "</table>\n",
              "</div>"
            ],
            "text/plain": [
              "                        keyword   shows\n",
              "197             погода в москве  745745\n",
              "414  погода в москве на 14 дней  400914\n",
              "564   погода в санкт петербурге  292489\n",
              "651         погода в краснодаре  261285\n",
              "733             погода в самаре  234646"
            ]
          },
          "metadata": {
            "tags": []
          },
          "execution_count": 94
        }
      ]
    },
    {
      "cell_type": "code",
      "metadata": {
        "id": "vXY4plGiZxDZ",
        "colab_type": "code",
        "colab": {},
        "outputId": "ae3d3b4a-31b1-453d-f021-465c4a65300d"
      },
      "source": [
        "stats[stats.keyword.str.contains('(погода в){1}(|Москва|Новосибирск|Краснодар)')].head()"
      ],
      "execution_count": 0,
      "outputs": [
        {
          "output_type": "stream",
          "text": [
            "/Users/kbashevoy/anaconda3/lib/python3.7/site-packages/pandas/core/strings.py:1843: UserWarning: This pattern has match groups. To actually get the groups, use str.extract.\n",
            "  return func(self, *args, **kwargs)\n"
          ],
          "name": "stderr"
        },
        {
          "output_type": "execute_result",
          "data": {
            "text/html": [
              "<div>\n",
              "<style scoped>\n",
              "    .dataframe tbody tr th:only-of-type {\n",
              "        vertical-align: middle;\n",
              "    }\n",
              "\n",
              "    .dataframe tbody tr th {\n",
              "        vertical-align: top;\n",
              "    }\n",
              "\n",
              "    .dataframe thead th {\n",
              "        text-align: right;\n",
              "    }\n",
              "</style>\n",
              "<table border=\"1\" class=\"dataframe\">\n",
              "  <thead>\n",
              "    <tr style=\"text-align: right;\">\n",
              "      <th></th>\n",
              "      <th>keyword</th>\n",
              "      <th>shows</th>\n",
              "    </tr>\n",
              "  </thead>\n",
              "  <tbody>\n",
              "    <tr>\n",
              "      <th>197</th>\n",
              "      <td>погода в москве</td>\n",
              "      <td>745745</td>\n",
              "    </tr>\n",
              "    <tr>\n",
              "      <th>414</th>\n",
              "      <td>погода в москве на 14 дней</td>\n",
              "      <td>400914</td>\n",
              "    </tr>\n",
              "    <tr>\n",
              "      <th>564</th>\n",
              "      <td>погода в санкт петербурге</td>\n",
              "      <td>292489</td>\n",
              "    </tr>\n",
              "    <tr>\n",
              "      <th>651</th>\n",
              "      <td>погода в краснодаре</td>\n",
              "      <td>261285</td>\n",
              "    </tr>\n",
              "    <tr>\n",
              "      <th>733</th>\n",
              "      <td>погода в самаре</td>\n",
              "      <td>234646</td>\n",
              "    </tr>\n",
              "  </tbody>\n",
              "</table>\n",
              "</div>"
            ],
            "text/plain": [
              "                        keyword   shows\n",
              "197             погода в москве  745745\n",
              "414  погода в москве на 14 дней  400914\n",
              "564   погода в санкт петербурге  292489\n",
              "651         погода в краснодаре  261285\n",
              "733             погода в самаре  234646"
            ]
          },
          "metadata": {
            "tags": []
          },
          "execution_count": 95
        }
      ]
    },
    {
      "cell_type": "code",
      "metadata": {
        "scrolled": true,
        "id": "PzPJ2HNwZxDc",
        "colab_type": "code",
        "colab": {},
        "outputId": "663bd2c4-ffac-4cfc-b960-3399bd6af220"
      },
      "source": [
        "stats[stats.keyword.str.contains('погода в'and'москве|новосибирске|краснодаре')].head()"
      ],
      "execution_count": 0,
      "outputs": [
        {
          "output_type": "execute_result",
          "data": {
            "text/html": [
              "<div>\n",
              "<style scoped>\n",
              "    .dataframe tbody tr th:only-of-type {\n",
              "        vertical-align: middle;\n",
              "    }\n",
              "\n",
              "    .dataframe tbody tr th {\n",
              "        vertical-align: top;\n",
              "    }\n",
              "\n",
              "    .dataframe thead th {\n",
              "        text-align: right;\n",
              "    }\n",
              "</style>\n",
              "<table border=\"1\" class=\"dataframe\">\n",
              "  <thead>\n",
              "    <tr style=\"text-align: right;\">\n",
              "      <th></th>\n",
              "      <th>keyword</th>\n",
              "      <th>shows</th>\n",
              "    </tr>\n",
              "  </thead>\n",
              "  <tbody>\n",
              "    <tr>\n",
              "      <th>197</th>\n",
              "      <td>погода в москве</td>\n",
              "      <td>745745</td>\n",
              "    </tr>\n",
              "    <tr>\n",
              "      <th>414</th>\n",
              "      <td>погода в москве на 14 дней</td>\n",
              "      <td>400914</td>\n",
              "    </tr>\n",
              "    <tr>\n",
              "      <th>651</th>\n",
              "      <td>погода в краснодаре</td>\n",
              "      <td>261285</td>\n",
              "    </tr>\n",
              "    <tr>\n",
              "      <th>652</th>\n",
              "      <td>работа в москве</td>\n",
              "      <td>265000</td>\n",
              "    </tr>\n",
              "    <tr>\n",
              "      <th>1287</th>\n",
              "      <td>авто ру авто с пробегом в москве</td>\n",
              "      <td>153900</td>\n",
              "    </tr>\n",
              "  </tbody>\n",
              "</table>\n",
              "</div>"
            ],
            "text/plain": [
              "                               keyword   shows\n",
              "197                    погода в москве  745745\n",
              "414         погода в москве на 14 дней  400914\n",
              "651                погода в краснодаре  261285\n",
              "652                    работа в москве  265000\n",
              "1287  авто ру авто с пробегом в москве  153900"
            ]
          },
          "metadata": {
            "tags": []
          },
          "execution_count": 96
        }
      ]
    },
    {
      "cell_type": "code",
      "metadata": {
        "id": "pmuxq7iVZxDe",
        "colab_type": "code",
        "colab": {},
        "outputId": "54d576df-82fc-4af3-f60e-3cd1cecd75aa"
      },
      "source": [
        "stats[\n",
        "    (stats.keyword.str.contains('погода в')) & \n",
        "    (stats.keyword.str.contains('москв|новосибирск|краснодар'))\n",
        "].head(20)"
      ],
      "execution_count": 0,
      "outputs": [
        {
          "output_type": "execute_result",
          "data": {
            "text/html": [
              "<div>\n",
              "<style scoped>\n",
              "    .dataframe tbody tr th:only-of-type {\n",
              "        vertical-align: middle;\n",
              "    }\n",
              "\n",
              "    .dataframe tbody tr th {\n",
              "        vertical-align: top;\n",
              "    }\n",
              "\n",
              "    .dataframe thead th {\n",
              "        text-align: right;\n",
              "    }\n",
              "</style>\n",
              "<table border=\"1\" class=\"dataframe\">\n",
              "  <thead>\n",
              "    <tr style=\"text-align: right;\">\n",
              "      <th></th>\n",
              "      <th>keyword</th>\n",
              "      <th>shows</th>\n",
              "    </tr>\n",
              "  </thead>\n",
              "  <tbody>\n",
              "    <tr>\n",
              "      <th>197</th>\n",
              "      <td>погода в москве</td>\n",
              "      <td>745745</td>\n",
              "    </tr>\n",
              "    <tr>\n",
              "      <th>414</th>\n",
              "      <td>погода в москве на 14 дней</td>\n",
              "      <td>400914</td>\n",
              "    </tr>\n",
              "    <tr>\n",
              "      <th>651</th>\n",
              "      <td>погода в краснодаре</td>\n",
              "      <td>261285</td>\n",
              "    </tr>\n",
              "    <tr>\n",
              "      <th>1342</th>\n",
              "      <td>погода в москве на неделю</td>\n",
              "      <td>180096</td>\n",
              "    </tr>\n",
              "    <tr>\n",
              "      <th>1498</th>\n",
              "      <td>погода в новосибирске</td>\n",
              "      <td>133362</td>\n",
              "    </tr>\n",
              "    <tr>\n",
              "      <th>1867</th>\n",
              "      <td>погода в москве на 3 дня</td>\n",
              "      <td>115394</td>\n",
              "    </tr>\n",
              "    <tr>\n",
              "      <th>2316</th>\n",
              "      <td>погода в новосибирске на 14 дней</td>\n",
              "      <td>93278</td>\n",
              "    </tr>\n",
              "    <tr>\n",
              "      <th>4930</th>\n",
              "      <td>погода в краснодаре на 10 дней</td>\n",
              "      <td>49354</td>\n",
              "    </tr>\n",
              "    <tr>\n",
              "      <th>6483</th>\n",
              "      <td>погода в москве на 14</td>\n",
              "      <td>40531</td>\n",
              "    </tr>\n",
              "    <tr>\n",
              "      <th>8645</th>\n",
              "      <td>погода в москве на месяц</td>\n",
              "      <td>43801</td>\n",
              "    </tr>\n",
              "    <tr>\n",
              "      <th>12378</th>\n",
              "      <td>погода в москве на 10 дней</td>\n",
              "      <td>25689</td>\n",
              "    </tr>\n",
              "    <tr>\n",
              "      <th>12745</th>\n",
              "      <td>гисметео погода в москве на 2 недели</td>\n",
              "      <td>23149</td>\n",
              "    </tr>\n",
              "    <tr>\n",
              "      <th>20847</th>\n",
              "      <td>погода в новосибирске на 3 дня</td>\n",
              "      <td>15475</td>\n",
              "    </tr>\n",
              "    <tr>\n",
              "      <th>23685</th>\n",
              "      <td>погода в москве на 14 дней от гидрометцентра</td>\n",
              "      <td>14301</td>\n",
              "    </tr>\n",
              "    <tr>\n",
              "      <th>24786</th>\n",
              "      <td>погода в москве на 3</td>\n",
              "      <td>13531</td>\n",
              "    </tr>\n",
              "    <tr>\n",
              "      <th>29940</th>\n",
              "      <td>погода в краснодаре на неделю</td>\n",
              "      <td>11747</td>\n",
              "    </tr>\n",
              "    <tr>\n",
              "      <th>31694</th>\n",
              "      <td>погода в москве сегодня</td>\n",
              "      <td>15647</td>\n",
              "    </tr>\n",
              "    <tr>\n",
              "      <th>31834</th>\n",
              "      <td>погода в новосибирске на 10 дней</td>\n",
              "      <td>10778</td>\n",
              "    </tr>\n",
              "    <tr>\n",
              "      <th>33376</th>\n",
              "      <td>погода в краснодаре на 14 дней</td>\n",
              "      <td>9980</td>\n",
              "    </tr>\n",
              "    <tr>\n",
              "      <th>36462</th>\n",
              "      <td>погода в москве на 14 дней гисметео</td>\n",
              "      <td>9696</td>\n",
              "    </tr>\n",
              "  </tbody>\n",
              "</table>\n",
              "</div>"
            ],
            "text/plain": [
              "                                            keyword   shows\n",
              "197                                 погода в москве  745745\n",
              "414                      погода в москве на 14 дней  400914\n",
              "651                             погода в краснодаре  261285\n",
              "1342                      погода в москве на неделю  180096\n",
              "1498                          погода в новосибирске  133362\n",
              "1867                       погода в москве на 3 дня  115394\n",
              "2316               погода в новосибирске на 14 дней   93278\n",
              "4930                 погода в краснодаре на 10 дней   49354\n",
              "6483                          погода в москве на 14   40531\n",
              "8645                       погода в москве на месяц   43801\n",
              "12378                    погода в москве на 10 дней   25689\n",
              "12745          гисметео погода в москве на 2 недели   23149\n",
              "20847                погода в новосибирске на 3 дня   15475\n",
              "23685  погода в москве на 14 дней от гидрометцентра   14301\n",
              "24786                          погода в москве на 3   13531\n",
              "29940                 погода в краснодаре на неделю   11747\n",
              "31694                       погода в москве сегодня   15647\n",
              "31834              погода в новосибирске на 10 дней   10778\n",
              "33376                погода в краснодаре на 14 дней    9980\n",
              "36462           погода в москве на 14 дней гисметео    9696"
            ]
          },
          "metadata": {
            "tags": []
          },
          "execution_count": 98
        }
      ]
    },
    {
      "cell_type": "markdown",
      "metadata": {
        "id": "frryqz8YZxDi",
        "colab_type": "text"
      },
      "source": [
        "### replace"
      ]
    },
    {
      "cell_type": "code",
      "metadata": {
        "id": "4qm57qiwZxDl",
        "colab_type": "code",
        "colab": {},
        "outputId": "008049e9-6419-4693-e41a-11aed0e8856f"
      },
      "source": [
        "'отпуск начнется завтра'.replace('завтра', 'через месяц')"
      ],
      "execution_count": 0,
      "outputs": [
        {
          "output_type": "execute_result",
          "data": {
            "text/plain": [
              "'отпуск начнется через месяц'"
            ]
          },
          "metadata": {
            "tags": []
          },
          "execution_count": 99
        }
      ]
    },
    {
      "cell_type": "markdown",
      "metadata": {
        "id": "8v-ZtAHmZxDr",
        "colab_type": "text"
      },
      "source": [
        "Аналог в pandas на запросах про сериалы:"
      ]
    },
    {
      "cell_type": "code",
      "metadata": {
        "id": "OlGnM8L8ZxDt",
        "colab_type": "code",
        "colab": {},
        "outputId": "eb947ec1-bf52-4f6b-ae0c-b64a705845bb"
      },
      "source": [
        "serial = stats[stats.keyword.str.contains('сериалы')]\n",
        "serial.head()"
      ],
      "execution_count": 0,
      "outputs": [
        {
          "output_type": "execute_result",
          "data": {
            "text/html": [
              "<div>\n",
              "<style scoped>\n",
              "    .dataframe tbody tr th:only-of-type {\n",
              "        vertical-align: middle;\n",
              "    }\n",
              "\n",
              "    .dataframe tbody tr th {\n",
              "        vertical-align: top;\n",
              "    }\n",
              "\n",
              "    .dataframe thead th {\n",
              "        text-align: right;\n",
              "    }\n",
              "</style>\n",
              "<table border=\"1\" class=\"dataframe\">\n",
              "  <thead>\n",
              "    <tr style=\"text-align: right;\">\n",
              "      <th></th>\n",
              "      <th>keyword</th>\n",
              "      <th>shows</th>\n",
              "    </tr>\n",
              "  </thead>\n",
              "  <tbody>\n",
              "    <tr>\n",
              "      <th>246</th>\n",
              "      <td>сериалы</td>\n",
              "      <td>587779</td>\n",
              "    </tr>\n",
              "    <tr>\n",
              "      <th>304</th>\n",
              "      <td>сериалы тут</td>\n",
              "      <td>503967</td>\n",
              "    </tr>\n",
              "    <tr>\n",
              "      <th>555</th>\n",
              "      <td>турецкие сериалы на русском языке</td>\n",
              "      <td>296403</td>\n",
              "    </tr>\n",
              "    <tr>\n",
              "      <th>881</th>\n",
              "      <td>русские сериалы</td>\n",
              "      <td>234262</td>\n",
              "    </tr>\n",
              "    <tr>\n",
              "      <th>890</th>\n",
              "      <td>сериалы онлайн</td>\n",
              "      <td>204812</td>\n",
              "    </tr>\n",
              "  </tbody>\n",
              "</table>\n",
              "</div>"
            ],
            "text/plain": [
              "                               keyword   shows\n",
              "246                            сериалы  587779\n",
              "304                        сериалы тут  503967\n",
              "555  турецкие сериалы на русском языке  296403\n",
              "881                    русские сериалы  234262\n",
              "890                     сериалы онлайн  204812"
            ]
          },
          "metadata": {
            "tags": []
          },
          "execution_count": 100
        }
      ]
    },
    {
      "cell_type": "code",
      "metadata": {
        "id": "HYjJPtsOZxDw",
        "colab_type": "code",
        "colab": {},
        "outputId": "0bfee5c2-64de-421e-be13-6d89db5483bf"
      },
      "source": [
        "serial.keyword.str.replace('сериалы', 'книги').head()"
      ],
      "execution_count": 0,
      "outputs": [
        {
          "output_type": "execute_result",
          "data": {
            "text/plain": [
              "246                              книги\n",
              "304                          книги тут\n",
              "555    турецкие книги на русском языке\n",
              "881                      русские книги\n",
              "890                       книги онлайн\n",
              "Name: keyword, dtype: object"
            ]
          },
          "metadata": {
            "tags": []
          },
          "execution_count": 101
        }
      ]
    },
    {
      "cell_type": "markdown",
      "metadata": {
        "id": "xE28VDk_ZxD3",
        "colab_type": "text"
      },
      "source": [
        "### Как учитывать разное написание слов\n",
        "Самое простое - методы upper и lower"
      ]
    },
    {
      "cell_type": "code",
      "metadata": {
        "id": "t6q-Ul32ZxD4",
        "colab_type": "code",
        "colab": {},
        "outputId": "3619c2e3-bcd5-43d9-c571-05503a63dfec"
      },
      "source": [
        "serial.keyword.str.upper().head()"
      ],
      "execution_count": 0,
      "outputs": [
        {
          "output_type": "execute_result",
          "data": {
            "text/plain": [
              "246                              СЕРИАЛЫ\n",
              "304                          СЕРИАЛЫ ТУТ\n",
              "555    ТУРЕЦКИЕ СЕРИАЛЫ НА РУССКОМ ЯЗЫКЕ\n",
              "881                      РУССКИЕ СЕРИАЛЫ\n",
              "890                       СЕРИАЛЫ ОНЛАЙН\n",
              "Name: keyword, dtype: object"
            ]
          },
          "metadata": {
            "tags": []
          },
          "execution_count": 102
        }
      ]
    },
    {
      "cell_type": "code",
      "metadata": {
        "id": "FMXDadb-ZxD7",
        "colab_type": "code",
        "colab": {},
        "outputId": "bea4e767-8d4f-4eb1-dc53-7d9c5ae22035"
      },
      "source": [
        "serial.keyword.str.lower().head()"
      ],
      "execution_count": 0,
      "outputs": [
        {
          "output_type": "execute_result",
          "data": {
            "text/plain": [
              "246                              сериалы\n",
              "304                          сериалы тут\n",
              "555    турецкие сериалы на русском языке\n",
              "881                      русские сериалы\n",
              "890                       сериалы онлайн\n",
              "Name: keyword, dtype: object"
            ]
          },
          "metadata": {
            "tags": []
          },
          "execution_count": 103
        }
      ]
    },
    {
      "cell_type": "markdown",
      "metadata": {
        "id": "kUX6njb5ZxD9",
        "colab_type": "text"
      },
      "source": [
        "### Что делать если нужно учесть формы написания слов?"
      ]
    },
    {
      "cell_type": "code",
      "metadata": {
        "id": "K3pEVUlvZxD_",
        "colab_type": "code",
        "colab": {},
        "outputId": "750a1c7a-ed52-43fc-9ac9-3ce62eddec2b"
      },
      "source": [
        "stats[stats.keyword.str.contains('рубл')].head()"
      ],
      "execution_count": 0,
      "outputs": [
        {
          "output_type": "execute_result",
          "data": {
            "text/html": [
              "<div>\n",
              "<style scoped>\n",
              "    .dataframe tbody tr th:only-of-type {\n",
              "        vertical-align: middle;\n",
              "    }\n",
              "\n",
              "    .dataframe tbody tr th {\n",
              "        vertical-align: top;\n",
              "    }\n",
              "\n",
              "    .dataframe thead th {\n",
              "        text-align: right;\n",
              "    }\n",
              "</style>\n",
              "<table border=\"1\" class=\"dataframe\">\n",
              "  <thead>\n",
              "    <tr style=\"text-align: right;\">\n",
              "      <th></th>\n",
              "      <th>keyword</th>\n",
              "      <th>shows</th>\n",
              "    </tr>\n",
              "  </thead>\n",
              "  <tbody>\n",
              "    <tr>\n",
              "      <th>1202</th>\n",
              "      <td>алиэкспресс на русском в рублях официальный сайт</td>\n",
              "      <td>161553</td>\n",
              "    </tr>\n",
              "    <tr>\n",
              "      <th>1602</th>\n",
              "      <td>курс гривны к рублю</td>\n",
              "      <td>125076</td>\n",
              "    </tr>\n",
              "    <tr>\n",
              "      <th>1736</th>\n",
              "      <td>али экспресс русская версия на русском в рубля...</td>\n",
              "      <td>117260</td>\n",
              "    </tr>\n",
              "    <tr>\n",
              "      <th>2132</th>\n",
              "      <td>доллары в рубли</td>\n",
              "      <td>114173</td>\n",
              "    </tr>\n",
              "    <tr>\n",
              "      <th>2172</th>\n",
              "      <td>100 долларов в рублях</td>\n",
              "      <td>97534</td>\n",
              "    </tr>\n",
              "  </tbody>\n",
              "</table>\n",
              "</div>"
            ],
            "text/plain": [
              "                                                keyword   shows\n",
              "1202   алиэкспресс на русском в рублях официальный сайт  161553\n",
              "1602                                курс гривны к рублю  125076\n",
              "1736  али экспресс русская версия на русском в рубля...  117260\n",
              "2132                                    доллары в рубли  114173\n",
              "2172                              100 долларов в рублях   97534"
            ]
          },
          "metadata": {
            "tags": []
          },
          "execution_count": 104
        }
      ]
    },
    {
      "cell_type": "markdown",
      "metadata": {
        "id": "FuA1PJkOZxEE",
        "colab_type": "text"
      },
      "source": [
        "Почему нельзя просто оставить str.contains('рубл'):"
      ]
    },
    {
      "cell_type": "code",
      "metadata": {
        "id": "4lJ4SHuAZxEL",
        "colab_type": "code",
        "colab": {}
      },
      "source": [
        "non_financial_search = 'рубленая котлетка'"
      ],
      "execution_count": 0,
      "outputs": []
    },
    {
      "cell_type": "markdown",
      "metadata": {
        "id": "sSrDVTBnZxEN",
        "colab_type": "text"
      },
      "source": [
        "### Библиотека [pymystem](https://pypi.org/project/pymystem3/)"
      ]
    },
    {
      "cell_type": "markdown",
      "metadata": {
        "id": "FD3kXgJnZxEO",
        "colab_type": "text"
      },
      "source": [
        "Еще популярный вариант - NLTK"
      ]
    },
    {
      "cell_type": "code",
      "metadata": {
        "id": "4Pz79qM0ZxEP",
        "colab_type": "code",
        "colab": {}
      },
      "source": [
        "from pymystem3 import Mystem"
      ],
      "execution_count": 0,
      "outputs": []
    },
    {
      "cell_type": "code",
      "metadata": {
        "id": "cpT1lH__ZxER",
        "colab_type": "code",
        "colab": {}
      },
      "source": [
        "search = 'курс гривны к рублю рубли рублях рубленая котлетка однушками рублишка культяпками'"
      ],
      "execution_count": 0,
      "outputs": []
    },
    {
      "cell_type": "code",
      "metadata": {
        "id": "csXaX3bBZxEU",
        "colab_type": "code",
        "colab": {},
        "outputId": "80087f7c-a82f-4390-d304-0d62918aae12"
      },
      "source": [
        "m = Mystem()\n",
        "lemmas = m.lemmatize(search)\n",
        "lemmas"
      ],
      "execution_count": 0,
      "outputs": [
        {
          "output_type": "execute_result",
          "data": {
            "text/plain": [
              "['курс',\n",
              " ' ',\n",
              " 'гривна',\n",
              " ' ',\n",
              " 'к',\n",
              " ' ',\n",
              " 'рубль',\n",
              " ' ',\n",
              " 'рубль',\n",
              " ' ',\n",
              " 'рубль',\n",
              " ' ',\n",
              " 'рубленый',\n",
              " ' ',\n",
              " 'котлетка',\n",
              " ' ',\n",
              " 'однушка',\n",
              " ' ',\n",
              " 'рублишко',\n",
              " ' ',\n",
              " 'культяпка',\n",
              " '\\n']"
            ]
          },
          "metadata": {
            "tags": []
          },
          "execution_count": 110
        }
      ]
    },
    {
      "cell_type": "code",
      "metadata": {
        "id": "t_QDmZSjZxEa",
        "colab_type": "code",
        "colab": {},
        "outputId": "7b627647-30bb-4f39-82da-db7fa95f9d94"
      },
      "source": [
        "' '.join(lemmas)"
      ],
      "execution_count": 0,
      "outputs": [
        {
          "output_type": "execute_result",
          "data": {
            "text/plain": [
              "'курс   гривна   к   рубль   рубль   рубль   рубленый   котлетка   однушка   рублишко   культяпка \\n'"
            ]
          },
          "metadata": {
            "tags": []
          },
          "execution_count": 111
        }
      ]
    },
    {
      "cell_type": "code",
      "metadata": {
        "id": "JVmE2eLFZxEc",
        "colab_type": "code",
        "colab": {}
      },
      "source": [
        "!/Users/kbashevoy/anaconda3/bin/pip install pymystem3"
      ],
      "execution_count": 0,
      "outputs": []
    },
    {
      "cell_type": "code",
      "metadata": {
        "id": "EItqFpx4ZxEg",
        "colab_type": "code",
        "colab": {},
        "outputId": "d973366e-6cf0-4b77-9b5d-574cf1eaf8c1"
      },
      "source": [
        "m.analyze(search)[2]"
      ],
      "execution_count": 0,
      "outputs": [
        {
          "output_type": "execute_result",
          "data": {
            "text/plain": [
              "{'analysis': [{'lex': 'гривна',\n",
              "   'wt': 1,\n",
              "   'gr': 'S,жен,неод=(вин,мн|род,ед|им,мн)'}],\n",
              " 'text': 'гривны'}"
            ]
          },
          "metadata": {
            "tags": []
          },
          "execution_count": 115
        }
      ]
    },
    {
      "cell_type": "code",
      "metadata": {
        "id": "6Is4FY9-ZxEs",
        "colab_type": "code",
        "colab": {},
        "outputId": "16088830-3833-4572-afbc-682c253d62c3"
      },
      "source": [
        "%%time\n",
        "\n",
        "for _ in range(10):\n",
        "    m.analyze('стали')"
      ],
      "execution_count": 0,
      "outputs": [
        {
          "output_type": "stream",
          "text": [
            "CPU times: user 1 ms, sys: 1.37 ms, total: 2.37 ms\n",
            "Wall time: 6.8 ms\n"
          ],
          "name": "stdout"
        }
      ]
    },
    {
      "cell_type": "markdown",
      "metadata": {
        "id": "R6lmMhbXZxE9",
        "colab_type": "text"
      },
      "source": [
        "### Домашнее задание 3\n",
        "В датафрейме data создайте столбец lemmas, в котором вычислите леммы поисковых запросов из столбца keyword. Леммы должны иметь строковый тип."
      ]
    },
    {
      "cell_type": "code",
      "metadata": {
        "id": "FZQ0ce7BZxE-",
        "colab_type": "code",
        "colab": {}
      },
      "source": [
        "data = pd.DataFrame({\n",
        "    'keyword': ['курс гривны к рублю', 'доллары в рубли', '100 долларов в рублях', 'курс рубля'],\n",
        "    'shows': [125076, 114173, 97534, 53546],\n",
        "})"
      ],
      "execution_count": 0,
      "outputs": []
    },
    {
      "cell_type": "code",
      "metadata": {
        "id": "zHzlFGDFZxFA",
        "colab_type": "code",
        "colab": {}
      },
      "source": [
        "data"
      ],
      "execution_count": 0,
      "outputs": []
    },
    {
      "cell_type": "code",
      "metadata": {
        "id": "RUrr2aB8ZxFC",
        "colab_type": "code",
        "colab": {}
      },
      "source": [
        ""
      ],
      "execution_count": 0,
      "outputs": []
    },
    {
      "cell_type": "code",
      "metadata": {
        "id": "ztavjOP7ZxFH",
        "colab_type": "code",
        "colab": {}
      },
      "source": [
        ""
      ],
      "execution_count": 0,
      "outputs": []
    }
  ]
}